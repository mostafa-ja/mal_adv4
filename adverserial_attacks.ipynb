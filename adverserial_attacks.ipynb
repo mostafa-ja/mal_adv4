{
  "nbformat": 4,
  "nbformat_minor": 0,
  "metadata": {
    "colab": {
      "provenance": [],
      "gpuType": "T4",
      "include_colab_link": true
    },
    "kernelspec": {
      "name": "python3",
      "display_name": "Python 3"
    },
    "language_info": {
      "name": "python"
    },
    "accelerator": "GPU"
  },
  "cells": [
    {
      "cell_type": "markdown",
      "metadata": {
        "id": "view-in-github",
        "colab_type": "text"
      },
      "source": [
        "<a href=\"https://colab.research.google.com/github/mostafa-ja/mal_adv4/blob/main/adverserial_attacks.ipynb\" target=\"_parent\"><img src=\"https://colab.research.google.com/assets/colab-badge.svg\" alt=\"Open In Colab\"/></a>"
      ]
    },
    {
      "cell_type": "code",
      "source": [
        "\n",
        "download_links = ['https://github.com/mostafa-ja/mal_adv3/raw/main/drebin/sparse_matrix_0.npz',\n",
        "                  'https://github.com/mostafa-ja/mal_adv3/raw/main/drebin/sparse_matrix_1.npz',\n",
        "                  'https://github.com/mostafa-ja/mal_adv3/raw/main/drebin/sparse_matrix_2.npz',\n",
        "                  'https://github.com/mostafa-ja/mal_adv3/raw/main/drebin/sparse_matrix_y0.npz',\n",
        "                  'https://github.com/mostafa-ja/mal_adv3/raw/main/drebin/sparse_matrix_y1.npz',\n",
        "                  'https://github.com/mostafa-ja/mal_adv3/raw/main/drebin/sparse_matrix_y2.npz',\n",
        "                  'https://github.com/mostafa-ja/mal_adv3/raw/main/drebin/model_DNN_drebin_best.pth',\n",
        "                  'https://github.com/mostafa-ja/mal_adv3/raw/main/drebin/model_AT_rFGSM_weightedLoss.pth',\n",
        "                  'https://github.com/mostafa-ja/mal_adv3/raw/main/drebin/model_AT_rFGSM.pth',\n",
        "                  'https://github.com/mostafa-ja/mal_adv4/raw/main/dataset/insertion_array.pkl',\n",
        "                  'https://github.com/mostafa-ja/mal_adv4/raw/main/dataset/removal_array.pkl',\n",
        "                  'https://github.com/mostafa-ja/mal_adv4/raw/main/dataset/adverserial_attacks_functions.py'\n",
        "]"
      ],
      "metadata": {
        "id": "1IW4pHac9VLq"
      },
      "execution_count": 4,
      "outputs": []
    },
    {
      "cell_type": "code",
      "source": [
        "import gdown\n",
        "output_filepath = '/content/'\n",
        "for link in download_links:\n",
        "  gdown.download(link, output_filepath)\n"
      ],
      "metadata": {
        "colab": {
          "base_uri": "https://localhost:8080/"
        },
        "id": "6kzSbjaXGVeG",
        "outputId": "71102a32-adf2-4ccc-83d9-d259751a8901"
      },
      "execution_count": 5,
      "outputs": [
        {
          "output_type": "stream",
          "name": "stderr",
          "text": [
            "Downloading...\n",
            "From: https://github.com/mostafa-ja/mal_adv3/raw/main/drebin/sparse_matrix_0.npz\n",
            "To: /content/sparse_matrix_0.npz\n",
            "100%|██████████| 461k/461k [00:00<00:00, 5.98MB/s]\n",
            "Downloading...\n",
            "From: https://github.com/mostafa-ja/mal_adv3/raw/main/drebin/sparse_matrix_1.npz\n",
            "To: /content/sparse_matrix_1.npz\n",
            "100%|██████████| 148k/148k [00:00<00:00, 2.38MB/s]\n",
            "Downloading...\n",
            "From: https://github.com/mostafa-ja/mal_adv3/raw/main/drebin/sparse_matrix_2.npz\n",
            "To: /content/sparse_matrix_2.npz\n",
            "100%|██████████| 150k/150k [00:00<00:00, 3.42MB/s]\n",
            "Downloading...\n",
            "From: https://github.com/mostafa-ja/mal_adv3/raw/main/drebin/sparse_matrix_y0.npz\n",
            "To: /content/sparse_matrix_y0.npz\n",
            "100%|██████████| 5.79k/5.79k [00:00<00:00, 11.4MB/s]\n",
            "Downloading...\n",
            "From: https://github.com/mostafa-ja/mal_adv3/raw/main/drebin/sparse_matrix_y1.npz\n",
            "To: /content/sparse_matrix_y1.npz\n",
            "100%|██████████| 2.64k/2.64k [00:00<00:00, 7.99MB/s]\n",
            "Downloading...\n",
            "From: https://github.com/mostafa-ja/mal_adv3/raw/main/drebin/sparse_matrix_y2.npz\n",
            "To: /content/sparse_matrix_y2.npz\n",
            "100%|██████████| 2.71k/2.71k [00:00<00:00, 7.03MB/s]\n",
            "Downloading...\n",
            "From: https://github.com/mostafa-ja/mal_adv3/raw/main/drebin/model_DNN_drebin_best.pth\n",
            "To: /content/model_DNN_drebin_best.pth\n",
            "100%|██████████| 8.17M/8.17M [00:00<00:00, 22.7MB/s]\n",
            "Downloading...\n",
            "From: https://github.com/mostafa-ja/mal_adv3/raw/main/drebin/model_AT_rFGSM_weightedLoss.pth\n",
            "To: /content/model_AT_rFGSM_weightedLoss.pth\n",
            "100%|██████████| 8.17M/8.17M [00:00<00:00, 22.5MB/s]\n",
            "Downloading...\n",
            "From: https://github.com/mostafa-ja/mal_adv3/raw/main/drebin/model_AT_rFGSM.pth\n",
            "To: /content/model_AT_rFGSM.pth\n",
            "100%|██████████| 8.17M/8.17M [00:00<00:00, 89.7MB/s]\n",
            "Downloading...\n",
            "From: https://github.com/mostafa-ja/mal_adv4/raw/main/dataset/insertion_array.pkl\n",
            "To: /content/insertion_array.pkl\n",
            "100%|██████████| 80.2k/80.2k [00:00<00:00, 3.90MB/s]\n",
            "Downloading...\n",
            "From: https://github.com/mostafa-ja/mal_adv4/raw/main/dataset/removal_array.pkl\n",
            "To: /content/removal_array.pkl\n",
            "100%|██████████| 80.2k/80.2k [00:00<00:00, 3.66MB/s]\n",
            "Downloading...\n",
            "From: https://github.com/mostafa-ja/mal_adv4/raw/main/dataset/adverserial_attacks_functions.py\n",
            "To: /content/adverserial_attacks_functions.py\n",
            "59.6kB [00:00, 74.6MB/s]                   \n"
          ]
        }
      ]
    },
    {
      "cell_type": "code",
      "source": [
        "import torch\n",
        "import torch.nn as nn\n",
        "import torch.optim as optim\n",
        "from torch.utils.data import TensorDataset, DataLoader\n",
        "from sklearn.metrics import accuracy_score, precision_score, recall_score, f1_score,balanced_accuracy_score\n",
        "import numpy as np\n",
        "from scipy import sparse\n",
        "import matplotlib.pyplot as plt\n",
        "import pickle\n",
        "import random\n",
        "import time\n",
        "\n",
        "# Device configuration\n",
        "device = torch.device(\"cuda\" if torch.cuda.is_available() else \"cpu\")\n",
        "print(device)\n",
        "\n",
        "from adverserial_attacks_functions import *\n",
        "\n",
        "\n",
        "torch.manual_seed(0)\n",
        "\n"
      ],
      "metadata": {
        "id": "JKDdI3K9LrlF",
        "colab": {
          "base_uri": "https://localhost:8080/"
        },
        "outputId": "cd4e72ee-98b7-4354-aec3-f7056cce4a0d"
      },
      "execution_count": 6,
      "outputs": [
        {
          "output_type": "stream",
          "name": "stdout",
          "text": [
            "cuda\n",
            "cuda\n"
          ]
        },
        {
          "output_type": "execute_result",
          "data": {
            "text/plain": [
              "<torch._C.Generator at 0x7931fc154070>"
            ]
          },
          "metadata": {},
          "execution_count": 6
        }
      ]
    },
    {
      "cell_type": "code",
      "source": [
        "# Open the .pkl file\n",
        "with open('/content/insertion_array.pkl', 'rb') as f:\n",
        "    # Load the object\n",
        "    insertion_array = pickle.load(f)\n",
        "\n",
        "# Close the file\n",
        "f.close()\n",
        "\n",
        "insertion_array = torch.tensor(insertion_array).to(device)\n",
        "print(len(insertion_array))\n",
        "\n",
        "# Open the .pkl file\n",
        "with open('/content/removal_array.pkl', 'rb') as f:\n",
        "    # Load the object\n",
        "    removal_array = pickle.load(f)\n",
        "\n",
        "# Close the file\n",
        "f.close()\n",
        "\n",
        "removal_array = torch.tensor(removal_array).to(device)\n",
        "print(len(removal_array))\n"
      ],
      "metadata": {
        "colab": {
          "base_uri": "https://localhost:8080/"
        },
        "id": "UXV0WIjsJG_F",
        "outputId": "def75ac7-1f40-412c-d896-78c43a5f68ab"
      },
      "execution_count": 7,
      "outputs": [
        {
          "output_type": "stream",
          "name": "stdout",
          "text": [
            "10000\n",
            "10000\n"
          ]
        }
      ]
    },
    {
      "cell_type": "code",
      "source": [
        "\n",
        "# Load dataset\n",
        "X_train = sparse.load_npz(\"/content/sparse_matrix_0.npz\").toarray()\n",
        "X_val = sparse.load_npz(\"/content/sparse_matrix_1.npz\").toarray()\n",
        "X_test = sparse.load_npz(\"/content/sparse_matrix_2.npz\").toarray()\n",
        "\n",
        "X_train = torch.tensor(X_train, dtype=torch.int8)\n",
        "X_val = torch.tensor(X_val, dtype=torch.int8)\n",
        "X_test = torch.tensor(X_test, dtype=torch.int8)\n",
        "\n",
        "\n",
        "y_train = sparse.load_npz(\"/content/sparse_matrix_y0.npz\").toarray().reshape((-1, 1))\n",
        "y_val = sparse.load_npz(\"/content/sparse_matrix_y1.npz\").toarray().reshape((-1, 1))\n",
        "y_test = sparse.load_npz(\"/content/sparse_matrix_y2.npz\").toarray().reshape((-1, 1))\n",
        "\n",
        "y_train = torch.tensor(y_train, dtype=torch.int8)\n",
        "y_val = torch.tensor(y_val, dtype=torch.int8)\n",
        "y_test = torch.tensor(y_test, dtype=torch.int8)\n",
        "\n",
        "\n",
        "print(\"Shapes:\")\n",
        "print(\"x_train:\", X_train.shape)\n",
        "print(\"x_val:\", X_val.shape)\n",
        "print(\"x_test:\", X_test.shape)\n",
        "print(\"y_train:\", y_train.shape)\n",
        "print(\"y_val:\", y_val.shape)\n",
        "print(\"y_test:\", y_test.shape)"
      ],
      "metadata": {
        "colab": {
          "base_uri": "https://localhost:8080/"
        },
        "id": "5blmEg4h-GKy",
        "outputId": "44044cc2-7bce-493b-e488-57f0c98a1046"
      },
      "execution_count": 8,
      "outputs": [
        {
          "output_type": "stream",
          "name": "stdout",
          "text": [
            "Shapes:\n",
            "x_train: torch.Size([28683, 10000])\n",
            "x_val: torch.Size([9562, 10000])\n",
            "x_test: torch.Size([9562, 10000])\n",
            "y_train: torch.Size([28683, 1])\n",
            "y_val: torch.Size([9562, 1])\n",
            "y_test: torch.Size([9562, 1])\n"
          ]
        }
      ]
    },
    {
      "cell_type": "code",
      "source": [
        "# number of benigns and malicious sample in training dataset\n",
        "n_ben = (y_train.squeeze()== 0).sum().item()\n",
        "n_mal = (y_train.squeeze()== 1).sum().item()\n",
        "print('the proportion of malwares : ', n_mal/(n_mal+n_ben))\n",
        "\n",
        "# Combine features and labels into datasets\n",
        "train_dataset = TensorDataset(X_train, y_train)\n",
        "val_dataset = TensorDataset(X_val, y_val)\n",
        "test_dataset = TensorDataset(X_test, y_test)\n",
        "\n",
        "# Define the DataLoader for training, validation, and test sets\n",
        "batch_size = 4096\n",
        "train_loader = DataLoader(train_dataset, batch_size=batch_size,shuffle=True)\n",
        "val_loader = DataLoader(val_dataset, batch_size=batch_size, shuffle=False)\n",
        "test_loader = DataLoader(test_dataset, batch_size=batch_size, shuffle=False)\n",
        "\n",
        "# Clear unnecessary variables\n",
        "del train_dataset, val_dataset, test_dataset, y_train, y_val, y_test\n"
      ],
      "metadata": {
        "colab": {
          "base_uri": "https://localhost:8080/"
        },
        "id": "81AZSXOV-HoW",
        "outputId": "afc34a17-65c4-4bb8-c4ec-36867318420a"
      },
      "execution_count": 9,
      "outputs": [
        {
          "output_type": "stream",
          "name": "stdout",
          "text": [
            "the proportion of malwares :  0.11386535578565701\n"
          ]
        }
      ]
    },
    {
      "cell_type": "code",
      "source": [
        "model_DNN = MalwareDetectionModel().to(device)\n",
        "# Load model parameters\n",
        "model_DNN.load_state_dict(torch.load('model_DNN_drebin_best.pth', map_location=torch.device(device)))"
      ],
      "metadata": {
        "id": "0MavlKAt6mb8",
        "colab": {
          "base_uri": "https://localhost:8080/"
        },
        "outputId": "d91242f3-3fb8-4895-8672-4c0c216495d9"
      },
      "execution_count": 10,
      "outputs": [
        {
          "output_type": "execute_result",
          "data": {
            "text/plain": [
              "<All keys matched successfully>"
            ]
          },
          "metadata": {},
          "execution_count": 10
        }
      ]
    },
    {
      "cell_type": "code",
      "source": [
        "# Create an instance of your model\n",
        "model_AT_rFGSM = MalwareDetectionModel().to(device)\n",
        "\n",
        "# Load model parameters\n",
        "model_AT_rFGSM.load_state_dict(torch.load('model_AT_rFGSM.pth', map_location=torch.device(device)))"
      ],
      "metadata": {
        "colab": {
          "base_uri": "https://localhost:8080/"
        },
        "id": "rE8WMAUgSCms",
        "outputId": "009716bc-5c9a-4563-d948-2af8e7dc3d71"
      },
      "execution_count": 11,
      "outputs": [
        {
          "output_type": "execute_result",
          "data": {
            "text/plain": [
              "<All keys matched successfully>"
            ]
          },
          "metadata": {},
          "execution_count": 11
        }
      ]
    },
    {
      "cell_type": "code",
      "source": [
        "# Create an instance of your model\n",
        "model_AT_rFGSM_weightedLoss = MalwareDetectionModel().to(device)\n",
        "\n",
        "# Load model parameters\n",
        "model_AT_rFGSM_weightedLoss.load_state_dict(torch.load('model_AT_rFGSM_weightedLoss.pth', map_location=torch.device(device)))"
      ],
      "metadata": {
        "colab": {
          "base_uri": "https://localhost:8080/"
        },
        "id": "TGs5E9_2SDbJ",
        "outputId": "caec1269-fe90-4566-a390-47107c02da04"
      },
      "execution_count": 12,
      "outputs": [
        {
          "output_type": "execute_result",
          "data": {
            "text/plain": [
              "<All keys matched successfully>"
            ]
          },
          "metadata": {},
          "execution_count": 12
        }
      ]
    },
    {
      "cell_type": "code",
      "source": [
        "model_evaluation(model_DNN, test_loader, device)"
      ],
      "metadata": {
        "id": "xk78RQCW-V9D",
        "colab": {
          "base_uri": "https://localhost:8080/"
        },
        "outputId": "bd1928e6-729a-446e-905e-3169deffcf16"
      },
      "execution_count": 13,
      "outputs": [
        {
          "output_type": "stream",
          "name": "stdout",
          "text": [
            "Test Accuracy: 0.9912\n",
            "Test balanced Accuracy: 0.9785\n",
            "Precision: 0.9637\n",
            "Recall: 0.9619\n",
            "F1-score: 0.9628\n",
            "True Positives (TP): 1087\n",
            "True Negatives (TN): 8391\n",
            "False Positives (FP): 41\n",
            "False Negatives (FN): 43\n",
            "False Negative Rate (FNR): 3.8053\n",
            "False Positive Rate (FPR): 0.4862\n"
          ]
        }
      ]
    },
    {
      "cell_type": "code",
      "source": [
        "model_evaluation(model_AT_rFGSM,test_loader,device)"
      ],
      "metadata": {
        "id": "rbnXfFVsg5Qd",
        "colab": {
          "base_uri": "https://localhost:8080/"
        },
        "outputId": "ddebc41c-394b-4378-fcce-540e22145d00"
      },
      "execution_count": 14,
      "outputs": [
        {
          "output_type": "stream",
          "name": "stdout",
          "text": [
            "Test Accuracy: 0.9893\n",
            "Test balanced Accuracy: 0.9710\n",
            "Precision: 0.9622\n",
            "Recall: 0.9469\n",
            "F1-score: 0.9545\n",
            "True Positives (TP): 1070\n",
            "True Negatives (TN): 8390\n",
            "False Positives (FP): 42\n",
            "False Negatives (FN): 60\n",
            "False Negative Rate (FNR): 5.3097\n",
            "False Positive Rate (FPR): 0.4981\n"
          ]
        }
      ]
    },
    {
      "cell_type": "code",
      "source": [
        "model_evaluation(model_AT_rFGSM_weightedLoss,test_loader,device)"
      ],
      "metadata": {
        "colab": {
          "base_uri": "https://localhost:8080/"
        },
        "id": "909EV2TTSJ8t",
        "outputId": "fcce0607-da30-4ccc-cef7-0441446e425e"
      },
      "execution_count": 15,
      "outputs": [
        {
          "output_type": "stream",
          "name": "stdout",
          "text": [
            "Test Accuracy: 0.9872\n",
            "Test balanced Accuracy: 0.9782\n",
            "Precision: 0.9286\n",
            "Recall: 0.9664\n",
            "F1-score: 0.9471\n",
            "True Positives (TP): 1092\n",
            "True Negatives (TN): 8348\n",
            "False Positives (FP): 84\n",
            "False Negatives (FN): 38\n",
            "False Negative Rate (FNR): 3.3628\n",
            "False Positive Rate (FPR): 0.9962\n"
          ]
        }
      ]
    },
    {
      "cell_type": "code",
      "source": [],
      "metadata": {
        "id": "LzbsKP9ySf0P"
      },
      "execution_count": 15,
      "outputs": []
    },
    {
      "cell_type": "code",
      "source": [
        "\n",
        "# Define different attacks with their parameters\n",
        "attacks = [\n",
        "    (dfgsm_k, {\"k\":100, \"epsilon\":0.02, 'random':True, 'is_report_loss_diff' : False}),\n",
        "    (bga_k, {\"k\":100, 'is_report_loss_diff' : False}),\n",
        "    (bca_k, {\"k\":100, 'is_report_loss_diff' : False}),\n",
        "    (grosse_k, {\"k\":100, 'is_report_loss_diff' : False}),\n",
        "    (mimicry, {'removal_array':removal_array, \"trials\":30, 'is_report_loss_diff':False}),\n",
        "    (pgd, {'insertion_array':insertion_array, 'removal_array':removal_array,'k': 50, 'step_length': 1., 'norm': 'l1', 'is_report_loss_diff' : False}),\n",
        "    (pgd, {'insertion_array':insertion_array, 'removal_array':removal_array,'k': 50, 'step_length': 0.5, 'norm': 'l2', 'is_report_loss_diff' : False}),\n",
        "    (pgd, {'insertion_array':insertion_array, 'removal_array':removal_array,'k': 50, 'step_length': 0.02, 'norm': 'linf', 'is_report_loss_diff' : False}),\n",
        "    (PGD_Max2, {'insertion_array':insertion_array, 'removal_array':removal_array,'steps_max':1,'is_sample':False, 'varepsilon':1e-20}),\n",
        "    (PGD_Max2, {'insertion_array':insertion_array, 'removal_array':removal_array,'steps_max':5,'is_sample':False, 'varepsilon':1e-20}),\n",
        "    (StepwiseMax_onestep2, {'insertion_array':insertion_array, 'removal_array':removal_array,'step_lengths':{\"l1\": 1.0, \"l2\": 0.05, \"linf\": 0.0008}, \"steps\":650}),\n",
        "\n",
        "]\n",
        "\n",
        "# Iterate over each attack and its parameters\n",
        "for attack_func, attack_params in attacks:\n",
        "    print(f\"Running attack: {attack_func.__name__} with parameters: {attack_params}\")\n",
        "    adv_predict(test_loader, model_DNN, attack_func, device, **attack_params)\n",
        "    adv_predict(test_loader, model_AT_rFGSM, attack_func, device, **attack_params)\n",
        "    adv_predict(test_loader, model_AT_rFGSM_weightedLoss, attack_func, device, **attack_params)\n",
        "    print('********************************************')  # Print an empty line for separation"
      ],
      "metadata": {
        "colab": {
          "base_uri": "https://localhost:8080/"
        },
        "id": "E7tFJNIUShAd",
        "outputId": "a8c54edb-3162-4b1e-fbaf-f8a0b132ef31"
      },
      "execution_count": 16,
      "outputs": [
        {
          "output_type": "stream",
          "name": "stdout",
          "text": [
            "Running attack: dfgsm_k with parameters: {'k': 100, 'epsilon': 0.02, 'random': True, 'is_report_loss_diff': False}\n",
            "Accuracy of just malwares (without attack): 96.19% | Under attack: 0.0%.\n",
            "Accuracy of just malwares (without attack): 94.69% | Under attack: 93.63%.\n",
            "Accuracy of just malwares (without attack): 96.64% | Under attack: 95.84%.\n",
            "********************************************\n",
            "Running attack: bga_k with parameters: {'k': 100, 'is_report_loss_diff': False}\n",
            "Accuracy of just malwares (without attack): 96.19% | Under attack: 0.0%.\n",
            "Accuracy of just malwares (without attack): 94.69% | Under attack: 93.81%.\n",
            "Accuracy of just malwares (without attack): 96.64% | Under attack: 94.16%.\n",
            "********************************************\n",
            "Running attack: bca_k with parameters: {'k': 100, 'is_report_loss_diff': False}\n",
            "Accuracy of just malwares (without attack): 96.19% | Under attack: 0.0%.\n",
            "Accuracy of just malwares (without attack): 94.69% | Under attack: 90.09%.\n",
            "Accuracy of just malwares (without attack): 96.64% | Under attack: 77.43%.\n",
            "********************************************\n",
            "Running attack: grosse_k with parameters: {'k': 100, 'is_report_loss_diff': False}\n",
            "Accuracy of just malwares (without attack): 96.19% | Under attack: 0.0%.\n",
            "Accuracy of just malwares (without attack): 94.69% | Under attack: 90.09%.\n",
            "Accuracy of just malwares (without attack): 96.64% | Under attack: 80.27%.\n",
            "********************************************\n",
            "Running attack: mimicry with parameters: {'removal_array': tensor([0., 0., 0.,  ..., 1., 1., 1.], device='cuda:0', dtype=torch.float64), 'trials': 30, 'is_report_loss_diff': False}\n",
            "Accuracy of just malwares (without attack): 96.19% | Under attack: 2.035%.\n",
            "Accuracy of just malwares (without attack): 94.69% | Under attack: 42.92%.\n",
            "Accuracy of just malwares (without attack): 96.64% | Under attack: 45.04%.\n",
            "********************************************\n",
            "Running attack: pgd with parameters: {'insertion_array': tensor([1., 1., 1.,  ..., 1., 1., 1.], device='cuda:0', dtype=torch.float64), 'removal_array': tensor([0., 0., 0.,  ..., 1., 1., 1.], device='cuda:0', dtype=torch.float64), 'k': 50, 'step_length': 1.0, 'norm': 'l1', 'is_report_loss_diff': False}\n",
            "Accuracy of just malwares (without attack): 96.19% | Under attack: 0.0%.\n",
            "Accuracy of just malwares (without attack): 94.69% | Under attack: 42.92%.\n",
            "Accuracy of just malwares (without attack): 96.64% | Under attack: 61.86%.\n",
            "********************************************\n",
            "Running attack: pgd with parameters: {'insertion_array': tensor([1., 1., 1.,  ..., 1., 1., 1.], device='cuda:0', dtype=torch.float64), 'removal_array': tensor([0., 0., 0.,  ..., 1., 1., 1.], device='cuda:0', dtype=torch.float64), 'k': 50, 'step_length': 0.5, 'norm': 'l2', 'is_report_loss_diff': False}\n",
            "Accuracy of just malwares (without attack): 96.19% | Under attack: 0.0%.\n",
            "Accuracy of just malwares (without attack): 94.69% | Under attack: 54.16%.\n",
            "Accuracy of just malwares (without attack): 96.64% | Under attack: 41.15%.\n",
            "********************************************\n",
            "Running attack: pgd with parameters: {'insertion_array': tensor([1., 1., 1.,  ..., 1., 1., 1.], device='cuda:0', dtype=torch.float64), 'removal_array': tensor([0., 0., 0.,  ..., 1., 1., 1.], device='cuda:0', dtype=torch.float64), 'k': 50, 'step_length': 0.02, 'norm': 'linf', 'is_report_loss_diff': False}\n",
            "Accuracy of just malwares (without attack): 96.19% | Under attack: 0.0%.\n",
            "Accuracy of just malwares (without attack): 94.69% | Under attack: 76.64%.\n",
            "Accuracy of just malwares (without attack): 96.64% | Under attack: 90.62%.\n",
            "********************************************\n",
            "Running attack: PGD_Max2 with parameters: {'insertion_array': tensor([1., 1., 1.,  ..., 1., 1., 1.], device='cuda:0', dtype=torch.float64), 'removal_array': tensor([0., 0., 0.,  ..., 1., 1., 1.], device='cuda:0', dtype=torch.float64), 'steps_max': 1, 'is_sample': False, 'varepsilon': 1e-20}\n",
            "Accuracy of just malwares (without attack): 96.19% | Under attack: 0.0%.\n",
            "Accuracy of just malwares (without attack): 94.69% | Under attack: 20.97%.\n",
            "Accuracy of just malwares (without attack): 96.64% | Under attack: 11.86%.\n",
            "********************************************\n",
            "Running attack: PGD_Max2 with parameters: {'insertion_array': tensor([1., 1., 1.,  ..., 1., 1., 1.], device='cuda:0', dtype=torch.float64), 'removal_array': tensor([0., 0., 0.,  ..., 1., 1., 1.], device='cuda:0', dtype=torch.float64), 'steps_max': 5, 'is_sample': False, 'varepsilon': 1e-20}\n",
            "Accuracy of just malwares (without attack): 96.19% | Under attack: 0.0%.\n",
            "Accuracy of just malwares (without attack): 94.69% | Under attack: 10.53%.\n",
            "Accuracy of just malwares (without attack): 96.64% | Under attack: 9.558%.\n",
            "********************************************\n",
            "Running attack: StepwiseMax_onestep2 with parameters: {'insertion_array': tensor([1., 1., 1.,  ..., 1., 1., 1.], device='cuda:0', dtype=torch.float64), 'removal_array': tensor([0., 0., 0.,  ..., 1., 1., 1.], device='cuda:0', dtype=torch.float64), 'step_lengths': {'l1': 1.0, 'l2': 0.05, 'linf': 0.0008}, 'steps': 650}\n",
            "Accuracy of just malwares (without attack): 96.19% | Under attack: 0.0%.\n",
            "Accuracy of just malwares (without attack): 94.69% | Under attack: 47.08%.\n",
            "Accuracy of just malwares (without attack): 96.64% | Under attack: 64.16%.\n",
            "********************************************\n"
          ]
        }
      ]
    },
    {
      "cell_type": "code",
      "source": [],
      "metadata": {
        "id": "zoO6byMQSg9s"
      },
      "execution_count": null,
      "outputs": []
    },
    {
      "cell_type": "code",
      "source": [],
      "metadata": {
        "id": "7jrNlZh8Sg3H"
      },
      "execution_count": null,
      "outputs": []
    },
    {
      "cell_type": "code",
      "source": [],
      "metadata": {
        "id": "eNykRLrqg2zq"
      },
      "execution_count": null,
      "outputs": []
    },
    {
      "cell_type": "code",
      "source": [],
      "metadata": {
        "id": "wp00GuM4g2w0"
      },
      "execution_count": null,
      "outputs": []
    },
    {
      "cell_type": "code",
      "source": [
        "pgd(x.to(torch.float32), y, model_DNN, insertion_array, removal_array, k=25, step_length=0.02, norm='linf', initial_rounding_threshold=0.5, round_threshold=0.5, random=False, is_report_loss_diff=True, is_sample=False)"
      ],
      "metadata": {
        "colab": {
          "base_uri": "https://localhost:8080/"
        },
        "id": "ioWT99uM6va_",
        "outputId": "5f4c414d-b6b7-4e4a-8260-5053eede8971"
      },
      "execution_count": 17,
      "outputs": [
        {
          "output_type": "stream",
          "name": "stdout",
          "text": [
            "PGD linf: Attack effectiveness 100.000%.\n"
          ]
        },
        {
          "output_type": "execute_result",
          "data": {
            "text/plain": [
              "tensor([[0., 0., 1.,  ..., 1., 1., 1.],\n",
              "        [0., 0., 1.,  ..., 1., 1., 1.],\n",
              "        [0., 0., 1.,  ..., 1., 1., 1.],\n",
              "        ...,\n",
              "        [0., 0., 1.,  ..., 1., 1., 1.],\n",
              "        [0., 0., 1.,  ..., 1., 1., 1.],\n",
              "        [0., 0., 1.,  ..., 1., 1., 1.]])"
            ]
          },
          "metadata": {},
          "execution_count": 17
        }
      ]
    },
    {
      "cell_type": "code",
      "source": [
        "a = dfgsm_k(x.to(torch.float32), y, model_DNN, k=25)\n",
        "b = dfgsm_k2(x.to(torch.float32), y, model_DNN, k=25)"
      ],
      "metadata": {
        "colab": {
          "base_uri": "https://localhost:8080/"
        },
        "id": "Io68hi-_g5ND",
        "outputId": "7ed04482-4db8-410d-e023-fb026fb8f051"
      },
      "execution_count": null,
      "outputs": [
        {
          "output_type": "stream",
          "name": "stdout",
          "text": [
            "dFGSM: attack effectiveness 100.000%.\n",
            "dFGSM: attack effectiveness 100.000%.\n"
          ]
        }
      ]
    },
    {
      "cell_type": "code",
      "source": [
        "(a == b).sum()"
      ],
      "metadata": {
        "colab": {
          "base_uri": "https://localhost:8080/"
        },
        "id": "Sf7YDbdCicmM",
        "outputId": "9deeaf40-6ba2-437e-e7fb-7466da51eef8"
      },
      "execution_count": null,
      "outputs": [
        {
          "output_type": "execute_result",
          "data": {
            "text/plain": [
              "tensor(10000)"
            ]
          },
          "metadata": {},
          "execution_count": 28
        }
      ]
    },
    {
      "cell_type": "code",
      "source": [],
      "metadata": {
        "id": "LnX_cpFpg5Jt"
      },
      "execution_count": null,
      "outputs": []
    },
    {
      "cell_type": "code",
      "source": [
        "# AT-rFGSM: Adversarial Taraining based on rFGSM attack\n",
        "model_AT = MalwareDetectionModel().to(device)\n",
        "\n",
        "attack_param = {\"k\":50, \"epsilon\":0.02, 'random':True, \"is_sample\":False, 'is_report_loss_diff':False}\n",
        "adversarial_training(model_AT, train_loader, val_loader, adv_epochs=50, attack=dfgsm_k, **attack_param)"
      ],
      "metadata": {
        "colab": {
          "base_uri": "https://localhost:8080/"
        },
        "id": "i8s6H3v_0KhR",
        "outputId": "15e587ce-ca39-4e27-bd95-904689868f6d"
      },
      "execution_count": null,
      "outputs": [
        {
          "output_type": "stream",
          "name": "stdout",
          "text": [
            "Epoch: 1/50 | Training loss (epoch level): 0.6947 | Train accuracy: 75.76%\n",
            "\tVal accuracy(without attack) 89.88% and accuracy(with attack) 12.65% under attack and overall accuracy 51.26%.\n",
            "\tModel select at epoch 1 with validation accuracy 51.26% and accuracy 12.65% under attack.\n",
            "Epoch: 2/50 | Training loss (epoch level): 0.6497 | Train accuracy: 89.79%\n",
            "\tVal accuracy(without attack) 92.36% and accuracy(with attack) 15.88% under attack and overall accuracy 54.12%.\n",
            "\tModel select at epoch 2 with validation accuracy 54.12% and accuracy 15.88% under attack.\n",
            "Epoch: 3/50 | Training loss (epoch level): 0.5433 | Train accuracy: 91.49%\n",
            "\tVal accuracy(without attack) 95.4% and accuracy(with attack) 42.11% under attack and overall accuracy 68.75%.\n",
            "\tModel select at epoch 3 with validation accuracy 68.75% and accuracy 42.11% under attack.\n",
            "Epoch: 4/50 | Training loss (epoch level): 0.2668 | Train accuracy: 95.22%\n",
            "\tVal accuracy(without attack) 96.7% and accuracy(with attack) 72.76% under attack and overall accuracy 84.73%.\n",
            "\tModel select at epoch 4 with validation accuracy 84.73% and accuracy 72.76% under attack.\n",
            "Epoch: 5/50 | Training loss (epoch level): 0.1291 | Train accuracy: 96.51%\n",
            "\tVal accuracy(without attack) 97.25% and accuracy(with attack) 79.78% under attack and overall accuracy 88.51%.\n",
            "\tModel select at epoch 5 with validation accuracy 88.51% and accuracy 79.78% under attack.\n",
            "Epoch: 6/50 | Training loss (epoch level): 0.0871 | Train accuracy: 97.40%\n",
            "\tVal accuracy(without attack) 97.84% and accuracy(with attack) 82.36% under attack and overall accuracy 90.1%.\n",
            "\tModel select at epoch 6 with validation accuracy 90.1% and accuracy 82.36% under attack.\n",
            "Epoch: 7/50 | Training loss (epoch level): 0.0653 | Train accuracy: 98.09%\n",
            "\tVal accuracy(without attack) 98.14% and accuracy(with attack) 89.2% under attack and overall accuracy 93.67%.\n",
            "\tModel select at epoch 7 with validation accuracy 93.67% and accuracy 89.2% under attack.\n",
            "Epoch: 8/50 | Training loss (epoch level): 0.0519 | Train accuracy: 98.47%\n",
            "\tVal accuracy(without attack) 98.53% and accuracy(with attack) 87.53% under attack and overall accuracy 93.03%.\n",
            "\tModel select at epoch 7 with validation accuracy 93.67% and accuracy 89.2% under attack.\n",
            "Epoch: 9/50 | Training loss (epoch level): 0.0387 | Train accuracy: 98.88%\n",
            "\tVal accuracy(without attack) 98.54% and accuracy(with attack) 88.55% under attack and overall accuracy 93.54%.\n",
            "\tModel select at epoch 7 with validation accuracy 93.67% and accuracy 89.2% under attack.\n",
            "Epoch: 10/50 | Training loss (epoch level): 0.0297 | Train accuracy: 99.19%\n",
            "\tVal accuracy(without attack) 98.7% and accuracy(with attack) 89.38% under attack and overall accuracy 94.04%.\n",
            "\tModel select at epoch 10 with validation accuracy 94.04% and accuracy 89.38% under attack.\n",
            "Epoch: 11/50 | Training loss (epoch level): 0.0248 | Train accuracy: 99.35%\n",
            "\tVal accuracy(without attack) 98.76% and accuracy(with attack) 90.49% under attack and overall accuracy 94.62%.\n",
            "\tModel select at epoch 11 with validation accuracy 94.62% and accuracy 90.49% under attack.\n",
            "Epoch: 12/50 | Training loss (epoch level): 0.0264 | Train accuracy: 98.91%\n",
            "\tVal accuracy(without attack) 98.7% and accuracy(with attack) 83.93% under attack and overall accuracy 91.32%.\n",
            "\tModel select at epoch 11 with validation accuracy 94.62% and accuracy 90.49% under attack.\n",
            "Epoch: 13/50 | Training loss (epoch level): 0.0436 | Train accuracy: 98.82%\n",
            "\tVal accuracy(without attack) 98.64% and accuracy(with attack) 76.92% under attack and overall accuracy 87.78%.\n",
            "\tModel select at epoch 11 with validation accuracy 94.62% and accuracy 90.49% under attack.\n",
            "Epoch: 14/50 | Training loss (epoch level): 0.0387 | Train accuracy: 98.93%\n",
            "\tVal accuracy(without attack) 98.7% and accuracy(with attack) 86.24% under attack and overall accuracy 92.47%.\n",
            "\tModel select at epoch 11 with validation accuracy 94.62% and accuracy 90.49% under attack.\n",
            "Epoch: 15/50 | Training loss (epoch level): 0.0247 | Train accuracy: 99.35%\n",
            "\tVal accuracy(without attack) 98.69% and accuracy(with attack) 88.09% under attack and overall accuracy 93.39%.\n",
            "\tModel select at epoch 11 with validation accuracy 94.62% and accuracy 90.49% under attack.\n",
            "Epoch: 16/50 | Training loss (epoch level): 0.0213 | Train accuracy: 99.42%\n",
            "\tVal accuracy(without attack) 98.73% and accuracy(with attack) 89.75% under attack and overall accuracy 94.24%.\n",
            "\tModel select at epoch 11 with validation accuracy 94.62% and accuracy 90.49% under attack.\n",
            "Epoch: 17/50 | Training loss (epoch level): 0.0231 | Train accuracy: 99.05%\n",
            "\tVal accuracy(without attack) 98.75% and accuracy(with attack) 91.41% under attack and overall accuracy 95.08%.\n",
            "\tModel select at epoch 17 with validation accuracy 95.08% and accuracy 91.41% under attack.\n",
            "Epoch: 18/50 | Training loss (epoch level): 0.0246 | Train accuracy: 99.32%\n",
            "\tVal accuracy(without attack) 98.64% and accuracy(with attack) 90.21% under attack and overall accuracy 94.43%.\n",
            "\tModel select at epoch 17 with validation accuracy 95.08% and accuracy 91.41% under attack.\n",
            "Epoch: 19/50 | Training loss (epoch level): 0.0210 | Train accuracy: 99.49%\n",
            "\tVal accuracy(without attack) 98.78% and accuracy(with attack) 89.47% under attack and overall accuracy 94.13%.\n",
            "\tModel select at epoch 17 with validation accuracy 95.08% and accuracy 91.41% under attack.\n",
            "Epoch: 20/50 | Training loss (epoch level): 0.0156 | Train accuracy: 99.66%\n",
            "\tVal accuracy(without attack) 98.82% and accuracy(with attack) 90.21% under attack and overall accuracy 94.52%.\n",
            "\tModel select at epoch 17 with validation accuracy 95.08% and accuracy 91.41% under attack.\n",
            "Epoch: 21/50 | Training loss (epoch level): 0.0130 | Train accuracy: 99.71%\n",
            "\tVal accuracy(without attack) 98.82% and accuracy(with attack) 90.4% under attack and overall accuracy 94.61%.\n",
            "\tModel select at epoch 17 with validation accuracy 95.08% and accuracy 91.41% under attack.\n",
            "Epoch: 22/50 | Training loss (epoch level): 0.0127 | Train accuracy: 99.73%\n",
            "\tVal accuracy(without attack) 98.84% and accuracy(with attack) 90.49% under attack and overall accuracy 94.66%.\n",
            "\tModel select at epoch 17 with validation accuracy 95.08% and accuracy 91.41% under attack.\n",
            "Epoch: 23/50 | Training loss (epoch level): 0.0114 | Train accuracy: 99.76%\n",
            "\tVal accuracy(without attack) 98.83% and accuracy(with attack) 90.67% under attack and overall accuracy 94.75%.\n",
            "\tModel select at epoch 17 with validation accuracy 95.08% and accuracy 91.41% under attack.\n",
            "Epoch: 24/50 | Training loss (epoch level): 0.0115 | Train accuracy: 99.78%\n",
            "\tVal accuracy(without attack) 98.85% and accuracy(with attack) 90.86% under attack and overall accuracy 94.85%.\n",
            "\tModel select at epoch 17 with validation accuracy 95.08% and accuracy 91.41% under attack.\n",
            "Epoch: 25/50 | Training loss (epoch level): 0.0108 | Train accuracy: 99.76%\n",
            "\tVal accuracy(without attack) 98.83% and accuracy(with attack) 90.58% under attack and overall accuracy 94.71%.\n",
            "\tModel select at epoch 17 with validation accuracy 95.08% and accuracy 91.41% under attack.\n",
            "Epoch: 26/50 | Training loss (epoch level): 0.0118 | Train accuracy: 99.79%\n",
            "\tVal accuracy(without attack) 98.84% and accuracy(with attack) 90.77% under attack and overall accuracy 94.8%.\n",
            "\tModel select at epoch 17 with validation accuracy 95.08% and accuracy 91.41% under attack.\n",
            "Epoch: 27/50 | Training loss (epoch level): 0.0105 | Train accuracy: 99.77%\n",
            "\tVal accuracy(without attack) 98.87% and accuracy(with attack) 90.86% under attack and overall accuracy 94.86%.\n",
            "\tModel select at epoch 17 with validation accuracy 95.08% and accuracy 91.41% under attack.\n",
            "Epoch: 28/50 | Training loss (epoch level): 0.0106 | Train accuracy: 99.77%\n",
            "\tVal accuracy(without attack) 98.83% and accuracy(with attack) 90.95% under attack and overall accuracy 94.89%.\n",
            "\tModel select at epoch 17 with validation accuracy 95.08% and accuracy 91.41% under attack.\n",
            "Epoch: 29/50 | Training loss (epoch level): 0.0098 | Train accuracy: 99.81%\n",
            "\tVal accuracy(without attack) 98.84% and accuracy(with attack) 90.86% under attack and overall accuracy 94.85%.\n",
            "\tModel select at epoch 17 with validation accuracy 95.08% and accuracy 91.41% under attack.\n",
            "Epoch: 30/50 | Training loss (epoch level): 0.0096 | Train accuracy: 99.82%\n",
            "\tVal accuracy(without attack) 98.84% and accuracy(with attack) 90.77% under attack and overall accuracy 94.8%.\n",
            "\tModel select at epoch 17 with validation accuracy 95.08% and accuracy 91.41% under attack.\n",
            "Epoch: 31/50 | Training loss (epoch level): 0.0094 | Train accuracy: 99.82%\n",
            "\tVal accuracy(without attack) 98.83% and accuracy(with attack) 90.86% under attack and overall accuracy 94.84%.\n",
            "\tModel select at epoch 17 with validation accuracy 95.08% and accuracy 91.41% under attack.\n",
            "Epoch: 32/50 | Training loss (epoch level): 0.0097 | Train accuracy: 99.82%\n",
            "\tVal accuracy(without attack) 98.83% and accuracy(with attack) 90.95% under attack and overall accuracy 94.89%.\n",
            "\tModel select at epoch 17 with validation accuracy 95.08% and accuracy 91.41% under attack.\n",
            "Epoch: 33/50 | Training loss (epoch level): 0.0097 | Train accuracy: 99.82%\n",
            "\tVal accuracy(without attack) 98.84% and accuracy(with attack) 90.95% under attack and overall accuracy 94.9%.\n",
            "\tModel select at epoch 17 with validation accuracy 95.08% and accuracy 91.41% under attack.\n",
            "Epoch: 34/50 | Training loss (epoch level): 0.0095 | Train accuracy: 99.82%\n",
            "\tVal accuracy(without attack) 98.84% and accuracy(with attack) 91.04% under attack and overall accuracy 94.94%.\n",
            "\tModel select at epoch 17 with validation accuracy 95.08% and accuracy 91.41% under attack.\n",
            "Epoch: 35/50 | Training loss (epoch level): 0.0090 | Train accuracy: 99.84%\n",
            "\tVal accuracy(without attack) 98.84% and accuracy(with attack) 90.95% under attack and overall accuracy 94.9%.\n",
            "\tModel select at epoch 17 with validation accuracy 95.08% and accuracy 91.41% under attack.\n",
            "Epoch: 36/50 | Training loss (epoch level): 0.0089 | Train accuracy: 99.84%\n",
            "\tVal accuracy(without attack) 98.84% and accuracy(with attack) 91.04% under attack and overall accuracy 94.94%.\n",
            "\tModel select at epoch 17 with validation accuracy 95.08% and accuracy 91.41% under attack.\n",
            "Epoch: 37/50 | Training loss (epoch level): 0.0092 | Train accuracy: 99.84%\n",
            "\tVal accuracy(without attack) 98.85% and accuracy(with attack) 91.04% under attack and overall accuracy 94.95%.\n",
            "\tModel select at epoch 17 with validation accuracy 95.08% and accuracy 91.41% under attack.\n",
            "Epoch: 38/50 | Training loss (epoch level): 0.0091 | Train accuracy: 99.84%\n",
            "\tVal accuracy(without attack) 98.85% and accuracy(with attack) 90.86% under attack and overall accuracy 94.85%.\n",
            "\tModel select at epoch 17 with validation accuracy 95.08% and accuracy 91.41% under attack.\n",
            "Epoch: 39/50 | Training loss (epoch level): 0.0090 | Train accuracy: 99.84%\n",
            "\tVal accuracy(without attack) 98.86% and accuracy(with attack) 90.95% under attack and overall accuracy 94.91%.\n",
            "\tModel select at epoch 17 with validation accuracy 95.08% and accuracy 91.41% under attack.\n",
            "Epoch: 40/50 | Training loss (epoch level): 0.0091 | Train accuracy: 99.84%\n",
            "\tVal accuracy(without attack) 98.86% and accuracy(with attack) 91.04% under attack and overall accuracy 94.95%.\n",
            "\tModel select at epoch 17 with validation accuracy 95.08% and accuracy 91.41% under attack.\n",
            "Epoch: 41/50 | Training loss (epoch level): 0.0092 | Train accuracy: 99.84%\n",
            "\tVal accuracy(without attack) 98.86% and accuracy(with attack) 90.95% under attack and overall accuracy 94.91%.\n",
            "\tModel select at epoch 17 with validation accuracy 95.08% and accuracy 91.41% under attack.\n",
            "Epoch: 42/50 | Training loss (epoch level): 0.0090 | Train accuracy: 99.82%\n",
            "\tVal accuracy(without attack) 98.86% and accuracy(with attack) 90.77% under attack and overall accuracy 94.81%.\n",
            "\tModel select at epoch 17 with validation accuracy 95.08% and accuracy 91.41% under attack.\n",
            "Epoch: 43/50 | Training loss (epoch level): 0.0118 | Train accuracy: 99.83%\n",
            "\tVal accuracy(without attack) 98.86% and accuracy(with attack) 90.86% under attack and overall accuracy 94.86%.\n",
            "\tModel select at epoch 17 with validation accuracy 95.08% and accuracy 91.41% under attack.\n",
            "Epoch: 44/50 | Training loss (epoch level): 0.0089 | Train accuracy: 99.83%\n",
            "\tVal accuracy(without attack) 98.86% and accuracy(with attack) 90.95% under attack and overall accuracy 94.91%.\n",
            "\tModel select at epoch 17 with validation accuracy 95.08% and accuracy 91.41% under attack.\n",
            "Epoch: 45/50 | Training loss (epoch level): 0.0093 | Train accuracy: 99.85%\n",
            "\tVal accuracy(without attack) 98.86% and accuracy(with attack) 91.04% under attack and overall accuracy 94.95%.\n",
            "\tModel select at epoch 17 with validation accuracy 95.08% and accuracy 91.41% under attack.\n",
            "Epoch: 46/50 | Training loss (epoch level): 0.0089 | Train accuracy: 99.84%\n",
            "\tVal accuracy(without attack) 98.86% and accuracy(with attack) 90.95% under attack and overall accuracy 94.91%.\n",
            "\tModel select at epoch 17 with validation accuracy 95.08% and accuracy 91.41% under attack.\n",
            "Epoch: 47/50 | Training loss (epoch level): 0.0090 | Train accuracy: 99.82%\n",
            "\tVal accuracy(without attack) 98.86% and accuracy(with attack) 90.95% under attack and overall accuracy 94.91%.\n",
            "\tModel select at epoch 17 with validation accuracy 95.08% and accuracy 91.41% under attack.\n",
            "Epoch: 48/50 | Training loss (epoch level): 0.0091 | Train accuracy: 99.84%\n",
            "\tVal accuracy(without attack) 98.86% and accuracy(with attack) 91.04% under attack and overall accuracy 94.95%.\n",
            "\tModel select at epoch 17 with validation accuracy 95.08% and accuracy 91.41% under attack.\n",
            "Epoch: 49/50 | Training loss (epoch level): 0.0087 | Train accuracy: 99.85%\n",
            "\tVal accuracy(without attack) 98.85% and accuracy(with attack) 91.04% under attack and overall accuracy 94.95%.\n",
            "\tModel select at epoch 17 with validation accuracy 95.08% and accuracy 91.41% under attack.\n",
            "Epoch: 50/50 | Training loss (epoch level): 0.0090 | Train accuracy: 99.83%\n",
            "\tVal accuracy(without attack) 98.85% and accuracy(with attack) 90.95% under attack and overall accuracy 94.9%.\n",
            "\tModel select at epoch 17 with validation accuracy 95.08% and accuracy 91.41% under attack.\n"
          ]
        }
      ]
    },
    {
      "cell_type": "code",
      "source": [
        "# Create an instance of your model\n",
        "model_AT_rFGSM = MalwareDetectionModel().to(device)\n",
        "\n",
        "# Load model parameters\n",
        "model_AT_rFGSM.load_state_dict(torch.load('model_AT_rFGSM.pth', map_location=torch.device(device)))"
      ],
      "metadata": {
        "colab": {
          "base_uri": "https://localhost:8080/"
        },
        "id": "FNbO4UcTbDau",
        "outputId": "0ac4afeb-1aea-47cb-88a2-d1d898efd903"
      },
      "execution_count": null,
      "outputs": [
        {
          "output_type": "execute_result",
          "data": {
            "text/plain": [
              "<All keys matched successfully>"
            ]
          },
          "metadata": {},
          "execution_count": 32
        }
      ]
    },
    {
      "cell_type": "code",
      "source": [
        "model_evaluation(model_AT_rFGSM,test_loader,device)"
      ],
      "metadata": {
        "colab": {
          "base_uri": "https://localhost:8080/"
        },
        "id": "2JzxsIPyU8Yp",
        "outputId": "c532d73c-dbbb-49aa-9bb5-ef73dcbddb3a"
      },
      "execution_count": null,
      "outputs": [
        {
          "output_type": "stream",
          "name": "stdout",
          "text": [
            "Test Accuracy: 0.9893\n",
            "Test balanced Accuracy: 0.9710\n",
            "Precision: 0.9622\n",
            "Recall: 0.9469\n",
            "F1-score: 0.9545\n",
            "True Positives (TP): 1070\n",
            "True Negatives (TN): 8390\n",
            "False Positives (FP): 42\n",
            "False Negatives (FN): 60\n",
            "False Negative Rate (FNR): 5.3097\n",
            "False Positive Rate (FPR): 0.4981\n"
          ]
        }
      ]
    },
    {
      "cell_type": "code",
      "source": [],
      "metadata": {
        "id": "zNKcXQbObHbK"
      },
      "execution_count": null,
      "outputs": []
    },
    {
      "cell_type": "code",
      "source": [
        "def PGD_Max2(x,y, model, insertion_array, removal_array, attack_list = ['linf', 'l2', 'l1'],steps_max=5, is_sample = False, varepsilon = 1e-20, is_report_loss_diff = False):\n",
        "    \"\"\"\n",
        "    PGD_Max adversarial attack.\n",
        "\n",
        "    Args:\n",
        "        x: Input data tensor (shape: [samples, features])\n",
        "        y: Ground truth labels tensor (shape: [samples])\n",
        "        model: Neural network model\n",
        "        attack_list: List of norms for attacks (default: ['linf', 'l2', 'l1'])\n",
        "        steps_max: Maximum number of steps (default: 5)\n",
        "        is_sample: Flag to sample randomly from the feasible area (default: False)\n",
        "        vaρεpsilon: Tolerance for stopping condition (default: 1e-20)\n",
        "\n",
        "    Returns:\n",
        "        Adversarial version of input data (tensor)\n",
        "    \"\"\"\n",
        "    batch_size = x.shape[0]\n",
        "    norm_params = {\n",
        "        'l1': {'k': 50, 'step_length': 1.0, 'is_report_loss_diff':is_report_loss_diff},\n",
        "        'l2': {'k': 200, 'step_length': 0.05, 'is_report_loss_diff':is_report_loss_diff},\n",
        "        'linf': {'k': 500, 'step_length': 0.002, 'is_report_loss_diff':is_report_loss_diff}\n",
        "    }\n",
        "\n",
        "    model.eval()\n",
        "    with torch.no_grad():\n",
        "        loss, done = get_loss(x,y,model) #shape:[samples],[samples]\n",
        "\n",
        "    pre_loss = loss\n",
        "    n = x.shape[0]\n",
        "    adv_x = x.detach().clone().to(x.device)\n",
        "    stop_flag = torch.zeros(n, dtype=torch.bool).to(x.device) #[samples]\n",
        "\n",
        "    for t in range(steps_max):\n",
        "      num_remaining  = (~stop_flag).sum().item()\n",
        "      #print('number of remaining samples : ',num_remaining )\n",
        "      if num_remaining  <= 0:\n",
        "          break\n",
        "\n",
        "      remaining_label = y[~stop_flag]\n",
        "      pertbx = []\n",
        "\n",
        "      for norm in attack_list:\n",
        "          if norm in norm_params:\n",
        "              params = norm_params[norm]\n",
        "              perturbation = pgd(adv_x[~stop_flag], remaining_label, model, insertion_array, removal_array, norm=norm, is_sample=is_sample, **params)\n",
        "              #print(\"the number of added features : \", (perturbation.sum() - adv_x[~stop_flag].sum())/len(adv_x[~stop_flag]))\n",
        "              pertbx.append(perturbation)\n",
        "          else:\n",
        "              raise ValueError(\"Expected 'l1' or 'l2' or 'linf' norm.\")\n",
        "\n",
        "\n",
        "      # here pertbx.shape = a list of (number of attacks  ,(num_remaining ,features))\n",
        "      pertbx = torch.vstack(pertbx)\n",
        "      # here pertbx.shape = a tensor (num_remaining *number of attacks samples, features)\n",
        "\n",
        "      with torch.no_grad():\n",
        "        remaining_label_ext = torch.cat([remaining_label] * len(attack_list)) #(labels*number of attacks )\n",
        "        loss, done = get_loss(pertbx, remaining_label_ext,model) #(labels*number of attacks )\n",
        "\n",
        "        # for a sample, if there is at least one successful attack, we will select the one with maximum loss;\n",
        "        # while if no attacks evade the victim successful, all perturbed examples are reminded for selection\n",
        "        max_v = loss.amax()\n",
        "        loss[done] += max_v\n",
        "\n",
        "        loss = loss.reshape(len(attack_list), num_remaining ).permute(1, 0) #(num_remaining ,number of attacks)\n",
        "        done = done.reshape(len(attack_list), num_remaining ).permute(1, 0) #(num_remaining ,number of attacks)\n",
        "\n",
        "        success_flag = torch.any(done, dim=-1) #(num_remaining )\n",
        "\n",
        "        pertbx = pertbx.reshape(len(attack_list), num_remaining , x.shape[1]).permute([1, 0, 2])#(num_remaining ,attacks,features)\n",
        "        _, indices = loss.max(dim=-1) # ans:(samples), max loss among attacks which worked, and max loss among all attacks for sample , none of them worked\n",
        "        adv_x[~stop_flag] = pertbx[torch.arange(num_remaining ), indices]\n",
        "        a_loss = loss[torch.arange(num_remaining ), indices]\n",
        "        pre_stop_flag = stop_flag.clone()\n",
        "        stop_flag[~stop_flag] = (torch.abs(pre_loss[~stop_flag] - a_loss) < varepsilon) | success_flag\n",
        "        pre_loss[~pre_stop_flag] = a_loss\n",
        "\n",
        "    return adv_x"
      ],
      "metadata": {
        "id": "xC7ui_bLbHXm"
      },
      "execution_count": 12,
      "outputs": []
    },
    {
      "cell_type": "code",
      "source": [
        "# PGD-max(MaxMA)\n",
        "attack_params = {'insertion_array':insertion_array, 'removal_array':removal_array,'steps_max':1,'is_sample':False, 'varepsilon':1e-20, 'is_report_loss_diff':False}\n",
        "adv_predict(test_loader, model_DNN, PGD_Max2, device, **attack_params)\n"
      ],
      "metadata": {
        "colab": {
          "base_uri": "https://localhost:8080/"
        },
        "outputId": "bd5437ed-1169-47ed-9f2b-d49e71f0c9dc",
        "id": "MpueENcmbH-d"
      },
      "execution_count": 14,
      "outputs": [
        {
          "output_type": "stream",
          "name": "stdout",
          "text": [
            "Accuracy of just malwares (without attack): 96.19% | Under attack: 0.0%.\n"
          ]
        }
      ]
    },
    {
      "cell_type": "code",
      "source": [],
      "metadata": {
        "id": "vuHP6V3IbHUm"
      },
      "execution_count": null,
      "outputs": []
    },
    {
      "cell_type": "code",
      "source": [
        "def pgd(x, y, model, insertion_array, removal_array, k=25, step_length=0.02, norm='linf', initial_rounding_threshold=0.5, round_threshold=0.5, random=False, is_report_loss_diff=True, is_sample=False):\n",
        "    \"\"\"\n",
        "    Projected Gradient Descent (PGD) adversarial attack.\n",
        "    :param y: Ground truth labels\n",
        "    :param x: Feature vector\n",
        "    :param model: Neural network model\n",
        "    :param k: Number of steps\n",
        "    :param step_length: Step size for each iteration\n",
        "    :param norm: Norm used for perturbation ('linf' or 'l2')\n",
        "    :param initial_rounding_threshold: Threshold parameter for rounding the initial x_next\n",
        "    :param round_threshold: Threshold parameter for rounding\n",
        "    :param random: Flag to generate random thresholds\n",
        "    :param is_report_loss_diff: Flag to report loss difference\n",
        "    :param is_sample: Flag to sample randomly from the feasible area\n",
        "    :return: The adversarial version of x (tensor)\n",
        "    \"\"\"\n",
        "    model.eval()\n",
        "\n",
        "    # Compute natural loss\n",
        "    criterion = nn.CrossEntropyLoss(reduction='none')\n",
        "    loss_natural = criterion(model(x), y.view(-1).long())\n",
        "\n",
        "    # Initialize starting point\n",
        "    x_next = x.clone()\n",
        "    x_next = get_x0(x_next, initial_rounding_threshold, is_sample)\n",
        "\n",
        "    # Multi-step PGD\n",
        "    for t in range(k):\n",
        "        # Forward pass\n",
        "        x_var = x_next.clone().detach().requires_grad_(True)\n",
        "        y_model = model(x_var)\n",
        "        loss = criterion(y_model, y.view(-1).long())\n",
        "\n",
        "        # Compute gradient\n",
        "        grad_vars = torch.autograd.grad(loss.mean(), x_var)\n",
        "        gradients = grad_vars[0].data\n",
        "\n",
        "        #pos_insertion = (x_var <= 0.5) * 1 * insertion_array\n",
        "        pos_insertion = (x_var <= 0.5) * 1\n",
        "        grad4insertion = (gradients >= 0) * pos_insertion * gradients\n",
        "\n",
        "        pos_removal = (x_var > 0.5) * 1 * removal_array\n",
        "        grad4removal = (gradients < 0) * pos_removal * gradients\n",
        "\n",
        "        gradients = grad4removal + grad4insertion\n",
        "        #gradients =  grad4insertion\n",
        "\n",
        "        # Norm\n",
        "        if norm == 'linf':\n",
        "            perturbation = torch.sign(gradients).float()\n",
        "\n",
        "        elif norm == 'l2':\n",
        "            l2norm = torch.linalg.norm(gradients, dim=-1, keepdim=True)\n",
        "            perturbation = (gradients / l2norm).float()\n",
        "            #perturbation = torch.minimum(torch.tensor(1., dtype=x.dtype, device=x.device), gradients / l2norm).float()\n",
        "            #perturbation = torch.maximum(torch.tensor(-1., dtype=x.dtype, device=x.device), perturbation).float()\n",
        "            #perturbation[torch.isnan(perturbation)] = 0.\n",
        "            #perturbation[torch.isinf(perturbation)] = 1.\n",
        "\n",
        "        elif norm == 'l1':\n",
        "            # consider just features of a sample which are not updated yet(because our update is 0to1 or 1to0 not stepwise)\n",
        "            un_mod = torch.abs(x_next - x_var) <= 1e-6\n",
        "            gradients = gradients * un_mod\n",
        "\n",
        "            val, _ = torch.topk(torch.abs(gradients), 1)\n",
        "            perturbation = (torch.abs(gradients) >= val.expand_as(gradients)).float() * torch.sign(gradients).float()\n",
        "            # stop perturbing the examples that are successful to evade the victim\n",
        "            outputs = model(x_next)\n",
        "            _, predicted = torch.topk(outputs, k=1)\n",
        "            done = (predicted != y).squeeze()\n",
        "            if torch.all(done):\n",
        "                break\n",
        "            perturbation[done] = 0.\n",
        "\n",
        "        else:\n",
        "            raise ValueError(\"Expect 'l1' or 'l2' or 'linf' norm.\")\n",
        "\n",
        "        # Update x_next\n",
        "        x_next = torch.clamp(x_next + perturbation * step_length, min=0., max=1.)\n",
        "\n",
        "    # Rounding step\n",
        "    if random:\n",
        "       round_threshold = torch.rand(x_next.size())\n",
        "    x_next = round_x(x_next, round_threshold=round_threshold)\n",
        "\n",
        "    # Feasible projection\n",
        "    #x_next = or_float_tensors(x_next, x)\n",
        "\n",
        "    # Compute adversarial loss\n",
        "    loss_adv = criterion(model(x_next), y.view(-1).long()).data\n",
        "\n",
        "    if is_report_loss_diff:\n",
        "        outputs = model(x_next)\n",
        "        _, predicted = torch.topk(outputs, k=1)\n",
        "        done = (predicted != y).squeeze()\n",
        "        print(f\"PGD {norm}: Attack effectiveness {done.sum().item() / x.size()[0] * 100:.3f}%.\")\n",
        "\n",
        "    # Replace with natural if adversarial loss is higher\n",
        "    replace_flag = (loss_adv < loss_natural).squeeze()\n",
        "    x_next[replace_flag] = x[replace_flag]\n",
        "\n",
        "    return x_next"
      ],
      "metadata": {
        "id": "JP_6gCmbFDGi"
      },
      "execution_count": null,
      "outputs": []
    },
    {
      "cell_type": "code",
      "source": [
        "# rFGSM\n",
        "attack_params = {\"k\":50, \"epsilon\":0.02, 'random':True, 'is_report_loss_diff':False, 'is_sample':False}\n",
        "#adv_predict(test_loader, model_DNN, dfgsm_k2, device, **attack_params)\n",
        "adv_predict(test_loader, model_AT_rFGSM, dfgsm_k, device, **attack_params)"
      ],
      "metadata": {
        "colab": {
          "base_uri": "https://localhost:8080/",
          "height": 356
        },
        "id": "SnQZ4-J819Qc",
        "outputId": "0cf45a86-38f8-4438-f156-bd283c930458"
      },
      "execution_count": null,
      "outputs": [
        {
          "output_type": "error",
          "ename": "RuntimeError",
          "evalue": "Expected target size [0, 2], got [0]",
          "traceback": [
            "\u001b[0;31m---------------------------------------------------------------------------\u001b[0m",
            "\u001b[0;31mRuntimeError\u001b[0m                              Traceback (most recent call last)",
            "\u001b[0;32m<ipython-input-34-02992412d66a>\u001b[0m in \u001b[0;36m<cell line: 4>\u001b[0;34m()\u001b[0m\n\u001b[1;32m      2\u001b[0m \u001b[0mattack_params\u001b[0m \u001b[0;34m=\u001b[0m \u001b[0;34m{\u001b[0m\u001b[0;34m\"k\"\u001b[0m\u001b[0;34m:\u001b[0m\u001b[0;36m50\u001b[0m\u001b[0;34m,\u001b[0m \u001b[0;34m\"epsilon\"\u001b[0m\u001b[0;34m:\u001b[0m\u001b[0;36m0.02\u001b[0m\u001b[0;34m,\u001b[0m \u001b[0;34m'random'\u001b[0m\u001b[0;34m:\u001b[0m\u001b[0;32mTrue\u001b[0m\u001b[0;34m,\u001b[0m \u001b[0;34m'is_report_loss_diff'\u001b[0m\u001b[0;34m:\u001b[0m\u001b[0;32mFalse\u001b[0m\u001b[0;34m,\u001b[0m \u001b[0;34m'is_sample'\u001b[0m\u001b[0;34m:\u001b[0m\u001b[0;32mFalse\u001b[0m\u001b[0;34m}\u001b[0m\u001b[0;34m\u001b[0m\u001b[0;34m\u001b[0m\u001b[0m\n\u001b[1;32m      3\u001b[0m \u001b[0;31m#adv_predict(test_loader, model_DNN, dfgsm_k2, device, **attack_params)\u001b[0m\u001b[0;34m\u001b[0m\u001b[0;34m\u001b[0m\u001b[0m\n\u001b[0;32m----> 4\u001b[0;31m \u001b[0madv_predict\u001b[0m\u001b[0;34m(\u001b[0m\u001b[0mtest_loader\u001b[0m\u001b[0;34m,\u001b[0m \u001b[0mmodel_AT_rFGSM\u001b[0m\u001b[0;34m,\u001b[0m \u001b[0mdfgsm_k\u001b[0m\u001b[0;34m,\u001b[0m \u001b[0mdevice\u001b[0m\u001b[0;34m,\u001b[0m \u001b[0;34m**\u001b[0m\u001b[0mattack_params\u001b[0m\u001b[0;34m)\u001b[0m\u001b[0;34m\u001b[0m\u001b[0;34m\u001b[0m\u001b[0m\n\u001b[0m",
            "\u001b[0;32m/content/adverserial_attacks_functions.py\u001b[0m in \u001b[0;36madv_predict\u001b[0;34m(test_loader, model, attack, device, **kwargs)\u001b[0m\n\u001b[1;32m    206\u001b[0m             \u001b[0;32melse\u001b[0m \u001b[0;34m:\u001b[0m\u001b[0;34m\u001b[0m\u001b[0;34m\u001b[0m\u001b[0m\n\u001b[1;32m    207\u001b[0m                 \u001b[0;32mwith\u001b[0m \u001b[0mtorch\u001b[0m\u001b[0;34m.\u001b[0m\u001b[0menable_grad\u001b[0m\u001b[0;34m(\u001b[0m\u001b[0;34m)\u001b[0m\u001b[0;34m:\u001b[0m\u001b[0;34m\u001b[0m\u001b[0;34m\u001b[0m\u001b[0m\n\u001b[0;32m--> 208\u001b[0;31m                     \u001b[0mpertb_mal_x\u001b[0m \u001b[0;34m=\u001b[0m \u001b[0mattack\u001b[0m\u001b[0;34m(\u001b[0m\u001b[0mmal_x_batch\u001b[0m\u001b[0;34m,\u001b[0m \u001b[0mmal_y_batch\u001b[0m\u001b[0;34m,\u001b[0m \u001b[0mmodel\u001b[0m\u001b[0;34m,\u001b[0m \u001b[0;34m**\u001b[0m\u001b[0mkwargs\u001b[0m\u001b[0;34m)\u001b[0m\u001b[0;34m\u001b[0m\u001b[0;34m\u001b[0m\u001b[0m\n\u001b[0m\u001b[1;32m    209\u001b[0m \u001b[0;34m\u001b[0m\u001b[0m\n\u001b[1;32m    210\u001b[0m             \u001b[0moutputs\u001b[0m \u001b[0;34m=\u001b[0m \u001b[0mmodel\u001b[0m\u001b[0;34m(\u001b[0m\u001b[0mpertb_mal_x\u001b[0m\u001b[0;34m)\u001b[0m\u001b[0;34m\u001b[0m\u001b[0;34m\u001b[0m\u001b[0m\n",
            "\u001b[0;32m<ipython-input-21-b79fd83fddea>\u001b[0m in \u001b[0;36mdfgsm_k\u001b[0;34m(x, y, model, k, epsilon, alpha, initial_rounding_threshold, round_threshold, random, is_report_loss_diff, is_sample, device)\u001b[0m\n\u001b[1;32m     18\u001b[0m     \u001b[0;31m# Compute natural loss\u001b[0m\u001b[0;34m\u001b[0m\u001b[0;34m\u001b[0m\u001b[0m\n\u001b[1;32m     19\u001b[0m     \u001b[0mcriterion\u001b[0m \u001b[0;34m=\u001b[0m \u001b[0mnn\u001b[0m\u001b[0;34m.\u001b[0m\u001b[0mCrossEntropyLoss\u001b[0m\u001b[0;34m(\u001b[0m\u001b[0mreduction\u001b[0m\u001b[0;34m=\u001b[0m\u001b[0;34m'none'\u001b[0m\u001b[0;34m)\u001b[0m\u001b[0;34m\u001b[0m\u001b[0;34m\u001b[0m\u001b[0m\n\u001b[0;32m---> 20\u001b[0;31m     \u001b[0mloss_natural\u001b[0m \u001b[0;34m=\u001b[0m \u001b[0mcriterion\u001b[0m\u001b[0;34m(\u001b[0m\u001b[0mmodel\u001b[0m\u001b[0;34m(\u001b[0m\u001b[0mx\u001b[0m\u001b[0;34m)\u001b[0m\u001b[0;34m,\u001b[0m \u001b[0my\u001b[0m\u001b[0;34m.\u001b[0m\u001b[0mview\u001b[0m\u001b[0;34m(\u001b[0m\u001b[0;34m-\u001b[0m\u001b[0;36m1\u001b[0m\u001b[0;34m)\u001b[0m\u001b[0;34m.\u001b[0m\u001b[0mlong\u001b[0m\u001b[0;34m(\u001b[0m\u001b[0;34m)\u001b[0m\u001b[0;34m)\u001b[0m\u001b[0;34m\u001b[0m\u001b[0;34m\u001b[0m\u001b[0m\n\u001b[0m\u001b[1;32m     21\u001b[0m \u001b[0;34m\u001b[0m\u001b[0m\n\u001b[1;32m     22\u001b[0m     \u001b[0;31m# Initialize starting point\u001b[0m\u001b[0;34m\u001b[0m\u001b[0;34m\u001b[0m\u001b[0m\n",
            "\u001b[0;32m/usr/local/lib/python3.10/dist-packages/torch/nn/modules/module.py\u001b[0m in \u001b[0;36m_wrapped_call_impl\u001b[0;34m(self, *args, **kwargs)\u001b[0m\n\u001b[1;32m   1509\u001b[0m             \u001b[0;32mreturn\u001b[0m \u001b[0mself\u001b[0m\u001b[0;34m.\u001b[0m\u001b[0m_compiled_call_impl\u001b[0m\u001b[0;34m(\u001b[0m\u001b[0;34m*\u001b[0m\u001b[0margs\u001b[0m\u001b[0;34m,\u001b[0m \u001b[0;34m**\u001b[0m\u001b[0mkwargs\u001b[0m\u001b[0;34m)\u001b[0m  \u001b[0;31m# type: ignore[misc]\u001b[0m\u001b[0;34m\u001b[0m\u001b[0;34m\u001b[0m\u001b[0m\n\u001b[1;32m   1510\u001b[0m         \u001b[0;32melse\u001b[0m\u001b[0;34m:\u001b[0m\u001b[0;34m\u001b[0m\u001b[0;34m\u001b[0m\u001b[0m\n\u001b[0;32m-> 1511\u001b[0;31m             \u001b[0;32mreturn\u001b[0m \u001b[0mself\u001b[0m\u001b[0;34m.\u001b[0m\u001b[0m_call_impl\u001b[0m\u001b[0;34m(\u001b[0m\u001b[0;34m*\u001b[0m\u001b[0margs\u001b[0m\u001b[0;34m,\u001b[0m \u001b[0;34m**\u001b[0m\u001b[0mkwargs\u001b[0m\u001b[0;34m)\u001b[0m\u001b[0;34m\u001b[0m\u001b[0;34m\u001b[0m\u001b[0m\n\u001b[0m\u001b[1;32m   1512\u001b[0m \u001b[0;34m\u001b[0m\u001b[0m\n\u001b[1;32m   1513\u001b[0m     \u001b[0;32mdef\u001b[0m \u001b[0m_call_impl\u001b[0m\u001b[0;34m(\u001b[0m\u001b[0mself\u001b[0m\u001b[0;34m,\u001b[0m \u001b[0;34m*\u001b[0m\u001b[0margs\u001b[0m\u001b[0;34m,\u001b[0m \u001b[0;34m**\u001b[0m\u001b[0mkwargs\u001b[0m\u001b[0;34m)\u001b[0m\u001b[0;34m:\u001b[0m\u001b[0;34m\u001b[0m\u001b[0;34m\u001b[0m\u001b[0m\n",
            "\u001b[0;32m/usr/local/lib/python3.10/dist-packages/torch/nn/modules/module.py\u001b[0m in \u001b[0;36m_call_impl\u001b[0;34m(self, *args, **kwargs)\u001b[0m\n\u001b[1;32m   1518\u001b[0m                 \u001b[0;32mor\u001b[0m \u001b[0m_global_backward_pre_hooks\u001b[0m \u001b[0;32mor\u001b[0m \u001b[0m_global_backward_hooks\u001b[0m\u001b[0;34m\u001b[0m\u001b[0;34m\u001b[0m\u001b[0m\n\u001b[1;32m   1519\u001b[0m                 or _global_forward_hooks or _global_forward_pre_hooks):\n\u001b[0;32m-> 1520\u001b[0;31m             \u001b[0;32mreturn\u001b[0m \u001b[0mforward_call\u001b[0m\u001b[0;34m(\u001b[0m\u001b[0;34m*\u001b[0m\u001b[0margs\u001b[0m\u001b[0;34m,\u001b[0m \u001b[0;34m**\u001b[0m\u001b[0mkwargs\u001b[0m\u001b[0;34m)\u001b[0m\u001b[0;34m\u001b[0m\u001b[0;34m\u001b[0m\u001b[0m\n\u001b[0m\u001b[1;32m   1521\u001b[0m \u001b[0;34m\u001b[0m\u001b[0m\n\u001b[1;32m   1522\u001b[0m         \u001b[0;32mtry\u001b[0m\u001b[0;34m:\u001b[0m\u001b[0;34m\u001b[0m\u001b[0;34m\u001b[0m\u001b[0m\n",
            "\u001b[0;32m/usr/local/lib/python3.10/dist-packages/torch/nn/modules/loss.py\u001b[0m in \u001b[0;36mforward\u001b[0;34m(self, input, target)\u001b[0m\n\u001b[1;32m   1177\u001b[0m \u001b[0;34m\u001b[0m\u001b[0m\n\u001b[1;32m   1178\u001b[0m     \u001b[0;32mdef\u001b[0m \u001b[0mforward\u001b[0m\u001b[0;34m(\u001b[0m\u001b[0mself\u001b[0m\u001b[0;34m,\u001b[0m \u001b[0minput\u001b[0m\u001b[0;34m:\u001b[0m \u001b[0mTensor\u001b[0m\u001b[0;34m,\u001b[0m \u001b[0mtarget\u001b[0m\u001b[0;34m:\u001b[0m \u001b[0mTensor\u001b[0m\u001b[0;34m)\u001b[0m \u001b[0;34m->\u001b[0m \u001b[0mTensor\u001b[0m\u001b[0;34m:\u001b[0m\u001b[0;34m\u001b[0m\u001b[0;34m\u001b[0m\u001b[0m\n\u001b[0;32m-> 1179\u001b[0;31m         return F.cross_entropy(input, target, weight=self.weight,\n\u001b[0m\u001b[1;32m   1180\u001b[0m                                \u001b[0mignore_index\u001b[0m\u001b[0;34m=\u001b[0m\u001b[0mself\u001b[0m\u001b[0;34m.\u001b[0m\u001b[0mignore_index\u001b[0m\u001b[0;34m,\u001b[0m \u001b[0mreduction\u001b[0m\u001b[0;34m=\u001b[0m\u001b[0mself\u001b[0m\u001b[0;34m.\u001b[0m\u001b[0mreduction\u001b[0m\u001b[0;34m,\u001b[0m\u001b[0;34m\u001b[0m\u001b[0;34m\u001b[0m\u001b[0m\n\u001b[1;32m   1181\u001b[0m                                label_smoothing=self.label_smoothing)\n",
            "\u001b[0;32m/usr/local/lib/python3.10/dist-packages/torch/nn/functional.py\u001b[0m in \u001b[0;36mcross_entropy\u001b[0;34m(input, target, weight, size_average, ignore_index, reduce, reduction, label_smoothing)\u001b[0m\n\u001b[1;32m   3057\u001b[0m     \u001b[0;32mif\u001b[0m \u001b[0msize_average\u001b[0m \u001b[0;32mis\u001b[0m \u001b[0;32mnot\u001b[0m \u001b[0;32mNone\u001b[0m \u001b[0;32mor\u001b[0m \u001b[0mreduce\u001b[0m \u001b[0;32mis\u001b[0m \u001b[0;32mnot\u001b[0m \u001b[0;32mNone\u001b[0m\u001b[0;34m:\u001b[0m\u001b[0;34m\u001b[0m\u001b[0;34m\u001b[0m\u001b[0m\n\u001b[1;32m   3058\u001b[0m         \u001b[0mreduction\u001b[0m \u001b[0;34m=\u001b[0m \u001b[0m_Reduction\u001b[0m\u001b[0;34m.\u001b[0m\u001b[0mlegacy_get_string\u001b[0m\u001b[0;34m(\u001b[0m\u001b[0msize_average\u001b[0m\u001b[0;34m,\u001b[0m \u001b[0mreduce\u001b[0m\u001b[0;34m)\u001b[0m\u001b[0;34m\u001b[0m\u001b[0;34m\u001b[0m\u001b[0m\n\u001b[0;32m-> 3059\u001b[0;31m     \u001b[0;32mreturn\u001b[0m \u001b[0mtorch\u001b[0m\u001b[0;34m.\u001b[0m\u001b[0m_C\u001b[0m\u001b[0;34m.\u001b[0m\u001b[0m_nn\u001b[0m\u001b[0;34m.\u001b[0m\u001b[0mcross_entropy_loss\u001b[0m\u001b[0;34m(\u001b[0m\u001b[0minput\u001b[0m\u001b[0;34m,\u001b[0m \u001b[0mtarget\u001b[0m\u001b[0;34m,\u001b[0m \u001b[0mweight\u001b[0m\u001b[0;34m,\u001b[0m \u001b[0m_Reduction\u001b[0m\u001b[0;34m.\u001b[0m\u001b[0mget_enum\u001b[0m\u001b[0;34m(\u001b[0m\u001b[0mreduction\u001b[0m\u001b[0;34m)\u001b[0m\u001b[0;34m,\u001b[0m \u001b[0mignore_index\u001b[0m\u001b[0;34m,\u001b[0m \u001b[0mlabel_smoothing\u001b[0m\u001b[0;34m)\u001b[0m\u001b[0;34m\u001b[0m\u001b[0;34m\u001b[0m\u001b[0m\n\u001b[0m\u001b[1;32m   3060\u001b[0m \u001b[0;34m\u001b[0m\u001b[0m\n\u001b[1;32m   3061\u001b[0m \u001b[0;34m\u001b[0m\u001b[0m\n",
            "\u001b[0;31mRuntimeError\u001b[0m: Expected target size [0, 2], got [0]"
          ]
        }
      ]
    },
    {
      "cell_type": "code",
      "source": [],
      "metadata": {
        "id": "zSRiUHw419NL"
      },
      "execution_count": null,
      "outputs": []
    },
    {
      "cell_type": "code",
      "source": [],
      "metadata": {
        "id": "5zGUYSMS19Ke"
      },
      "execution_count": null,
      "outputs": []
    },
    {
      "cell_type": "code",
      "source": [],
      "metadata": {
        "id": "P1zm7Gkm19HZ"
      },
      "execution_count": null,
      "outputs": []
    },
    {
      "cell_type": "code",
      "source": [
        "# PGD-l2\n",
        "attack_params = {'insertion_array':insertion_array, 'removal_array':removal_array,\"k\":50, \"step_length\":0.5, 'norm':'l2', 'random':False, 'is_report_loss_diff':False, 'is_sample':False}\n",
        "adv_predict(test_loader, model_DNN, pgd, device, **attack_params)\n",
        "adv_predict(test_loader, model_AT_rFGSM, pgd, device, **attack_params)"
      ],
      "metadata": {
        "colab": {
          "base_uri": "https://localhost:8080/"
        },
        "id": "Gg0Zme2JbON4",
        "outputId": "ea7ca5f8-96d2-4303-848d-fc420c51aefc"
      },
      "execution_count": null,
      "outputs": [
        {
          "output_type": "stream",
          "name": "stdout",
          "text": [
            "Accuracy of just malwares (without attack): 96.19% | Under attack: 0.0%.\n",
            "Accuracy of just malwares (without attack): 92.74% | Under attack: 37.17%.\n"
          ]
        }
      ]
    },
    {
      "cell_type": "code",
      "source": [
        "# PGD-linf\n",
        "attack_params = {'insertion_array':insertion_array, 'removal_array':removal_array,\"k\":500, \"step_length\":0.002, 'norm':'linf', 'random':False, 'is_report_loss_diff':False, 'is_sample':False}\n",
        "adv_predict(test_loader, model_DNN, pgd, device, **attack_params)\n",
        "adv_predict(test_loader, model_AT_rFGSM, pgd, device, **attack_params)"
      ],
      "metadata": {
        "colab": {
          "base_uri": "https://localhost:8080/"
        },
        "id": "Zr6aOMdrvbEG",
        "outputId": "626c7924-4fcb-425b-a791-5eb40b0abf50"
      },
      "execution_count": null,
      "outputs": [
        {
          "output_type": "stream",
          "name": "stdout",
          "text": [
            "Accuracy of just malwares (without attack): 96.19% | Under attack: 0.0%.\n",
            "Accuracy of just malwares (without attack): 92.74% | Under attack: 42.04%.\n"
          ]
        }
      ]
    },
    {
      "cell_type": "code",
      "source": [
        "# PGD-l1\n",
        "attack_params = {'insertion_array':insertion_array, 'removal_array':removal_array,\"k\":500, \"step_length\":1., 'norm':'l1', 'random':False, 'is_report_loss_diff':False, 'is_sample':False}\n",
        "adv_predict(test_loader, model_DNN, pgd, device, **attack_params)\n",
        "adv_predict(test_loader, model_AT_rFGSM, pgd, device, **attack_params)"
      ],
      "metadata": {
        "colab": {
          "base_uri": "https://localhost:8080/"
        },
        "id": "-iBlhc3WTFqZ",
        "outputId": "fdf04ba1-85ce-46a0-bf90-6c7e4530d447"
      },
      "execution_count": null,
      "outputs": [
        {
          "output_type": "stream",
          "name": "stdout",
          "text": [
            "Accuracy of just malwares (without attack): 96.19% | Under attack: 0.0%.\n",
            "Accuracy of just malwares (without attack): 92.74% | Under attack: 36.55%.\n"
          ]
        }
      ]
    },
    {
      "cell_type": "code",
      "source": [],
      "metadata": {
        "id": "CcmcqljK6aKt"
      },
      "execution_count": null,
      "outputs": []
    },
    {
      "cell_type": "code",
      "source": [
        "# Mimicry×10\n",
        "attack_params = {\"trials\":10, 'is_report_loss_diff':False}\n",
        "adv_predict(test_loader, model_DNN, mimicry, device, **attack_params)\n",
        "adv_predict(test_loader, model_AT_rFGSM, mimicry, device, **attack_params)\n",
        "adv_predict(test_loader, model_AT_rFGSM_weightedLoss, mimicry, device, **attack_params)"
      ],
      "metadata": {
        "colab": {
          "base_uri": "https://localhost:8080/"
        },
        "outputId": "afb25b89-df6a-4756-cbbf-2b9f08e6ba9f",
        "id": "U01q9TUyXfOf"
      },
      "execution_count": null,
      "outputs": [
        {
          "output_type": "stream",
          "name": "stdout",
          "text": [
            "Accuracy of just malwares (without attack): 96.19% | Under attack: 25.31%.\n",
            "Accuracy of just malwares (without attack): 94.69% | Under attack: 94.16%.\n",
            "Accuracy of just malwares (without attack): 96.64% | Under attack: 95.04%.\n"
          ]
        }
      ]
    },
    {
      "cell_type": "code",
      "source": [
        "# Mimicry×30\n",
        "attack_params = {\"trials\":30, 'is_report_loss_diff':False}\n",
        "adv_predict(test_loader, model_DNN, mimicry, device, **attack_params)\n",
        "adv_predict(test_loader, model_AT_rFGSM, mimicry, device, **attack_params)\n",
        "adv_predict(test_loader, model_AT_rFGSM_weightedLoss, mimicry, device, **attack_params)"
      ],
      "metadata": {
        "colab": {
          "base_uri": "https://localhost:8080/"
        },
        "outputId": "44755132-e62a-4388-f135-fdbd4d1f66b9",
        "id": "hAXdXB9WZ5gw"
      },
      "execution_count": null,
      "outputs": [
        {
          "output_type": "stream",
          "name": "stdout",
          "text": [
            "Accuracy of just malwares (without attack): 96.19% | Under attack: 25.31%.\n",
            "Accuracy of just malwares (without attack): 94.69% | Under attack: 93.63%.\n",
            "Accuracy of just malwares (without attack): 96.64% | Under attack: 94.34%.\n"
          ]
        }
      ]
    },
    {
      "cell_type": "code",
      "source": [
        "# Mimicry×100\n",
        "attack_params = {\"trials\":100, 'is_report_loss_diff':False}\n",
        "adv_predict(test_loader, model_DNN, mimicry, device, **attack_params)\n",
        "adv_predict(test_loader, model_AT_rFGSM, mimicry, device, **attack_params)\n",
        "adv_predict(test_loader, model_AT_rFGSM_weightedLoss, mimicry, device, **attack_params)"
      ],
      "metadata": {
        "colab": {
          "base_uri": "https://localhost:8080/"
        },
        "id": "Pfpi9634JWuk",
        "outputId": "86b3e61d-7841-45c4-9eb5-32c185eca016"
      },
      "execution_count": null,
      "outputs": [
        {
          "output_type": "stream",
          "name": "stdout",
          "text": [
            "Accuracy of just malwares (without attack): 96.19% | Under attack: 24.6%.\n",
            "Accuracy of just malwares (without attack): 94.69% | Under attack: 92.39%.\n",
            "Accuracy of just malwares (without attack): 96.64% | Under attack: 92.3%.\n"
          ]
        }
      ]
    },
    {
      "cell_type": "code",
      "source": [
        "# Mimicry×1000\n",
        "attack_params = {\"trials\":1000, 'is_report_loss_diff':False}\n",
        "adv_predict(test_loader, model_DNN, mimicry, device, **attack_params)\n",
        "adv_predict(test_loader, model_AT_rFGSM, mimicry, device, **attack_params)\n",
        "adv_predict(test_loader, model_AT_rFGSM_weightedLoss, mimicry, device, **attack_params)"
      ],
      "metadata": {
        "colab": {
          "base_uri": "https://localhost:8080/"
        },
        "id": "4LFfGUJSq8Vi",
        "outputId": "13c3f2cf-fa2a-4dc4-e6a5-5f3392b8e934"
      },
      "execution_count": null,
      "outputs": [
        {
          "output_type": "stream",
          "name": "stdout",
          "text": [
            "Accuracy of just malwares (without attack): 96.19% | Under attack: 2.478%.\n",
            "Accuracy of just malwares (without attack): 94.69% | Under attack: 92.04%.\n",
            "Accuracy of just malwares (without attack): 96.64% | Under attack: 87.26%.\n"
          ]
        }
      ]
    },
    {
      "cell_type": "code",
      "source": [
        "# PGD-max(MaxMA)\n",
        "attack_params = {'steps_max':1,'is_sample':False, 'varepsilon':1e-20, 'is_report_loss_diff':False}\n",
        "adv_predict(test_loader, model_DNN, PGD_Max2, device, **attack_params)\n",
        "adv_predict(test_loader, model_AT_rFGSM, PGD_Max2, device, **attack_params)\n",
        "adv_predict(test_loader, model_AT_rFGSM_weightedLoss, PGD_Max2, device, **attack_params)"
      ],
      "metadata": {
        "colab": {
          "base_uri": "https://localhost:8080/"
        },
        "id": "KupSYB5m91Nw",
        "outputId": "6104de7c-3ba8-4004-a613-51f0c7c63d0f"
      },
      "execution_count": null,
      "outputs": [
        {
          "output_type": "stream",
          "name": "stdout",
          "text": [
            "Accuracy of just malwares (without attack): 96.19% | Under attack: 0.0%.\n",
            "Accuracy of just malwares (without attack): 94.69% | Under attack: 89.29%.\n",
            "Accuracy of just malwares (without attack): 96.64% | Under attack: 80.62%.\n"
          ]
        }
      ]
    },
    {
      "cell_type": "code",
      "source": [
        "# PGD-max(iMaxMA)\n",
        "attack_params = {'steps_max':5,'is_sample':False, 'varepsilon':1e-20, 'is_report_loss_diff':False}\n",
        "adv_predict(test_loader, model_DNN, PGD_Max2, device, **attack_params)\n",
        "adv_predict(test_loader, model_AT_rFGSM, PGD_Max2, device, **attack_params)\n",
        "adv_predict(test_loader, model_AT_rFGSM_weightedLoss, PGD_Max2, device, **attack_params)"
      ],
      "metadata": {
        "id": "IDFZ2fByX_sU",
        "colab": {
          "base_uri": "https://localhost:8080/"
        },
        "outputId": "7a4ade24-60f4-445b-8c28-c373a793de70"
      },
      "execution_count": null,
      "outputs": [
        {
          "output_type": "stream",
          "name": "stdout",
          "text": [
            "Accuracy of just malwares (without attack): 96.19% | Under attack: 0.0%.\n",
            "Accuracy of just malwares (without attack): 94.69% | Under attack: 87.96%.\n",
            "Accuracy of just malwares (without attack): 96.64% | Under attack: 74.16%.\n"
          ]
        }
      ]
    },
    {
      "cell_type": "code",
      "source": [
        "attack_params = {'step_lengths':{\"l1\": 1.0, \"l2\": 0.5, \"linf\": 0.0008}, \"steps\":700}\n",
        "adv_predict(test_loader, model_AT_rFGSM, StepwiseMax_onestep2, device, **attack_params)"
      ],
      "metadata": {
        "colab": {
          "base_uri": "https://localhost:8080/"
        },
        "id": "xylm8-33y2uc",
        "outputId": "691e9414-5919-4e77-da52-d60a0c20db2f"
      },
      "execution_count": null,
      "outputs": [
        {
          "output_type": "stream",
          "name": "stdout",
          "text": [
            "step-wise max: attack effectiveness 7.826%.\n",
            "step-wise max: attack effectiveness 8.547%.\n",
            "step-wise max: attack effectiveness 15.200%.\n",
            "step-wise max: attack effectiveness 6.796%.\n",
            "step-wise max: attack effectiveness 11.504%.\n",
            "step-wise max: attack effectiveness 16.216%.\n",
            "step-wise max: attack effectiveness 9.630%.\n",
            "step-wise max: attack effectiveness 9.489%.\n",
            "step-wise max: attack effectiveness 7.200%.\n",
            "step-wise max: attack effectiveness 12.245%.\n",
            "Accuracy of just malwares (without attack): 94.69% | Under attack: 89.65%.\n"
          ]
        }
      ]
    },
    {
      "cell_type": "code",
      "source": [
        "attack_params = {'step_lengths':{\"l1\": 1.0, \"l2\": 0.2, \"linf\": 0.0005}, \"steps\":1000}\n",
        "adv_predict(test_loader, model_AT_rFGSM_weightedLoss, StepwiseMax_onestep2, device, **attack_params)"
      ],
      "metadata": {
        "colab": {
          "base_uri": "https://localhost:8080/"
        },
        "id": "w1UDHDWk5OIK",
        "outputId": "e19ac4cc-83dd-4dc5-c93f-48df8725d428"
      },
      "execution_count": null,
      "outputs": [
        {
          "output_type": "stream",
          "name": "stdout",
          "text": [
            "step-wise max: attack effectiveness 9.565%.\n",
            "step-wise max: attack effectiveness 7.692%.\n",
            "step-wise max: attack effectiveness 16.800%.\n",
            "step-wise max: attack effectiveness 10.680%.\n",
            "step-wise max: attack effectiveness 12.389%.\n",
            "step-wise max: attack effectiveness 20.721%.\n",
            "step-wise max: attack effectiveness 11.852%.\n",
            "step-wise max: attack effectiveness 10.949%.\n",
            "step-wise max: attack effectiveness 8.800%.\n",
            "step-wise max: attack effectiveness 12.245%.\n",
            "Accuracy of just malwares (without attack): 96.64% | Under attack: 87.88%.\n"
          ]
        }
      ]
    },
    {
      "cell_type": "code",
      "source": [
        "# Define different attacks with their parameters\n",
        "attacks = [\n",
        "    (dfgsm_k, {\"k\":100, \"epsilon\":0.02, 'is_report_loss_diff' : False}),\n",
        "    (bga_k, {\"k\":100, 'is_report_loss_diff' : False}),\n",
        "    (bca_k, {\"k\":100, 'is_report_loss_diff' : False}),\n",
        "    (grosse_k, {\"k\":100, 'is_report_loss_diff' : False}),\n",
        "\n",
        "    (pgd, {'k': 100, 'step_length': 1., 'norm': 'l1', 'is_report_loss_diff' : False}),\n",
        "    (pgd, {'k': 200, 'step_length': 0.05, 'norm': 'l2', 'is_report_loss_diff' : False}),\n",
        "    (pgd, {'k': 100, 'step_length': 0.02, 'norm': 'linf', 'is_report_loss_diff' : False}),\n",
        "    (StepwiseMax_onestep2, {'step_lengths':{\"l1\": 1.0, \"l2\": 0.05, \"linf\": 0.0008}, \"steps\":650}),\n",
        "\n",
        "    # Add more attacks as needed\n",
        "]\n",
        "\n",
        "# Iterate over each attack and its parameters\n",
        "for attack_func, attack_params in attacks:\n",
        "    print(f\"Running attack: {attack_func.__name__} with parameters: {attack_params}\")\n",
        "    adv_predict(test_loader, model_AT_rFGSM, attack_func, device, **attack_params)\n",
        "    print()  # Print an empty line for separation\n"
      ],
      "metadata": {
        "colab": {
          "base_uri": "https://localhost:8080/",
          "height": 352
        },
        "id": "-JDuv4WBvq54",
        "outputId": "b8463a56-2af1-4908-a785-5956b7981542"
      },
      "execution_count": 18,
      "outputs": [
        {
          "output_type": "stream",
          "name": "stdout",
          "text": [
            "Running attack: StepwiseMax_onestep2 with parameters: {'step_lengths': {'l1': 1.0, 'l2': 0.05, 'linf': 0.0008}, 'steps': 650}\n"
          ]
        },
        {
          "output_type": "error",
          "ename": "TypeError",
          "evalue": "StepwiseMax_onestep2() missing 2 required positional arguments: 'insertion_array' and 'removal_array'",
          "traceback": [
            "\u001b[0;31m---------------------------------------------------------------------------\u001b[0m",
            "\u001b[0;31mTypeError\u001b[0m                                 Traceback (most recent call last)",
            "\u001b[0;32m<ipython-input-18-9cf164a8122a>\u001b[0m in \u001b[0;36m<cell line: 10>\u001b[0;34m()\u001b[0m\n\u001b[1;32m     10\u001b[0m \u001b[0;32mfor\u001b[0m \u001b[0mattack_func\u001b[0m\u001b[0;34m,\u001b[0m \u001b[0mattack_params\u001b[0m \u001b[0;32min\u001b[0m \u001b[0mattacks\u001b[0m\u001b[0;34m:\u001b[0m\u001b[0;34m\u001b[0m\u001b[0;34m\u001b[0m\u001b[0m\n\u001b[1;32m     11\u001b[0m     \u001b[0mprint\u001b[0m\u001b[0;34m(\u001b[0m\u001b[0;34mf\"Running attack: {attack_func.__name__} with parameters: {attack_params}\"\u001b[0m\u001b[0;34m)\u001b[0m\u001b[0;34m\u001b[0m\u001b[0;34m\u001b[0m\u001b[0m\n\u001b[0;32m---> 12\u001b[0;31m     \u001b[0madv_predict\u001b[0m\u001b[0;34m(\u001b[0m\u001b[0mtest_loader\u001b[0m\u001b[0;34m,\u001b[0m \u001b[0mmodel_AT_rFGSM\u001b[0m\u001b[0;34m,\u001b[0m \u001b[0mattack_func\u001b[0m\u001b[0;34m,\u001b[0m \u001b[0mdevice\u001b[0m\u001b[0;34m,\u001b[0m \u001b[0;34m**\u001b[0m\u001b[0mattack_params\u001b[0m\u001b[0;34m)\u001b[0m\u001b[0;34m\u001b[0m\u001b[0;34m\u001b[0m\u001b[0m\n\u001b[0m\u001b[1;32m     13\u001b[0m     \u001b[0mprint\u001b[0m\u001b[0;34m(\u001b[0m\u001b[0;34m)\u001b[0m  \u001b[0;31m# Print an empty line for separation\u001b[0m\u001b[0;34m\u001b[0m\u001b[0;34m\u001b[0m\u001b[0m\n",
            "\u001b[0;32m/content/adverserial_attacks_functions.py\u001b[0m in \u001b[0;36madv_predict\u001b[0;34m(test_loader, model, attack, device, **kwargs)\u001b[0m\n\u001b[1;32m    206\u001b[0m             \u001b[0;32melse\u001b[0m \u001b[0;34m:\u001b[0m\u001b[0;34m\u001b[0m\u001b[0;34m\u001b[0m\u001b[0m\n\u001b[1;32m    207\u001b[0m                 \u001b[0;32mwith\u001b[0m \u001b[0mtorch\u001b[0m\u001b[0;34m.\u001b[0m\u001b[0menable_grad\u001b[0m\u001b[0;34m(\u001b[0m\u001b[0;34m)\u001b[0m\u001b[0;34m:\u001b[0m\u001b[0;34m\u001b[0m\u001b[0;34m\u001b[0m\u001b[0m\n\u001b[0;32m--> 208\u001b[0;31m                     \u001b[0mpertb_mal_x\u001b[0m \u001b[0;34m=\u001b[0m \u001b[0mattack\u001b[0m\u001b[0;34m(\u001b[0m\u001b[0mmal_x_batch\u001b[0m\u001b[0;34m,\u001b[0m \u001b[0mmal_y_batch\u001b[0m\u001b[0;34m,\u001b[0m \u001b[0mmodel\u001b[0m\u001b[0;34m,\u001b[0m \u001b[0;34m**\u001b[0m\u001b[0mkwargs\u001b[0m\u001b[0;34m)\u001b[0m\u001b[0;34m\u001b[0m\u001b[0;34m\u001b[0m\u001b[0m\n\u001b[0m\u001b[1;32m    209\u001b[0m \u001b[0;34m\u001b[0m\u001b[0m\n\u001b[1;32m    210\u001b[0m             \u001b[0moutputs\u001b[0m \u001b[0;34m=\u001b[0m \u001b[0mmodel\u001b[0m\u001b[0;34m(\u001b[0m\u001b[0mpertb_mal_x\u001b[0m\u001b[0;34m)\u001b[0m\u001b[0;34m\u001b[0m\u001b[0;34m\u001b[0m\u001b[0m\n",
            "\u001b[0;31mTypeError\u001b[0m: StepwiseMax_onestep2() missing 2 required positional arguments: 'insertion_array' and 'removal_array'"
          ]
        }
      ]
    },
    {
      "cell_type": "code",
      "source": [],
      "metadata": {
        "id": "1vpuDgt1W-0R"
      },
      "execution_count": null,
      "outputs": []
    }
  ]
}