{
  "nbformat": 4,
  "nbformat_minor": 0,
  "metadata": {
    "colab": {
      "provenance": [],
      "gpuType": "T4",
      "include_colab_link": true
    },
    "kernelspec": {
      "name": "python3",
      "display_name": "Python 3"
    },
    "language_info": {
      "name": "python"
    },
    "accelerator": "GPU"
  },
  "cells": [
    {
      "cell_type": "markdown",
      "metadata": {
        "id": "view-in-github",
        "colab_type": "text"
      },
      "source": [
        "<a href=\"https://colab.research.google.com/github/mostafa-ja/mal_adv4/blob/main/adverserial_attacks.ipynb\" target=\"_parent\"><img src=\"https://colab.research.google.com/assets/colab-badge.svg\" alt=\"Open In Colab\"/></a>"
      ]
    },
    {
      "cell_type": "code",
      "source": [
        "\n",
        "download_links = ['https://github.com/mostafa-ja/mal_adv3/raw/main/drebin/sparse_matrix_0.npz',\n",
        "                  'https://github.com/mostafa-ja/mal_adv3/raw/main/drebin/sparse_matrix_1.npz',\n",
        "                  'https://github.com/mostafa-ja/mal_adv3/raw/main/drebin/sparse_matrix_2.npz',\n",
        "                  'https://github.com/mostafa-ja/mal_adv3/raw/main/drebin/sparse_matrix_y0.npz',\n",
        "                  'https://github.com/mostafa-ja/mal_adv3/raw/main/drebin/sparse_matrix_y1.npz',\n",
        "                  'https://github.com/mostafa-ja/mal_adv3/raw/main/drebin/sparse_matrix_y2.npz',\n",
        "                  'https://github.com/mostafa-ja/mal_adv3/raw/main/drebin/model_DNN_drebin_best.pth',\n",
        "                  'https://github.com/mostafa-ja/mal_adv3/raw/main/drebin/model_AT_rFGSM_weightedLoss.pth',\n",
        "                  'https://github.com/mostafa-ja/mal_adv3/raw/main/drebin/model_AT_rFGSM.pth',\n",
        "                  'https://github.com/mostafa-ja/mal_adv4/raw/main/dataset/insertion_array.pkl',\n",
        "                  'https://github.com/mostafa-ja/mal_adv4/raw/main/dataset/removal_array.pkl',\n",
        "                  'https://github.com/mostafa-ja/mal_adv4/raw/main/dataset/adverserial_attacks_functions.py'\n",
        "]"
      ],
      "metadata": {
        "id": "1IW4pHac9VLq"
      },
      "execution_count": 1,
      "outputs": []
    },
    {
      "cell_type": "code",
      "source": [
        "import gdown\n",
        "output_filepath = '/content/'\n",
        "for link in download_links:\n",
        "  gdown.download(link, output_filepath)\n"
      ],
      "metadata": {
        "colab": {
          "base_uri": "https://localhost:8080/"
        },
        "id": "6kzSbjaXGVeG",
        "outputId": "473cb9d3-c908-45c7-83c6-1bd6d6d3032a"
      },
      "execution_count": 2,
      "outputs": [
        {
          "output_type": "stream",
          "name": "stderr",
          "text": [
            "Downloading...\n",
            "From: https://github.com/mostafa-ja/mal_adv3/raw/main/drebin/sparse_matrix_0.npz\n",
            "To: /content/sparse_matrix_0.npz\n",
            "100%|██████████| 461k/461k [00:00<00:00, 5.68MB/s]\n",
            "Downloading...\n",
            "From: https://github.com/mostafa-ja/mal_adv3/raw/main/drebin/sparse_matrix_1.npz\n",
            "To: /content/sparse_matrix_1.npz\n",
            "100%|██████████| 148k/148k [00:00<00:00, 3.34MB/s]\n",
            "Downloading...\n",
            "From: https://github.com/mostafa-ja/mal_adv3/raw/main/drebin/sparse_matrix_2.npz\n",
            "To: /content/sparse_matrix_2.npz\n",
            "100%|██████████| 150k/150k [00:00<00:00, 3.64MB/s]\n",
            "Downloading...\n",
            "From: https://github.com/mostafa-ja/mal_adv3/raw/main/drebin/sparse_matrix_y0.npz\n",
            "To: /content/sparse_matrix_y0.npz\n",
            "100%|██████████| 5.79k/5.79k [00:00<00:00, 14.4MB/s]\n",
            "Downloading...\n",
            "From: https://github.com/mostafa-ja/mal_adv3/raw/main/drebin/sparse_matrix_y1.npz\n",
            "To: /content/sparse_matrix_y1.npz\n",
            "100%|██████████| 2.64k/2.64k [00:00<00:00, 9.40MB/s]\n",
            "Downloading...\n",
            "From: https://github.com/mostafa-ja/mal_adv3/raw/main/drebin/sparse_matrix_y2.npz\n",
            "To: /content/sparse_matrix_y2.npz\n",
            "100%|██████████| 2.71k/2.71k [00:00<00:00, 9.08MB/s]\n",
            "Downloading...\n",
            "From: https://github.com/mostafa-ja/mal_adv3/raw/main/drebin/model_DNN_drebin_best.pth\n",
            "To: /content/model_DNN_drebin_best.pth\n",
            "100%|██████████| 8.17M/8.17M [00:00<00:00, 18.5MB/s]\n",
            "Downloading...\n",
            "From: https://github.com/mostafa-ja/mal_adv3/raw/main/drebin/model_AT_rFGSM_weightedLoss.pth\n",
            "To: /content/model_AT_rFGSM_weightedLoss.pth\n",
            "100%|██████████| 8.17M/8.17M [00:00<00:00, 17.3MB/s]\n",
            "Downloading...\n",
            "From: https://github.com/mostafa-ja/mal_adv3/raw/main/drebin/model_AT_rFGSM.pth\n",
            "To: /content/model_AT_rFGSM.pth\n",
            "100%|██████████| 8.17M/8.17M [00:00<00:00, 17.5MB/s]\n",
            "Downloading...\n",
            "From: https://github.com/mostafa-ja/mal_adv4/raw/main/dataset/insertion_array.pkl\n",
            "To: /content/insertion_array.pkl\n",
            "100%|██████████| 80.2k/80.2k [00:00<00:00, 3.93MB/s]\n",
            "Downloading...\n",
            "From: https://github.com/mostafa-ja/mal_adv4/raw/main/dataset/removal_array.pkl\n",
            "To: /content/removal_array.pkl\n",
            "100%|██████████| 80.2k/80.2k [00:00<00:00, 3.96MB/s]\n",
            "Downloading...\n",
            "From: https://github.com/mostafa-ja/mal_adv4/raw/main/dataset/adverserial_attacks_functions.py\n",
            "To: /content/adverserial_attacks_functions.py\n",
            "67.1kB [00:00, 74.8MB/s]                   \n"
          ]
        }
      ]
    },
    {
      "cell_type": "code",
      "source": [
        "import torch\n",
        "import torch.nn as nn\n",
        "import torch.optim as optim\n",
        "from torch.utils.data import TensorDataset, DataLoader\n",
        "from sklearn.metrics import accuracy_score, precision_score, recall_score, f1_score,balanced_accuracy_score\n",
        "import numpy as np\n",
        "from scipy import sparse\n",
        "import matplotlib.pyplot as plt\n",
        "import pickle\n",
        "import random\n",
        "import time\n",
        "\n",
        "# Device configuration\n",
        "device = torch.device(\"cuda\" if torch.cuda.is_available() else \"cpu\")\n",
        "print(device)\n",
        "\n",
        "from adverserial_attacks_functions import *\n",
        "\n",
        "\n",
        "torch.manual_seed(0)\n",
        "\n"
      ],
      "metadata": {
        "id": "JKDdI3K9LrlF",
        "colab": {
          "base_uri": "https://localhost:8080/"
        },
        "outputId": "89c9f458-40a2-4ce3-cec9-ad95f9b1d7c4"
      },
      "execution_count": 3,
      "outputs": [
        {
          "output_type": "stream",
          "name": "stdout",
          "text": [
            "cuda\n",
            "cuda\n"
          ]
        },
        {
          "output_type": "execute_result",
          "data": {
            "text/plain": [
              "<torch._C.Generator at 0x7938fb34c470>"
            ]
          },
          "metadata": {},
          "execution_count": 3
        }
      ]
    },
    {
      "cell_type": "code",
      "source": [
        "# Open the .pkl file\n",
        "with open('/content/insertion_array.pkl', 'rb') as f:\n",
        "    # Load the object\n",
        "    insertion_array = pickle.load(f)\n",
        "\n",
        "# Close the file\n",
        "f.close()\n",
        "\n",
        "insertion_array = torch.tensor(insertion_array).to(device)\n",
        "print(len(insertion_array))\n",
        "\n",
        "# Open the .pkl file\n",
        "with open('/content/removal_array.pkl', 'rb') as f:\n",
        "    # Load the object\n",
        "    removal_array = pickle.load(f)\n",
        "\n",
        "# Close the file\n",
        "f.close()\n",
        "\n",
        "removal_array = torch.tensor(removal_array).to(device)\n",
        "print(len(removal_array))\n"
      ],
      "metadata": {
        "colab": {
          "base_uri": "https://localhost:8080/"
        },
        "id": "UXV0WIjsJG_F",
        "outputId": "5fef6165-4b3e-466f-8919-1ccff3d0e70d"
      },
      "execution_count": 4,
      "outputs": [
        {
          "output_type": "stream",
          "name": "stdout",
          "text": [
            "10000\n",
            "10000\n"
          ]
        }
      ]
    },
    {
      "cell_type": "code",
      "source": [
        "\n",
        "# Load dataset\n",
        "X_train = sparse.load_npz(\"/content/sparse_matrix_0.npz\").toarray()\n",
        "X_val = sparse.load_npz(\"/content/sparse_matrix_1.npz\").toarray()\n",
        "X_test = sparse.load_npz(\"/content/sparse_matrix_2.npz\").toarray()\n",
        "\n",
        "X_train = torch.tensor(X_train, dtype=torch.int8)\n",
        "X_val = torch.tensor(X_val, dtype=torch.int8)\n",
        "X_test = torch.tensor(X_test, dtype=torch.int8)\n",
        "\n",
        "\n",
        "y_train = sparse.load_npz(\"/content/sparse_matrix_y0.npz\").toarray().reshape((-1, 1))\n",
        "y_val = sparse.load_npz(\"/content/sparse_matrix_y1.npz\").toarray().reshape((-1, 1))\n",
        "y_test = sparse.load_npz(\"/content/sparse_matrix_y2.npz\").toarray().reshape((-1, 1))\n",
        "\n",
        "y_train = torch.tensor(y_train, dtype=torch.int8)\n",
        "y_val = torch.tensor(y_val, dtype=torch.int8)\n",
        "y_test = torch.tensor(y_test, dtype=torch.int8)\n",
        "\n",
        "\n",
        "print(\"Shapes:\")\n",
        "print(\"x_train:\", X_train.shape)\n",
        "print(\"x_val:\", X_val.shape)\n",
        "print(\"x_test:\", X_test.shape)\n",
        "print(\"y_train:\", y_train.shape)\n",
        "print(\"y_val:\", y_val.shape)\n",
        "print(\"y_test:\", y_test.shape)"
      ],
      "metadata": {
        "colab": {
          "base_uri": "https://localhost:8080/"
        },
        "id": "5blmEg4h-GKy",
        "outputId": "a18d7cc1-0ac9-432c-a0e8-88780817a445"
      },
      "execution_count": 5,
      "outputs": [
        {
          "output_type": "stream",
          "name": "stdout",
          "text": [
            "Shapes:\n",
            "x_train: torch.Size([28683, 10000])\n",
            "x_val: torch.Size([9562, 10000])\n",
            "x_test: torch.Size([9562, 10000])\n",
            "y_train: torch.Size([28683, 1])\n",
            "y_val: torch.Size([9562, 1])\n",
            "y_test: torch.Size([9562, 1])\n"
          ]
        }
      ]
    },
    {
      "cell_type": "code",
      "source": [
        "# number of benigns and malicious sample in training dataset\n",
        "n_ben = (y_train.squeeze()== 0).sum().item()\n",
        "n_mal = (y_train.squeeze()== 1).sum().item()\n",
        "print('the proportion of malwares : ', n_mal/(n_mal+n_ben))\n",
        "\n",
        "# Combine features and labels into datasets\n",
        "train_dataset = TensorDataset(X_train, y_train)\n",
        "val_dataset = TensorDataset(X_val, y_val)\n",
        "test_dataset = TensorDataset(X_test, y_test)\n",
        "\n",
        "# Define the DataLoader for training, validation, and test sets\n",
        "batch_size = 512\n",
        "train_loader = DataLoader(train_dataset, batch_size=batch_size,shuffle=True)\n",
        "val_loader = DataLoader(val_dataset, batch_size=batch_size, shuffle=False)\n",
        "test_loader = DataLoader(test_dataset, batch_size=batch_size, shuffle=False)\n",
        "\n",
        "# Clear unnecessary variables\n",
        "del train_dataset, val_dataset, test_dataset, y_train, y_val, y_test\n"
      ],
      "metadata": {
        "colab": {
          "base_uri": "https://localhost:8080/"
        },
        "id": "81AZSXOV-HoW",
        "outputId": "de114e0f-4761-4e84-863e-1d478d8f8128"
      },
      "execution_count": 6,
      "outputs": [
        {
          "output_type": "stream",
          "name": "stdout",
          "text": [
            "the proportion of malwares :  0.11386535578565701\n"
          ]
        }
      ]
    },
    {
      "cell_type": "code",
      "source": [
        "model_DNN = MalwareDetectionModel().to(device)\n",
        "# Load model parameters\n",
        "model_DNN.load_state_dict(torch.load('model_DNN_drebin_best.pth', map_location=torch.device(device)))"
      ],
      "metadata": {
        "id": "0MavlKAt6mb8",
        "colab": {
          "base_uri": "https://localhost:8080/"
        },
        "outputId": "15c4104f-8987-4c02-ba84-d83e7631eaec"
      },
      "execution_count": 7,
      "outputs": [
        {
          "output_type": "execute_result",
          "data": {
            "text/plain": [
              "<All keys matched successfully>"
            ]
          },
          "metadata": {},
          "execution_count": 7
        }
      ]
    },
    {
      "cell_type": "code",
      "source": [
        "# Create an instance of your model\n",
        "model_AT_rFGSM = MalwareDetectionModel().to(device)\n",
        "\n",
        "# Load model parameters\n",
        "model_AT_rFGSM.load_state_dict(torch.load('model_AT_rFGSM.pth', map_location=torch.device(device)))"
      ],
      "metadata": {
        "colab": {
          "base_uri": "https://localhost:8080/"
        },
        "id": "rE8WMAUgSCms",
        "outputId": "e3a1bd2a-ec1e-4fb3-b827-11d5af400194"
      },
      "execution_count": 8,
      "outputs": [
        {
          "output_type": "execute_result",
          "data": {
            "text/plain": [
              "<All keys matched successfully>"
            ]
          },
          "metadata": {},
          "execution_count": 8
        }
      ]
    },
    {
      "cell_type": "code",
      "source": [
        "# Create an instance of your model\n",
        "model_AT_rFGSM_weightedLoss = MalwareDetectionModel().to(device)\n",
        "\n",
        "# Load model parameters\n",
        "model_AT_rFGSM_weightedLoss.load_state_dict(torch.load('model_AT_rFGSM_weightedLoss.pth', map_location=torch.device(device)))"
      ],
      "metadata": {
        "colab": {
          "base_uri": "https://localhost:8080/"
        },
        "id": "TGs5E9_2SDbJ",
        "outputId": "7f4727b2-5aca-42af-e616-9676ac871763"
      },
      "execution_count": 9,
      "outputs": [
        {
          "output_type": "execute_result",
          "data": {
            "text/plain": [
              "<All keys matched successfully>"
            ]
          },
          "metadata": {},
          "execution_count": 9
        }
      ]
    },
    {
      "cell_type": "code",
      "source": [
        "model_evaluation(model_DNN, test_loader, device)"
      ],
      "metadata": {
        "id": "xk78RQCW-V9D",
        "colab": {
          "base_uri": "https://localhost:8080/"
        },
        "outputId": "1d25decb-74cf-4083-9e19-c3026e17a856"
      },
      "execution_count": 10,
      "outputs": [
        {
          "output_type": "stream",
          "name": "stdout",
          "text": [
            "Test Accuracy: 0.9912\n",
            "Test balanced Accuracy: 0.9785\n",
            "Precision: 0.9637\n",
            "Recall: 0.9619\n",
            "F1-score: 0.9628\n",
            "True Positives (TP): 1087\n",
            "True Negatives (TN): 8391\n",
            "False Positives (FP): 41\n",
            "False Negatives (FN): 43\n",
            "False Negative Rate (FNR): 3.8053\n",
            "False Positive Rate (FPR): 0.4862\n"
          ]
        }
      ]
    },
    {
      "cell_type": "code",
      "source": [
        "model_evaluation(model_AT_rFGSM,test_loader,device)"
      ],
      "metadata": {
        "id": "rbnXfFVsg5Qd",
        "colab": {
          "base_uri": "https://localhost:8080/"
        },
        "outputId": "849fcc0b-3a70-4bfa-a06a-4257d4f4c497"
      },
      "execution_count": 11,
      "outputs": [
        {
          "output_type": "stream",
          "name": "stdout",
          "text": [
            "Test Accuracy: 0.9893\n",
            "Test balanced Accuracy: 0.9710\n",
            "Precision: 0.9622\n",
            "Recall: 0.9469\n",
            "F1-score: 0.9545\n",
            "True Positives (TP): 1070\n",
            "True Negatives (TN): 8390\n",
            "False Positives (FP): 42\n",
            "False Negatives (FN): 60\n",
            "False Negative Rate (FNR): 5.3097\n",
            "False Positive Rate (FPR): 0.4981\n"
          ]
        }
      ]
    },
    {
      "cell_type": "code",
      "source": [
        "model_evaluation(model_AT_rFGSM_weightedLoss,test_loader,device)"
      ],
      "metadata": {
        "colab": {
          "base_uri": "https://localhost:8080/"
        },
        "id": "909EV2TTSJ8t",
        "outputId": "79ecdd8b-883e-4fd5-98e4-497314bfb856"
      },
      "execution_count": 12,
      "outputs": [
        {
          "output_type": "stream",
          "name": "stdout",
          "text": [
            "Test Accuracy: 0.9872\n",
            "Test balanced Accuracy: 0.9782\n",
            "Precision: 0.9286\n",
            "Recall: 0.9664\n",
            "F1-score: 0.9471\n",
            "True Positives (TP): 1092\n",
            "True Negatives (TN): 8348\n",
            "False Positives (FP): 84\n",
            "False Negatives (FN): 38\n",
            "False Negative Rate (FNR): 3.3628\n",
            "False Positive Rate (FPR): 0.9962\n"
          ]
        }
      ]
    },
    {
      "cell_type": "code",
      "source": [],
      "metadata": {
        "id": "LzbsKP9ySf0P"
      },
      "execution_count": 12,
      "outputs": []
    },
    {
      "cell_type": "code",
      "source": [
        "# Define different attacks with their parameters\n",
        "attacks = [\n",
        "    (dfgsm_k, {\"k\":100, \"epsilon\":0.02, 'random':True, 'is_report_loss_diff' : False}),\n",
        "    (bga_k, {\"k\":100, 'is_report_loss_diff' : False}),\n",
        "    (bca_k, {\"k\":100, 'is_report_loss_diff' : False}),\n",
        "    (grosse_k, {\"k\":100, 'is_report_loss_diff' : False}),\n",
        "    (mimicry, {'removal_array':removal_array, \"trials\":1, 'is_report_loss_diff':False}),\n",
        "    (mimicry, {'removal_array':removal_array, \"trials\":10, 'is_report_loss_diff':False}),\n",
        "    (mimicry, {'removal_array':removal_array, \"trials\":30, 'is_report_loss_diff':False}),\n",
        "    (pgd, {'insertion_array':insertion_array, 'removal_array':removal_array,'k': 50, 'step_length': 1., 'norm': 'l1', 'is_report_loss_diff' : False}),\n",
        "    (pgd, {'insertion_array':insertion_array, 'removal_array':removal_array,'k': 50, 'step_length': 0.5, 'norm': 'l2', 'is_report_loss_diff' : False}),\n",
        "    (pgd, {'insertion_array':insertion_array, 'removal_array':removal_array,'k': 50, 'step_length': 0.02, 'norm': 'linf', 'is_report_loss_diff' : False}),\n",
        "    (gkde,{'bandwidth': 0.6,'penalty_factor': 1000,'insertion_array':insertion_array, 'removal_array':removal_array,'k': 50, 'step_length': 1., 'norm': 'l1', 'is_report_loss_diff' : False}),\n",
        "    (gkde,{'bandwidth': 0.6,'penalty_factor': 1000,'insertion_array':insertion_array, 'removal_array':removal_array,'k': 50, 'step_length': 0.5, 'norm': 'l2', 'is_report_loss_diff' : False}),\n",
        "    (gkde,{'bandwidth': 0.6,'penalty_factor': 1000,'insertion_array':insertion_array, 'removal_array':removal_array,'k': 50, 'step_length': 0.02, 'norm': 'linf', 'is_report_loss_diff' : False}),\n",
        "    (PGD_Max2, {'insertion_array':insertion_array, 'removal_array':removal_array,'steps_max':1,'is_sample':False, 'varepsilon':1e-20}),\n",
        "    (PGD_Max2, {'insertion_array':insertion_array, 'removal_array':removal_array,'steps_max':5,'is_sample':False, 'varepsilon':1e-20}),\n",
        "    (StepwiseMax_onestep2, {'insertion_array':insertion_array, 'removal_array':removal_array,'step_lengths':{\"l1\": 1.0, \"l2\": 0.05, \"linf\": 0.0008}, \"steps\":650}),\n",
        "\n",
        "]\n",
        "\n",
        "# Iterate over each attack and its parameters\n",
        "for attack_func, attack_params in attacks:\n",
        "    print(f\"Running attack: {attack_func.__name__} with parameters: {attack_params}\")\n",
        "    adv_predict(test_loader, model_DNN, attack_func, device, **attack_params)\n",
        "    adv_predict(test_loader, model_AT_rFGSM, attack_func, device, **attack_params)\n",
        "    adv_predict(test_loader, model_AT_rFGSM_weightedLoss, attack_func, device, **attack_params)\n",
        "    print('********************************************')  # Print an empty line for separation"
      ],
      "metadata": {
        "id": "naqT1nRN5DIx",
        "colab": {
          "base_uri": "https://localhost:8080/"
        },
        "outputId": "b1c671cd-fb26-4255-c4f5-1138765705b3"
      },
      "execution_count": null,
      "outputs": [
        {
          "output_type": "stream",
          "name": "stdout",
          "text": [
            "Running attack: dfgsm_k with parameters: {'k': 100, 'epsilon': 0.02, 'random': True, 'is_report_loss_diff': False}\n",
            "Accuracy of just malwares (without attack): 96.19% | Under attack: 0.0%.\n",
            "Accuracy of just malwares (without attack): 94.69% | Under attack: 93.98%.\n",
            "Accuracy of just malwares (without attack): 96.64% | Under attack: 95.84%.\n",
            "********************************************\n",
            "Running attack: bga_k with parameters: {'k': 100, 'is_report_loss_diff': False}\n",
            "Accuracy of just malwares (without attack): 96.19% | Under attack: 0.0%.\n",
            "Accuracy of just malwares (without attack): 94.69% | Under attack: 93.81%.\n",
            "Accuracy of just malwares (without attack): 96.64% | Under attack: 94.16%.\n",
            "********************************************\n",
            "Running attack: bca_k with parameters: {'k': 100, 'is_report_loss_diff': False}\n",
            "Accuracy of just malwares (without attack): 96.19% | Under attack: 0.0%.\n",
            "Accuracy of just malwares (without attack): 94.69% | Under attack: 90.09%.\n",
            "Accuracy of just malwares (without attack): 96.64% | Under attack: 77.43%.\n",
            "********************************************\n",
            "Running attack: grosse_k with parameters: {'k': 100, 'is_report_loss_diff': False}\n",
            "Accuracy of just malwares (without attack): 96.19% | Under attack: 0.0%.\n",
            "Accuracy of just malwares (without attack): 94.69% | Under attack: 90.09%.\n",
            "Accuracy of just malwares (without attack): 96.64% | Under attack: 80.27%.\n",
            "********************************************\n",
            "Running attack: mimicry with parameters: {'removal_array': tensor([0., 0., 0.,  ..., 1., 1., 1.], device='cuda:0', dtype=torch.float64), 'trials': 1, 'is_report_loss_diff': False}\n",
            "Accuracy of just malwares (without attack): 96.19% | Under attack: 17.26%.\n",
            "Accuracy of just malwares (without attack): 94.69% | Under attack: 51.77%.\n",
            "Accuracy of just malwares (without attack): 96.64% | Under attack: 56.73%.\n",
            "********************************************\n",
            "Running attack: mimicry with parameters: {'removal_array': tensor([0., 0., 0.,  ..., 1., 1., 1.], device='cuda:0', dtype=torch.float64), 'trials': 10, 'is_report_loss_diff': False}\n",
            "Accuracy of just malwares (without attack): 96.19% | Under attack: 0.0885%.\n",
            "Accuracy of just malwares (without attack): 94.69% | Under attack: 41.77%.\n",
            "Accuracy of just malwares (without attack): 96.64% | Under attack: 46.64%.\n",
            "********************************************\n",
            "Running attack: mimicry with parameters: {'removal_array': tensor([0., 0., 0.,  ..., 1., 1., 1.], device='cuda:0', dtype=torch.float64), 'trials': 30, 'is_report_loss_diff': False}\n",
            "Accuracy of just malwares (without attack): 96.19% | Under attack: 0.0%.\n",
            "Accuracy of just malwares (without attack): 94.69% | Under attack: 40.97%.\n",
            "Accuracy of just malwares (without attack): 96.64% | Under attack: 46.46%.\n",
            "********************************************\n",
            "Running attack: pgd with parameters: {'insertion_array': tensor([1., 1., 1.,  ..., 1., 1., 1.], device='cuda:0', dtype=torch.float64), 'removal_array': tensor([0., 0., 0.,  ..., 1., 1., 1.], device='cuda:0', dtype=torch.float64), 'k': 50, 'step_length': 1.0, 'norm': 'l1', 'is_report_loss_diff': False}\n",
            "Accuracy of just malwares (without attack): 96.19% | Under attack: 0.0%.\n",
            "Accuracy of just malwares (without attack): 94.69% | Under attack: 42.92%.\n",
            "Accuracy of just malwares (without attack): 96.64% | Under attack: 61.59%.\n",
            "********************************************\n",
            "Running attack: pgd with parameters: {'insertion_array': tensor([1., 1., 1.,  ..., 1., 1., 1.], device='cuda:0', dtype=torch.float64), 'removal_array': tensor([0., 0., 0.,  ..., 1., 1., 1.], device='cuda:0', dtype=torch.float64), 'k': 50, 'step_length': 0.5, 'norm': 'l2', 'is_report_loss_diff': False}\n",
            "Accuracy of just malwares (without attack): 96.19% | Under attack: 0.0%.\n",
            "Accuracy of just malwares (without attack): 94.69% | Under attack: 54.34%.\n",
            "Accuracy of just malwares (without attack): 96.64% | Under attack: 42.21%.\n",
            "********************************************\n",
            "Running attack: pgd with parameters: {'insertion_array': tensor([1., 1., 1.,  ..., 1., 1., 1.], device='cuda:0', dtype=torch.float64), 'removal_array': tensor([0., 0., 0.,  ..., 1., 1., 1.], device='cuda:0', dtype=torch.float64), 'k': 50, 'step_length': 0.02, 'norm': 'linf', 'is_report_loss_diff': False}\n",
            "Accuracy of just malwares (without attack): 96.19% | Under attack: 0.0%.\n",
            "Accuracy of just malwares (without attack): 94.69% | Under attack: 76.55%.\n",
            "Accuracy of just malwares (without attack): 96.64% | Under attack: 90.44%.\n",
            "********************************************\n",
            "Running attack: gkde with parameters: {'bandwidth': 0.6, 'penalty_factor': 1000, 'insertion_array': tensor([1., 1., 1.,  ..., 1., 1., 1.], device='cuda:0', dtype=torch.float64), 'removal_array': tensor([0., 0., 0.,  ..., 1., 1., 1.], device='cuda:0', dtype=torch.float64), 'k': 50, 'step_length': 1.0, 'norm': 'l1', 'is_report_loss_diff': False}\n",
            "Accuracy of just malwares (without attack): 96.19% | Under attack: 0.0%.\n",
            "Accuracy of just malwares (without attack): 94.69% | Under attack: 39.73%.\n",
            "Accuracy of just malwares (without attack): 96.64% | Under attack: 40.35%.\n",
            "********************************************\n",
            "Running attack: gkde with parameters: {'bandwidth': 0.6, 'penalty_factor': 1000, 'insertion_array': tensor([1., 1., 1.,  ..., 1., 1., 1.], device='cuda:0', dtype=torch.float64), 'removal_array': tensor([0., 0., 0.,  ..., 1., 1., 1.], device='cuda:0', dtype=torch.float64), 'k': 50, 'step_length': 0.5, 'norm': 'l2', 'is_report_loss_diff': False}\n",
            "Accuracy of just malwares (without attack): 96.19% | Under attack: 0.0%.\n",
            "Accuracy of just malwares (without attack): 94.69% | Under attack: 42.57%.\n",
            "Accuracy of just malwares (without attack): 96.64% | Under attack: 23.45%.\n",
            "********************************************\n",
            "Running attack: gkde with parameters: {'bandwidth': 0.6, 'penalty_factor': 1000, 'insertion_array': tensor([1., 1., 1.,  ..., 1., 1., 1.], device='cuda:0', dtype=torch.float64), 'removal_array': tensor([0., 0., 0.,  ..., 1., 1., 1.], device='cuda:0', dtype=torch.float64), 'k': 50, 'step_length': 0.02, 'norm': 'linf', 'is_report_loss_diff': False}\n",
            "Accuracy of just malwares (without attack): 96.19% | Under attack: 0.0%.\n",
            "Accuracy of just malwares (without attack): 94.69% | Under attack: 53.45%.\n",
            "Accuracy of just malwares (without attack): 96.64% | Under attack: 58.94%.\n",
            "********************************************\n",
            "Running attack: PGD_Max2 with parameters: {'insertion_array': tensor([1., 1., 1.,  ..., 1., 1., 1.], device='cuda:0', dtype=torch.float64), 'removal_array': tensor([0., 0., 0.,  ..., 1., 1., 1.], device='cuda:0', dtype=torch.float64), 'steps_max': 1, 'is_sample': False, 'varepsilon': 1e-20}\n",
            "Accuracy of just malwares (without attack): 96.19% | Under attack: 0.0%.\n",
            "Accuracy of just malwares (without attack): 94.69% | Under attack: 21.15%.\n",
            "Accuracy of just malwares (without attack): 96.64% | Under attack: 13.01%.\n",
            "********************************************\n",
            "Running attack: PGD_Max2 with parameters: {'insertion_array': tensor([1., 1., 1.,  ..., 1., 1., 1.], device='cuda:0', dtype=torch.float64), 'removal_array': tensor([0., 0., 0.,  ..., 1., 1., 1.], device='cuda:0', dtype=torch.float64), 'steps_max': 5, 'is_sample': False, 'varepsilon': 1e-20}\n",
            "Accuracy of just malwares (without attack): 96.19% | Under attack: 0.0%.\n",
            "Accuracy of just malwares (without attack): 94.69% | Under attack: 10.71%.\n",
            "Accuracy of just malwares (without attack): 96.64% | Under attack: 10.27%.\n",
            "********************************************\n",
            "Running attack: StepwiseMax_onestep2 with parameters: {'insertion_array': tensor([1., 1., 1.,  ..., 1., 1., 1.], device='cuda:0', dtype=torch.float64), 'removal_array': tensor([0., 0., 0.,  ..., 1., 1., 1.], device='cuda:0', dtype=torch.float64), 'step_lengths': {'l1': 1.0, 'l2': 0.05, 'linf': 0.0008}, 'steps': 650}\n",
            "Accuracy of just malwares (without attack): 96.19% | Under attack: 0.0%.\n",
            "Accuracy of just malwares (without attack): 94.69% | Under attack: 47.08%.\n"
          ]
        }
      ]
    },
    {
      "cell_type": "code",
      "source": [],
      "metadata": {
        "id": "N9WjCVDF5DFW"
      },
      "execution_count": 12,
      "outputs": []
    },
    {
      "cell_type": "code",
      "source": [
        "# Mimicry×30\n",
        "attack_params = {'removal_array':removal_array, \"trials\":10, 'is_report_loss_diff':False}\n",
        "adv_predict(test_loader, model_DNN, mimicry, device, **attack_params)\n",
        "adv_predict(test_loader, model_AT_rFGSM, mimicry, device, **attack_params)\n",
        "adv_predict(test_loader, model_AT_rFGSM_weightedLoss, mimicry, device, **attack_params)"
      ],
      "metadata": {
        "colab": {
          "base_uri": "https://localhost:8080/"
        },
        "id": "IWX2qrLqur3z",
        "outputId": "4bc689eb-f736-4b75-ff05-0e14b2780851"
      },
      "execution_count": 15,
      "outputs": [
        {
          "output_type": "stream",
          "name": "stdout",
          "text": [
            "Accuracy of just malwares (without attack): 96.19% | Under attack: 0.0885%.\n",
            "Accuracy of just malwares (without attack): 94.69% | Under attack: 41.77%.\n",
            "Accuracy of just malwares (without attack): 96.64% | Under attack: 46.64%.\n"
          ]
        }
      ]
    },
    {
      "cell_type": "code",
      "source": [
        "# Mimicry×30\n",
        "attack_params = {'removal_array':removal_array, \"trials\":10, 'is_report_loss_diff':False}\n",
        "adv_predict(test_loader, model_DNN, mimicry, device, **attack_params)\n",
        "adv_predict(test_loader, model_AT_rFGSM, mimicry, device, **attack_params)\n",
        "adv_predict(test_loader, model_AT_rFGSM_weightedLoss, mimicry, device, **attack_params)"
      ],
      "metadata": {
        "colab": {
          "base_uri": "https://localhost:8080/"
        },
        "id": "c_Vg0BCBur0K",
        "outputId": "5420b2b6-0b00-489b-fb71-888e450212a7"
      },
      "execution_count": 39,
      "outputs": [
        {
          "output_type": "stream",
          "name": "stdout",
          "text": [
            "Accuracy of just malwares (without attack): 96.19% | Under attack: 2.035%.\n",
            "Accuracy of just malwares (without attack): 94.69% | Under attack: 48.67%.\n",
            "Accuracy of just malwares (without attack): 96.64% | Under attack: 47.43%.\n"
          ]
        }
      ]
    },
    {
      "cell_type": "code",
      "source": [
        "attack_params =  {'insertion_array':insertion_array, 'removal_array':removal_array,'k': 50, 'step_length': 0.5, 'norm': 'l2', 'is_report_loss_diff' : True}\n",
        "adv_predict(test_loader, model_AT_rFGSM_weightedLoss, pgd, device, **attack_params)"
      ],
      "metadata": {
        "colab": {
          "base_uri": "https://localhost:8080/"
        },
        "id": "vaRLPo7DIRiT",
        "outputId": "cec672b4-86e6-41ef-b629-b7617495f238"
      },
      "execution_count": 26,
      "outputs": [
        {
          "output_type": "stream",
          "name": "stdout",
          "text": [
            "PGD l2: Attack effectiveness 51.852%.\n",
            "PGD l2: Attack effectiveness 60.656%.\n",
            "PGD l2: Attack effectiveness 68.000%.\n",
            "PGD l2: Attack effectiveness 61.194%.\n",
            "PGD l2: Attack effectiveness 56.338%.\n",
            "PGD l2: Attack effectiveness 55.556%.\n",
            "PGD l2: Attack effectiveness 61.702%.\n",
            "PGD l2: Attack effectiveness 51.786%.\n",
            "PGD l2: Attack effectiveness 54.545%.\n",
            "PGD l2: Attack effectiveness 55.172%.\n",
            "PGD l2: Attack effectiveness 63.333%.\n",
            "PGD l2: Attack effectiveness 56.863%.\n",
            "PGD l2: Attack effectiveness 52.857%.\n",
            "PGD l2: Attack effectiveness 47.692%.\n",
            "PGD l2: Attack effectiveness 57.812%.\n",
            "PGD l2: Attack effectiveness 53.425%.\n",
            "PGD l2: Attack effectiveness 57.971%.\n",
            "PGD l2: Attack effectiveness 50.000%.\n",
            "PGD l2: Attack effectiveness 46.939%.\n",
            "Accuracy of just malwares (without attack): 96.64% | Under attack: 42.21%.\n"
          ]
        }
      ]
    },
    {
      "cell_type": "code",
      "source": [
        "\n",
        "attack_params = {'bandwidth': 1.,'penalty_factor': 1000,'insertion_array':insertion_array, 'removal_array':removal_array,'k': 50, 'step_length': 0.5, 'norm': 'l2', 'is_report_loss_diff' : True}\n",
        "adv_predict(test_loader, model_AT_rFGSM_weightedLoss, gkde, device, **attack_params)"
      ],
      "metadata": {
        "colab": {
          "base_uri": "https://localhost:8080/"
        },
        "id": "l-p-23CI6NiG",
        "outputId": "0e080383-0a88-4208-80fa-c2b5c1dee7d5"
      },
      "execution_count": 27,
      "outputs": [
        {
          "output_type": "stream",
          "name": "stdout",
          "text": [
            "PGD l2: Attack effectiveness 61.111%.\n",
            "PGD l2: Attack effectiveness 47.541%.\n",
            "PGD l2: Attack effectiveness 44.000%.\n",
            "PGD l2: Attack effectiveness 40.299%.\n",
            "PGD l2: Attack effectiveness 47.887%.\n",
            "PGD l2: Attack effectiveness 46.296%.\n",
            "PGD l2: Attack effectiveness 57.447%.\n",
            "PGD l2: Attack effectiveness 55.357%.\n",
            "PGD l2: Attack effectiveness 47.273%.\n",
            "PGD l2: Attack effectiveness 58.621%.\n",
            "PGD l2: Attack effectiveness 56.667%.\n",
            "PGD l2: Attack effectiveness 49.020%.\n",
            "PGD l2: Attack effectiveness 50.000%.\n",
            "PGD l2: Attack effectiveness 63.077%.\n",
            "PGD l2: Attack effectiveness 43.750%.\n",
            "PGD l2: Attack effectiveness 52.055%.\n",
            "PGD l2: Attack effectiveness 57.971%.\n",
            "PGD l2: Attack effectiveness 57.143%.\n",
            "PGD l2: Attack effectiveness 53.061%.\n",
            "Accuracy of just malwares (without attack): 96.64% | Under attack: 47.35%.\n"
          ]
        }
      ]
    },
    {
      "cell_type": "code",
      "source": [
        "attack_params = {'bandwidth': 0.6,'penalty_factor': 1000,'insertion_array':insertion_array, 'removal_array':removal_array,'k': 50, 'step_length': 0.5, 'norm': 'l2', 'is_report_loss_diff' : True}\n",
        "adv_predict(test_loader, model_AT_rFGSM_weightedLoss, gkde, device, **attack_params)"
      ],
      "metadata": {
        "colab": {
          "base_uri": "https://localhost:8080/"
        },
        "id": "xVXDmdbuYdx4",
        "outputId": "f0f7b903-925f-498e-df9a-88f28a2addfb"
      },
      "execution_count": 67,
      "outputs": [
        {
          "output_type": "stream",
          "name": "stdout",
          "text": [
            "PGD l2: Attack effectiveness 70.370%.\n",
            "PGD l2: Attack effectiveness 73.770%.\n",
            "PGD l2: Attack effectiveness 68.000%.\n",
            "PGD l2: Attack effectiveness 74.627%.\n",
            "PGD l2: Attack effectiveness 53.521%.\n",
            "PGD l2: Attack effectiveness 57.407%.\n",
            "PGD l2: Attack effectiveness 80.851%.\n",
            "PGD l2: Attack effectiveness 55.357%.\n",
            "PGD l2: Attack effectiveness 67.273%.\n",
            "PGD l2: Attack effectiveness 72.414%.\n",
            "PGD l2: Attack effectiveness 75.000%.\n",
            "PGD l2: Attack effectiveness 64.706%.\n",
            "PGD l2: Attack effectiveness 61.429%.\n",
            "PGD l2: Attack effectiveness 73.846%.\n",
            "PGD l2: Attack effectiveness 60.938%.\n",
            "PGD l2: Attack effectiveness 73.973%.\n",
            "PGD l2: Attack effectiveness 65.217%.\n",
            "PGD l2: Attack effectiveness 62.500%.\n",
            "PGD l2: Attack effectiveness 57.143%.\n",
            "Accuracy of just malwares (without attack): 96.64% | Under attack: 31.42%.\n"
          ]
        }
      ]
    },
    {
      "cell_type": "code",
      "source": [
        "attack_params = {'bandwidth': 0.6,'penalty_factor': 1000,'insertion_array':insertion_array, 'removal_array':removal_array,'k': 50, 'step_length': 0.5, 'norm': 'l2', 'is_report_loss_diff' : True}\n",
        "adv_predict(test_loader, model_AT_rFGSM_weightedLoss, gkde, device, **attack_params)"
      ],
      "metadata": {
        "colab": {
          "base_uri": "https://localhost:8080/"
        },
        "id": "3EmnibWc0OBX",
        "outputId": "b11193bb-527e-4086-ca4b-e3db817229ff"
      },
      "execution_count": 26,
      "outputs": [
        {
          "output_type": "stream",
          "name": "stdout",
          "text": [
            "PGD l2: Attack effectiveness 75.926%.\n",
            "PGD l2: Attack effectiveness 81.967%.\n",
            "PGD l2: Attack effectiveness 74.000%.\n",
            "PGD l2: Attack effectiveness 80.597%.\n",
            "PGD l2: Attack effectiveness 76.056%.\n",
            "PGD l2: Attack effectiveness 75.926%.\n",
            "PGD l2: Attack effectiveness 68.085%.\n",
            "PGD l2: Attack effectiveness 76.786%.\n",
            "PGD l2: Attack effectiveness 63.636%.\n",
            "PGD l2: Attack effectiveness 74.138%.\n",
            "PGD l2: Attack effectiveness 73.333%.\n",
            "PGD l2: Attack effectiveness 72.549%.\n",
            "PGD l2: Attack effectiveness 65.714%.\n",
            "PGD l2: Attack effectiveness 72.308%.\n",
            "PGD l2: Attack effectiveness 70.312%.\n",
            "PGD l2: Attack effectiveness 76.712%.\n",
            "PGD l2: Attack effectiveness 76.812%.\n",
            "PGD l2: Attack effectiveness 87.500%.\n",
            "PGD l2: Attack effectiveness 75.510%.\n",
            "Accuracy of just malwares (without attack): 96.64% | Under attack: 23.45%.\n"
          ]
        }
      ]
    },
    {
      "cell_type": "code",
      "source": [
        "attack_params = {'bandwidth': 0.6,'penalty_factor': 1000,'insertion_array':insertion_array, 'removal_array':removal_array,'k': 50, 'step_length': 0.5, 'norm': 'l2', 'is_report_loss_diff' : True}\n",
        "adv_predict(test_loader, model_AT_rFGSM_weightedLoss, gkde, device, **attack_params)"
      ],
      "metadata": {
        "colab": {
          "base_uri": "https://localhost:8080/"
        },
        "id": "zQNZr-2oZyPV",
        "outputId": "a55c6e0b-57b8-4fa7-f479-66a6f445a945"
      },
      "execution_count": 30,
      "outputs": [
        {
          "output_type": "stream",
          "name": "stdout",
          "text": [
            "PGD l2: Attack effectiveness 70.370%.\n",
            "PGD l2: Attack effectiveness 72.131%.\n",
            "PGD l2: Attack effectiveness 68.000%.\n",
            "PGD l2: Attack effectiveness 74.627%.\n",
            "PGD l2: Attack effectiveness 53.521%.\n",
            "PGD l2: Attack effectiveness 57.407%.\n",
            "PGD l2: Attack effectiveness 80.851%.\n",
            "PGD l2: Attack effectiveness 55.357%.\n",
            "PGD l2: Attack effectiveness 67.273%.\n",
            "PGD l2: Attack effectiveness 72.414%.\n",
            "PGD l2: Attack effectiveness 75.000%.\n",
            "PGD l2: Attack effectiveness 64.706%.\n",
            "PGD l2: Attack effectiveness 61.429%.\n",
            "PGD l2: Attack effectiveness 72.308%.\n",
            "PGD l2: Attack effectiveness 57.812%.\n",
            "PGD l2: Attack effectiveness 73.973%.\n",
            "PGD l2: Attack effectiveness 65.217%.\n",
            "PGD l2: Attack effectiveness 62.500%.\n",
            "PGD l2: Attack effectiveness 57.143%.\n",
            "Accuracy of just malwares (without attack): 96.64% | Under attack: 31.77%.\n"
          ]
        }
      ]
    },
    {
      "cell_type": "code",
      "source": [
        "attack_params = {'bandwidth': 0.6,'penalty_factor': 1000,'insertion_array':insertion_array, 'removal_array':removal_array,'k': 50, 'step_length': 0.5, 'norm': 'l2', 'is_report_loss_diff' : True}\n",
        "adv_predict(test_loader, model_AT_rFGSM_weightedLoss, gkde, device, **attack_params)"
      ],
      "metadata": {
        "colab": {
          "base_uri": "https://localhost:8080/"
        },
        "id": "i1mBlv9Dj6nw",
        "outputId": "507052cf-9e1e-44bd-8024-5e8264eec8b6"
      },
      "execution_count": 45,
      "outputs": [
        {
          "output_type": "stream",
          "name": "stdout",
          "text": [
            "PGD l2: Attack effectiveness 66.667%.\n",
            "PGD l2: Attack effectiveness 70.492%.\n",
            "PGD l2: Attack effectiveness 68.000%.\n",
            "PGD l2: Attack effectiveness 64.179%.\n",
            "PGD l2: Attack effectiveness 67.606%.\n",
            "PGD l2: Attack effectiveness 61.111%.\n",
            "PGD l2: Attack effectiveness 68.085%.\n",
            "PGD l2: Attack effectiveness 57.143%.\n",
            "PGD l2: Attack effectiveness 70.909%.\n",
            "PGD l2: Attack effectiveness 58.621%.\n",
            "PGD l2: Attack effectiveness 70.000%.\n",
            "PGD l2: Attack effectiveness 50.980%.\n",
            "PGD l2: Attack effectiveness 55.714%.\n",
            "PGD l2: Attack effectiveness 69.231%.\n",
            "PGD l2: Attack effectiveness 48.438%.\n",
            "PGD l2: Attack effectiveness 64.384%.\n",
            "PGD l2: Attack effectiveness 59.420%.\n",
            "PGD l2: Attack effectiveness 64.286%.\n",
            "PGD l2: Attack effectiveness 61.224%.\n",
            "Accuracy of just malwares (without attack): 96.64% | Under attack: 35.4%.\n"
          ]
        }
      ]
    },
    {
      "cell_type": "code",
      "source": [
        "attack_params = {'bandwidth': 0.65,'penalty_factor': 1000,'insertion_array':insertion_array, 'removal_array':removal_array,'k': 50, 'step_length': 0.5, 'norm': 'l2', 'is_report_loss_diff' : True}\n",
        "adv_predict(test_loader, model_AT_rFGSM_weightedLoss, gkde, device, **attack_params)"
      ],
      "metadata": {
        "colab": {
          "base_uri": "https://localhost:8080/"
        },
        "id": "hpabQDONbhoB",
        "outputId": "1c214768-113b-4ed3-9f78-31d748548b4e"
      },
      "execution_count": 32,
      "outputs": [
        {
          "output_type": "stream",
          "name": "stdout",
          "text": [
            "PGD l2: Attack effectiveness 70.370%.\n",
            "PGD l2: Attack effectiveness 67.213%.\n",
            "PGD l2: Attack effectiveness 70.000%.\n",
            "PGD l2: Attack effectiveness 71.642%.\n",
            "PGD l2: Attack effectiveness 63.380%.\n",
            "PGD l2: Attack effectiveness 68.519%.\n",
            "PGD l2: Attack effectiveness 68.085%.\n",
            "PGD l2: Attack effectiveness 66.071%.\n",
            "PGD l2: Attack effectiveness 74.545%.\n",
            "PGD l2: Attack effectiveness 65.517%.\n",
            "PGD l2: Attack effectiveness 81.667%.\n",
            "PGD l2: Attack effectiveness 66.667%.\n",
            "PGD l2: Attack effectiveness 70.000%.\n",
            "PGD l2: Attack effectiveness 70.769%.\n",
            "PGD l2: Attack effectiveness 57.812%.\n",
            "PGD l2: Attack effectiveness 73.973%.\n",
            "PGD l2: Attack effectiveness 66.667%.\n",
            "PGD l2: Attack effectiveness 64.286%.\n",
            "PGD l2: Attack effectiveness 55.102%.\n",
            "Accuracy of just malwares (without attack): 96.64% | Under attack: 32.48%.\n"
          ]
        }
      ]
    },
    {
      "cell_type": "code",
      "source": [
        "attack_params = {'bandwidth': 0.55,'penalty_factor': 1000,'insertion_array':insertion_array, 'removal_array':removal_array,'k': 50, 'step_length': 0.5, 'norm': 'l2', 'is_report_loss_diff' : True}\n",
        "adv_predict(test_loader, model_AT_rFGSM_weightedLoss, gkde, device, **attack_params)"
      ],
      "metadata": {
        "colab": {
          "base_uri": "https://localhost:8080/"
        },
        "id": "lH4_bjeWcEBc",
        "outputId": "69c73d68-66fb-49aa-9407-90102f9d7477"
      },
      "execution_count": 33,
      "outputs": [
        {
          "output_type": "stream",
          "name": "stdout",
          "text": [
            "PGD l2: Attack effectiveness 66.667%.\n",
            "PGD l2: Attack effectiveness 63.934%.\n",
            "PGD l2: Attack effectiveness 68.000%.\n",
            "PGD l2: Attack effectiveness 71.642%.\n",
            "PGD l2: Attack effectiveness 63.380%.\n",
            "PGD l2: Attack effectiveness 55.556%.\n",
            "PGD l2: Attack effectiveness 74.468%.\n",
            "PGD l2: Attack effectiveness 62.500%.\n",
            "PGD l2: Attack effectiveness 65.455%.\n",
            "PGD l2: Attack effectiveness 67.241%.\n",
            "PGD l2: Attack effectiveness 73.333%.\n",
            "PGD l2: Attack effectiveness 60.784%.\n",
            "PGD l2: Attack effectiveness 64.286%.\n",
            "PGD l2: Attack effectiveness 63.077%.\n",
            "PGD l2: Attack effectiveness 57.812%.\n",
            "PGD l2: Attack effectiveness 67.123%.\n",
            "PGD l2: Attack effectiveness 57.971%.\n",
            "PGD l2: Attack effectiveness 66.071%.\n",
            "PGD l2: Attack effectiveness 57.143%.\n",
            "Accuracy of just malwares (without attack): 96.64% | Under attack: 33.63%.\n"
          ]
        }
      ]
    },
    {
      "cell_type": "code",
      "source": [
        "attack_params = {'bandwidth': 0.6,'penalty_factor': 500,'insertion_array':insertion_array, 'removal_array':removal_array,'k': 50, 'step_length': 0.5, 'norm': 'l2', 'is_report_loss_diff' : True}\n",
        "adv_predict(test_loader, model_AT_rFGSM_weightedLoss, gkde, device, **attack_params)"
      ],
      "metadata": {
        "colab": {
          "base_uri": "https://localhost:8080/"
        },
        "id": "Ob9VftTWcRNY",
        "outputId": "d74bc8c7-4dc9-463f-d3c9-6763411759ed"
      },
      "execution_count": 34,
      "outputs": [
        {
          "output_type": "stream",
          "name": "stdout",
          "text": [
            "PGD l2: Attack effectiveness 70.370%.\n",
            "PGD l2: Attack effectiveness 73.770%.\n",
            "PGD l2: Attack effectiveness 62.000%.\n",
            "PGD l2: Attack effectiveness 70.149%.\n",
            "PGD l2: Attack effectiveness 59.155%.\n",
            "PGD l2: Attack effectiveness 59.259%.\n",
            "PGD l2: Attack effectiveness 78.723%.\n",
            "PGD l2: Attack effectiveness 58.929%.\n",
            "PGD l2: Attack effectiveness 65.455%.\n",
            "PGD l2: Attack effectiveness 72.414%.\n",
            "PGD l2: Attack effectiveness 75.000%.\n",
            "PGD l2: Attack effectiveness 60.784%.\n",
            "PGD l2: Attack effectiveness 65.714%.\n",
            "PGD l2: Attack effectiveness 70.769%.\n",
            "PGD l2: Attack effectiveness 60.938%.\n",
            "PGD l2: Attack effectiveness 69.863%.\n",
            "PGD l2: Attack effectiveness 65.217%.\n",
            "PGD l2: Attack effectiveness 64.286%.\n",
            "PGD l2: Attack effectiveness 59.184%.\n",
            "Accuracy of just malwares (without attack): 96.64% | Under attack: 32.04%.\n"
          ]
        }
      ]
    },
    {
      "cell_type": "code",
      "source": [
        "attack_params = {'bandwidth': 0.6,'penalty_factor': 1500,'insertion_array':insertion_array, 'removal_array':removal_array,'k': 50, 'step_length': 0.5, 'norm': 'l2', 'is_report_loss_diff' : True}\n",
        "adv_predict(test_loader, model_AT_rFGSM_weightedLoss, gkde, device, **attack_params)"
      ],
      "metadata": {
        "colab": {
          "base_uri": "https://localhost:8080/"
        },
        "id": "gyzI41PfcsNu",
        "outputId": "6433ead0-f4af-4653-ebde-bc10fbac98dd"
      },
      "execution_count": 35,
      "outputs": [
        {
          "output_type": "stream",
          "name": "stdout",
          "text": [
            "PGD l2: Attack effectiveness 66.667%.\n",
            "PGD l2: Attack effectiveness 72.131%.\n",
            "PGD l2: Attack effectiveness 64.000%.\n",
            "PGD l2: Attack effectiveness 68.657%.\n",
            "PGD l2: Attack effectiveness 54.930%.\n",
            "PGD l2: Attack effectiveness 61.111%.\n",
            "PGD l2: Attack effectiveness 74.468%.\n",
            "PGD l2: Attack effectiveness 58.929%.\n",
            "PGD l2: Attack effectiveness 65.455%.\n",
            "PGD l2: Attack effectiveness 72.414%.\n",
            "PGD l2: Attack effectiveness 80.000%.\n",
            "PGD l2: Attack effectiveness 60.784%.\n",
            "PGD l2: Attack effectiveness 65.714%.\n",
            "PGD l2: Attack effectiveness 70.769%.\n",
            "PGD l2: Attack effectiveness 64.062%.\n",
            "PGD l2: Attack effectiveness 75.342%.\n",
            "PGD l2: Attack effectiveness 63.768%.\n",
            "PGD l2: Attack effectiveness 66.071%.\n",
            "PGD l2: Attack effectiveness 53.061%.\n",
            "Accuracy of just malwares (without attack): 96.64% | Under attack: 34.34%.\n"
          ]
        }
      ]
    },
    {
      "cell_type": "code",
      "source": [
        "attack_params = {'bandwidth': 0.6,'penalty_factor': 1000,'insertion_array':insertion_array, 'removal_array':removal_array,'k': 50, 'step_length': 0.5, 'norm': 'l2', 'is_report_loss_diff' : True}\n",
        "adv_predict(test_loader, model_AT_rFGSM, gkde, device, **attack_params)"
      ],
      "metadata": {
        "colab": {
          "base_uri": "https://localhost:8080/"
        },
        "id": "_ha3rawodFpm",
        "outputId": "cf62002d-c711-460f-e2ee-5a0c6a5d366e"
      },
      "execution_count": 36,
      "outputs": [
        {
          "output_type": "stream",
          "name": "stdout",
          "text": [
            "PGD l2: Attack effectiveness 70.370%.\n",
            "PGD l2: Attack effectiveness 63.934%.\n",
            "PGD l2: Attack effectiveness 56.000%.\n",
            "PGD l2: Attack effectiveness 65.672%.\n",
            "PGD l2: Attack effectiveness 67.606%.\n",
            "PGD l2: Attack effectiveness 61.111%.\n",
            "PGD l2: Attack effectiveness 74.468%.\n",
            "PGD l2: Attack effectiveness 53.571%.\n",
            "PGD l2: Attack effectiveness 65.455%.\n",
            "PGD l2: Attack effectiveness 65.517%.\n",
            "PGD l2: Attack effectiveness 81.667%.\n",
            "PGD l2: Attack effectiveness 66.667%.\n",
            "PGD l2: Attack effectiveness 71.429%.\n",
            "PGD l2: Attack effectiveness 72.308%.\n",
            "PGD l2: Attack effectiveness 54.688%.\n",
            "PGD l2: Attack effectiveness 72.603%.\n",
            "PGD l2: Attack effectiveness 56.522%.\n",
            "PGD l2: Attack effectiveness 64.286%.\n",
            "PGD l2: Attack effectiveness 67.347%.\n",
            "Accuracy of just malwares (without attack): 94.69% | Under attack: 33.98%.\n"
          ]
        }
      ]
    },
    {
      "cell_type": "code",
      "source": [
        "attack_params = {'bandwidth': 0.6,'penalty_factor': 1000,'insertion_array':insertion_array, 'removal_array':removal_array,'k': 50, 'step_length': 1., 'norm': 'l1', 'is_report_loss_diff' : True}\n",
        "adv_predict(test_loader, model_AT_rFGSM_weightedLoss, gkde, device, **attack_params)"
      ],
      "metadata": {
        "colab": {
          "base_uri": "https://localhost:8080/"
        },
        "id": "tgVZZvl7dzbO",
        "outputId": "3849f06e-bd5d-4f74-94a9-9b1b204b5b51"
      },
      "execution_count": 37,
      "outputs": [
        {
          "output_type": "stream",
          "name": "stdout",
          "text": [
            "PGD l1: Attack effectiveness 59.259%.\n",
            "PGD l1: Attack effectiveness 62.295%.\n",
            "PGD l1: Attack effectiveness 62.000%.\n",
            "PGD l1: Attack effectiveness 55.224%.\n",
            "PGD l1: Attack effectiveness 57.746%.\n",
            "PGD l1: Attack effectiveness 55.556%.\n",
            "PGD l1: Attack effectiveness 57.447%.\n",
            "PGD l1: Attack effectiveness 58.929%.\n",
            "PGD l1: Attack effectiveness 60.000%.\n",
            "PGD l1: Attack effectiveness 56.897%.\n",
            "PGD l1: Attack effectiveness 68.333%.\n",
            "PGD l1: Attack effectiveness 45.098%.\n",
            "PGD l1: Attack effectiveness 58.571%.\n",
            "PGD l1: Attack effectiveness 73.846%.\n",
            "PGD l1: Attack effectiveness 50.000%.\n",
            "PGD l1: Attack effectiveness 63.014%.\n",
            "PGD l1: Attack effectiveness 59.420%.\n",
            "PGD l1: Attack effectiveness 60.714%.\n",
            "PGD l1: Attack effectiveness 65.306%.\n",
            "Accuracy of just malwares (without attack): 96.64% | Under attack: 40.44%.\n"
          ]
        }
      ]
    },
    {
      "cell_type": "code",
      "source": [
        "attack_params = {'bandwidth': 0.6,'penalty_factor': 1000,'insertion_array':insertion_array, 'removal_array':removal_array,'k': 50, 'step_length': 0.02, 'norm': 'linf', 'is_report_loss_diff' : True}\n",
        "adv_predict(test_loader, model_AT_rFGSM_weightedLoss, gkde, device, **attack_params)"
      ],
      "metadata": {
        "colab": {
          "base_uri": "https://localhost:8080/"
        },
        "id": "-pjh5wHqeiV9",
        "outputId": "04347618-0763-4cca-bd2f-8ba9d305c182"
      },
      "execution_count": 38,
      "outputs": [
        {
          "output_type": "stream",
          "name": "stdout",
          "text": [
            "PGD linf: Attack effectiveness 40.741%.\n",
            "PGD linf: Attack effectiveness 44.262%.\n",
            "PGD linf: Attack effectiveness 32.000%.\n",
            "PGD linf: Attack effectiveness 29.851%.\n",
            "PGD linf: Attack effectiveness 35.211%.\n",
            "PGD linf: Attack effectiveness 29.630%.\n",
            "PGD linf: Attack effectiveness 42.553%.\n",
            "PGD linf: Attack effectiveness 35.714%.\n",
            "PGD linf: Attack effectiveness 41.818%.\n",
            "PGD linf: Attack effectiveness 39.655%.\n",
            "PGD linf: Attack effectiveness 43.333%.\n",
            "PGD linf: Attack effectiveness 31.373%.\n",
            "PGD linf: Attack effectiveness 38.571%.\n",
            "PGD linf: Attack effectiveness 56.923%.\n",
            "PGD linf: Attack effectiveness 28.125%.\n",
            "PGD linf: Attack effectiveness 43.836%.\n",
            "PGD linf: Attack effectiveness 34.783%.\n",
            "PGD linf: Attack effectiveness 41.071%.\n",
            "PGD linf: Attack effectiveness 42.857%.\n",
            "Accuracy of just malwares (without attack): 96.64% | Under attack: 60.35%.\n"
          ]
        }
      ]
    },
    {
      "cell_type": "code",
      "source": [
        "attack_params =  {'insertion_array':insertion_array, 'removal_array':removal_array,'k': 50, 'step_length': 0.02, 'norm': 'linf', 'is_report_loss_diff' : True}\n",
        "adv_predict(test_loader, model_AT_rFGSM_weightedLoss, pgd, device, **attack_params)"
      ],
      "metadata": {
        "colab": {
          "base_uri": "https://localhost:8080/"
        },
        "id": "kPcNosmWfCO6",
        "outputId": "1627e08a-842a-432a-fce7-64fb54747d65"
      },
      "execution_count": 39,
      "outputs": [
        {
          "output_type": "stream",
          "name": "stdout",
          "text": [
            "PGD linf: Attack effectiveness 5.556%.\n",
            "PGD linf: Attack effectiveness 8.197%.\n",
            "PGD linf: Attack effectiveness 8.000%.\n",
            "PGD linf: Attack effectiveness 5.970%.\n",
            "PGD linf: Attack effectiveness 11.268%.\n",
            "PGD linf: Attack effectiveness 9.259%.\n",
            "PGD linf: Attack effectiveness 14.894%.\n",
            "PGD linf: Attack effectiveness 7.143%.\n",
            "PGD linf: Attack effectiveness 5.455%.\n",
            "PGD linf: Attack effectiveness 8.621%.\n",
            "PGD linf: Attack effectiveness 16.667%.\n",
            "PGD linf: Attack effectiveness 13.725%.\n",
            "PGD linf: Attack effectiveness 10.000%.\n",
            "PGD linf: Attack effectiveness 4.615%.\n",
            "PGD linf: Attack effectiveness 4.688%.\n",
            "PGD linf: Attack effectiveness 10.959%.\n",
            "PGD linf: Attack effectiveness 2.899%.\n",
            "PGD linf: Attack effectiveness 3.571%.\n",
            "PGD linf: Attack effectiveness 8.163%.\n",
            "Accuracy of just malwares (without attack): 96.64% | Under attack: 90.44%.\n"
          ]
        }
      ]
    },
    {
      "cell_type": "code",
      "source": [
        "\n",
        "# Define different attacks with their parameters\n",
        "attacks = [\n",
        "    (dfgsm_k, {\"k\":100, \"epsilon\":0.02, 'random':True, 'is_report_loss_diff' : False}),\n",
        "    (bga_k, {\"k\":100, 'is_report_loss_diff' : False}),\n",
        "    (bca_k, {\"k\":100, 'is_report_loss_diff' : False}),\n",
        "    (grosse_k, {\"k\":100, 'is_report_loss_diff' : False}),\n",
        "    (mimicry, {'removal_array':removal_array, \"trials\":30, 'is_report_loss_diff':False}),\n",
        "    (pgd, {'insertion_array':insertion_array, 'removal_array':removal_array,'k': 50, 'step_length': 1., 'norm': 'l1', 'is_report_loss_diff' : False}),\n",
        "    (pgd, {'insertion_array':insertion_array, 'removal_array':removal_array,'k': 50, 'step_length': 0.5, 'norm': 'l2', 'is_report_loss_diff' : False}),\n",
        "    (pgd, {'insertion_array':insertion_array, 'removal_array':removal_array,'k': 50, 'step_length': 0.02, 'norm': 'linf', 'is_report_loss_diff' : False}),\n",
        "    (PGD_Max2, {'insertion_array':insertion_array, 'removal_array':removal_array,'steps_max':1,'is_sample':False, 'varepsilon':1e-20}),\n",
        "    (PGD_Max2, {'insertion_array':insertion_array, 'removal_array':removal_array,'steps_max':5,'is_sample':False, 'varepsilon':1e-20}),\n",
        "    (StepwiseMax_onestep2, {'insertion_array':insertion_array, 'removal_array':removal_array,'step_lengths':{\"l1\": 1.0, \"l2\": 0.05, \"linf\": 0.0008}, \"steps\":650}),\n",
        "\n",
        "]\n",
        "\n",
        "# Iterate over each attack and its parameters\n",
        "for attack_func, attack_params in attacks:\n",
        "    print(f\"Running attack: {attack_func.__name__} with parameters: {attack_params}\")\n",
        "    adv_predict(test_loader, model_DNN, attack_func, device, **attack_params)\n",
        "    adv_predict(test_loader, model_AT_rFGSM, attack_func, device, **attack_params)\n",
        "    adv_predict(test_loader, model_AT_rFGSM_weightedLoss, attack_func, device, **attack_params)\n",
        "    print('********************************************')  # Print an empty line for separation"
      ],
      "metadata": {
        "colab": {
          "base_uri": "https://localhost:8080/",
          "height": 498
        },
        "id": "E7tFJNIUShAd",
        "outputId": "11b21775-630f-40f7-f311-ad133b0b2081"
      },
      "execution_count": null,
      "outputs": [
        {
          "output_type": "stream",
          "name": "stdout",
          "text": [
            "Running attack: dfgsm_k with parameters: {'k': 100, 'epsilon': 0.02, 'random': True, 'is_report_loss_diff': False}\n",
            "Accuracy of just malwares (without attack): 96.19% | Under attack: 0.0%.\n",
            "Accuracy of just malwares (without attack): 94.69% | Under attack: 93.63%.\n",
            "Accuracy of just malwares (without attack): 96.64% | Under attack: 95.84%.\n",
            "********************************************\n",
            "Running attack: bga_k with parameters: {'k': 100, 'is_report_loss_diff': False}\n"
          ]
        },
        {
          "output_type": "error",
          "ename": "KeyboardInterrupt",
          "evalue": "",
          "traceback": [
            "\u001b[0;31m---------------------------------------------------------------------------\u001b[0m",
            "\u001b[0;31mKeyboardInterrupt\u001b[0m                         Traceback (most recent call last)",
            "\u001b[0;32m<ipython-input-13-48dcc8f257f5>\u001b[0m in \u001b[0;36m<cell line: 18>\u001b[0;34m()\u001b[0m\n\u001b[1;32m     18\u001b[0m \u001b[0;32mfor\u001b[0m \u001b[0mattack_func\u001b[0m\u001b[0;34m,\u001b[0m \u001b[0mattack_params\u001b[0m \u001b[0;32min\u001b[0m \u001b[0mattacks\u001b[0m\u001b[0;34m:\u001b[0m\u001b[0;34m\u001b[0m\u001b[0;34m\u001b[0m\u001b[0m\n\u001b[1;32m     19\u001b[0m     \u001b[0mprint\u001b[0m\u001b[0;34m(\u001b[0m\u001b[0;34mf\"Running attack: {attack_func.__name__} with parameters: {attack_params}\"\u001b[0m\u001b[0;34m)\u001b[0m\u001b[0;34m\u001b[0m\u001b[0;34m\u001b[0m\u001b[0m\n\u001b[0;32m---> 20\u001b[0;31m     \u001b[0madv_predict\u001b[0m\u001b[0;34m(\u001b[0m\u001b[0mtest_loader\u001b[0m\u001b[0;34m,\u001b[0m \u001b[0mmodel_DNN\u001b[0m\u001b[0;34m,\u001b[0m \u001b[0mattack_func\u001b[0m\u001b[0;34m,\u001b[0m \u001b[0mdevice\u001b[0m\u001b[0;34m,\u001b[0m \u001b[0;34m**\u001b[0m\u001b[0mattack_params\u001b[0m\u001b[0;34m)\u001b[0m\u001b[0;34m\u001b[0m\u001b[0;34m\u001b[0m\u001b[0m\n\u001b[0m\u001b[1;32m     21\u001b[0m     \u001b[0madv_predict\u001b[0m\u001b[0;34m(\u001b[0m\u001b[0mtest_loader\u001b[0m\u001b[0;34m,\u001b[0m \u001b[0mmodel_AT_rFGSM\u001b[0m\u001b[0;34m,\u001b[0m \u001b[0mattack_func\u001b[0m\u001b[0;34m,\u001b[0m \u001b[0mdevice\u001b[0m\u001b[0;34m,\u001b[0m \u001b[0;34m**\u001b[0m\u001b[0mattack_params\u001b[0m\u001b[0;34m)\u001b[0m\u001b[0;34m\u001b[0m\u001b[0;34m\u001b[0m\u001b[0m\n\u001b[1;32m     22\u001b[0m     \u001b[0madv_predict\u001b[0m\u001b[0;34m(\u001b[0m\u001b[0mtest_loader\u001b[0m\u001b[0;34m,\u001b[0m \u001b[0mmodel_AT_rFGSM_weightedLoss\u001b[0m\u001b[0;34m,\u001b[0m \u001b[0mattack_func\u001b[0m\u001b[0;34m,\u001b[0m \u001b[0mdevice\u001b[0m\u001b[0;34m,\u001b[0m \u001b[0;34m**\u001b[0m\u001b[0mattack_params\u001b[0m\u001b[0;34m)\u001b[0m\u001b[0;34m\u001b[0m\u001b[0;34m\u001b[0m\u001b[0m\n",
            "\u001b[0;32m/content/adverserial_attacks_functions.py\u001b[0m in \u001b[0;36madv_predict\u001b[0;34m(test_loader, model, attack, device, **kwargs)\u001b[0m\n\u001b[1;32m    206\u001b[0m             \u001b[0;32melse\u001b[0m \u001b[0;34m:\u001b[0m\u001b[0;34m\u001b[0m\u001b[0;34m\u001b[0m\u001b[0m\n\u001b[1;32m    207\u001b[0m                 \u001b[0;32mwith\u001b[0m \u001b[0mtorch\u001b[0m\u001b[0;34m.\u001b[0m\u001b[0menable_grad\u001b[0m\u001b[0;34m(\u001b[0m\u001b[0;34m)\u001b[0m\u001b[0;34m:\u001b[0m\u001b[0;34m\u001b[0m\u001b[0;34m\u001b[0m\u001b[0m\n\u001b[0;32m--> 208\u001b[0;31m                     \u001b[0mpertb_mal_x\u001b[0m \u001b[0;34m=\u001b[0m \u001b[0mattack\u001b[0m\u001b[0;34m(\u001b[0m\u001b[0mmal_x_batch\u001b[0m\u001b[0;34m,\u001b[0m \u001b[0mmal_y_batch\u001b[0m\u001b[0;34m,\u001b[0m \u001b[0mmodel\u001b[0m\u001b[0;34m,\u001b[0m \u001b[0;34m**\u001b[0m\u001b[0mkwargs\u001b[0m\u001b[0;34m)\u001b[0m\u001b[0;34m\u001b[0m\u001b[0;34m\u001b[0m\u001b[0m\n\u001b[0m\u001b[1;32m    209\u001b[0m \u001b[0;34m\u001b[0m\u001b[0m\n\u001b[1;32m    210\u001b[0m             \u001b[0moutputs\u001b[0m \u001b[0;34m=\u001b[0m \u001b[0mmodel\u001b[0m\u001b[0;34m(\u001b[0m\u001b[0mpertb_mal_x\u001b[0m\u001b[0;34m)\u001b[0m\u001b[0;34m\u001b[0m\u001b[0;34m\u001b[0m\u001b[0m\n",
            "\u001b[0;32m/content/adverserial_attacks_functions.py\u001b[0m in \u001b[0;36mbga_k\u001b[0;34m(x, y, model, k, alpha, is_report_loss_diff, use_sample)\u001b[0m\n\u001b[1;32m    437\u001b[0m         \u001b[0;31m# Forward pass\u001b[0m\u001b[0;34m\u001b[0m\u001b[0;34m\u001b[0m\u001b[0m\n\u001b[1;32m    438\u001b[0m         \u001b[0mx_var\u001b[0m \u001b[0;34m=\u001b[0m \u001b[0mx_next\u001b[0m\u001b[0;34m.\u001b[0m\u001b[0mclone\u001b[0m\u001b[0;34m(\u001b[0m\u001b[0;34m)\u001b[0m\u001b[0;34m.\u001b[0m\u001b[0mdetach\u001b[0m\u001b[0;34m(\u001b[0m\u001b[0;34m)\u001b[0m\u001b[0;34m.\u001b[0m\u001b[0mrequires_grad_\u001b[0m\u001b[0;34m(\u001b[0m\u001b[0;32mTrue\u001b[0m\u001b[0;34m)\u001b[0m\u001b[0;34m\u001b[0m\u001b[0;34m\u001b[0m\u001b[0m\n\u001b[0;32m--> 439\u001b[0;31m         \u001b[0my_model\u001b[0m \u001b[0;34m=\u001b[0m \u001b[0mmodel\u001b[0m\u001b[0;34m(\u001b[0m\u001b[0mx_var\u001b[0m\u001b[0;34m)\u001b[0m\u001b[0;34m\u001b[0m\u001b[0;34m\u001b[0m\u001b[0m\n\u001b[0m\u001b[1;32m    440\u001b[0m         \u001b[0mloss\u001b[0m \u001b[0;34m=\u001b[0m \u001b[0mcriterion\u001b[0m\u001b[0;34m(\u001b[0m\u001b[0my_model\u001b[0m\u001b[0;34m,\u001b[0m \u001b[0my\u001b[0m\u001b[0;34m.\u001b[0m\u001b[0mview\u001b[0m\u001b[0;34m(\u001b[0m\u001b[0;34m-\u001b[0m\u001b[0;36m1\u001b[0m\u001b[0;34m)\u001b[0m\u001b[0;34m.\u001b[0m\u001b[0mlong\u001b[0m\u001b[0;34m(\u001b[0m\u001b[0;34m)\u001b[0m\u001b[0;34m)\u001b[0m\u001b[0;34m\u001b[0m\u001b[0;34m\u001b[0m\u001b[0m\n\u001b[1;32m    441\u001b[0m \u001b[0;34m\u001b[0m\u001b[0m\n",
            "\u001b[0;32m/usr/local/lib/python3.10/dist-packages/torch/nn/modules/module.py\u001b[0m in \u001b[0;36m_wrapped_call_impl\u001b[0;34m(self, *args, **kwargs)\u001b[0m\n\u001b[1;32m   1509\u001b[0m             \u001b[0;32mreturn\u001b[0m \u001b[0mself\u001b[0m\u001b[0;34m.\u001b[0m\u001b[0m_compiled_call_impl\u001b[0m\u001b[0;34m(\u001b[0m\u001b[0;34m*\u001b[0m\u001b[0margs\u001b[0m\u001b[0;34m,\u001b[0m \u001b[0;34m**\u001b[0m\u001b[0mkwargs\u001b[0m\u001b[0;34m)\u001b[0m  \u001b[0;31m# type: ignore[misc]\u001b[0m\u001b[0;34m\u001b[0m\u001b[0;34m\u001b[0m\u001b[0m\n\u001b[1;32m   1510\u001b[0m         \u001b[0;32melse\u001b[0m\u001b[0;34m:\u001b[0m\u001b[0;34m\u001b[0m\u001b[0;34m\u001b[0m\u001b[0m\n\u001b[0;32m-> 1511\u001b[0;31m             \u001b[0;32mreturn\u001b[0m \u001b[0mself\u001b[0m\u001b[0;34m.\u001b[0m\u001b[0m_call_impl\u001b[0m\u001b[0;34m(\u001b[0m\u001b[0;34m*\u001b[0m\u001b[0margs\u001b[0m\u001b[0;34m,\u001b[0m \u001b[0;34m**\u001b[0m\u001b[0mkwargs\u001b[0m\u001b[0;34m)\u001b[0m\u001b[0;34m\u001b[0m\u001b[0;34m\u001b[0m\u001b[0m\n\u001b[0m\u001b[1;32m   1512\u001b[0m \u001b[0;34m\u001b[0m\u001b[0m\n\u001b[1;32m   1513\u001b[0m     \u001b[0;32mdef\u001b[0m \u001b[0m_call_impl\u001b[0m\u001b[0;34m(\u001b[0m\u001b[0mself\u001b[0m\u001b[0;34m,\u001b[0m \u001b[0;34m*\u001b[0m\u001b[0margs\u001b[0m\u001b[0;34m,\u001b[0m \u001b[0;34m**\u001b[0m\u001b[0mkwargs\u001b[0m\u001b[0;34m)\u001b[0m\u001b[0;34m:\u001b[0m\u001b[0;34m\u001b[0m\u001b[0;34m\u001b[0m\u001b[0m\n",
            "\u001b[0;32m/usr/local/lib/python3.10/dist-packages/torch/nn/modules/module.py\u001b[0m in \u001b[0;36m_call_impl\u001b[0;34m(self, *args, **kwargs)\u001b[0m\n\u001b[1;32m   1518\u001b[0m                 \u001b[0;32mor\u001b[0m \u001b[0m_global_backward_pre_hooks\u001b[0m \u001b[0;32mor\u001b[0m \u001b[0m_global_backward_hooks\u001b[0m\u001b[0;34m\u001b[0m\u001b[0;34m\u001b[0m\u001b[0m\n\u001b[1;32m   1519\u001b[0m                 or _global_forward_hooks or _global_forward_pre_hooks):\n\u001b[0;32m-> 1520\u001b[0;31m             \u001b[0;32mreturn\u001b[0m \u001b[0mforward_call\u001b[0m\u001b[0;34m(\u001b[0m\u001b[0;34m*\u001b[0m\u001b[0margs\u001b[0m\u001b[0;34m,\u001b[0m \u001b[0;34m**\u001b[0m\u001b[0mkwargs\u001b[0m\u001b[0;34m)\u001b[0m\u001b[0;34m\u001b[0m\u001b[0;34m\u001b[0m\u001b[0m\n\u001b[0m\u001b[1;32m   1521\u001b[0m \u001b[0;34m\u001b[0m\u001b[0m\n\u001b[1;32m   1522\u001b[0m         \u001b[0;32mtry\u001b[0m\u001b[0;34m:\u001b[0m\u001b[0;34m\u001b[0m\u001b[0;34m\u001b[0m\u001b[0m\n",
            "\u001b[0;32m/content/adverserial_attacks_functions.py\u001b[0m in \u001b[0;36mforward\u001b[0;34m(self, x)\u001b[0m\n\u001b[1;32m     46\u001b[0m \u001b[0;34m\u001b[0m\u001b[0m\n\u001b[1;32m     47\u001b[0m     \u001b[0;32mdef\u001b[0m \u001b[0mforward\u001b[0m\u001b[0;34m(\u001b[0m\u001b[0mself\u001b[0m\u001b[0;34m,\u001b[0m \u001b[0mx\u001b[0m\u001b[0;34m)\u001b[0m\u001b[0;34m:\u001b[0m\u001b[0;34m\u001b[0m\u001b[0;34m\u001b[0m\u001b[0m\n\u001b[0;32m---> 48\u001b[0;31m         \u001b[0mx\u001b[0m \u001b[0;34m=\u001b[0m \u001b[0mself\u001b[0m\u001b[0;34m.\u001b[0m\u001b[0mfc1\u001b[0m\u001b[0;34m(\u001b[0m\u001b[0mx\u001b[0m\u001b[0;34m)\u001b[0m\u001b[0;34m\u001b[0m\u001b[0;34m\u001b[0m\u001b[0m\n\u001b[0m\u001b[1;32m     49\u001b[0m         \u001b[0mx\u001b[0m \u001b[0;34m=\u001b[0m \u001b[0mself\u001b[0m\u001b[0;34m.\u001b[0m\u001b[0mrelu1\u001b[0m\u001b[0;34m(\u001b[0m\u001b[0mx\u001b[0m\u001b[0;34m)\u001b[0m\u001b[0;34m\u001b[0m\u001b[0;34m\u001b[0m\u001b[0m\n\u001b[1;32m     50\u001b[0m         \u001b[0;31m#x = self.dropout1(x)\u001b[0m\u001b[0;34m\u001b[0m\u001b[0;34m\u001b[0m\u001b[0m\n",
            "\u001b[0;32m/usr/local/lib/python3.10/dist-packages/torch/nn/modules/module.py\u001b[0m in \u001b[0;36m_wrapped_call_impl\u001b[0;34m(self, *args, **kwargs)\u001b[0m\n\u001b[1;32m   1509\u001b[0m             \u001b[0;32mreturn\u001b[0m \u001b[0mself\u001b[0m\u001b[0;34m.\u001b[0m\u001b[0m_compiled_call_impl\u001b[0m\u001b[0;34m(\u001b[0m\u001b[0;34m*\u001b[0m\u001b[0margs\u001b[0m\u001b[0;34m,\u001b[0m \u001b[0;34m**\u001b[0m\u001b[0mkwargs\u001b[0m\u001b[0;34m)\u001b[0m  \u001b[0;31m# type: ignore[misc]\u001b[0m\u001b[0;34m\u001b[0m\u001b[0;34m\u001b[0m\u001b[0m\n\u001b[1;32m   1510\u001b[0m         \u001b[0;32melse\u001b[0m\u001b[0;34m:\u001b[0m\u001b[0;34m\u001b[0m\u001b[0;34m\u001b[0m\u001b[0m\n\u001b[0;32m-> 1511\u001b[0;31m             \u001b[0;32mreturn\u001b[0m \u001b[0mself\u001b[0m\u001b[0;34m.\u001b[0m\u001b[0m_call_impl\u001b[0m\u001b[0;34m(\u001b[0m\u001b[0;34m*\u001b[0m\u001b[0margs\u001b[0m\u001b[0;34m,\u001b[0m \u001b[0;34m**\u001b[0m\u001b[0mkwargs\u001b[0m\u001b[0;34m)\u001b[0m\u001b[0;34m\u001b[0m\u001b[0;34m\u001b[0m\u001b[0m\n\u001b[0m\u001b[1;32m   1512\u001b[0m \u001b[0;34m\u001b[0m\u001b[0m\n\u001b[1;32m   1513\u001b[0m     \u001b[0;32mdef\u001b[0m \u001b[0m_call_impl\u001b[0m\u001b[0;34m(\u001b[0m\u001b[0mself\u001b[0m\u001b[0;34m,\u001b[0m \u001b[0;34m*\u001b[0m\u001b[0margs\u001b[0m\u001b[0;34m,\u001b[0m \u001b[0;34m**\u001b[0m\u001b[0mkwargs\u001b[0m\u001b[0;34m)\u001b[0m\u001b[0;34m:\u001b[0m\u001b[0;34m\u001b[0m\u001b[0;34m\u001b[0m\u001b[0m\n",
            "\u001b[0;32m/usr/local/lib/python3.10/dist-packages/torch/nn/modules/module.py\u001b[0m in \u001b[0;36m_call_impl\u001b[0;34m(self, *args, **kwargs)\u001b[0m\n\u001b[1;32m   1518\u001b[0m                 \u001b[0;32mor\u001b[0m \u001b[0m_global_backward_pre_hooks\u001b[0m \u001b[0;32mor\u001b[0m \u001b[0m_global_backward_hooks\u001b[0m\u001b[0;34m\u001b[0m\u001b[0;34m\u001b[0m\u001b[0m\n\u001b[1;32m   1519\u001b[0m                 or _global_forward_hooks or _global_forward_pre_hooks):\n\u001b[0;32m-> 1520\u001b[0;31m             \u001b[0;32mreturn\u001b[0m \u001b[0mforward_call\u001b[0m\u001b[0;34m(\u001b[0m\u001b[0;34m*\u001b[0m\u001b[0margs\u001b[0m\u001b[0;34m,\u001b[0m \u001b[0;34m**\u001b[0m\u001b[0mkwargs\u001b[0m\u001b[0;34m)\u001b[0m\u001b[0;34m\u001b[0m\u001b[0;34m\u001b[0m\u001b[0m\n\u001b[0m\u001b[1;32m   1521\u001b[0m \u001b[0;34m\u001b[0m\u001b[0m\n\u001b[1;32m   1522\u001b[0m         \u001b[0;32mtry\u001b[0m\u001b[0;34m:\u001b[0m\u001b[0;34m\u001b[0m\u001b[0;34m\u001b[0m\u001b[0m\n",
            "\u001b[0;32m/usr/local/lib/python3.10/dist-packages/torch/nn/modules/linear.py\u001b[0m in \u001b[0;36mforward\u001b[0;34m(self, input)\u001b[0m\n\u001b[1;32m    114\u001b[0m \u001b[0;34m\u001b[0m\u001b[0m\n\u001b[1;32m    115\u001b[0m     \u001b[0;32mdef\u001b[0m \u001b[0mforward\u001b[0m\u001b[0;34m(\u001b[0m\u001b[0mself\u001b[0m\u001b[0;34m,\u001b[0m \u001b[0minput\u001b[0m\u001b[0;34m:\u001b[0m \u001b[0mTensor\u001b[0m\u001b[0;34m)\u001b[0m \u001b[0;34m->\u001b[0m \u001b[0mTensor\u001b[0m\u001b[0;34m:\u001b[0m\u001b[0;34m\u001b[0m\u001b[0;34m\u001b[0m\u001b[0m\n\u001b[0;32m--> 116\u001b[0;31m         \u001b[0;32mreturn\u001b[0m \u001b[0mF\u001b[0m\u001b[0;34m.\u001b[0m\u001b[0mlinear\u001b[0m\u001b[0;34m(\u001b[0m\u001b[0minput\u001b[0m\u001b[0;34m,\u001b[0m \u001b[0mself\u001b[0m\u001b[0;34m.\u001b[0m\u001b[0mweight\u001b[0m\u001b[0;34m,\u001b[0m \u001b[0mself\u001b[0m\u001b[0;34m.\u001b[0m\u001b[0mbias\u001b[0m\u001b[0;34m)\u001b[0m\u001b[0;34m\u001b[0m\u001b[0;34m\u001b[0m\u001b[0m\n\u001b[0m\u001b[1;32m    117\u001b[0m \u001b[0;34m\u001b[0m\u001b[0m\n\u001b[1;32m    118\u001b[0m     \u001b[0;32mdef\u001b[0m \u001b[0mextra_repr\u001b[0m\u001b[0;34m(\u001b[0m\u001b[0mself\u001b[0m\u001b[0;34m)\u001b[0m \u001b[0;34m->\u001b[0m \u001b[0mstr\u001b[0m\u001b[0;34m:\u001b[0m\u001b[0;34m\u001b[0m\u001b[0;34m\u001b[0m\u001b[0m\n",
            "\u001b[0;31mKeyboardInterrupt\u001b[0m: "
          ]
        }
      ]
    },
    {
      "cell_type": "code",
      "source": [
        "# Mimicry×30\n",
        "attack_params = {\"trials\":30, 'is_report_loss_diff':False}\n",
        "adv_predict(test_loader, model_DNN, mimicry, device, **attack_params)\n",
        "adv_predict(test_loader, model_AT_rFGSM, mimicry, device, **attack_params)\n",
        "adv_predict(test_loader, model_AT_rFGSM_weightedLoss, mimicry, device, **attack_params)"
      ],
      "metadata": {
        "id": "zoO6byMQSg9s"
      },
      "execution_count": null,
      "outputs": []
    },
    {
      "cell_type": "code",
      "source": [
        "for x,y in test_loader:\n",
        "  print(x.shape)\n",
        "  break"
      ],
      "metadata": {
        "colab": {
          "base_uri": "https://localhost:8080/"
        },
        "id": "7jrNlZh8Sg3H",
        "outputId": "c91f8aaa-d854-4faf-c5eb-838c90f02d85"
      },
      "execution_count": 68,
      "outputs": [
        {
          "output_type": "stream",
          "name": "stdout",
          "text": [
            "torch.Size([512, 10000])\n"
          ]
        }
      ]
    },
    {
      "cell_type": "code",
      "source": [
        "bens = x[y.squeeze()==0]\n",
        "mals = x[y.squeeze()==1]\n",
        "print(bens.shape)\n",
        "print(mals.shape)"
      ],
      "metadata": {
        "colab": {
          "base_uri": "https://localhost:8080/"
        },
        "id": "KSIsmT_TNjhj",
        "outputId": "4731a3e6-4756-40dd-8e99-4801220e6104"
      },
      "execution_count": 69,
      "outputs": [
        {
          "output_type": "stream",
          "name": "stdout",
          "text": [
            "torch.Size([458, 10000])\n",
            "torch.Size([54, 10000])\n"
          ]
        }
      ]
    },
    {
      "cell_type": "code",
      "source": [
        "model_AT_rFGSM(bens.to(torch.float32).to(device))"
      ],
      "metadata": {
        "id": "I_JR879etXpD"
      },
      "execution_count": null,
      "outputs": []
    },
    {
      "cell_type": "code",
      "source": [
        "malware_sample = mals[0:1,:]\n",
        "malware_sample.shape"
      ],
      "metadata": {
        "colab": {
          "base_uri": "https://localhost:8080/"
        },
        "id": "hBd3rvSNqbH1",
        "outputId": "bb051bd6-076f-4a01-c1a5-3daee3c06192"
      },
      "execution_count": null,
      "outputs": [
        {
          "output_type": "execute_result",
          "data": {
            "text/plain": [
              "torch.Size([1, 10000])"
            ]
          },
          "metadata": {},
          "execution_count": 36
        }
      ]
    },
    {
      "cell_type": "code",
      "source": [
        "benign_samples = []\n",
        "for x_batch, y_batch in test_loader:\n",
        "  benign_samples.append(x_batch[y_batch.squeeze() == 0])\n",
        "\n",
        "ben_x = torch.cat(benign_samples, dim=0).to(device)\n",
        "\n",
        "print(ben_x.shape)\n",
        "del benign_samples"
      ],
      "metadata": {
        "colab": {
          "base_uri": "https://localhost:8080/"
        },
        "id": "zRSkZaZw9E2d",
        "outputId": "2d282eb6-e7bf-4bb1-a200-a5d3b84e0f0d"
      },
      "execution_count": null,
      "outputs": [
        {
          "output_type": "stream",
          "name": "stdout",
          "text": [
            "torch.Size([8432, 10000])\n"
          ]
        }
      ]
    },
    {
      "cell_type": "code",
      "source": [
        "# Suppose you want to extract a subset of size subset_size from ben_x\n",
        "subset_size = 500  # Adjust this value according to your requirement\n",
        "\n",
        "# Get the total number of samples in ben_x\n",
        "total_samples = ben_x.size(0)\n",
        "\n",
        "# Generate random indices for the subset\n",
        "subset_indices = np.random.choice(total_samples, subset_size, replace=False)\n",
        "\n",
        "# Select the subset of data using the random indices\n",
        "subset_data = ben_x[subset_indices]\n",
        "\n",
        "print(subset_data.shape)"
      ],
      "metadata": {
        "colab": {
          "base_uri": "https://localhost:8080/"
        },
        "id": "KAGuYqf9_Ud7",
        "outputId": "bd6d93aa-37fb-40b0-9d56-07151aa61b8a"
      },
      "execution_count": null,
      "outputs": [
        {
          "output_type": "stream",
          "name": "stdout",
          "text": [
            "torch.Size([500, 10000])\n"
          ]
        }
      ]
    },
    {
      "cell_type": "code",
      "source": [],
      "metadata": {
        "id": "5k92y-H3DbXf"
      },
      "execution_count": null,
      "outputs": []
    },
    {
      "cell_type": "code",
      "source": [
        "import torch\n",
        "\n",
        "# Define the multivariate Gaussian kernel function\n",
        "def gaussian_kernel(u):\n",
        "    \"\"\"\n",
        "    Compute the value of the Gaussian kernel function at point u.\n",
        "\n",
        "    Parameters:\n",
        "        u (torch.Tensor): Standardized distance between data points and evaluation points.\n",
        "\n",
        "    Returns:\n",
        "        torch.Tensor: Array of Gaussian kernel values.\n",
        "    \"\"\"\n",
        "    d = u.shape[1]  # Number of dimensions (features) of the data\n",
        "    # normalization constant for the Gaussian kernel in d dimensions\n",
        "    #normalization = (2 * np.pi) ** (-d / 2)\n",
        "    normalization = 10.  # normalization constant for the Gaussian kernel in d dimensions\n",
        "    return normalization * torch.exp(-0.5 * torch.sum(u**2, dim=-1))\n",
        "\n",
        "# Multidimensional KDE implementation\n",
        "def KDE(x, data, bandwidth):\n",
        "    \"\"\"\n",
        "    Compute the kernel density estimate (KDE) for given data points.\n",
        "\n",
        "    Parameters:\n",
        "        x (torch.Tensor): Points at which to evaluate the KDE (shape: [num_samples, num_dimensions]).\n",
        "        data (torch.Tensor): Data points used to estimate the density (shape: [num_data_points, num_dimensions]).\n",
        "        bandwidth (float): Bandwidth parameter for the KDE.\n",
        "\n",
        "    Returns:\n",
        "        torch.Tensor: Density estimate at each point in x (shape: [num_samples,]).\n",
        "    \"\"\"\n",
        "    n = data.shape[0]  # Number of data points\n",
        "    d = x.shape[1]  # Dimensionality of the data\n",
        "\n",
        "    # Convert bandwidth to tensor\n",
        "    bandwidth_tensor = torch.tensor(bandwidth)\n",
        "\n",
        "    # Calculate standardized distances for all data points\n",
        "    u = (x.unsqueeze(1) - data) / bandwidth\n",
        "\n",
        "\n",
        "    # Compute Gaussian kernel contributions for all data points\n",
        "    normalization = 10.\n",
        "    kernel_contributions = normalization * torch.exp(-0.5 * torch.sum(u**2, dim=-1))\n",
        "\n",
        "    # Sum contributions across all data points\n",
        "    estimate = torch.mean(kernel_contributions, dim=1)\n",
        "\n",
        "    # Normalize the density estimate by the number of points and the bandwidth raised to the dimensionality\n",
        "    #estimate /= (bandwidth_tensor ** d)\n",
        "\n",
        "    return estimate\n"
      ],
      "metadata": {
        "id": "XyOqoGOODbjt"
      },
      "execution_count": null,
      "outputs": []
    },
    {
      "cell_type": "code",
      "source": [
        "pgd(mals.to(torch.float32), y[y.squeeze()==1], model_AT_rFGSM_weightedLoss, insertion_array, removal_array, k=50, step_length=0.5, norm='linf', initial_rounding_threshold=0.5, round_threshold=0.5, random=False, is_report_loss_diff=True, is_sample=False)"
      ],
      "metadata": {
        "colab": {
          "base_uri": "https://localhost:8080/"
        },
        "id": "qvqAVu2jESJb",
        "outputId": "4aa82683-d71e-4c94-96cd-49a6b12d7b0b"
      },
      "execution_count": null,
      "outputs": [
        {
          "output_type": "stream",
          "name": "stdout",
          "text": [
            "PGD linf: Attack effectiveness 0.000%.\n"
          ]
        },
        {
          "output_type": "execute_result",
          "data": {
            "text/plain": [
              "tensor([[1., 0., 1.,  ..., 0., 0., 0.],\n",
              "        [1., 0., 1.,  ..., 0., 0., 0.],\n",
              "        [1., 1., 1.,  ..., 0., 0., 0.],\n",
              "        ...,\n",
              "        [1., 1., 1.,  ..., 0., 0., 0.],\n",
              "        [1., 1., 1.,  ..., 0., 0., 0.],\n",
              "        [1., 0., 1.,  ..., 0., 0., 0.]])"
            ]
          },
          "metadata": {},
          "execution_count": 41
        }
      ]
    },
    {
      "cell_type": "code",
      "source": [
        "gkde(mals.to(torch.float32), y[y.squeeze()==1], model_AT_rFGSM_weightedLoss, subset_data, 1., 1000, insertion_array, removal_array, k=50, step_length=0.05, norm='linf', initial_rounding_threshold=0.5, round_threshold=0.5, random=False, is_report_loss_diff=True, is_sample=False)"
      ],
      "metadata": {
        "colab": {
          "base_uri": "https://localhost:8080/",
          "height": 512
        },
        "id": "1-k4Zd649AXB",
        "outputId": "15c1ad21-6da1-4437-86d3-36425f9d5465"
      },
      "execution_count": null,
      "outputs": [
        {
          "output_type": "stream",
          "name": "stdout",
          "text": [
            "3\n",
            "4\n",
            "5\n",
            "3\n",
            "4\n",
            "5\n",
            "3\n"
          ]
        },
        {
          "output_type": "error",
          "ename": "KeyboardInterrupt",
          "evalue": "",
          "traceback": [
            "\u001b[0;31m---------------------------------------------------------------------------\u001b[0m",
            "\u001b[0;31mKeyboardInterrupt\u001b[0m                         Traceback (most recent call last)",
            "\u001b[0;32m<ipython-input-59-8124a0a90a00>\u001b[0m in \u001b[0;36m<cell line: 1>\u001b[0;34m()\u001b[0m\n\u001b[0;32m----> 1\u001b[0;31m \u001b[0mgkde\u001b[0m\u001b[0;34m(\u001b[0m\u001b[0mmals\u001b[0m\u001b[0;34m.\u001b[0m\u001b[0mto\u001b[0m\u001b[0;34m(\u001b[0m\u001b[0mtorch\u001b[0m\u001b[0;34m.\u001b[0m\u001b[0mfloat32\u001b[0m\u001b[0;34m)\u001b[0m\u001b[0;34m,\u001b[0m \u001b[0my\u001b[0m\u001b[0;34m[\u001b[0m\u001b[0my\u001b[0m\u001b[0;34m.\u001b[0m\u001b[0msqueeze\u001b[0m\u001b[0;34m(\u001b[0m\u001b[0;34m)\u001b[0m\u001b[0;34m==\u001b[0m\u001b[0;36m1\u001b[0m\u001b[0;34m]\u001b[0m\u001b[0;34m,\u001b[0m \u001b[0mmodel_AT_rFGSM_weightedLoss\u001b[0m\u001b[0;34m,\u001b[0m \u001b[0msubset_data\u001b[0m\u001b[0;34m,\u001b[0m \u001b[0;36m1.\u001b[0m\u001b[0;34m,\u001b[0m \u001b[0;36m1000\u001b[0m\u001b[0;34m,\u001b[0m \u001b[0minsertion_array\u001b[0m\u001b[0;34m,\u001b[0m \u001b[0mremoval_array\u001b[0m\u001b[0;34m,\u001b[0m \u001b[0mk\u001b[0m\u001b[0;34m=\u001b[0m\u001b[0;36m50\u001b[0m\u001b[0;34m,\u001b[0m \u001b[0mstep_length\u001b[0m\u001b[0;34m=\u001b[0m\u001b[0;36m0.05\u001b[0m\u001b[0;34m,\u001b[0m \u001b[0mnorm\u001b[0m\u001b[0;34m=\u001b[0m\u001b[0;34m'linf'\u001b[0m\u001b[0;34m,\u001b[0m \u001b[0minitial_rounding_threshold\u001b[0m\u001b[0;34m=\u001b[0m\u001b[0;36m0.5\u001b[0m\u001b[0;34m,\u001b[0m \u001b[0mround_threshold\u001b[0m\u001b[0;34m=\u001b[0m\u001b[0;36m0.5\u001b[0m\u001b[0;34m,\u001b[0m \u001b[0mrandom\u001b[0m\u001b[0;34m=\u001b[0m\u001b[0;32mFalse\u001b[0m\u001b[0;34m,\u001b[0m \u001b[0mis_report_loss_diff\u001b[0m\u001b[0;34m=\u001b[0m\u001b[0;32mTrue\u001b[0m\u001b[0;34m,\u001b[0m \u001b[0mis_sample\u001b[0m\u001b[0;34m=\u001b[0m\u001b[0;32mFalse\u001b[0m\u001b[0;34m)\u001b[0m\u001b[0;34m\u001b[0m\u001b[0;34m\u001b[0m\u001b[0m\n\u001b[0m",
            "\u001b[0;32m<ipython-input-57-dbcaa8fdf68b>\u001b[0m in \u001b[0;36mgkde\u001b[0;34m(x, y, model, bens, bandwidth, penalty_factor, insertion_array, removal_array, k, step_length, norm, initial_rounding_threshold, round_threshold, random, is_report_loss_diff, is_sample)\u001b[0m\n\u001b[1;32m     33\u001b[0m         \u001b[0mprint\u001b[0m\u001b[0;34m(\u001b[0m\u001b[0;34m'3'\u001b[0m\u001b[0;34m)\u001b[0m\u001b[0;34m\u001b[0m\u001b[0;34m\u001b[0m\u001b[0m\n\u001b[1;32m     34\u001b[0m         \u001b[0;31m# Compute gradient\u001b[0m\u001b[0;34m\u001b[0m\u001b[0;34m\u001b[0m\u001b[0m\n\u001b[0;32m---> 35\u001b[0;31m         \u001b[0mgrad_vars\u001b[0m \u001b[0;34m=\u001b[0m \u001b[0mtorch\u001b[0m\u001b[0;34m.\u001b[0m\u001b[0mautograd\u001b[0m\u001b[0;34m.\u001b[0m\u001b[0mgrad\u001b[0m\u001b[0;34m(\u001b[0m\u001b[0mloss\u001b[0m\u001b[0;34m.\u001b[0m\u001b[0mmean\u001b[0m\u001b[0;34m(\u001b[0m\u001b[0;34m)\u001b[0m\u001b[0;34m,\u001b[0m \u001b[0mx_var\u001b[0m\u001b[0;34m)\u001b[0m\u001b[0;34m\u001b[0m\u001b[0;34m\u001b[0m\u001b[0m\n\u001b[0m\u001b[1;32m     36\u001b[0m         \u001b[0mprint\u001b[0m\u001b[0;34m(\u001b[0m\u001b[0;34m'4'\u001b[0m\u001b[0;34m)\u001b[0m\u001b[0;34m\u001b[0m\u001b[0;34m\u001b[0m\u001b[0m\n\u001b[1;32m     37\u001b[0m         \u001b[0mgradients\u001b[0m \u001b[0;34m=\u001b[0m \u001b[0mgrad_vars\u001b[0m\u001b[0;34m[\u001b[0m\u001b[0;36m0\u001b[0m\u001b[0;34m]\u001b[0m\u001b[0;34m.\u001b[0m\u001b[0mdata\u001b[0m\u001b[0;34m\u001b[0m\u001b[0;34m\u001b[0m\u001b[0m\n",
            "\u001b[0;32m/usr/local/lib/python3.10/dist-packages/torch/autograd/__init__.py\u001b[0m in \u001b[0;36mgrad\u001b[0;34m(outputs, inputs, grad_outputs, retain_graph, create_graph, only_inputs, allow_unused, is_grads_batched, materialize_grads)\u001b[0m\n\u001b[1;32m    409\u001b[0m         )\n\u001b[1;32m    410\u001b[0m     \u001b[0;32melse\u001b[0m\u001b[0;34m:\u001b[0m\u001b[0;34m\u001b[0m\u001b[0;34m\u001b[0m\u001b[0m\n\u001b[0;32m--> 411\u001b[0;31m         result = Variable._execution_engine.run_backward(  # Calls into the C++ engine to run the backward pass\n\u001b[0m\u001b[1;32m    412\u001b[0m             \u001b[0mt_outputs\u001b[0m\u001b[0;34m,\u001b[0m\u001b[0;34m\u001b[0m\u001b[0;34m\u001b[0m\u001b[0m\n\u001b[1;32m    413\u001b[0m             \u001b[0mgrad_outputs_\u001b[0m\u001b[0;34m,\u001b[0m\u001b[0;34m\u001b[0m\u001b[0;34m\u001b[0m\u001b[0m\n",
            "\u001b[0;31mKeyboardInterrupt\u001b[0m: "
          ]
        }
      ]
    },
    {
      "cell_type": "code",
      "source": [
        "gkde(mals,mals_label,model_AT_rFGSM,bens,1.,1000.,insertion_array, removal_array, k=200, step_length=0.05, norm='l2', initial_rounding_threshold=0.5, round_threshold=0.5, random=False, is_report_loss_diff=True, is_sample=False)"
      ],
      "metadata": {
        "id": "xgpD41q1KyIa"
      },
      "execution_count": null,
      "outputs": []
    },
    {
      "cell_type": "code",
      "source": [
        "import torch\n",
        "\n",
        "# Define the multivariate Gaussian kernel function\n",
        "def gaussian_kernel(u):\n",
        "    \"\"\"\n",
        "    Compute the value of the Gaussian kernel function at point u.\n",
        "\n",
        "    Parameters:\n",
        "        u (torch.Tensor): Standardized distance between data points and evaluation points.\n",
        "\n",
        "    Returns:\n",
        "        torch.Tensor: Array of Gaussian kernel values.\n",
        "    \"\"\"\n",
        "    d = u.shape[1]  # Number of dimensions (features) of the data\n",
        "    # normalization constant for the Gaussian kernel in d dimensions\n",
        "    #normalization = (2 * np.pi) ** (-d / 2)\n",
        "    normalization = 10.  # normalization constant for the Gaussian kernel in d dimensions\n",
        "    return normalization * torch.exp(-0.5 * torch.sum(u**2, dim=-1))\n",
        "\n",
        "# Multidimensional KDE implementation\n",
        "def KDE(x, data, bandwidth):\n",
        "    \"\"\"\n",
        "    Compute the kernel density estimate (KDE) for given data points.\n",
        "\n",
        "    Parameters:\n",
        "        x (torch.Tensor): Points at which to evaluate the KDE (shape: [num_samples, num_dimensions]).\n",
        "        data (torch.Tensor): Data points used to estimate the density (shape: [num_data_points, num_dimensions]).\n",
        "        bandwidth (float): Bandwidth parameter for the KDE.\n",
        "\n",
        "    Returns:\n",
        "        torch.Tensor: Density estimate at each point in x (shape: [num_samples,]).\n",
        "    \"\"\"\n",
        "    n = data.shape[0]  # Number of data points\n",
        "    d = x.shape[1]  # Dimensionality of the data\n",
        "\n",
        "    # Convert bandwidth to tensor\n",
        "    bandwidth_tensor = torch.tensor(bandwidth)\n",
        "\n",
        "    estimate = torch.zeros(x.shape[0],dtype=torch.float)\n",
        "    for sample in data:\n",
        "        # Calculate standardized distances for all data points\n",
        "        u = (x[:, None, :] - sample) / bandwidth_tensor\n",
        "\n",
        "        # Compute Gaussian kernel contributions for all data points\n",
        "        kernel_contributions = gaussian_kernel(u)\n",
        "\n",
        "        # Sum contributions across all data points\n",
        "        estimate = torch.mean(kernel_contributions, dim=1)\n",
        "\n",
        "        # Normalize the density estimate by the number of points and the bandwidth raised to the dimensionality\n",
        "        #estimate /= (bandwidth_tensor ** d)\n",
        "\n",
        "    return estimate\n"
      ],
      "metadata": {
        "id": "__CMpn5G_VA5"
      },
      "execution_count": null,
      "outputs": []
    },
    {
      "cell_type": "code",
      "source": [
        "import torch\n",
        "\n",
        "# Define the multivariate Gaussian kernel function\n",
        "def gaussian_kernel(u):\n",
        "    \"\"\"\n",
        "    Compute the value of the Gaussian kernel function at point u.\n",
        "\n",
        "    Parameters:\n",
        "        u (torch.Tensor): Standardized distance between data points and evaluation points.\n",
        "\n",
        "    Returns:\n",
        "        torch.Tensor: Array of Gaussian kernel values.\n",
        "    \"\"\"\n",
        "    d = u.shape[1]  # Number of dimensions (features) of the data\n",
        "    # normalization constant for the Gaussian kernel in d dimensions\n",
        "    #normalization = (2 * np.pi) ** (-d / 2)\n",
        "    normalization = 10.  # normalization constant for the Gaussian kernel in d dimensions\n",
        "    return normalization * torch.exp(-0.5 * torch.sum(u**2, dim=-1))\n",
        "\n",
        "# Multidimensional KDE implementation\n",
        "def KDE(x, data, bandwidth):\n",
        "    \"\"\"\n",
        "    Compute the kernel density estimate (KDE) for given data points.\n",
        "\n",
        "    Parameters:\n",
        "        x (torch.Tensor): Points at which to evaluate the KDE (shape: [num_samples, num_dimensions]).\n",
        "        data (torch.Tensor): Data points used to estimate the density (shape: [num_data_points, num_dimensions]).\n",
        "        bandwidth (float): Bandwidth parameter for the KDE.\n",
        "\n",
        "    Returns:\n",
        "        torch.Tensor: Density estimate at each point in x (shape: [num_samples,]).\n",
        "    \"\"\"\n",
        "    n = data.shape[0]  # Number of data points\n",
        "    d = x.shape[1]  # Dimensionality of the data\n",
        "\n",
        "    # Convert bandwidth to tensor\n",
        "    bandwidth_tensor = torch.tensor(bandwidth)\n",
        "\n",
        "    # Calculate standardized distances for all data points\n",
        "    u = (x[:, None, :] - data) / bandwidth_tensor\n",
        "\n",
        "    # Compute Gaussian kernel contributions for all data points\n",
        "    kernel_contributions = gaussian_kernel(u)\n",
        "\n",
        "    # Sum contributions across all data points\n",
        "    estimate = torch.mean(kernel_contributions, dim=1)\n",
        "\n",
        "    # Normalize the density estimate by the number of points and the bandwidth raised to the dimensionality\n",
        "    #estimate /= (bandwidth_tensor ** d)\n",
        "\n",
        "    return estimate\n"
      ],
      "metadata": {
        "id": "UYdwNSJb2lOR"
      },
      "execution_count": null,
      "outputs": []
    },
    {
      "cell_type": "code",
      "source": [
        "KDE(mals, bens, 1)"
      ],
      "metadata": {
        "colab": {
          "base_uri": "https://localhost:8080/"
        },
        "id": "EHJ-KILxJYv8",
        "outputId": "f478d247-cc7a-43d9-ad7d-4820335405b2"
      },
      "execution_count": null,
      "outputs": [
        {
          "output_type": "execute_result",
          "data": {
            "text/plain": [
              "tensor([2.1148e-02, 5.8933e-04, 8.9441e-06, 9.6431e-25, 5.8933e-04, 7.3179e-06,\n",
              "        4.7786e-09, 6.8697e-03, 5.3102e-13, 1.0105e-11, 2.1148e-02, 1.3240e-04,\n",
              "        5.8933e-04, 4.0438e-03, 6.3707e-06])"
            ]
          },
          "metadata": {},
          "execution_count": 17
        }
      ]
    },
    {
      "cell_type": "code",
      "source": [
        "KDE(bens, bens, bandwidth=1)"
      ],
      "metadata": {
        "colab": {
          "base_uri": "https://localhost:8080/"
        },
        "id": "qqxvZAxLIPsC",
        "outputId": "94a53efb-123a-43cb-f39a-95bf68af74b2"
      },
      "execution_count": null,
      "outputs": [
        {
          "output_type": "execute_result",
          "data": {
            "text/plain": [
              "tensor([0.0896, 0.2576, 1.2275, 0.3074, 0.1159, 0.0922, 0.0962, 0.0885, 0.0885,\n",
              "        0.2817, 0.2509, 0.1174, 0.8223, 0.1772, 0.1416, 1.2275, 0.0965, 0.0963,\n",
              "        0.1081, 1.2275, 0.3726, 0.5248, 0.1287, 0.1023, 0.1586, 0.1048, 0.0987,\n",
              "        0.5699, 0.1095, 0.5281, 0.2011, 0.0985, 0.1772, 0.0922, 0.2133, 0.1495,\n",
              "        0.1220, 0.0885, 0.1291, 0.7443, 0.2154, 0.7292, 0.9554, 0.1752, 0.3154,\n",
              "        0.1890, 0.0885, 0.1020, 0.0933, 0.0948, 0.0887, 0.1746, 0.4055, 0.0899,\n",
              "        0.1966, 0.5768, 0.3806, 0.0915, 0.1892, 0.0894, 1.0894, 0.5281, 0.1526,\n",
              "        0.0885, 0.0888, 0.0886, 0.0885, 0.5711, 0.0989, 0.0885, 0.4786, 0.3597,\n",
              "        0.1316, 0.7895, 0.0885, 1.2275, 0.0887, 0.0913, 0.1646, 0.4784, 0.1073,\n",
              "        0.8008, 0.1017, 0.0902, 0.1754, 0.0977, 0.2193, 0.1349, 0.4773, 0.0885,\n",
              "        0.2258, 0.7292, 0.0907, 1.0894, 0.0934, 0.1003, 0.0885, 0.0955, 0.1144,\n",
              "        0.1290, 0.1110, 1.2275, 0.1131, 0.1185, 0.1022, 0.1726, 0.1280, 0.0885,\n",
              "        0.8005, 0.0999, 0.0886, 0.0913, 0.1422])"
            ]
          },
          "metadata": {},
          "execution_count": 18
        }
      ]
    },
    {
      "cell_type": "code",
      "source": [
        "def get_loss_kde(adv_x,y,model,benigns, bandwidth, penalty_factor):\n",
        "    criterion = nn.CrossEntropyLoss(reduction='none')\n",
        "    outputs = model(adv_x)\n",
        "    n = mals.size(0)\n",
        "    ce = criterion(outputs, y.view(-1).long())\n",
        "    print('ce: ', ce)\n",
        "    kde = KDE(adv_x, benigns, bandwidth)\n",
        "    print('kde : ', kde)\n",
        "    loss_no_reduction = ce + penalty_factor * kde\n",
        "    _, predicted = torch.topk(outputs, k=1)\n",
        "    done = (predicted != y).squeeze()\n",
        "\n",
        "    return loss_no_reduction, done"
      ],
      "metadata": {
        "id": "15kW8ivEBtA0"
      },
      "execution_count": null,
      "outputs": []
    },
    {
      "cell_type": "code",
      "source": [
        "torch.zeros(15,dtype=torch.long)"
      ],
      "metadata": {
        "colab": {
          "base_uri": "https://localhost:8080/"
        },
        "id": "Q5fsDbNmEk4f",
        "outputId": "ce566952-ae5f-48ff-83e7-683be354464d"
      },
      "execution_count": null,
      "outputs": [
        {
          "output_type": "execute_result",
          "data": {
            "text/plain": [
              "tensor([0, 0, 0, 0, 0, 0, 0, 0, 0, 0, 0, 0, 0, 0, 0])"
            ]
          },
          "metadata": {},
          "execution_count": 24
        }
      ]
    },
    {
      "cell_type": "code",
      "source": [
        "mals.size(0)"
      ],
      "metadata": {
        "colab": {
          "base_uri": "https://localhost:8080/"
        },
        "id": "NC6GVoggFCQ7",
        "outputId": "04d2441a-534f-4b76-9b5f-fc640a3cba58"
      },
      "execution_count": null,
      "outputs": [
        {
          "output_type": "execute_result",
          "data": {
            "text/plain": [
              "15"
            ]
          },
          "metadata": {},
          "execution_count": 25
        }
      ]
    },
    {
      "cell_type": "code",
      "source": [
        "for x,y in test_loader:\n",
        "  print(x.shape)\n",
        "  break\n",
        "\n",
        "bens = x[y.squeeze()==0].to(torch.float32)\n",
        "mals = x[y.squeeze()==1].to(torch.float32)\n",
        "bens_label = y[y.squeeze()==0]\n",
        "mals_label = y[y.squeeze()==1]\n",
        "print(bens.shape)\n",
        "print(mals.shape)"
      ],
      "metadata": {
        "colab": {
          "base_uri": "https://localhost:8080/"
        },
        "id": "90RNs0X7CLsZ",
        "outputId": "ae48ddf1-575a-4906-c097-96a8b4c2ca27"
      },
      "execution_count": null,
      "outputs": [
        {
          "output_type": "stream",
          "name": "stdout",
          "text": [
            "torch.Size([128, 10000])\n",
            "torch.Size([113, 10000])\n",
            "torch.Size([15, 10000])\n"
          ]
        }
      ]
    },
    {
      "cell_type": "code",
      "source": [
        "KDE(mals, bens, 0.5)"
      ],
      "metadata": {
        "colab": {
          "base_uri": "https://localhost:8080/"
        },
        "id": "jIJpiw5eCt0d",
        "outputId": "b8374356-7516-49bc-af60-8347ba52d352"
      },
      "execution_count": null,
      "outputs": [
        {
          "output_type": "execute_result",
          "data": {
            "text/plain": [
              "tensor([3.1386e-08, 9.6793e-15, 2.0732e-21, 0.0000e+00, 9.6793e-15, 3.7610e-19,\n",
              "        5.5201e-33, 7.6521e-08, 0.0000e+00, 9.8133e-42, 3.1386e-08, 6.1342e-14,\n",
              "        9.6793e-15, 3.9919e-11, 2.0517e-22])"
            ]
          },
          "metadata": {},
          "execution_count": 22
        }
      ]
    },
    {
      "cell_type": "code",
      "source": [
        "KDE(bens, bens, 0.5)"
      ],
      "metadata": {
        "colab": {
          "base_uri": "https://localhost:8080/"
        },
        "id": "JutHFK93TvD-",
        "outputId": "fd913d14-e22e-49b1-bcda-b38bbdc7342a"
      },
      "execution_count": null,
      "outputs": [
        {
          "output_type": "execute_result",
          "data": {
            "text/plain": [
              "tensor([0.0885, 0.0888, 0.5273, 0.1056, 0.0885, 0.0885, 0.0885, 0.0885, 0.0885,\n",
              "        0.1129, 0.1037, 0.0885, 0.1585, 0.1770, 0.0885, 0.5273, 0.0885, 0.0885,\n",
              "        0.0885, 0.5273, 0.0895, 0.0940, 0.0885, 0.0885, 0.0888, 0.0885, 0.0885,\n",
              "        0.0972, 0.0885, 0.0981, 0.0885, 0.0885, 0.1770, 0.0885, 0.0920, 0.0885,\n",
              "        0.0885, 0.0885, 0.0885, 0.1246, 0.0886, 0.2006, 0.1867, 0.1021, 0.0888,\n",
              "        0.0885, 0.0885, 0.0885, 0.0885, 0.0885, 0.0885, 0.0885, 0.0911, 0.0885,\n",
              "        0.1124, 0.0984, 0.0895, 0.0885, 0.0902, 0.0885, 0.2771, 0.0981, 0.0901,\n",
              "        0.0885, 0.0885, 0.0885, 0.0885, 0.0972, 0.0885, 0.0885, 0.0923, 0.0898,\n",
              "        0.0885, 0.1291, 0.0885, 0.5273, 0.0885, 0.0885, 0.0885, 0.0935, 0.0885,\n",
              "        0.1582, 0.0885, 0.0885, 0.1021, 0.0885, 0.0888, 0.0885, 0.0935, 0.0885,\n",
              "        0.0906, 0.2006, 0.0885, 0.2771, 0.0885, 0.0885, 0.0885, 0.0885, 0.0885,\n",
              "        0.0886, 0.0885, 0.5273, 0.0885, 0.0885, 0.0885, 0.0887, 0.0886, 0.0885,\n",
              "        0.1582, 0.0885, 0.0885, 0.0885, 0.0887])"
            ]
          },
          "metadata": {},
          "execution_count": 120
        }
      ]
    },
    {
      "cell_type": "code",
      "source": [
        "\n",
        ".to(torch.float32)"
      ],
      "metadata": {
        "id": "BbG704FBI1jq"
      },
      "execution_count": null,
      "outputs": []
    },
    {
      "cell_type": "code",
      "source": [
        "loss,done = get_loss(mals,mals_label,model_AT_rFGSM,bens, 1., 100)"
      ],
      "metadata": {
        "colab": {
          "base_uri": "https://localhost:8080/"
        },
        "id": "9QBhwAfYDG-i",
        "outputId": "85da633d-8e04-414c-f254-2356db8f59e1"
      },
      "execution_count": null,
      "outputs": [
        {
          "output_type": "stream",
          "name": "stdout",
          "text": [
            "ce:  tensor([-0.0000e+00, -0.0000e+00, -0.0000e+00, -0.0000e+00, -0.0000e+00, -0.0000e+00,\n",
            "        -0.0000e+00, 9.2741e-05, -0.0000e+00, -0.0000e+00, -0.0000e+00, 1.1325e+01,\n",
            "        -0.0000e+00, -0.0000e+00, -0.0000e+00], grad_fn=<NllLossBackward0>)\n",
            "kde :  tensor([2.1148e-02, 5.8933e-04, 8.9441e-06, 9.6431e-25, 5.8933e-04, 7.3179e-06,\n",
            "        4.7786e-09, 6.8697e-03, 5.3102e-13, 1.0105e-11, 2.1148e-02, 1.3240e-04,\n",
            "        5.8933e-04, 4.0438e-03, 6.3707e-06])\n"
          ]
        }
      ]
    },
    {
      "cell_type": "code",
      "source": [
        "loss.mean()"
      ],
      "metadata": {
        "colab": {
          "base_uri": "https://localhost:8080/"
        },
        "id": "yhkrQGnPMoA3",
        "outputId": "022aab47-cb4d-4a05-ab69-19e6349afe18"
      },
      "execution_count": null,
      "outputs": [
        {
          "output_type": "execute_result",
          "data": {
            "text/plain": [
              "tensor(0.3874, grad_fn=<MeanBackward0>)"
            ]
          },
          "metadata": {},
          "execution_count": 49
        }
      ]
    },
    {
      "cell_type": "code",
      "source": [],
      "metadata": {
        "id": "nK6Lx4Q7HlcI"
      },
      "execution_count": null,
      "outputs": []
    },
    {
      "cell_type": "code",
      "source": [
        "k=100\n",
        "norm='l1'\n",
        "is_report_loss_diff = 'True'\n",
        "bandwidth = 1.\n",
        "penalty_factor = 100.\n",
        "x = mals\n",
        "y = mals_label\n",
        "step_length = 1.0\n",
        "\n",
        "model_AT_rFGSM.eval()\n",
        "\n",
        "# Compute natural loss\n",
        "loss_natural, _ = get_loss(x,y,model_AT_rFGSM,bens, bandwidth, penalty_factor)\n",
        "\n",
        "# Initialize starting point\n",
        "x_next = x.clone()\n",
        "#x_next = get_x0(x_next, initial_rounding_threshold, is_sample)\n",
        "\n",
        "# Multi-step PGD\n",
        "for t in range(k):\n",
        "    # Forward pass\n",
        "    x_var = x_next.clone().detach().requires_grad_(True)\n",
        "    loss, _ = get_loss(x_var,y,model_AT_rFGSM,bens, bandwidth, penalty_factor)\n",
        "\n",
        "    # Compute gradient\n",
        "    grad_vars = torch.autograd.grad(loss.mean(), x_var)\n",
        "    gradients = grad_vars[0].data\n",
        "\n",
        "    #pos_insertion = (x_var <= 0.5) * 1 * insertion_array\n",
        "    pos_insertion = (x_var <= 0.5) * 1\n",
        "    grad4insertion = (gradients >= 0) * pos_insertion * gradients\n",
        "\n",
        "    pos_removal = (x_var > 0.5) * 1 * removal_array\n",
        "    grad4removal = (gradients < 0) * pos_removal * gradients\n",
        "\n",
        "    gradients = grad4removal + grad4insertion\n",
        "    #gradients =  grad4insertion\n",
        "\n",
        "    # Norm\n",
        "    if norm == 'linf':\n",
        "        perturbation = torch.sign(gradients).float()\n",
        "\n",
        "    elif norm == 'l2':\n",
        "        l2norm = torch.linalg.norm(gradients, dim=-1, keepdim=True)\n",
        "        perturbation = (gradients / l2norm).float()\n",
        "        #perturbation = torch.minimum(torch.tensor(1., dtype=x.dtype, device=x.device), gradients / l2norm).float()\n",
        "        #perturbation = torch.maximum(torch.tensor(-1., dtype=x.dtype, device=x.device), perturbation).float()\n",
        "        #perturbation[torch.isnan(perturbation)] = 0.\n",
        "        #perturbation[torch.isinf(perturbation)] = 1.\n",
        "\n",
        "    elif norm == 'l1':\n",
        "        # consider just features of a sample which are not updated yet(because our update is 0to1 or 1to0 not stepwise)\n",
        "        un_mod = torch.abs(x_next - x_var) <= 1e-6\n",
        "        gradients = gradients * un_mod\n",
        "\n",
        "        val, _ = torch.topk(torch.abs(gradients), 1)\n",
        "        perturbation = (torch.abs(gradients) >= val.expand_as(gradients)).float() * torch.sign(gradients).float()\n",
        "        # stop perturbing the examples that are successful to evade the victim\n",
        "        _, done = get_loss(x_next,y,model_AT_rFGSM,bens, bandwidth, penalty_factor)\n",
        "        if torch.all(done):\n",
        "            break\n",
        "        print(done.shape)\n",
        "        perturbation[done] = 0.\n",
        "\n",
        "    else:\n",
        "        raise ValueError(\"Expect 'l1' or 'l2' or 'linf' norm.\")\n",
        "\n",
        "    # Update x_next\n",
        "    x_next = torch.clamp(x_next + perturbation * step_length, min=0., max=1.)\n",
        "\n",
        "# Rounding step\n",
        "if random:\n",
        "    round_threshold = torch.rand(x_next.size())\n",
        "x_next = round_x(x_next, round_threshold=round_threshold)\n",
        "\n",
        "# Feasible projection\n",
        "#x_next = or_float_tensors(x_next, x)\n",
        "\n",
        "# Compute adversarial loss\n",
        "loss, _ = get_loss(x_next,y,model_AT_rFGSM,bens, bandwidth, penalty_factor)\n",
        "loss_adv = loss.data\n",
        "if is_report_loss_diff:\n",
        "    outputs = model_AT_rFGSM(x_next)\n",
        "    _, predicted = torch.topk(outputs, k=1)\n",
        "    done = (predicted != y).squeeze()\n",
        "    print(f\"PGD {norm}: Attack effectiveness {done.sum().item() / x.size()[0] * 100:.3f}%.\")\n",
        "\n",
        "# Replace with natural if adversarial loss is higher\n",
        "replace_flag = (loss_adv < loss_natural).squeeze()\n",
        "x_next[replace_flag] = x[replace_flag]\n"
      ],
      "metadata": {
        "id": "RVc7dnUbGpCL"
      },
      "execution_count": null,
      "outputs": []
    },
    {
      "cell_type": "code",
      "source": [],
      "metadata": {
        "id": "X7yheTBhGo_D"
      },
      "execution_count": null,
      "outputs": []
    },
    {
      "cell_type": "code",
      "source": [],
      "metadata": {
        "id": "B3WL6lEGGo6h"
      },
      "execution_count": null,
      "outputs": []
    },
    {
      "cell_type": "code",
      "source": [],
      "metadata": {
        "id": "wp00GuM4g2w0"
      },
      "execution_count": null,
      "outputs": []
    },
    {
      "cell_type": "code",
      "source": [],
      "metadata": {
        "id": "BUOZ-NGt-qyU"
      },
      "execution_count": null,
      "outputs": []
    },
    {
      "cell_type": "code",
      "source": [
        "def gkde(x, y, model,bens, bandwidth, penalty_factor, insertion_array, removal_array, k=25, step_length=0.02, norm='linf', initial_rounding_threshold=0.5, round_threshold=0.5, random=False, is_report_loss_diff=True, is_sample=False):\n",
        "    \"\"\"\n",
        "    Projected Gradient Descent (PGD) adversarial attack.\n",
        "    :param y: Ground truth labels\n",
        "    :param x: Feature vector\n",
        "    :param model: Neural network model\n",
        "    :param k: Number of steps\n",
        "    :param step_length: Step size for each iteration\n",
        "    :param norm: Norm used for perturbation ('linf' or 'l2')\n",
        "    :param initial_rounding_threshold: Threshold parameter for rounding the initial x_next\n",
        "    :param round_threshold: Threshold parameter for rounding\n",
        "    :param random: Flag to generate random thresholds\n",
        "    :param is_report_loss_diff: Flag to report loss difference\n",
        "    :param is_sample: Flag to sample randomly from the feasible area\n",
        "    :return: The adversarial version of x (tensor)\n",
        "    \"\"\"\n",
        "    model.eval()\n",
        "\n",
        "    # Compute natural loss\n",
        "    criterion = nn.CrossEntropyLoss(reduction='none')\n",
        "    loss_natural, _ = get_loss_kde(x,y,model,bens, bandwidth, penalty_factor)\n",
        "\n",
        "    # Initialize starting point\n",
        "    x_next = x.clone()\n",
        "    x_next = get_x0(x_next, initial_rounding_threshold, is_sample)\n",
        "\n",
        "    # Multi-step PGD\n",
        "    for t in range(k):\n",
        "        # Forward pass\n",
        "        x_var = x_next.clone().detach().requires_grad_(True)\n",
        "        #y_model = model(x_var)\n",
        "        loss,_ = get_loss_kde(x_var,y,model,bens, bandwidth, penalty_factor)\n",
        "\n",
        "        # Compute gradient\n",
        "        grad_vars = torch.autograd.grad(loss.mean(), x_var)\n",
        "        gradients = grad_vars[0].data\n",
        "\n",
        "        #pos_insertion = (x_var <= 0.5) * 1 * insertion_array\n",
        "        pos_insertion = (x_var <= 0.5) * 1\n",
        "        grad4insertion = (gradients >= 0) * pos_insertion * gradients\n",
        "\n",
        "        pos_removal = (x_var > 0.5) * 1 * removal_array\n",
        "        grad4removal = (gradients < 0) * pos_removal * gradients\n",
        "\n",
        "        gradients = grad4removal + grad4insertion\n",
        "        #gradients =  grad4insertion\n",
        "\n",
        "        # Norm\n",
        "        if norm == 'linf':\n",
        "            perturbation = torch.sign(gradients).float()\n",
        "\n",
        "        elif norm == 'l2':\n",
        "            l2norm = torch.linalg.norm(gradients, dim=-1, keepdim=True)\n",
        "            perturbation = (gradients / l2norm).float()\n",
        "            #perturbation = torch.minimum(torch.tensor(1., dtype=x.dtype, device=x.device), gradients / l2norm).float()\n",
        "            #perturbation = torch.maximum(torch.tensor(-1., dtype=x.dtype, device=x.device), perturbation).float()\n",
        "            #perturbation[torch.isnan(perturbation)] = 0.\n",
        "            #perturbation[torch.isinf(perturbation)] = 1.\n",
        "\n",
        "        elif norm == 'l1':\n",
        "            # consider just features of a sample which are not updated yet(because our update is 0to1 or 1to0 not stepwise)\n",
        "            un_mod = torch.abs(x_next - x_var) <= 1e-6\n",
        "            gradients = gradients * un_mod\n",
        "\n",
        "            val, _ = torch.topk(torch.abs(gradients), 1)\n",
        "            perturbation = (torch.abs(gradients) >= val.expand_as(gradients)).float() * torch.sign(gradients).float()\n",
        "            # stop perturbing the examples that are successful to evade the victim\n",
        "            _, done = get_loss_kde(x_next,y,model,bens, bandwidth, penalty_factor)\n",
        "            if torch.all(done):\n",
        "                break\n",
        "            perturbation[done] = 0.\n",
        "\n",
        "        else:\n",
        "            raise ValueError(\"Expect 'l1' or 'l2' or 'linf' norm.\")\n",
        "\n",
        "        # Update x_next\n",
        "        x_next = torch.clamp(x_next + perturbation * step_length, min=0., max=1.)\n",
        "\n",
        "    # Rounding step\n",
        "    if random:\n",
        "       round_threshold = torch.rand(x_next.size())\n",
        "    x_next = round_x(x_next, round_threshold=round_threshold)\n",
        "\n",
        "    # Feasible projection\n",
        "    #x_next = or_float_tensors(x_next, x)\n",
        "\n",
        "    # Compute adversarial loss\n",
        "    loss_adv, done = get_loss_kde(x_next,y,model,bens, bandwidth, penalty_factor)\n",
        "    loss_adv = loss_adv.data\n",
        "\n",
        "    if is_report_loss_diff:\n",
        "        print(f\"PGD {norm}: Attack effectiveness {done.sum().item() / x.size()[0] * 100:.3f}%.\")\n",
        "\n",
        "    # Replace with natural if adversarial loss is higher\n",
        "    replace_flag = (loss_adv < loss_natural).squeeze()\n",
        "    x_next[replace_flag] = x[replace_flag]\n",
        "\n",
        "    return x_next"
      ],
      "metadata": {
        "id": "XdQ-5RbP6oDu"
      },
      "execution_count": null,
      "outputs": []
    },
    {
      "cell_type": "code",
      "source": [
        "def get_loss_kde(adv_x,y,model,benigns, bandwidth, penalty_factor):\n",
        "    criterion = nn.CrossEntropyLoss(reduction='none')\n",
        "    outputs = model(adv_x)\n",
        "    n = mals.size(0)\n",
        "    ce = criterion(outputs, y.view(-1).long())\n",
        "    print('ce: ', ce)\n",
        "    kde = KDE(adv_x, benigns, bandwidth)\n",
        "    print('kde : ', kde)\n",
        "    loss_no_reduction = ce + penalty_factor * kde\n",
        "    _, predicted = torch.topk(outputs, k=1)\n",
        "    done = (predicted != y).squeeze()\n",
        "\n",
        "    return loss_no_reduction, done"
      ],
      "metadata": {
        "id": "Y08-O942S4ub"
      },
      "execution_count": null,
      "outputs": []
    },
    {
      "cell_type": "code",
      "source": [
        "kde :  tensor([9.4778e-02, 3.2176e-02, 2.3004e-03, 2.7972e-08, 3.2176e-02, 3.9920e-04,\n",
        "        2.9941e-06, 1.1326e-02, 3.3817e-07, 2.2469e-04, 9.4778e-02, 1.3240e-04,\n",
        "        3.2176e-02, 1.8123e-02, 1.2042e-03])"
      ],
      "metadata": {
        "id": "BYHFTLE2UdKy"
      },
      "execution_count": null,
      "outputs": []
    },
    {
      "cell_type": "code",
      "source": [
        "kde :  tensor([9.4778e-02, 3.2158e-02, 9.2619e-05, 1.7899e-08, 3.2158e-02, 3.9920e-04,\n",
        "        2.9941e-06, 1.1326e-02, 3.3817e-07, 2.2469e-04, 9.4778e-02, 1.3240e-04,\n",
        "        3.2158e-02, 1.8123e-02, 1.2042e-03])"
      ],
      "metadata": {
        "id": "fIBtkboOU1DG"
      },
      "execution_count": null,
      "outputs": []
    },
    {
      "cell_type": "code",
      "source": [
        "kde :  tensor([9.4778e-02, 3.2158e-02, 6.8205e-05, 2.7972e-08, 3.2158e-02, 3.9920e-04,\n",
        "        2.9941e-06, 1.1326e-02, 3.3817e-07, 6.2256e-07, 9.4778e-02, 1.3240e-04,\n",
        "        3.2158e-02, 1.8123e-02, 1.2042e-03])"
      ],
      "metadata": {
        "id": "v2PSqzMyVMPx"
      },
      "execution_count": null,
      "outputs": []
    },
    {
      "cell_type": "code",
      "source": [
        "kde :  tensor([9.4778e-02, 3.2158e-02, 6.8205e-05, 1.7899e-08, 3.2158e-02, 3.9920e-04,\n",
        "        2.9941e-06, 1.1326e-02, 3.3817e-07, 6.2254e-07, 9.4778e-02, 1.3240e-04,\n",
        "        3.2158e-02, 1.8123e-02, 2.0546e-04])"
      ],
      "metadata": {
        "id": "40TeXHSBVjvK"
      },
      "execution_count": null,
      "outputs": []
    },
    {
      "cell_type": "code",
      "source": [
        "gkde(mals,mals_label,model_AT_rFGSM,bens,1.,1000.,insertion_array, removal_array, k=200, step_length=0.05, norm='l2', initial_rounding_threshold=0.5, round_threshold=0.5, random=False, is_report_loss_diff=True, is_sample=False)"
      ],
      "metadata": {
        "colab": {
          "base_uri": "https://localhost:8080/"
        },
        "id": "PIqhUVdG-quH",
        "outputId": "f84ac2f0-b1d4-43d5-8f6b-8a9797f23db7"
      },
      "execution_count": null,
      "outputs": [
        {
          "output_type": "stream",
          "name": "stdout",
          "text": [
            "ce:  tensor([-0.0000e+00, -0.0000e+00, -0.0000e+00, -0.0000e+00, -0.0000e+00, -0.0000e+00,\n",
            "        -0.0000e+00, 9.2741e-05, -0.0000e+00, -0.0000e+00, -0.0000e+00, 1.1325e+01,\n",
            "        -0.0000e+00, -0.0000e+00, -0.0000e+00], grad_fn=<NllLossBackward0>)\n",
            "kde :  tensor([2.1148e-02, 5.8933e-04, 8.9441e-06, 9.6431e-25, 5.8933e-04, 7.3179e-06,\n",
            "        4.7786e-09, 6.8697e-03, 5.3102e-13, 1.0105e-11, 2.1148e-02, 1.3240e-04,\n",
            "        5.8933e-04, 4.0438e-03, 6.3707e-06])\n",
            "ce:  tensor([-0.0000e+00, -0.0000e+00, -0.0000e+00, -0.0000e+00, -0.0000e+00, -0.0000e+00,\n",
            "        -0.0000e+00, 9.2741e-05, -0.0000e+00, -0.0000e+00, -0.0000e+00, 1.1325e+01,\n",
            "        -0.0000e+00, -0.0000e+00, -0.0000e+00], grad_fn=<NllLossBackward0>)\n",
            "kde :  tensor([2.1148e-02, 5.8933e-04, 8.9441e-06, 9.6431e-25, 5.8933e-04, 7.3179e-06,\n",
            "        4.7786e-09, 6.8697e-03, 5.3102e-13, 1.0105e-11, 2.1148e-02, 1.3240e-04,\n",
            "        5.8933e-04, 4.0438e-03, 6.3707e-06], grad_fn=<MeanBackward1>)\n",
            "ce:  tensor([-0.0000e+00, -0.0000e+00, -0.0000e+00, -0.0000e+00, -0.0000e+00, -0.0000e+00,\n",
            "        -0.0000e+00, 1.4829e-04, -0.0000e+00, -0.0000e+00, -0.0000e+00, 1.1622e+01,\n",
            "        -0.0000e+00, -0.0000e+00, -0.0000e+00], grad_fn=<NllLossBackward0>)\n",
            "kde :  tensor([2.3870e-02, 6.9264e-04, 1.0571e-05, 1.4809e-24, 6.9264e-04, 8.5866e-06,\n",
            "        5.7169e-09, 7.3754e-03, 6.8537e-13, 1.3487e-11, 2.3870e-02, 1.3921e-04,\n",
            "        6.9264e-04, 4.5427e-03, 7.5266e-06], grad_fn=<MeanBackward1>)\n",
            "ce:  tensor([-0.0000e+00, -0.0000e+00, -0.0000e+00, -0.0000e+00, -0.0000e+00, -0.0000e+00,\n",
            "        -0.0000e+00, 2.3315e-04, -0.0000e+00, -0.0000e+00, -0.0000e+00, 1.1915e+01,\n",
            "        -0.0000e+00, -0.0000e+00, -0.0000e+00], grad_fn=<NllLossBackward0>)\n",
            "kde :  tensor([2.6875e-02, 8.1205e-04, 1.2466e-05, 2.2687e-24, 8.1205e-04, 1.0051e-05,\n",
            "        6.8231e-09, 7.8988e-03, 8.8244e-13, 1.7957e-11, 2.6875e-02, 1.4664e-04,\n",
            "        8.1205e-04, 5.0909e-03, 8.8707e-06], grad_fn=<MeanBackward1>)\n",
            "ce:  tensor([-0.0000e+00, -0.0000e+00, -0.0000e+00, -0.0000e+00, -0.0000e+00, -0.0000e+00,\n",
            "        -0.0000e+00, 3.7580e-04, -0.0000e+00, -0.0000e+00, -0.0000e+00, 1.2209e+01,\n",
            "        -0.0000e+00, -0.0000e+00, -0.0000e+00], grad_fn=<NllLossBackward0>)\n",
            "kde :  tensor([3.0184e-02, 9.4968e-04, 1.4665e-05, 3.4673e-24, 9.4968e-04, 1.1735e-05,\n",
            "        8.1238e-09, 8.4382e-03, 1.1334e-12, 2.3849e-11, 3.0184e-02, 1.5411e-04,\n",
            "        9.4968e-04, 5.6914e-03, 1.0430e-05], grad_fn=<MeanBackward1>)\n",
            "ce:  tensor([-0.0000e+00, -0.0000e+00, -0.0000e+00, -0.0000e+00, -0.0000e+00, -0.0000e+00,\n",
            "        -0.0000e+00, 6.1243e-04, -0.0000e+00, -0.0000e+00, -0.0000e+00, 1.2476e+01,\n",
            "        -0.0000e+00, -0.0000e+00, -0.0000e+00], grad_fn=<NllLossBackward0>)\n",
            "kde :  tensor([3.3816e-02, 1.1079e-03, 1.7212e-05, 5.2861e-24, 1.1079e-03, 1.3669e-05,\n",
            "        9.6495e-09, 8.9921e-03, 1.4522e-12, 3.1596e-11, 3.3816e-02, 1.6158e-04,\n",
            "        1.1079e-03, 6.3474e-03, 1.2233e-05], grad_fn=<MeanBackward1>)\n",
            "ce:  tensor([-0.0000e+00, -0.0000e+00, -0.0000e+00, -0.0000e+00, -0.0000e+00, -0.0000e+00,\n",
            "        -0.0000e+00, 1.0285e-03, -0.0000e+00, -0.0000e+00, -0.0000e+00, 1.2759e+01,\n",
            "        -0.0000e+00, -0.0000e+00, -0.0000e+00], grad_fn=<NllLossBackward0>)\n",
            "kde :  tensor([3.7791e-02, 1.2893e-03, 2.0154e-05, 8.0395e-24, 1.2893e-03, 1.5882e-05,\n",
            "        1.1434e-08, 9.5586e-03, 1.8562e-12, 4.1755e-11, 3.7791e-02, 1.6979e-04,\n",
            "        1.2893e-03, 7.0619e-03, 1.4314e-05], grad_fn=<MeanBackward1>)\n",
            "ce:  tensor([-0.0000e+00, -0.0000e+00, -0.0000e+00, -0.0000e+00, -0.0000e+00, -0.0000e+00,\n",
            "        -0.0000e+00, 1.7287e-03, -0.0000e+00, -0.0000e+00, -0.0000e+00, 1.3026e+01,\n",
            "        -0.0000e+00, -0.0000e+00, -0.0000e+00], grad_fn=<NllLossBackward0>)\n",
            "kde :  tensor([4.2129e-02, 1.4966e-03, 2.3544e-05, 1.2197e-23, 1.4966e-03, 1.8408e-05,\n",
            "        1.3517e-08, 1.0136e-02, 2.3668e-12, 5.5045e-11, 4.2129e-02, 1.7797e-04,\n",
            "        1.4966e-03, 7.8378e-03, 1.6708e-05], grad_fn=<MeanBackward1>)\n",
            "ce:  tensor([-0.0000e+00, -0.0000e+00, -0.0000e+00, -0.0000e+00, -0.0000e+00, -0.0000e+00,\n",
            "        -0.0000e+00, 2.9177e-03, -0.0000e+00, -0.0000e+00, -0.0000e+00, 1.3286e+01,\n",
            "        -0.0000e+00, -0.0000e+00, -0.0000e+00], grad_fn=<NllLossBackward0>)\n",
            "kde :  tensor([4.6848e-02, 1.7330e-03, 2.7440e-05, 1.8460e-23, 1.7330e-03, 2.1284e-05,\n",
            "        1.5941e-08, 1.0721e-02, 3.0104e-12, 7.2385e-11, 4.6848e-02, 1.8610e-04,\n",
            "        1.7330e-03, 8.6780e-03, 1.9456e-05], grad_fn=<MeanBackward1>)\n",
            "ce:  tensor([-0.0000e+00, -0.0000e+00, -0.0000e+00, -0.0000e+00, -0.0000e+00, -0.0000e+00,\n",
            "        -0.0000e+00, 5.0427e-03, -0.0000e+00, -0.0000e+00, -0.0000e+00, 1.3538e+01,\n",
            "        -0.0000e+00, -0.0000e+00, -0.0000e+00], grad_fn=<NllLossBackward0>)\n",
            "kde :  tensor([5.1966e-02, 2.0018e-03, 3.1906e-05, 2.7872e-23, 2.0018e-03, 2.4549e-05,\n",
            "        1.8755e-08, 1.1311e-02, 3.8198e-12, 9.4951e-11, 5.1966e-02, 1.9410e-04,\n",
            "        2.0018e-03, 9.5850e-03, 2.2601e-05], grad_fn=<MeanBackward1>)\n",
            "ce:  tensor([-0.0000e+00, -0.0000e+00, -0.0000e+00, -0.0000e+00, -0.0000e+00, -0.0000e+00,\n",
            "        -0.0000e+00, 8.8542e-03, -0.0000e+00, -0.0000e+00, -0.0000e+00, 1.3777e+01,\n",
            "        -0.0000e+00, -0.0000e+00, -0.0000e+00], grad_fn=<NllLossBackward0>)\n",
            "kde :  tensor([5.7500e-02, 2.3065e-03, 3.7012e-05, 4.1979e-23, 2.3065e-03, 2.8246e-05,\n",
            "        2.2013e-08, 1.1905e-02, 4.8351e-12, 1.2425e-10, 5.7500e-02, 2.0128e-04,\n",
            "        2.3065e-03, 1.0561e-02, 2.6191e-05], grad_fn=<MeanBackward1>)\n",
            "ce:  tensor([-0.0000, -0.0000, -0.0000, -0.0000, -0.0000, -0.0000, -0.0000,  0.0158,\n",
            "        -0.0000, -0.0000, -0.0000, 14.0214, -0.0000, -0.0000, -0.0000],\n",
            "       grad_fn=<NllLossBackward0>)\n",
            "kde :  tensor([6.3466e-02, 2.6510e-03, 4.2835e-05, 6.3074e-23, 2.6510e-03, 3.2420e-05,\n",
            "        2.5777e-08, 1.2498e-02, 6.1052e-12, 1.6218e-10, 6.3466e-02, 2.0896e-04,\n",
            "        2.6510e-03, 1.1609e-02, 3.0278e-05], grad_fn=<MeanBackward1>)\n",
            "ce:  tensor([-0.0000, -0.0000, -0.0000, -0.0000, -0.0000, -0.0000, -0.0000,  0.0288,\n",
            "        -0.0000, -0.0000, -0.0000, 14.2519, -0.0000, -0.0000, -0.0000],\n",
            "       grad_fn=<NllLossBackward0>)\n",
            "kde :  tensor([6.9877e-02, 3.0395e-03, 4.9458e-05, 9.4537e-23, 3.0395e-03, 3.7121e-05,\n",
            "        3.0112e-08, 1.3089e-02, 7.6902e-12, 2.1116e-10, 6.9877e-02, 2.1642e-04,\n",
            "        3.0395e-03, 1.2729e-02, 3.4918e-05], grad_fn=<MeanBackward1>)\n",
            "ce:  tensor([-0.0000, -0.0000, -0.0000, -0.0000, -0.0000, -0.0000, -0.0000,  0.0550,\n",
            "        -0.0000, -0.0000, -0.0000, 14.4916, -0.0000, -0.0000, -0.0000],\n",
            "       grad_fn=<NllLossBackward0>)\n",
            "kde :  tensor([7.6745e-02, 3.4762e-03, 5.6972e-05, 1.4135e-22, 3.4762e-03, 4.2400e-05,\n",
            "        3.5093e-08, 1.3672e-02, 9.6631e-12, 2.7426e-10, 7.6745e-02, 2.2361e-04,\n",
            "        3.4762e-03, 1.3924e-02, 4.0172e-05], grad_fn=<MeanBackward1>)\n",
            "ce:  tensor([-0.0000, -0.0000, -0.0000, -0.0000, -0.0000, -0.0000, -0.0000,  0.1046,\n",
            "        -0.0000, -0.0000, -0.0000, 14.7253, -0.0000, -0.0000, -0.0000],\n",
            "       grad_fn=<NllLossBackward0>)\n",
            "kde :  tensor([8.4079e-02, 3.9659e-03, 6.5475e-05, 2.1084e-22, 3.9659e-03, 4.8313e-05,\n",
            "        4.0803e-08, 1.4245e-02, 1.2113e-11, 3.5533e-10, 8.4079e-02, 2.3044e-04,\n",
            "        3.9659e-03, 1.5194e-02, 4.6104e-05], grad_fn=<MeanBackward1>)\n",
            "ce:  tensor([-0.0000, -0.0000, -0.0000, -0.0000, -0.0000, -0.0000, -0.0000,  0.2023,\n",
            "        -0.0000, -0.0000, -0.0000, 14.9581, -0.0000, -0.0000, -0.0000],\n",
            "       grad_fn=<NllLossBackward0>)\n",
            "kde :  tensor([9.1885e-02, 4.5134e-03, 7.5070e-05, 3.1371e-22, 4.5134e-03, 5.4917e-05,\n",
            "        4.7329e-08, 1.4800e-02, 1.5146e-11, 4.5923e-10, 9.1885e-02, 2.3782e-04,\n",
            "        4.5134e-03, 1.6540e-02, 5.2785e-05], grad_fn=<MeanBackward1>)\n",
            "ce:  tensor([-0.0000, -0.0000, -0.0000, -0.0000, -0.0000, -0.0000, -0.0000,  0.3751,\n",
            "        -0.0000, -0.0000, -0.0000, 15.1605, -0.0000, -0.0000, -0.0000],\n",
            "       grad_fn=<NllLossBackward0>)\n",
            "kde :  tensor([1.0017e-01, 5.1237e-03, 8.5871e-05, 4.6565e-22, 5.1237e-03, 6.2273e-05,\n",
            "        5.4771e-08, 1.5330e-02, 1.8892e-11, 5.9205e-10, 1.0017e-01, 2.4419e-04,\n",
            "        5.1237e-03, 1.7961e-02, 6.0288e-05], grad_fn=<MeanBackward1>)\n",
            "ce:  tensor([-0.0000, -0.0000, -0.0000, -0.0000, -0.0000, -0.0000, -0.0000,  0.5798,\n",
            "        -0.0000, -0.0000, -0.0000, 15.3833, -0.0000, -0.0000, -0.0000],\n",
            "       grad_fn=<NllLossBackward0>)\n",
            "kde :  tensor([1.0892e-01, 5.8021e-03, 9.7997e-05, 6.8950e-22, 5.8021e-03, 7.0445e-05,\n",
            "        6.3234e-08, 1.5360e-02, 2.3508e-11, 7.6138e-10, 1.0892e-01, 2.5058e-04,\n",
            "        5.8021e-03, 1.9458e-02, 6.8691e-05], grad_fn=<MeanBackward1>)\n",
            "ce:  tensor([-0.0000, -0.0000, -0.0000, -0.0000, -0.0000, -0.0000, -0.0000,  0.8812,\n",
            "        -0.0000, -0.0000, -0.0000, 15.5891, -0.0000, -0.0000, -0.0000],\n",
            "       grad_fn=<NllLossBackward0>)\n",
            "kde :  tensor([1.1815e-01, 6.5541e-03, 1.1157e-04, 1.0185e-21, 6.5541e-03, 7.9497e-05,\n",
            "        7.2835e-08, 1.5336e-02, 2.9180e-11, 9.7671e-10, 1.1815e-01, 2.5635e-04,\n",
            "        6.5541e-03, 2.1028e-02, 7.8075e-05], grad_fn=<MeanBackward1>)\n",
            "ce:  tensor([-0.0000e+00, -0.0000e+00, -0.0000e+00, -0.0000e+00, -0.0000e+00, -0.0000e+00,\n",
            "        -0.0000e+00, 1.1196e+00, -0.0000e+00, -0.0000e+00, -0.0000e+00, 1.5799e+01,\n",
            "        -0.0000e+00, 1.1921e-07, -0.0000e+00], grad_fn=<NllLossBackward0>)\n",
            "kde :  tensor([1.2784e-01, 7.3853e-03, 1.2673e-04, 1.5007e-21, 7.3853e-03, 8.9497e-05,\n",
            "        8.3697e-08, 1.5260e-02, 3.6133e-11, 1.2498e-09, 1.2784e-01, 2.6207e-04,\n",
            "        7.3853e-03, 2.2670e-02, 8.8526e-05], grad_fn=<MeanBackward1>)\n",
            "ce:  tensor([-0.0000e+00, -0.0000e+00, -0.0000e+00, -0.0000e+00, -0.0000e+00, -0.0000e+00,\n",
            "        -0.0000e+00, 1.3653e+00, -0.0000e+00, -0.0000e+00, -0.0000e+00, 1.6028e+01,\n",
            "        -0.0000e+00, 4.7684e-07, -0.0000e+00], grad_fn=<NllLossBackward0>)\n",
            "kde :  tensor([1.3799e-01, 8.3013e-03, 1.4362e-04, 2.2060e-21, 8.3013e-03, 1.0051e-04,\n",
            "        9.5956e-08, 1.5166e-02, 4.4632e-11, 1.5954e-09, 1.3799e-01, 2.6676e-04,\n",
            "        8.3013e-03, 2.4380e-02, 1.0013e-04], grad_fn=<MeanBackward1>)\n",
            "ce:  tensor([-0.0000e+00, -0.0000e+00, -0.0000e+00, -0.0000e+00, -0.0000e+00, -0.0000e+00,\n",
            "        -0.0000e+00, 1.6228e+00, -0.0000e+00, -0.0000e+00, -0.0000e+00, 1.6186e+01,\n",
            "        -0.0000e+00, 1.7881e-06, -0.0000e+00], grad_fn=<NllLossBackward0>)\n",
            "kde :  tensor([1.4856e-01, 9.3078e-03, 1.6237e-04, 3.2348e-21, 9.3078e-03, 1.1262e-04,\n",
            "        1.0976e-07, 1.5041e-02, 5.4996e-11, 2.0315e-09, 1.4856e-01, 2.6723e-04,\n",
            "        9.3078e-03, 2.6156e-02, 1.1299e-04], grad_fn=<MeanBackward1>)\n",
            "ce:  tensor([-0.0000e+00, -0.0000e+00, -0.0000e+00, -0.0000e+00, -0.0000e+00, -0.0000e+00,\n",
            "        -0.0000e+00, 1.9195e+00, -0.0000e+00, -0.0000e+00, -0.0000e+00, 1.6343e+01,\n",
            "        -0.0000e+00, 6.7949e-06, -0.0000e+00], grad_fn=<NllLossBackward0>)\n",
            "kde :  tensor([1.5956e-01, 1.0410e-02, 1.8314e-04, 4.7318e-21, 1.0410e-02, 1.2588e-04,\n",
            "        1.2525e-07, 1.4871e-02, 6.7600e-11, 2.5803e-09, 1.5956e-01, 2.7170e-04,\n",
            "        1.0410e-02, 2.7994e-02, 1.2718e-04], grad_fn=<MeanBackward1>)\n",
            "ce:  tensor([-0.0000e+00, -0.0000e+00, -0.0000e+00, -0.0000e+00, -0.0000e+00, -0.0000e+00,\n",
            "        -0.0000e+00, 2.1781e+00, -0.0000e+00, -0.0000e+00, -0.0000e+00, 1.6482e+01,\n",
            "        -0.0000e+00, 2.5630e-05, -0.0000e+00], grad_fn=<NllLossBackward0>)\n",
            "kde :  tensor([1.7094e-01, 1.1615e-02, 2.0608e-04, 6.9048e-21, 1.1615e-02, 1.4037e-04,\n",
            "        1.4260e-07, 1.4672e-02, 8.2890e-11, 3.2692e-09, 1.7094e-01, 2.7554e-04,\n",
            "        1.1615e-02, 2.9888e-02, 1.4282e-04], grad_fn=<MeanBackward1>)\n",
            "ce:  tensor([1.1921e-07, -0.0000e+00, -0.0000e+00, -0.0000e+00, -0.0000e+00, -0.0000e+00,\n",
            "        -0.0000e+00, 2.3718e+00, -0.0000e+00, -0.0000e+00, 1.1921e-07, 1.6619e+01,\n",
            "        -0.0000e+00, 9.7628e-05, -0.0000e+00], grad_fn=<NllLossBackward0>)\n",
            "kde :  tensor([1.8268e-01, 1.2927e-02, 2.3136e-04, 1.0051e-20, 1.2927e-02, 1.5617e-04,\n",
            "        1.6198e-07, 1.4506e-02, 1.0139e-10, 4.1319e-09, 1.8268e-01, 2.8094e-04,\n",
            "        1.2927e-02, 3.1832e-02, 1.5998e-04], grad_fn=<MeanBackward1>)\n",
            "ce:  tensor([3.5763e-07, -0.0000e+00, -0.0000e+00, -0.0000e+00, -0.0000e+00, -0.0000e+00,\n",
            "        -0.0000e+00, 2.5352e+00, -0.0000e+00, -0.0000e+00, 3.5763e-07, 1.6658e+01,\n",
            "        -0.0000e+00, 4.1452e-04, -0.0000e+00], grad_fn=<NllLossBackward0>)\n",
            "kde :  tensor([1.9474e-01, 1.4351e-02, 2.5913e-04, 1.4596e-20, 1.4351e-02, 1.7333e-04,\n",
            "        1.8357e-07, 1.4300e-02, 1.2371e-10, 5.2093e-09, 1.9474e-01, 2.8309e-04,\n",
            "        1.4351e-02, 3.3821e-02, 1.7878e-04], grad_fn=<MeanBackward1>)\n",
            "ce:  tensor([1.3113e-06, -0.0000e+00, -0.0000e+00, -0.0000e+00, -0.0000e+00, -0.0000e+00,\n",
            "        -0.0000e+00, 2.5826e+00, -0.0000e+00, -0.0000e+00, 1.3113e-06, 1.6732e+01,\n",
            "        -0.0000e+00, 3.7878e-04, -0.0000e+00], grad_fn=<NllLossBackward0>)\n",
            "kde :  tensor([2.0708e-01, 1.5893e-02, 2.8955e-04, 2.1143e-20, 1.5893e-02, 1.9193e-04,\n",
            "        2.0757e-07, 1.4260e-02, 1.5058e-10, 6.5513e-09, 2.0708e-01, 2.9429e-04,\n",
            "        1.5893e-02, 3.4913e-02, 1.9929e-04], grad_fn=<MeanBackward1>)\n",
            "ce:  tensor([1.3113e-06, -0.0000e+00, -0.0000e+00, -0.0000e+00, -0.0000e+00, -0.0000e+00,\n",
            "        -0.0000e+00, 2.6869e+00, -0.0000e+00, -0.0000e+00, 1.3113e-06, 1.6780e+01,\n",
            "        -0.0000e+00, 2.9536e-04, -0.0000e+00], grad_fn=<NllLossBackward0>)\n",
            "kde :  tensor([2.1205e-01, 1.7557e-02, 3.2279e-04, 3.0553e-20, 1.7557e-02, 2.1203e-04,\n",
            "        2.3417e-07, 1.4091e-02, 1.8284e-10, 8.2186e-09, 2.1205e-01, 2.9059e-04,\n",
            "        1.7557e-02, 3.5622e-02, 2.2162e-04], grad_fn=<MeanBackward1>)\n",
            "ce:  tensor([9.5367e-07, -0.0000e+00, -0.0000e+00, -0.0000e+00, -0.0000e+00, -0.0000e+00,\n",
            "        -0.0000e+00, 2.7426e+00, -0.0000e+00, -0.0000e+00, 9.5367e-07, 1.6822e+01,\n",
            "        -0.0000e+00, 2.3303e-04, -0.0000e+00], grad_fn=<NllLossBackward0>)\n",
            "kde :  tensor([2.1337e-01, 1.9347e-02, 3.5900e-04, 4.4044e-20, 1.9347e-02, 2.3370e-04,\n",
            "        2.6358e-07, 1.4036e-02, 2.2146e-10, 1.0285e-08, 2.1337e-01, 2.9979e-04,\n",
            "        1.9347e-02, 3.6263e-02, 2.4586e-04], grad_fn=<MeanBackward1>)\n",
            "ce:  tensor([7.1526e-07, -0.0000e+00, -0.0000e+00, -0.0000e+00, -0.0000e+00, -0.0000e+00,\n",
            "        -0.0000e+00, 2.7688e+00, -0.0000e+00, -0.0000e+00, 7.1526e-07, 1.6902e+01,\n",
            "        -0.0000e+00, 1.8380e-04, -0.0000e+00], grad_fn=<NllLossBackward0>)\n",
            "kde :  tensor([2.1424e-01, 2.1267e-02, 3.9833e-04, 6.3337e-20, 2.1267e-02, 2.5700e-04,\n",
            "        2.9601e-07, 1.3979e-02, 2.6758e-10, 1.2838e-08, 2.1424e-01, 3.0089e-04,\n",
            "        2.1267e-02, 3.6441e-02, 2.7208e-04], grad_fn=<MeanBackward1>)\n",
            "ce:  tensor([5.9605e-07, -0.0000e+00, -0.0000e+00, -0.0000e+00, -0.0000e+00, -0.0000e+00,\n",
            "        -0.0000e+00, 2.7824e+00, -0.0000e+00, -0.0000e+00, 5.9605e-07, 1.6924e+01,\n",
            "        -0.0000e+00, 1.5174e-04, -0.0000e+00], grad_fn=<NllLossBackward0>)\n",
            "kde :  tensor([2.1467e-01, 2.3320e-02, 4.4093e-04, 9.0859e-20, 2.3320e-02, 2.8198e-04,\n",
            "        3.3169e-07, 1.3940e-02, 3.2251e-10, 1.5986e-08, 2.1467e-01, 3.1273e-04,\n",
            "        2.3320e-02, 3.6544e-02, 3.0036e-04], grad_fn=<MeanBackward1>)\n",
            "ce:  tensor([4.7684e-07, -0.0000e+00, -0.0000e+00, -0.0000e+00, -0.0000e+00, 1.1921e-07,\n",
            "        -0.0000e+00, 2.7380e+00, -0.0000e+00, -0.0000e+00, 4.7684e-07, 1.7036e+01,\n",
            "        -0.0000e+00, 1.3351e-04, -0.0000e+00], grad_fn=<NllLossBackward0>)\n",
            "kde :  tensor([2.1467e-01, 2.5508e-02, 4.8694e-04, 1.3002e-19, 2.5508e-02, 3.0870e-04,\n",
            "        3.7083e-07, 1.3720e-02, 3.8777e-10, 1.9856e-08, 2.1467e-01, 3.1164e-04,\n",
            "        2.5508e-02, 3.6574e-02, 3.3078e-04], grad_fn=<MeanBackward1>)\n",
            "ce:  tensor([4.7684e-07, -0.0000e+00, -0.0000e+00, -0.0000e+00, -0.0000e+00, 1.1921e-07,\n",
            "        -0.0000e+00, 2.7363e+00, -0.0000e+00, -0.0000e+00, 4.7684e-07, 1.7061e+01,\n",
            "        -0.0000e+00, 8.0463e-05, -0.0000e+00], grad_fn=<NllLossBackward0>)\n",
            "kde :  tensor([2.1440e-01, 2.7832e-02, 5.3650e-04, 1.8561e-19, 2.7832e-02, 3.3719e-04,\n",
            "        4.1366e-07, 1.3706e-02, 4.6509e-10, 2.4602e-08, 2.1440e-01, 3.0877e-04,\n",
            "        2.7832e-02, 3.6531e-02, 3.6340e-04], grad_fn=<MeanBackward1>)\n",
            "ce:  tensor([4.7684e-07, -0.0000e+00, -0.0000e+00, -0.0000e+00, -0.0000e+00, 3.5763e-07,\n",
            "        -0.0000e+00, 2.7323e+00, -0.0000e+00, -0.0000e+00, 4.7684e-07, 1.7085e+01,\n",
            "        -0.0000e+00, 7.5695e-05, -0.0000e+00], grad_fn=<NllLossBackward0>)\n",
            "kde :  tensor([2.1413e-01, 3.0292e-02, 5.8970e-04, 2.6433e-19, 3.0292e-02, 3.6752e-04,\n",
            "        4.6042e-07, 1.3693e-02, 5.5645e-10, 3.0407e-08, 2.1413e-01, 3.1861e-04,\n",
            "        3.0292e-02, 3.6489e-02, 3.9825e-04], grad_fn=<MeanBackward1>)\n",
            "ce:  tensor([4.7684e-07, -0.0000e+00, -0.0000e+00, -0.0000e+00, -0.0000e+00, 5.9605e-07,\n",
            "        -0.0000e+00, 2.7312e+00, -0.0000e+00, -0.0000e+00, 4.7684e-07, 1.7180e+01,\n",
            "        -0.0000e+00, 5.6504e-05, -0.0000e+00], grad_fn=<NllLossBackward0>)\n",
            "kde :  tensor([2.1386e-01, 3.2889e-02, 6.4666e-04, 3.7550e-19, 3.2889e-02, 3.9970e-04,\n",
            "        5.1134e-07, 1.3676e-02, 6.6412e-10, 3.7488e-08, 2.1386e-01, 3.1587e-04,\n",
            "        3.2889e-02, 3.6448e-02, 4.3539e-04], grad_fn=<MeanBackward1>)\n",
            "ce:  tensor([       nan, -0.0000e+00, -0.0000e+00, -0.0000e+00, -0.0000e+00, 5.9605e-07,\n",
            "        -0.0000e+00,        nan, -0.0000e+00, -0.0000e+00,        nan, 1.7210e+01,\n",
            "        -0.0000e+00, 4.2795e-05, -0.0000e+00], grad_fn=<NllLossBackward0>)\n",
            "kde :  tensor([       nan, 3.3557e-02, 7.0745e-04, 5.3213e-19, 3.3557e-02, 4.1477e-04,\n",
            "        5.6664e-07,        nan, 7.9067e-10, 4.6104e-08,        nan, 3.2254e-04,\n",
            "        3.3557e-02, 3.6405e-02, 4.7484e-04], grad_fn=<MeanBackward1>)\n",
            "ce:  tensor([       nan, -0.0000e+00, -0.0000e+00, -0.0000e+00, -0.0000e+00, 5.9605e-07,\n",
            "        -0.0000e+00,        nan, -0.0000e+00, -0.0000e+00,        nan, 1.7321e+01,\n",
            "        -0.0000e+00, 4.0769e-05, -0.0000e+00], grad_fn=<NllLossBackward0>)\n",
            "kde :  tensor([       nan, 3.4164e-02, 7.7214e-04, 7.5225e-19, 3.4164e-02, 4.3023e-04,\n",
            "        6.2654e-07,        nan, 9.3904e-10, 5.6559e-08,        nan, 3.1884e-04,\n",
            "        3.4164e-02, 3.6361e-02, 4.9778e-04], grad_fn=<MeanBackward1>)\n",
            "ce:  tensor([       nan, -0.0000e+00, -0.0000e+00, -0.0000e+00, -0.0000e+00, 5.9605e-07,\n",
            "        -0.0000e+00,        nan, -0.0000e+00, -0.0000e+00,        nan, 1.7376e+01,\n",
            "        -0.0000e+00, 4.1365e-05, -0.0000e+00], grad_fn=<NllLossBackward0>)\n",
            "kde :  tensor([       nan, 3.4708e-02, 8.1203e-04, 1.0608e-18, 3.4708e-02, 4.4618e-04,\n",
            "        6.9128e-07,        nan, 1.1125e-09, 6.9213e-08,        nan, 3.1455e-04,\n",
            "        3.4708e-02, 3.6316e-02, 5.0814e-04], grad_fn=<MeanBackward1>)\n",
            "ce:  tensor([       nan, -0.0000e+00, -0.0000e+00, -0.0000e+00, -0.0000e+00, 4.7684e-07,\n",
            "        -0.0000e+00,        nan, -0.0000e+00, -0.0000e+00,        nan, 1.7372e+01,\n",
            "        -0.0000e+00, 4.5418e-05, -0.0000e+00], grad_fn=<NllLossBackward0>)\n",
            "kde :  tensor([       nan, 3.4821e-02, 8.4714e-04, 1.4924e-18, 3.4821e-02, 4.6275e-04,\n",
            "        7.6106e-07,        nan, 1.3147e-09, 8.4488e-08,        nan, 3.2006e-04,\n",
            "        3.4821e-02, 3.6275e-02, 5.1756e-04], grad_fn=<MeanBackward1>)\n",
            "ce:  tensor([       nan, -0.0000e+00, -0.0000e+00, -0.0000e+00, -0.0000e+00, 4.7684e-07,\n",
            "        -0.0000e+00,        nan, -0.0000e+00, -0.0000e+00,        nan, 1.7486e+01,\n",
            "        -0.0000e+00, 4.3034e-05, -0.0000e+00], grad_fn=<NllLossBackward0>)\n",
            "kde :  tensor([       nan, 3.4856e-02, 8.7648e-04, 2.0943e-18, 3.4856e-02, 4.8008e-04,\n",
            "        8.1444e-07,        nan, 1.5499e-09, 1.0288e-07,        nan, 3.1760e-04,\n",
            "        3.4856e-02, 3.6229e-02, 5.2010e-04], grad_fn=<MeanBackward1>)\n",
            "ce:  tensor([       nan, -0.0000e+00, -0.0000e+00, -0.0000e+00, -0.0000e+00, 4.7684e-07,\n",
            "        -0.0000e+00,        nan, -0.0000e+00, -0.0000e+00,        nan, 1.7558e+01,\n",
            "        -0.0000e+00,        nan, -0.0000e+00], grad_fn=<NllLossBackward0>)\n",
            "kde :  tensor([       nan, 3.4817e-02, 8.9885e-04, 2.9318e-18, 3.4817e-02, 4.9829e-04,\n",
            "        8.6635e-07,        nan, 1.8227e-09, 1.2496e-07,        nan, 3.1444e-04,\n",
            "        3.4817e-02,        nan, 5.2156e-04], grad_fn=<MeanBackward1>)\n",
            "ce:  tensor([       nan, -0.0000e+00, -0.0000e+00, -0.0000e+00, -0.0000e+00, 3.5763e-07,\n",
            "        -0.0000e+00,        nan, -0.0000e+00, -0.0000e+00,        nan, 1.7557e+01,\n",
            "        -0.0000e+00,        nan, -0.0000e+00], grad_fn=<NllLossBackward0>)\n",
            "kde :  tensor([       nan, 3.4779e-02, 9.1287e-04, 4.0943e-18, 3.4779e-02, 5.1751e-04,\n",
            "        9.2006e-07,        nan, 2.1382e-09, 1.5140e-07,        nan, 3.1974e-04,\n",
            "        3.4779e-02,        nan, 5.2194e-04], grad_fn=<MeanBackward1>)\n",
            "ce:  tensor([       nan, -0.0000e+00, -0.0000e+00, -0.0000e+00, -0.0000e+00, 3.5763e-07,\n",
            "        -0.0000e+00,        nan, -0.0000e+00, -0.0000e+00,        nan, 1.7654e+01,\n",
            "        -0.0000e+00,        nan, -0.0000e+00], grad_fn=<NllLossBackward0>)\n",
            "kde :  tensor([       nan, 3.4736e-02, 9.2509e-04, 5.7037e-18, 3.4736e-02, 5.3783e-04,\n",
            "        9.6813e-07,        nan, 2.5021e-09, 1.8299e-07,        nan, 3.1102e-04,\n",
            "        3.4736e-02,        nan, 5.2129e-04], grad_fn=<MeanBackward1>)\n",
            "ce:  tensor([       nan, -0.0000e+00, -0.0000e+00, -0.0000e+00, -0.0000e+00, 3.5763e-07,\n",
            "        -0.0000e+00,        nan, -0.0000e+00, -0.0000e+00,        nan, 1.7707e+01,\n",
            "        -0.0000e+00,        nan, -0.0000e+00], grad_fn=<NllLossBackward0>)\n",
            "kde :  tensor([       nan, 3.4694e-02, 9.2890e-04, 7.9263e-18, 3.4694e-02, 5.5928e-04,\n",
            "        1.0174e-06,        nan, 2.9208e-09, 2.2062e-07,        nan, 3.0155e-04,\n",
            "        3.4694e-02,        nan, 5.2066e-04], grad_fn=<MeanBackward1>)\n",
            "ce:  tensor([       nan, -0.0000e+00, -0.0000e+00, -0.0000e+00, -0.0000e+00, 3.5763e-07,\n",
            "        -0.0000e+00,        nan, -0.0000e+00, -0.0000e+00,        nan, 1.7664e+01,\n",
            "        -0.0000e+00,        nan, -0.0000e+00], grad_fn=<NllLossBackward0>)\n",
            "kde :  tensor([       nan, 3.4652e-02, 9.3096e-04, 1.0988e-17, 3.4652e-02, 5.8190e-04,\n",
            "        1.0678e-06,        nan, 3.4011e-09, 2.6532e-07,        nan, 3.0569e-04,\n",
            "        3.4652e-02,        nan, 5.2001e-04], grad_fn=<MeanBackward1>)\n",
            "ce:  tensor([       nan, -0.0000e+00, -0.0000e+00, -0.0000e+00, -0.0000e+00, 3.5763e-07,\n",
            "        -0.0000e+00,        nan, -0.0000e+00, -0.0000e+00,        nan, 1.7737e+01,\n",
            "        -0.0000e+00,        nan, -0.0000e+00], grad_fn=<NllLossBackward0>)\n",
            "kde :  tensor([       nan, 3.4609e-02, 9.3133e-04, 1.5196e-17, 3.4609e-02, 6.0573e-04,\n",
            "        1.1193e-06,        nan, 3.9506e-09, 3.1829e-07,        nan, 2.9679e-04,\n",
            "        3.4609e-02,        nan, 5.1938e-04], grad_fn=<MeanBackward1>)\n",
            "ce:  tensor([       nan,        nan, -0.0000e+00, -0.0000e+00,        nan, 2.3842e-07,\n",
            "        -0.0000e+00,        nan, -0.0000e+00, -0.0000e+00,        nan, 1.7740e+01,\n",
            "               nan,        nan, -0.0000e+00], grad_fn=<NllLossBackward0>)\n",
            "kde :  tensor([       nan,        nan, 9.3022e-04, 2.0963e-17,        nan, 6.3078e-04,\n",
            "        1.1640e-06,        nan, 4.5776e-09, 3.8088e-07,        nan, 2.8808e-04,\n",
            "               nan,        nan, 5.1875e-04], grad_fn=<MeanBackward1>)\n",
            "ce:  tensor([       nan,        nan, -0.0000e+00, -0.0000e+00,        nan, 2.3842e-07,\n",
            "        -0.0000e+00,        nan, -0.0000e+00, -0.0000e+00,        nan, 1.7719e+01,\n",
            "               nan,        nan, -0.0000e+00], grad_fn=<NllLossBackward0>)\n",
            "kde :  tensor([       nan,        nan, 9.2936e-04, 2.8848e-17,        nan, 6.5706e-04,\n",
            "        1.2048e-06,        nan, 5.2910e-09, 4.5465e-07,        nan, 2.9048e-04,\n",
            "               nan,        nan, 5.1817e-04], grad_fn=<MeanBackward1>)\n",
            "ce:  tensor([       nan,        nan, -0.0000e+00, -0.0000e+00,        nan, 2.3842e-07,\n",
            "        -0.0000e+00,        nan, -0.0000e+00, -0.0000e+00,        nan, 1.7758e+01,\n",
            "               nan,        nan, -0.0000e+00], grad_fn=<NllLossBackward0>)\n",
            "kde :  tensor([       nan,        nan, 9.2831e-04, 3.9601e-17,        nan, 6.8459e-04,\n",
            "        1.2454e-06,        nan, 6.1005e-09, 5.4136e-07,        nan, 2.8746e-04,\n",
            "               nan,        nan, 5.1754e-04], grad_fn=<MeanBackward1>)\n",
            "ce:  tensor([       nan,        nan, -0.0000e+00, -0.0000e+00,        nan, 2.3842e-07,\n",
            "        -0.0000e+00,        nan, -0.0000e+00, -0.0000e+00,        nan, 1.7744e+01,\n",
            "               nan,        nan, -0.0000e+00], grad_fn=<NllLossBackward0>)\n",
            "kde :  tensor([       nan,        nan, 9.2720e-04, 5.4231e-17,        nan, 7.1139e-04,\n",
            "        1.2859e-06,        nan, 7.0165e-09, 6.4301e-07,        nan, 2.8158e-04,\n",
            "               nan,        nan, 5.1691e-04], grad_fn=<MeanBackward1>)\n",
            "ce:  tensor([       nan,        nan, -0.0000e+00, -0.0000e+00,        nan, 2.3842e-07,\n",
            "        -0.0000e+00,        nan, -0.0000e+00, -0.0000e+00,        nan, 1.7772e+01,\n",
            "               nan,        nan,        nan], grad_fn=<NllLossBackward0>)\n",
            "kde :  tensor([       nan,        nan, 9.2619e-04, 7.4084e-17,        nan, 7.3696e-04,\n",
            "        1.3217e-06,        nan, 8.0501e-09, 7.6184e-07,        nan, 2.8052e-04,\n",
            "               nan,        nan,        nan], grad_fn=<MeanBackward1>)\n",
            "ce:  tensor([       nan,        nan, -0.0000e+00, -0.0000e+00,        nan, 2.3842e-07,\n",
            "        -0.0000e+00,        nan, -0.0000e+00, -0.0000e+00,        nan, 1.7740e+01,\n",
            "               nan,        nan,        nan], grad_fn=<NllLossBackward0>)\n",
            "kde :  tensor([       nan,        nan, 9.2505e-04, 1.0096e-16,        nan, 7.5884e-04,\n",
            "        1.3521e-06,        nan, 9.2132e-09, 9.0040e-07,        nan, 2.7471e-04,\n",
            "               nan,        nan,        nan], grad_fn=<MeanBackward1>)\n",
            "ce:  tensor([       nan,        nan, -0.0000e+00, -0.0000e+00,        nan, 1.1921e-07,\n",
            "        -0.0000e+00,        nan, -0.0000e+00, -0.0000e+00,        nan, 1.7749e+01,\n",
            "               nan,        nan,        nan], grad_fn=<NllLossBackward0>)\n",
            "kde :  tensor([       nan,        nan, 9.2391e-04, 1.3724e-16,        nan, 7.8103e-04,\n",
            "        1.3756e-06,        nan, 1.0518e-08, 1.0615e-06,        nan, 2.7470e-04,\n",
            "               nan,        nan,        nan], grad_fn=<MeanBackward1>)\n",
            "ce:  tensor([       nan,        nan, -0.0000e+00, -0.0000e+00,        nan, 1.1921e-07,\n",
            "        -0.0000e+00,        nan, -0.0000e+00, -0.0000e+00,        nan, 1.7747e+01,\n",
            "               nan,        nan,        nan], grad_fn=<NllLossBackward0>)\n",
            "kde :  tensor([       nan,        nan, 9.2280e-04, 1.8611e-16,        nan, 8.0348e-04,\n",
            "        1.3922e-06,        nan, 1.1979e-08, 1.2483e-06,        nan, 2.7223e-04,\n",
            "               nan,        nan,        nan], grad_fn=<MeanBackward1>)\n",
            "ce:  tensor([       nan,        nan, -0.0000e+00, -0.0000e+00,        nan, 1.1921e-07,\n",
            "        -0.0000e+00,        nan, -0.0000e+00, -0.0000e+00,        nan, 1.7669e+01,\n",
            "               nan,        nan,        nan], grad_fn=<NllLossBackward0>)\n",
            "kde :  tensor([       nan,        nan, 9.2169e-04, 2.5176e-16,        nan, 8.2611e-04,\n",
            "        1.3998e-06,        nan, 1.2831e-08, 1.4644e-06,        nan, 2.7609e-04,\n",
            "               nan,        nan,        nan], grad_fn=<MeanBackward1>)\n",
            "ce:  tensor([       nan,        nan, -0.0000e+00, -0.0000e+00,        nan, 1.1921e-07,\n",
            "        -0.0000e+00,        nan, -0.0000e+00, -0.0000e+00,        nan, 1.7711e+01,\n",
            "               nan,        nan,        nan], grad_fn=<NllLossBackward0>)\n",
            "kde :  tensor([       nan,        nan, 9.2068e-04, 3.3974e-16,        nan, 8.4883e-04,\n",
            "        1.4046e-06,        nan, 1.3256e-08, 1.7136e-06,        nan, 2.7404e-04,\n",
            "               nan,        nan,        nan], grad_fn=<MeanBackward1>)\n",
            "ce:  tensor([       nan,        nan, -0.0000e+00, -0.0000e+00,        nan, 1.1921e-07,\n",
            "        -0.0000e+00,        nan, -0.0000e+00, -0.0000e+00,        nan, 1.7708e+01,\n",
            "               nan,        nan,        nan], grad_fn=<NllLossBackward0>)\n",
            "kde :  tensor([       nan,        nan, 9.1958e-04, 4.5734e-16,        nan, 8.6050e-04,\n",
            "        1.4067e-06,        nan, 1.3266e-08, 2.0002e-06,        nan, 2.6516e-04,\n",
            "               nan,        nan,        nan], grad_fn=<MeanBackward1>)\n",
            "ce:  tensor([       nan,        nan, -0.0000e+00, -0.0000e+00,        nan, 1.1921e-07,\n",
            "        -0.0000e+00,        nan, -0.0000e+00, -0.0000e+00,        nan, 1.7611e+01,\n",
            "               nan,        nan,        nan], grad_fn=<NllLossBackward0>)\n",
            "kde :  tensor([       nan,        nan, 9.1843e-04, 6.1414e-16,        nan, 8.7088e-04,\n",
            "        1.4062e-06,        nan, 1.3252e-08, 2.3290e-06,        nan, 2.6790e-04,\n",
            "               nan,        nan,        nan], grad_fn=<MeanBackward1>)\n",
            "ce:  tensor([       nan,        nan,        nan, -0.0000e+00,        nan, 1.1921e-07,\n",
            "               nan,        nan, -0.0000e+00, -0.0000e+00,        nan, 1.7661e+01,\n",
            "               nan,        nan,        nan], grad_fn=<NllLossBackward0>)\n",
            "kde :  tensor([       nan,        nan,        nan, 8.2269e-16,        nan, 8.7993e-04,\n",
            "               nan,        nan, 1.3243e-08, 2.7050e-06,        nan, 2.6500e-04,\n",
            "               nan,        nan,        nan], grad_fn=<MeanBackward1>)\n",
            "ce:  tensor([       nan,        nan,        nan, -0.0000e+00,        nan, 1.1921e-07,\n",
            "               nan,        nan, -0.0000e+00, -0.0000e+00,        nan, 1.7639e+01,\n",
            "               nan,        nan,        nan], grad_fn=<NllLossBackward0>)\n",
            "kde :  tensor([       nan,        nan,        nan, 1.0993e-15,        nan, 8.8758e-04,\n",
            "               nan,        nan, 1.3228e-08, 3.1339e-06,        nan, 2.5940e-04,\n",
            "               nan,        nan,        nan], grad_fn=<MeanBackward1>)\n",
            "ce:  tensor([       nan,        nan,        nan, -0.0000e+00,        nan, 1.1921e-07,\n",
            "               nan,        nan, -0.0000e+00, -0.0000e+00,        nan, 1.7640e+01,\n",
            "               nan,        nan,        nan], grad_fn=<NllLossBackward0>)\n",
            "kde :  tensor([       nan,        nan,        nan, 1.4654e-15,        nan, 8.8730e-04,\n",
            "               nan,        nan, 1.3212e-08, 3.6219e-06,        nan, 2.5846e-04,\n",
            "               nan,        nan,        nan], grad_fn=<MeanBackward1>)\n",
            "ce:  tensor([       nan,        nan,        nan, -0.0000e+00,        nan, 1.1921e-07,\n",
            "               nan,        nan,        nan, -0.0000e+00,        nan, 1.7515e+01,\n",
            "               nan,        nan,        nan], grad_fn=<NllLossBackward0>)\n",
            "kde :  tensor([       nan,        nan,        nan, 1.9487e-15,        nan, 8.8620e-04,\n",
            "               nan,        nan,        nan, 3.7990e-06,        nan, 2.5890e-04,\n",
            "               nan,        nan,        nan], grad_fn=<MeanBackward1>)\n",
            "ce:  tensor([       nan,        nan,        nan, -0.0000e+00,        nan, 1.1921e-07,\n",
            "               nan,        nan,        nan, -0.0000e+00,        nan, 1.7537e+01,\n",
            "               nan,        nan,        nan], grad_fn=<NllLossBackward0>)\n",
            "kde :  tensor([       nan,        nan,        nan, 2.5849e-15,        nan, 8.8510e-04,\n",
            "               nan,        nan,        nan, 3.8014e-06,        nan, 2.5462e-04,\n",
            "               nan,        nan,        nan], grad_fn=<MeanBackward1>)\n",
            "ce:  tensor([       nan,        nan,        nan, -0.0000e+00,        nan, 1.1921e-07,\n",
            "               nan,        nan,        nan, -0.0000e+00,        nan, 1.7509e+01,\n",
            "               nan,        nan,        nan], grad_fn=<NllLossBackward0>)\n",
            "kde :  tensor([       nan,        nan,        nan, 3.4205e-15,        nan, 8.8399e-04,\n",
            "               nan,        nan,        nan, 3.7969e-06,        nan, 2.5863e-04,\n",
            "               nan,        nan,        nan], grad_fn=<MeanBackward1>)\n",
            "ce:  tensor([    nan,     nan,     nan, -0.0000,     nan,     nan,     nan,     nan,\n",
            "            nan, -0.0000,     nan, 17.3439,     nan,     nan,     nan],\n",
            "       grad_fn=<NllLossBackward0>)\n",
            "kde :  tensor([       nan,        nan,        nan, 4.5151e-15,        nan,        nan,\n",
            "               nan,        nan,        nan, 3.7923e-06,        nan, 2.5304e-04,\n",
            "               nan,        nan,        nan], grad_fn=<MeanBackward1>)\n",
            "ce:  tensor([    nan,     nan,     nan, -0.0000,     nan,     nan,     nan,     nan,\n",
            "            nan, -0.0000,     nan, 17.3902,     nan,     nan,     nan],\n",
            "       grad_fn=<NllLossBackward0>)\n",
            "kde :  tensor([       nan,        nan,        nan, 5.9453e-15,        nan,        nan,\n",
            "               nan,        nan,        nan, 3.7881e-06,        nan, 2.5100e-04,\n",
            "               nan,        nan,        nan], grad_fn=<MeanBackward1>)\n",
            "ce:  tensor([    nan,     nan,     nan, -0.0000,     nan,     nan,     nan,     nan,\n",
            "            nan, -0.0000,     nan, 17.4134,     nan,     nan,     nan],\n",
            "       grad_fn=<NllLossBackward0>)\n",
            "kde :  tensor([       nan,        nan,        nan, 7.8095e-15,        nan,        nan,\n",
            "               nan,        nan,        nan, 3.7839e-06,        nan, 2.4629e-04,\n",
            "               nan,        nan,        nan], grad_fn=<MeanBackward1>)\n",
            "ce:  tensor([    nan,     nan,     nan, -0.0000,     nan,     nan,     nan,     nan,\n",
            "            nan, -0.0000,     nan, 17.4397,     nan,     nan,     nan],\n",
            "       grad_fn=<NllLossBackward0>)\n",
            "kde :  tensor([       nan,        nan,        nan, 1.0233e-14,        nan,        nan,\n",
            "               nan,        nan,        nan, 3.7797e-06,        nan, 2.4208e-04,\n",
            "               nan,        nan,        nan], grad_fn=<MeanBackward1>)\n",
            "ce:  tensor([    nan,     nan,     nan, -0.0000,     nan,     nan,     nan,     nan,\n",
            "            nan, -0.0000,     nan, 17.4463,     nan,     nan,     nan],\n",
            "       grad_fn=<NllLossBackward0>)\n",
            "kde :  tensor([       nan,        nan,        nan, 1.3376e-14,        nan,        nan,\n",
            "               nan,        nan,        nan, 3.7760e-06,        nan, 2.3829e-04,\n",
            "               nan,        nan,        nan], grad_fn=<MeanBackward1>)\n",
            "ce:  tensor([    nan,     nan,     nan, -0.0000,     nan,     nan,     nan,     nan,\n",
            "            nan, -0.0000,     nan, 17.4623,     nan,     nan,     nan],\n",
            "       grad_fn=<NllLossBackward0>)\n",
            "kde :  tensor([       nan,        nan,        nan, 1.7441e-14,        nan,        nan,\n",
            "               nan,        nan,        nan, 3.7719e-06,        nan, 2.3105e-04,\n",
            "               nan,        nan,        nan], grad_fn=<MeanBackward1>)\n",
            "ce:  tensor([    nan,     nan,     nan, -0.0000,     nan,     nan,     nan,     nan,\n",
            "            nan, -0.0000,     nan, 17.4231,     nan,     nan,     nan],\n",
            "       grad_fn=<NllLossBackward0>)\n",
            "kde :  tensor([       nan,        nan,        nan, 2.2686e-14,        nan,        nan,\n",
            "               nan,        nan,        nan, 3.7671e-06,        nan, 2.2525e-04,\n",
            "               nan,        nan,        nan], grad_fn=<MeanBackward1>)\n",
            "ce:  tensor([    nan,     nan,     nan, -0.0000,     nan,     nan,     nan,     nan,\n",
            "            nan,     nan,     nan, 17.4488,     nan,     nan,     nan],\n",
            "       grad_fn=<NllLossBackward0>)\n",
            "kde :  tensor([       nan,        nan,        nan, 2.9436e-14,        nan,        nan,\n",
            "               nan,        nan,        nan,        nan,        nan, 2.1945e-04,\n",
            "               nan,        nan,        nan], grad_fn=<MeanBackward1>)\n",
            "ce:  tensor([    nan,     nan,     nan, -0.0000,     nan,     nan,     nan,     nan,\n",
            "            nan,     nan,     nan, 17.4643,     nan,     nan,     nan],\n",
            "       grad_fn=<NllLossBackward0>)\n",
            "kde :  tensor([       nan,        nan,        nan, 3.8101e-14,        nan,        nan,\n",
            "               nan,        nan,        nan,        nan,        nan, 2.1348e-04,\n",
            "               nan,        nan,        nan], grad_fn=<MeanBackward1>)\n",
            "ce:  tensor([    nan,     nan,     nan, -0.0000,     nan,     nan,     nan,     nan,\n",
            "            nan,     nan,     nan, 17.4850,     nan,     nan,     nan],\n",
            "       grad_fn=<NllLossBackward0>)\n",
            "kde :  tensor([       nan,        nan,        nan, 4.9196e-14,        nan,        nan,\n",
            "               nan,        nan,        nan,        nan,        nan, 2.0750e-04,\n",
            "               nan,        nan,        nan], grad_fn=<MeanBackward1>)\n",
            "ce:  tensor([    nan,     nan,     nan, -0.0000,     nan,     nan,     nan,     nan,\n",
            "            nan,     nan,     nan, 17.4191,     nan,     nan,     nan],\n",
            "       grad_fn=<NllLossBackward0>)\n",
            "kde :  tensor([       nan,        nan,        nan, 6.3366e-14,        nan,        nan,\n",
            "               nan,        nan,        nan,        nan,        nan, 2.0156e-04,\n",
            "               nan,        nan,        nan], grad_fn=<MeanBackward1>)\n",
            "ce:  tensor([    nan,     nan,     nan, -0.0000,     nan,     nan,     nan,     nan,\n",
            "            nan,     nan,     nan, 17.4603,     nan,     nan,     nan],\n",
            "       grad_fn=<NllLossBackward0>)\n",
            "kde :  tensor([       nan,        nan,        nan, 8.1418e-14,        nan,        nan,\n",
            "               nan,        nan,        nan,        nan,        nan, 1.9691e-04,\n",
            "               nan,        nan,        nan], grad_fn=<MeanBackward1>)\n",
            "ce:  tensor([    nan,     nan,     nan, -0.0000,     nan,     nan,     nan,     nan,\n",
            "            nan,     nan,     nan, 17.4738,     nan,     nan,     nan],\n",
            "       grad_fn=<NllLossBackward0>)\n",
            "kde :  tensor([       nan,        nan,        nan, 1.0436e-13,        nan,        nan,\n",
            "               nan,        nan,        nan,        nan,        nan, 1.9136e-04,\n",
            "               nan,        nan,        nan], grad_fn=<MeanBackward1>)\n",
            "ce:  tensor([    nan,     nan,     nan, -0.0000,     nan,     nan,     nan,     nan,\n",
            "            nan,     nan,     nan, 17.4939,     nan,     nan,     nan],\n",
            "       grad_fn=<NllLossBackward0>)\n",
            "kde :  tensor([       nan,        nan,        nan, 1.3343e-13,        nan,        nan,\n",
            "               nan,        nan,        nan,        nan,        nan, 1.8694e-04,\n",
            "               nan,        nan,        nan], grad_fn=<MeanBackward1>)\n",
            "ce:  tensor([    nan,     nan,     nan, -0.0000,     nan,     nan,     nan,     nan,\n",
            "            nan,     nan,     nan, 17.3970,     nan,     nan,     nan],\n",
            "       grad_fn=<NllLossBackward0>)\n",
            "kde :  tensor([       nan,        nan,        nan, 1.7018e-13,        nan,        nan,\n",
            "               nan,        nan,        nan,        nan,        nan, 1.8040e-04,\n",
            "               nan,        nan,        nan], grad_fn=<MeanBackward1>)\n",
            "ce:  tensor([    nan,     nan,     nan, -0.0000,     nan,     nan,     nan,     nan,\n",
            "            nan,     nan,     nan, 17.4263,     nan,     nan,     nan],\n",
            "       grad_fn=<NllLossBackward0>)\n",
            "kde :  tensor([       nan,        nan,        nan, 2.1653e-13,        nan,        nan,\n",
            "               nan,        nan,        nan,        nan,        nan, 1.7525e-04,\n",
            "               nan,        nan,        nan], grad_fn=<MeanBackward1>)\n",
            "ce:  tensor([    nan,     nan,     nan, -0.0000,     nan,     nan,     nan,     nan,\n",
            "            nan,     nan,     nan, 17.4115,     nan,     nan,     nan],\n",
            "       grad_fn=<NllLossBackward0>)\n",
            "kde :  tensor([       nan,        nan,        nan, 2.7482e-13,        nan,        nan,\n",
            "               nan,        nan,        nan,        nan,        nan, 1.7574e-04,\n",
            "               nan,        nan,        nan], grad_fn=<MeanBackward1>)\n",
            "ce:  tensor([    nan,     nan,     nan, -0.0000,     nan,     nan,     nan,     nan,\n",
            "            nan,     nan,     nan, 17.4072,     nan,     nan,     nan],\n",
            "       grad_fn=<NllLossBackward0>)\n",
            "kde :  tensor([       nan,        nan,        nan, 3.4795e-13,        nan,        nan,\n",
            "               nan,        nan,        nan,        nan,        nan, 1.7263e-04,\n",
            "               nan,        nan,        nan], grad_fn=<MeanBackward1>)\n",
            "ce:  tensor([    nan,     nan,     nan, -0.0000,     nan,     nan,     nan,     nan,\n",
            "            nan,     nan,     nan, 17.3617,     nan,     nan,     nan],\n",
            "       grad_fn=<NllLossBackward0>)\n",
            "kde :  tensor([       nan,        nan,        nan, 4.3946e-13,        nan,        nan,\n",
            "               nan,        nan,        nan,        nan,        nan, 1.6783e-04,\n",
            "               nan,        nan,        nan], grad_fn=<MeanBackward1>)\n",
            "ce:  tensor([    nan,     nan,     nan, -0.0000,     nan,     nan,     nan,     nan,\n",
            "            nan,     nan,     nan, 17.3750,     nan,     nan,     nan],\n",
            "       grad_fn=<NllLossBackward0>)\n",
            "kde :  tensor([       nan,        nan,        nan, 5.5369e-13,        nan,        nan,\n",
            "               nan,        nan,        nan,        nan,        nan, 1.6420e-04,\n",
            "               nan,        nan,        nan], grad_fn=<MeanBackward1>)\n",
            "ce:  tensor([    nan,     nan,     nan, -0.0000,     nan,     nan,     nan,     nan,\n",
            "            nan,     nan,     nan, 17.3885,     nan,     nan,     nan],\n",
            "       grad_fn=<NllLossBackward0>)\n",
            "kde :  tensor([       nan,        nan,        nan, 6.9589e-13,        nan,        nan,\n",
            "               nan,        nan,        nan,        nan,        nan, 1.6052e-04,\n",
            "               nan,        nan,        nan], grad_fn=<MeanBackward1>)\n",
            "ce:  tensor([    nan,     nan,     nan, -0.0000,     nan,     nan,     nan,     nan,\n",
            "            nan,     nan,     nan, 17.3888,     nan,     nan,     nan],\n",
            "       grad_fn=<NllLossBackward0>)\n",
            "kde :  tensor([       nan,        nan,        nan, 8.7247e-13,        nan,        nan,\n",
            "               nan,        nan,        nan,        nan,        nan, 1.5590e-04,\n",
            "               nan,        nan,        nan], grad_fn=<MeanBackward1>)\n",
            "ce:  tensor([    nan,     nan,     nan, -0.0000,     nan,     nan,     nan,     nan,\n",
            "            nan,     nan,     nan, 17.3687,     nan,     nan,     nan],\n",
            "       grad_fn=<NllLossBackward0>)\n",
            "kde :  tensor([       nan,        nan,        nan, 1.0912e-12,        nan,        nan,\n",
            "               nan,        nan,        nan,        nan,        nan, 1.5215e-04,\n",
            "               nan,        nan,        nan], grad_fn=<MeanBackward1>)\n",
            "ce:  tensor([    nan,     nan,     nan, -0.0000,     nan,     nan,     nan,     nan,\n",
            "            nan,     nan,     nan, 17.3030,     nan,     nan,     nan],\n",
            "       grad_fn=<NllLossBackward0>)\n",
            "kde :  tensor([       nan,        nan,        nan, 1.3614e-12,        nan,        nan,\n",
            "               nan,        nan,        nan,        nan,        nan, 1.4772e-04,\n",
            "               nan,        nan,        nan], grad_fn=<MeanBackward1>)\n",
            "ce:  tensor([    nan,     nan,     nan, -0.0000,     nan,     nan,     nan,     nan,\n",
            "            nan,     nan,     nan, 17.3083,     nan,     nan,     nan],\n",
            "       grad_fn=<NllLossBackward0>)\n",
            "kde :  tensor([       nan,        nan,        nan, 1.6943e-12,        nan,        nan,\n",
            "               nan,        nan,        nan,        nan,        nan, 1.4457e-04,\n",
            "               nan,        nan,        nan], grad_fn=<MeanBackward1>)\n",
            "ce:  tensor([    nan,     nan,     nan, -0.0000,     nan,     nan,     nan,     nan,\n",
            "            nan,     nan,     nan, 17.3148,     nan,     nan,     nan],\n",
            "       grad_fn=<NllLossBackward0>)\n",
            "kde :  tensor([       nan,        nan,        nan, 1.8772e-12,        nan,        nan,\n",
            "               nan,        nan,        nan,        nan,        nan, 1.4174e-04,\n",
            "               nan,        nan,        nan], grad_fn=<MeanBackward1>)\n",
            "ce:  tensor([    nan,     nan,     nan, -0.0000,     nan,     nan,     nan,     nan,\n",
            "            nan,     nan,     nan, 17.2353,     nan,     nan,     nan],\n",
            "       grad_fn=<NllLossBackward0>)\n",
            "kde :  tensor([       nan,        nan,        nan, 2.0189e-12,        nan,        nan,\n",
            "               nan,        nan,        nan,        nan,        nan, 1.4139e-04,\n",
            "               nan,        nan,        nan], grad_fn=<MeanBackward1>)\n",
            "ce:  tensor([    nan,     nan,     nan, -0.0000,     nan,     nan,     nan,     nan,\n",
            "            nan,     nan,     nan, 17.2937,     nan,     nan,     nan],\n",
            "       grad_fn=<NllLossBackward0>)\n",
            "kde :  tensor([       nan,        nan,        nan, 2.1401e-12,        nan,        nan,\n",
            "               nan,        nan,        nan,        nan,        nan, 1.3668e-04,\n",
            "               nan,        nan,        nan], grad_fn=<MeanBackward1>)\n",
            "ce:  tensor([    nan,     nan,     nan, -0.0000,     nan,     nan,     nan,     nan,\n",
            "            nan,     nan,     nan, 17.2541,     nan,     nan,     nan],\n",
            "       grad_fn=<NllLossBackward0>)\n",
            "kde :  tensor([       nan,        nan,        nan, 2.2311e-12,        nan,        nan,\n",
            "               nan,        nan,        nan,        nan,        nan, 1.3775e-04,\n",
            "               nan,        nan,        nan], grad_fn=<MeanBackward1>)\n",
            "ce:  tensor([    nan,     nan,     nan, -0.0000,     nan,     nan,     nan,     nan,\n",
            "            nan,     nan,     nan, 17.2741,     nan,     nan,     nan],\n",
            "       grad_fn=<NllLossBackward0>)\n",
            "kde :  tensor([       nan,        nan,        nan, 2.3077e-12,        nan,        nan,\n",
            "               nan,        nan,        nan,        nan,        nan, 1.3321e-04,\n",
            "               nan,        nan,        nan], grad_fn=<MeanBackward1>)\n",
            "ce:  tensor([    nan,     nan,     nan, -0.0000,     nan,     nan,     nan,     nan,\n",
            "            nan,     nan,     nan, 17.2534,     nan,     nan,     nan],\n",
            "       grad_fn=<NllLossBackward0>)\n",
            "kde :  tensor([       nan,        nan,        nan, 2.3467e-12,        nan,        nan,\n",
            "               nan,        nan,        nan,        nan,        nan, 1.3440e-04,\n",
            "               nan,        nan,        nan], grad_fn=<MeanBackward1>)\n",
            "ce:  tensor([    nan,     nan,     nan, -0.0000,     nan,     nan,     nan,     nan,\n",
            "            nan,     nan,     nan, 17.2715,     nan,     nan,     nan],\n",
            "       grad_fn=<NllLossBackward0>)\n",
            "kde :  tensor([       nan,        nan,        nan, 2.3805e-12,        nan,        nan,\n",
            "               nan,        nan,        nan,        nan,        nan, 1.2949e-04,\n",
            "               nan,        nan,        nan], grad_fn=<MeanBackward1>)\n",
            "ce:  tensor([    nan,     nan,     nan, -0.0000,     nan,     nan,     nan,     nan,\n",
            "            nan,     nan,     nan, 17.2558,     nan,     nan,     nan],\n",
            "       grad_fn=<NllLossBackward0>)\n",
            "kde :  tensor([       nan,        nan,        nan, 2.3888e-12,        nan,        nan,\n",
            "               nan,        nan,        nan,        nan,        nan, 1.2876e-04,\n",
            "               nan,        nan,        nan], grad_fn=<MeanBackward1>)\n",
            "ce:  tensor([    nan,     nan,     nan, -0.0000,     nan,     nan,     nan,     nan,\n",
            "            nan,     nan,     nan, 17.2432,     nan,     nan,     nan],\n",
            "       grad_fn=<NllLossBackward0>)\n",
            "kde :  tensor([       nan,        nan,        nan, 2.3971e-12,        nan,        nan,\n",
            "               nan,        nan,        nan,        nan,        nan, 1.2505e-04,\n",
            "               nan,        nan,        nan], grad_fn=<MeanBackward1>)\n",
            "ce:  tensor([    nan,     nan,     nan, -0.0000,     nan,     nan,     nan,     nan,\n",
            "            nan,     nan,     nan, 17.2506,     nan,     nan,     nan],\n",
            "       grad_fn=<NllLossBackward0>)\n",
            "kde :  tensor([       nan,        nan,        nan, 2.4061e-12,        nan,        nan,\n",
            "               nan,        nan,        nan,        nan,        nan, 1.2215e-04,\n",
            "               nan,        nan,        nan], grad_fn=<MeanBackward1>)\n",
            "ce:  tensor([    nan,     nan,     nan, -0.0000,     nan,     nan,     nan,     nan,\n",
            "            nan,     nan,     nan, 17.1630,     nan,     nan,     nan],\n",
            "       grad_fn=<NllLossBackward0>)\n",
            "kde :  tensor([       nan,        nan,        nan, 2.4163e-12,        nan,        nan,\n",
            "               nan,        nan,        nan,        nan,        nan, 1.1806e-04,\n",
            "               nan,        nan,        nan], grad_fn=<MeanBackward1>)\n",
            "ce:  tensor([    nan,     nan,     nan, -0.0000,     nan,     nan,     nan,     nan,\n",
            "            nan,     nan,     nan, 17.1765,     nan,     nan,     nan],\n",
            "       grad_fn=<NllLossBackward0>)\n",
            "kde :  tensor([       nan,        nan,        nan, 2.4281e-12,        nan,        nan,\n",
            "               nan,        nan,        nan,        nan,        nan, 1.1548e-04,\n",
            "               nan,        nan,        nan], grad_fn=<MeanBackward1>)\n",
            "ce:  tensor([    nan,     nan,     nan, -0.0000,     nan,     nan,     nan,     nan,\n",
            "            nan,     nan,     nan, 17.1734,     nan,     nan,     nan],\n",
            "       grad_fn=<NllLossBackward0>)\n",
            "kde :  tensor([       nan,        nan,        nan, 2.4421e-12,        nan,        nan,\n",
            "               nan,        nan,        nan,        nan,        nan, 1.1292e-04,\n",
            "               nan,        nan,        nan], grad_fn=<MeanBackward1>)\n",
            "ce:  tensor([    nan,     nan,     nan, -0.0000,     nan,     nan,     nan,     nan,\n",
            "            nan,     nan,     nan, 17.1743,     nan,     nan,     nan],\n",
            "       grad_fn=<NllLossBackward0>)\n",
            "kde :  tensor([       nan,        nan,        nan, 2.4587e-12,        nan,        nan,\n",
            "               nan,        nan,        nan,        nan,        nan, 1.0982e-04,\n",
            "               nan,        nan,        nan], grad_fn=<MeanBackward1>)\n",
            "ce:  tensor([    nan,     nan,     nan, -0.0000,     nan,     nan,     nan,     nan,\n",
            "            nan,     nan,     nan, 17.1679,     nan,     nan,     nan],\n",
            "       grad_fn=<NllLossBackward0>)\n",
            "kde :  tensor([       nan,        nan,        nan, 2.4783e-12,        nan,        nan,\n",
            "               nan,        nan,        nan,        nan,        nan, 1.0693e-04,\n",
            "               nan,        nan,        nan], grad_fn=<MeanBackward1>)\n",
            "ce:  tensor([    nan,     nan,     nan, -0.0000,     nan,     nan,     nan,     nan,\n",
            "            nan,     nan,     nan, 17.1735,     nan,     nan,     nan],\n",
            "       grad_fn=<NllLossBackward0>)\n",
            "kde :  tensor([       nan,        nan,        nan, 2.5014e-12,        nan,        nan,\n",
            "               nan,        nan,        nan,        nan,        nan, 1.0362e-04,\n",
            "               nan,        nan,        nan], grad_fn=<MeanBackward1>)\n",
            "ce:  tensor([    nan,     nan,     nan, -0.0000,     nan,     nan,     nan,     nan,\n",
            "            nan,     nan,     nan, 17.1079,     nan,     nan,     nan],\n",
            "       grad_fn=<NllLossBackward0>)\n",
            "kde :  tensor([       nan,        nan,        nan, 2.5285e-12,        nan,        nan,\n",
            "               nan,        nan,        nan,        nan,        nan, 1.0291e-04,\n",
            "               nan,        nan,        nan], grad_fn=<MeanBackward1>)\n",
            "ce:  tensor([    nan,     nan,     nan, -0.0000,     nan,     nan,     nan,     nan,\n",
            "            nan,     nan,     nan, 17.1406,     nan,     nan,     nan],\n",
            "       grad_fn=<NllLossBackward0>)\n",
            "kde :  tensor([       nan,        nan,        nan, 2.5600e-12,        nan,        nan,\n",
            "               nan,        nan,        nan,        nan,        nan, 9.9418e-05,\n",
            "               nan,        nan,        nan], grad_fn=<MeanBackward1>)\n",
            "ce:  tensor([    nan,     nan,     nan, -0.0000,     nan,     nan,     nan,     nan,\n",
            "            nan,     nan,     nan, 17.1320,     nan,     nan,     nan],\n",
            "       grad_fn=<NllLossBackward0>)\n",
            "kde :  tensor([       nan,        nan,        nan, 2.5967e-12,        nan,        nan,\n",
            "               nan,        nan,        nan,        nan,        nan, 9.6463e-05,\n",
            "               nan,        nan,        nan], grad_fn=<MeanBackward1>)\n",
            "ce:  tensor([    nan,     nan,     nan, -0.0000,     nan,     nan,     nan,     nan,\n",
            "            nan,     nan,     nan, 17.0527,     nan,     nan,     nan],\n",
            "       grad_fn=<NllLossBackward0>)\n",
            "kde :  tensor([       nan,        nan,        nan, 2.6396e-12,        nan,        nan,\n",
            "               nan,        nan,        nan,        nan,        nan, 9.2916e-05,\n",
            "               nan,        nan,        nan], grad_fn=<MeanBackward1>)\n",
            "ce:  tensor([    nan,     nan,     nan, -0.0000,     nan,     nan,     nan,     nan,\n",
            "            nan,     nan,     nan, 17.0540,     nan,     nan,     nan],\n",
            "       grad_fn=<NllLossBackward0>)\n",
            "kde :  tensor([       nan,        nan,        nan, 2.6873e-12,        nan,        nan,\n",
            "               nan,        nan,        nan,        nan,        nan, 9.1021e-05,\n",
            "               nan,        nan,        nan], grad_fn=<MeanBackward1>)\n",
            "ce:  tensor([    nan,     nan,     nan, -0.0000,     nan,     nan,     nan,     nan,\n",
            "            nan,     nan,     nan, 17.0489,     nan,     nan,     nan],\n",
            "       grad_fn=<NllLossBackward0>)\n",
            "kde :  tensor([       nan,        nan,        nan, 2.7406e-12,        nan,        nan,\n",
            "               nan,        nan,        nan,        nan,        nan, 8.8307e-05,\n",
            "               nan,        nan,        nan], grad_fn=<MeanBackward1>)\n",
            "ce:  tensor([    nan,     nan,     nan, -0.0000,     nan,     nan,     nan,     nan,\n",
            "            nan,     nan,     nan, 17.0513,     nan,     nan,     nan],\n",
            "       grad_fn=<NllLossBackward0>)\n",
            "kde :  tensor([       nan,        nan,        nan, 2.7997e-12,        nan,        nan,\n",
            "               nan,        nan,        nan,        nan,        nan, 8.8520e-05,\n",
            "               nan,        nan,        nan], grad_fn=<MeanBackward1>)\n",
            "ce:  tensor([    nan,     nan,     nan, -0.0000,     nan,     nan,     nan,     nan,\n",
            "            nan,     nan,     nan, 17.0523,     nan,     nan,     nan],\n",
            "       grad_fn=<NllLossBackward0>)\n",
            "kde :  tensor([       nan,        nan,        nan, 2.8649e-12,        nan,        nan,\n",
            "               nan,        nan,        nan,        nan,        nan, 8.5116e-05,\n",
            "               nan,        nan,        nan], grad_fn=<MeanBackward1>)\n",
            "ce:  tensor([    nan,     nan,     nan, -0.0000,     nan,     nan,     nan,     nan,\n",
            "            nan,     nan,     nan, 17.0492,     nan,     nan,     nan],\n",
            "       grad_fn=<NllLossBackward0>)\n",
            "kde :  tensor([       nan,        nan,        nan, 2.9361e-12,        nan,        nan,\n",
            "               nan,        nan,        nan,        nan,        nan, 8.5050e-05,\n",
            "               nan,        nan,        nan], grad_fn=<MeanBackward1>)\n",
            "ce:  tensor([    nan,     nan,     nan, -0.0000,     nan,     nan,     nan,     nan,\n",
            "            nan,     nan,     nan, 17.0056,     nan,     nan,     nan],\n",
            "       grad_fn=<NllLossBackward0>)\n",
            "kde :  tensor([       nan,        nan,        nan, 3.0080e-12,        nan,        nan,\n",
            "               nan,        nan,        nan,        nan,        nan, 8.1578e-05,\n",
            "               nan,        nan,        nan], grad_fn=<MeanBackward1>)\n",
            "ce:  tensor([    nan,     nan,     nan, -0.0000,     nan,     nan,     nan,     nan,\n",
            "            nan,     nan,     nan, 17.0113,     nan,     nan,     nan],\n",
            "       grad_fn=<NllLossBackward0>)\n",
            "kde :  tensor([       nan,        nan,        nan, 3.0790e-12,        nan,        nan,\n",
            "               nan,        nan,        nan,        nan,        nan, 8.1514e-05,\n",
            "               nan,        nan,        nan], grad_fn=<MeanBackward1>)\n",
            "ce:  tensor([    nan,     nan,     nan, -0.0000,     nan,     nan,     nan,     nan,\n",
            "            nan,     nan,     nan, 17.0130,     nan,     nan,     nan],\n",
            "       grad_fn=<NllLossBackward0>)\n",
            "kde :  tensor([       nan,        nan,        nan, 3.1532e-12,        nan,        nan,\n",
            "               nan,        nan,        nan,        nan,        nan, 7.8876e-05,\n",
            "               nan,        nan,        nan], grad_fn=<MeanBackward1>)\n",
            "ce:  tensor([    nan,     nan,     nan, -0.0000,     nan,     nan,     nan,     nan,\n",
            "            nan,     nan,     nan, 17.0021,     nan,     nan,     nan],\n",
            "       grad_fn=<NllLossBackward0>)\n",
            "kde :  tensor([       nan,        nan,        nan, 3.2247e-12,        nan,        nan,\n",
            "               nan,        nan,        nan,        nan,        nan, 7.9803e-05,\n",
            "               nan,        nan,        nan], grad_fn=<MeanBackward1>)\n",
            "ce:  tensor([    nan,     nan,     nan, -0.0000,     nan,     nan,     nan,     nan,\n",
            "            nan,     nan,     nan, 16.9917,     nan,     nan,     nan],\n",
            "       grad_fn=<NllLossBackward0>)\n",
            "kde :  tensor([       nan,        nan,        nan, 3.2982e-12,        nan,        nan,\n",
            "               nan,        nan,        nan,        nan,        nan, 7.7665e-05,\n",
            "               nan,        nan,        nan], grad_fn=<MeanBackward1>)\n",
            "ce:  tensor([    nan,     nan,     nan, -0.0000,     nan,     nan,     nan,     nan,\n",
            "            nan,     nan,     nan, 16.9735,     nan,     nan,     nan],\n",
            "       grad_fn=<NllLossBackward0>)\n",
            "kde :  tensor([       nan,        nan,        nan, 3.3693e-12,        nan,        nan,\n",
            "               nan,        nan,        nan,        nan,        nan, 7.5884e-05,\n",
            "               nan,        nan,        nan], grad_fn=<MeanBackward1>)\n",
            "ce:  tensor([    nan,     nan,     nan, -0.0000,     nan,     nan,     nan,     nan,\n",
            "            nan,     nan,     nan, 16.9759,     nan,     nan,     nan],\n",
            "       grad_fn=<NllLossBackward0>)\n",
            "kde :  tensor([       nan,        nan,        nan, 3.4371e-12,        nan,        nan,\n",
            "               nan,        nan,        nan,        nan,        nan, 7.3074e-05,\n",
            "               nan,        nan,        nan], grad_fn=<MeanBackward1>)\n",
            "ce:  tensor([    nan,     nan,     nan, -0.0000,     nan,     nan,     nan,     nan,\n",
            "            nan,     nan,     nan, 16.8746,     nan,     nan,     nan],\n",
            "       grad_fn=<NllLossBackward0>)\n",
            "kde :  tensor([       nan,        nan,        nan, 3.4985e-12,        nan,        nan,\n",
            "               nan,        nan,        nan,        nan,        nan, 7.1393e-05,\n",
            "               nan,        nan,        nan], grad_fn=<MeanBackward1>)\n",
            "ce:  tensor([    nan,     nan,     nan, -0.0000,     nan,     nan,     nan,     nan,\n",
            "            nan,     nan,     nan, 16.9120,     nan,     nan,     nan],\n",
            "       grad_fn=<NllLossBackward0>)\n",
            "kde :  tensor([       nan,        nan,        nan, 3.5590e-12,        nan,        nan,\n",
            "               nan,        nan,        nan,        nan,        nan, 7.1401e-05,\n",
            "               nan,        nan,        nan], grad_fn=<MeanBackward1>)\n",
            "ce:  tensor([    nan,     nan,     nan, -0.0000,     nan,     nan,     nan,     nan,\n",
            "            nan,     nan,     nan, 16.8994,     nan,     nan,     nan],\n",
            "       grad_fn=<NllLossBackward0>)\n",
            "kde :  tensor([       nan,        nan,        nan, 3.5924e-12,        nan,        nan,\n",
            "               nan,        nan,        nan,        nan,        nan, 6.9770e-05,\n",
            "               nan,        nan,        nan], grad_fn=<MeanBackward1>)\n",
            "ce:  tensor([    nan,     nan,     nan, -0.0000,     nan,     nan,     nan,     nan,\n",
            "            nan,     nan,     nan, 16.8956,     nan,     nan,     nan],\n",
            "       grad_fn=<NllLossBackward0>)\n",
            "kde :  tensor([       nan,        nan,        nan, 3.6201e-12,        nan,        nan,\n",
            "               nan,        nan,        nan,        nan,        nan, 6.7591e-05,\n",
            "               nan,        nan,        nan], grad_fn=<MeanBackward1>)\n",
            "ce:  tensor([    nan,     nan,     nan, -0.0000,     nan,     nan,     nan,     nan,\n",
            "            nan,     nan,     nan, 16.9020,     nan,     nan,     nan],\n",
            "       grad_fn=<NllLossBackward0>)\n",
            "kde :  tensor([       nan,        nan,        nan, 3.6424e-12,        nan,        nan,\n",
            "               nan,        nan,        nan,        nan,        nan, 6.6248e-05,\n",
            "               nan,        nan,        nan], grad_fn=<MeanBackward1>)\n",
            "ce:  tensor([    nan,     nan,     nan, -0.0000,     nan,     nan,     nan,     nan,\n",
            "            nan,     nan,     nan, 16.8933,     nan,     nan,     nan],\n",
            "       grad_fn=<NllLossBackward0>)\n",
            "kde :  tensor([       nan,        nan,        nan, 3.6551e-12,        nan,        nan,\n",
            "               nan,        nan,        nan,        nan,        nan, 6.6596e-05,\n",
            "               nan,        nan,        nan], grad_fn=<MeanBackward1>)\n",
            "ce:  tensor([    nan,     nan,     nan, -0.0000,     nan,     nan,     nan,     nan,\n",
            "            nan,     nan,     nan, 16.7951,     nan,     nan,     nan],\n",
            "       grad_fn=<NllLossBackward0>)\n",
            "kde :  tensor([       nan,        nan,        nan, 3.6565e-12,        nan,        nan,\n",
            "               nan,        nan,        nan,        nan,        nan, 6.5343e-05,\n",
            "               nan,        nan,        nan], grad_fn=<MeanBackward1>)\n",
            "ce:  tensor([    nan,     nan,     nan, -0.0000,     nan,     nan,     nan,     nan,\n",
            "            nan,     nan,     nan, 16.8151,     nan,     nan,     nan],\n",
            "       grad_fn=<NllLossBackward0>)\n",
            "kde :  tensor([       nan,        nan,        nan, 3.6524e-12,        nan,        nan,\n",
            "               nan,        nan,        nan,        nan,        nan, 6.4048e-05,\n",
            "               nan,        nan,        nan], grad_fn=<MeanBackward1>)\n",
            "ce:  tensor([    nan,     nan,     nan,     nan,     nan,     nan,     nan,     nan,\n",
            "            nan,     nan,     nan, 16.7327,     nan,     nan,     nan],\n",
            "       grad_fn=<NllLossBackward0>)\n",
            "kde :  tensor([       nan,        nan,        nan,        nan,        nan,        nan,\n",
            "               nan,        nan,        nan,        nan,        nan, 6.3855e-05,\n",
            "               nan,        nan,        nan], grad_fn=<MeanBackward1>)\n",
            "ce:  tensor([    nan,     nan,     nan,     nan,     nan,     nan,     nan,     nan,\n",
            "            nan,     nan,     nan, 16.7677,     nan,     nan,     nan],\n",
            "       grad_fn=<NllLossBackward0>)\n",
            "kde :  tensor([       nan,        nan,        nan,        nan,        nan,        nan,\n",
            "               nan,        nan,        nan,        nan,        nan, 6.1646e-05,\n",
            "               nan,        nan,        nan], grad_fn=<MeanBackward1>)\n",
            "ce:  tensor([    nan,     nan,     nan,     nan,     nan,     nan,     nan,     nan,\n",
            "            nan,     nan,     nan, 16.7428,     nan,     nan,     nan],\n",
            "       grad_fn=<NllLossBackward0>)\n",
            "kde :  tensor([       nan,        nan,        nan,        nan,        nan,        nan,\n",
            "               nan,        nan,        nan,        nan,        nan, 6.2156e-05,\n",
            "               nan,        nan,        nan], grad_fn=<MeanBackward1>)\n",
            "ce:  tensor([    nan,     nan,     nan,     nan,     nan,     nan,     nan,     nan,\n",
            "            nan,     nan,     nan, 16.7278,     nan,     nan,     nan],\n",
            "       grad_fn=<NllLossBackward0>)\n",
            "kde :  tensor([       nan,        nan,        nan,        nan,        nan,        nan,\n",
            "               nan,        nan,        nan,        nan,        nan, 6.0107e-05,\n",
            "               nan,        nan,        nan], grad_fn=<MeanBackward1>)\n",
            "ce:  tensor([    nan,     nan,     nan,     nan,     nan,     nan,     nan,     nan,\n",
            "            nan,     nan,     nan, 16.7386,     nan,     nan,     nan],\n",
            "       grad_fn=<NllLossBackward0>)\n",
            "kde :  tensor([       nan,        nan,        nan,        nan,        nan,        nan,\n",
            "               nan,        nan,        nan,        nan,        nan, 6.0908e-05,\n",
            "               nan,        nan,        nan], grad_fn=<MeanBackward1>)\n",
            "ce:  tensor([    nan,     nan,     nan,     nan,     nan,     nan,     nan,     nan,\n",
            "            nan,     nan,     nan, 16.7296,     nan,     nan,     nan],\n",
            "       grad_fn=<NllLossBackward0>)\n",
            "kde :  tensor([       nan,        nan,        nan,        nan,        nan,        nan,\n",
            "               nan,        nan,        nan,        nan,        nan, 5.8604e-05,\n",
            "               nan,        nan,        nan], grad_fn=<MeanBackward1>)\n",
            "ce:  tensor([    nan,     nan,     nan,     nan,     nan,     nan,     nan,     nan,\n",
            "            nan,     nan,     nan, 16.7401,     nan,     nan,     nan],\n",
            "       grad_fn=<NllLossBackward0>)\n",
            "kde :  tensor([       nan,        nan,        nan,        nan,        nan,        nan,\n",
            "               nan,        nan,        nan,        nan,        nan, 5.7236e-05,\n",
            "               nan,        nan,        nan], grad_fn=<MeanBackward1>)\n",
            "ce:  tensor([    nan,     nan,     nan,     nan,     nan,     nan,     nan,     nan,\n",
            "            nan,     nan,     nan, 16.7327,     nan,     nan,     nan],\n",
            "       grad_fn=<NllLossBackward0>)\n",
            "kde :  tensor([       nan,        nan,        nan,        nan,        nan,        nan,\n",
            "               nan,        nan,        nan,        nan,        nan, 5.5490e-05,\n",
            "               nan,        nan,        nan], grad_fn=<MeanBackward1>)\n",
            "ce:  tensor([    nan,     nan,     nan,     nan,     nan,     nan,     nan,     nan,\n",
            "            nan,     nan,     nan, 16.7309,     nan,     nan,     nan],\n",
            "       grad_fn=<NllLossBackward0>)\n",
            "kde :  tensor([       nan,        nan,        nan,        nan,        nan,        nan,\n",
            "               nan,        nan,        nan,        nan,        nan, 5.4498e-05,\n",
            "               nan,        nan,        nan], grad_fn=<MeanBackward1>)\n",
            "ce:  tensor([    nan,     nan,     nan,     nan,     nan,     nan,     nan,     nan,\n",
            "            nan,     nan,     nan, 16.7251,     nan,     nan,     nan],\n",
            "       grad_fn=<NllLossBackward0>)\n",
            "kde :  tensor([       nan,        nan,        nan,        nan,        nan,        nan,\n",
            "               nan,        nan,        nan,        nan,        nan, 5.3233e-05,\n",
            "               nan,        nan,        nan], grad_fn=<MeanBackward1>)\n",
            "ce:  tensor([    nan,     nan,     nan,     nan,     nan,     nan,     nan,     nan,\n",
            "            nan,     nan,     nan, 16.6488,     nan,     nan,     nan],\n",
            "       grad_fn=<NllLossBackward0>)\n",
            "kde :  tensor([       nan,        nan,        nan,        nan,        nan,        nan,\n",
            "               nan,        nan,        nan,        nan,        nan, 5.0897e-05,\n",
            "               nan,        nan,        nan], grad_fn=<MeanBackward1>)\n",
            "ce:  tensor([    nan,     nan,     nan,     nan,     nan,     nan,     nan,     nan,\n",
            "            nan,     nan,     nan, 16.6817,     nan,     nan,     nan],\n",
            "       grad_fn=<NllLossBackward0>)\n",
            "kde :  tensor([       nan,        nan,        nan,        nan,        nan,        nan,\n",
            "               nan,        nan,        nan,        nan,        nan, 5.1896e-05,\n",
            "               nan,        nan,        nan], grad_fn=<MeanBackward1>)\n",
            "ce:  tensor([    nan,     nan,     nan,     nan,     nan,     nan,     nan,     nan,\n",
            "            nan,     nan,     nan, 16.6646,     nan,     nan,     nan],\n",
            "       grad_fn=<NllLossBackward0>)\n",
            "kde :  tensor([       nan,        nan,        nan,        nan,        nan,        nan,\n",
            "               nan,        nan,        nan,        nan,        nan, 5.0451e-05,\n",
            "               nan,        nan,        nan], grad_fn=<MeanBackward1>)\n",
            "ce:  tensor([    nan,     nan,     nan,     nan,     nan,     nan,     nan,     nan,\n",
            "            nan,     nan,     nan, 16.6660,     nan,     nan,     nan],\n",
            "       grad_fn=<NllLossBackward0>)\n",
            "kde :  tensor([       nan,        nan,        nan,        nan,        nan,        nan,\n",
            "               nan,        nan,        nan,        nan,        nan, 5.1211e-05,\n",
            "               nan,        nan,        nan], grad_fn=<MeanBackward1>)\n",
            "ce:  tensor([    nan,     nan,     nan,     nan,     nan,     nan,     nan,     nan,\n",
            "            nan,     nan,     nan, 16.6248,     nan,     nan,     nan],\n",
            "       grad_fn=<NllLossBackward0>)\n",
            "kde :  tensor([       nan,        nan,        nan,        nan,        nan,        nan,\n",
            "               nan,        nan,        nan,        nan,        nan, 4.9575e-05,\n",
            "               nan,        nan,        nan], grad_fn=<MeanBackward1>)\n",
            "ce:  tensor([    nan,     nan,     nan,     nan,     nan,     nan,     nan,     nan,\n",
            "            nan,     nan,     nan, 16.6723,     nan,     nan,     nan],\n",
            "       grad_fn=<NllLossBackward0>)\n",
            "kde :  tensor([       nan,        nan,        nan,        nan,        nan,        nan,\n",
            "               nan,        nan,        nan,        nan,        nan, 4.9703e-05,\n",
            "               nan,        nan,        nan], grad_fn=<MeanBackward1>)\n",
            "ce:  tensor([    nan,     nan,     nan,     nan,     nan,     nan,     nan,     nan,\n",
            "            nan,     nan,     nan, 16.6493,     nan,     nan,     nan],\n",
            "       grad_fn=<NllLossBackward0>)\n",
            "kde :  tensor([       nan,        nan,        nan,        nan,        nan,        nan,\n",
            "               nan,        nan,        nan,        nan,        nan, 4.7722e-05,\n",
            "               nan,        nan,        nan], grad_fn=<MeanBackward1>)\n",
            "ce:  tensor([    nan,     nan,     nan,     nan,     nan,     nan,     nan,     nan,\n",
            "            nan,     nan,     nan, 16.6577,     nan,     nan,     nan],\n",
            "       grad_fn=<NllLossBackward0>)\n",
            "kde :  tensor([       nan,        nan,        nan,        nan,        nan,        nan,\n",
            "               nan,        nan,        nan,        nan,        nan, 4.8129e-05,\n",
            "               nan,        nan,        nan], grad_fn=<MeanBackward1>)\n",
            "ce:  tensor([    nan,     nan,     nan,     nan,     nan,     nan,     nan,     nan,\n",
            "            nan,     nan,     nan, 16.6011,     nan,     nan,     nan],\n",
            "       grad_fn=<NllLossBackward0>)\n",
            "kde :  tensor([       nan,        nan,        nan,        nan,        nan,        nan,\n",
            "               nan,        nan,        nan,        nan,        nan, 4.6571e-05,\n",
            "               nan,        nan,        nan], grad_fn=<MeanBackward1>)\n",
            "ce:  tensor([    nan,     nan,     nan,     nan,     nan,     nan,     nan,     nan,\n",
            "            nan,     nan,     nan, 16.6485,     nan,     nan,     nan],\n",
            "       grad_fn=<NllLossBackward0>)\n",
            "kde :  tensor([       nan,        nan,        nan,        nan,        nan,        nan,\n",
            "               nan,        nan,        nan,        nan,        nan, 4.7444e-05,\n",
            "               nan,        nan,        nan], grad_fn=<MeanBackward1>)\n",
            "ce:  tensor([    nan,     nan,     nan,     nan,     nan,     nan,     nan,     nan,\n",
            "            nan,     nan,     nan, 16.6135,     nan,     nan,     nan],\n",
            "       grad_fn=<NllLossBackward0>)\n",
            "kde :  tensor([       nan,        nan,        nan,        nan,        nan,        nan,\n",
            "               nan,        nan,        nan,        nan,        nan, 4.5559e-05,\n",
            "               nan,        nan,        nan], grad_fn=<MeanBackward1>)\n",
            "ce:  tensor([    nan,     nan,     nan,     nan,     nan,     nan,     nan,     nan,\n",
            "            nan,     nan,     nan, 16.6142,     nan,     nan,     nan],\n",
            "       grad_fn=<NllLossBackward0>)\n",
            "kde :  tensor([       nan,        nan,        nan,        nan,        nan,        nan,\n",
            "               nan,        nan,        nan,        nan,        nan, 4.6188e-05,\n",
            "               nan,        nan,        nan], grad_fn=<MeanBackward1>)\n",
            "ce:  tensor([    nan,     nan,     nan,     nan,     nan,     nan,     nan,     nan,\n",
            "            nan,     nan,     nan, 16.5809,     nan,     nan,     nan],\n",
            "       grad_fn=<NllLossBackward0>)\n",
            "kde :  tensor([       nan,        nan,        nan,        nan,        nan,        nan,\n",
            "               nan,        nan,        nan,        nan,        nan, 4.4669e-05,\n",
            "               nan,        nan,        nan], grad_fn=<MeanBackward1>)\n",
            "ce:  tensor([    nan,     nan,     nan,     nan,     nan,     nan,     nan,     nan,\n",
            "            nan,     nan,     nan, 16.6165,     nan,     nan,     nan],\n",
            "       grad_fn=<NllLossBackward0>)\n",
            "kde :  tensor([       nan,        nan,        nan,        nan,        nan,        nan,\n",
            "               nan,        nan,        nan,        nan,        nan, 4.5263e-05,\n",
            "               nan,        nan,        nan], grad_fn=<MeanBackward1>)\n",
            "ce:  tensor([    nan,     nan,     nan,     nan,     nan,     nan,     nan,     nan,\n",
            "            nan,     nan,     nan, 16.5782,     nan,     nan,     nan],\n",
            "       grad_fn=<NllLossBackward0>)\n",
            "kde :  tensor([       nan,        nan,        nan,        nan,        nan,        nan,\n",
            "               nan,        nan,        nan,        nan,        nan, 4.3705e-05,\n",
            "               nan,        nan,        nan], grad_fn=<MeanBackward1>)\n",
            "ce:  tensor([    nan,     nan,     nan,     nan,     nan,     nan,     nan,     nan,\n",
            "            nan,     nan,     nan, 16.5510,     nan,     nan,     nan],\n",
            "       grad_fn=<NllLossBackward0>)\n",
            "kde :  tensor([       nan,        nan,        nan,        nan,        nan,        nan,\n",
            "               nan,        nan,        nan,        nan,        nan, 4.3908e-05,\n",
            "               nan,        nan,        nan], grad_fn=<MeanBackward1>)\n",
            "ce:  tensor([    nan,     nan,     nan,     nan,     nan,     nan,     nan,     nan,\n",
            "            nan,     nan,     nan, 16.5543,     nan,     nan,     nan],\n",
            "       grad_fn=<NllLossBackward0>)\n",
            "kde :  tensor([       nan,        nan,        nan,        nan,        nan,        nan,\n",
            "               nan,        nan,        nan,        nan,        nan, 4.2699e-05,\n",
            "               nan,        nan,        nan], grad_fn=<MeanBackward1>)\n",
            "ce:  tensor([    nan,     nan,     nan,     nan,     nan,     nan,     nan,     nan,\n",
            "            nan,     nan,     nan, 16.5565,     nan,     nan,     nan],\n",
            "       grad_fn=<NllLossBackward0>)\n",
            "kde :  tensor([       nan,        nan,        nan,        nan,        nan,        nan,\n",
            "               nan,        nan,        nan,        nan,        nan, 4.3120e-05,\n",
            "               nan,        nan,        nan], grad_fn=<MeanBackward1>)\n",
            "ce:  tensor([    nan,     nan,     nan,     nan,     nan,     nan,     nan,     nan,\n",
            "            nan,     nan,     nan, 16.5297,     nan,     nan,     nan],\n",
            "       grad_fn=<NllLossBackward0>)\n",
            "kde :  tensor([       nan,        nan,        nan,        nan,        nan,        nan,\n",
            "               nan,        nan,        nan,        nan,        nan, 4.1693e-05,\n",
            "               nan,        nan,        nan], grad_fn=<MeanBackward1>)\n",
            "ce:  tensor([    nan,     nan,     nan,     nan,     nan,     nan,     nan,     nan,\n",
            "            nan,     nan,     nan, 16.5534,     nan,     nan,     nan],\n",
            "       grad_fn=<NllLossBackward0>)\n",
            "kde :  tensor([       nan,        nan,        nan,        nan,        nan,        nan,\n",
            "               nan,        nan,        nan,        nan,        nan, 4.2564e-05,\n",
            "               nan,        nan,        nan], grad_fn=<MeanBackward1>)\n",
            "ce:  tensor([    nan,     nan,     nan,     nan,     nan,     nan,     nan,     nan,\n",
            "            nan,     nan,     nan, 16.4981,     nan,     nan,     nan],\n",
            "       grad_fn=<NllLossBackward0>)\n",
            "kde :  tensor([       nan,        nan,        nan,        nan,        nan,        nan,\n",
            "               nan,        nan,        nan,        nan,        nan, 4.1135e-05,\n",
            "               nan,        nan,        nan], grad_fn=<MeanBackward1>)\n",
            "ce:  tensor([    nan,     nan,     nan,     nan,     nan,     nan,     nan,     nan,\n",
            "            nan,     nan,     nan, 16.5324,     nan,     nan,     nan],\n",
            "       grad_fn=<NllLossBackward0>)\n",
            "kde :  tensor([       nan,        nan,        nan,        nan,        nan,        nan,\n",
            "               nan,        nan,        nan,        nan,        nan, 4.2017e-05,\n",
            "               nan,        nan,        nan], grad_fn=<MeanBackward1>)\n",
            "ce:  tensor([    nan,     nan,     nan,     nan,     nan,     nan,     nan,     nan,\n",
            "            nan,     nan,     nan, 16.4940,     nan,     nan,     nan],\n",
            "       grad_fn=<NllLossBackward0>)\n",
            "kde :  tensor([       nan,        nan,        nan,        nan,        nan,        nan,\n",
            "               nan,        nan,        nan,        nan,        nan, 4.0658e-05,\n",
            "               nan,        nan,        nan], grad_fn=<MeanBackward1>)\n",
            "ce:  tensor([    nan,     nan,     nan,     nan,     nan,     nan,     nan,     nan,\n",
            "            nan,     nan,     nan, 16.5263,     nan,     nan,     nan],\n",
            "       grad_fn=<NllLossBackward0>)\n",
            "kde :  tensor([       nan,        nan,        nan,        nan,        nan,        nan,\n",
            "               nan,        nan,        nan,        nan,        nan, 4.1307e-05,\n",
            "               nan,        nan,        nan], grad_fn=<MeanBackward1>)\n",
            "ce:  tensor([    nan,     nan,     nan,     nan,     nan,     nan,     nan,     nan,\n",
            "            nan,     nan,     nan, 16.4820,     nan,     nan,     nan],\n",
            "       grad_fn=<NllLossBackward0>)\n",
            "kde :  tensor([       nan,        nan,        nan,        nan,        nan,        nan,\n",
            "               nan,        nan,        nan,        nan,        nan, 3.9942e-05,\n",
            "               nan,        nan,        nan], grad_fn=<MeanBackward1>)\n",
            "ce:  tensor([    nan,     nan,     nan,     nan,     nan,     nan,     nan,     nan,\n",
            "            nan,     nan,     nan, 16.5267,     nan,     nan,     nan],\n",
            "       grad_fn=<NllLossBackward0>)\n",
            "kde :  tensor([       nan,        nan,        nan,        nan,        nan,        nan,\n",
            "               nan,        nan,        nan,        nan,        nan, 4.0329e-05,\n",
            "               nan,        nan,        nan], grad_fn=<MeanBackward1>)\n",
            "ce:  tensor([    nan,     nan,     nan,     nan,     nan,     nan,     nan,     nan,\n",
            "            nan,     nan,     nan, 16.4850,     nan,     nan,     nan],\n",
            "       grad_fn=<NllLossBackward0>)\n",
            "kde :  tensor([       nan,        nan,        nan,        nan,        nan,        nan,\n",
            "               nan,        nan,        nan,        nan,        nan, 3.9156e-05,\n",
            "               nan,        nan,        nan], grad_fn=<MeanBackward1>)\n",
            "ce:  tensor([    nan,     nan,     nan,     nan,     nan,     nan,     nan,     nan,\n",
            "            nan,     nan,     nan, 16.5253,     nan,     nan,     nan],\n",
            "       grad_fn=<NllLossBackward0>)\n",
            "kde :  tensor([       nan,        nan,        nan,        nan,        nan,        nan,\n",
            "               nan,        nan,        nan,        nan,        nan, 4.0013e-05,\n",
            "               nan,        nan,        nan], grad_fn=<MeanBackward1>)\n",
            "ce:  tensor([    nan,     nan,     nan,     nan,     nan,     nan,     nan,     nan,\n",
            "            nan,     nan,     nan, 16.4500,     nan,     nan,     nan],\n",
            "       grad_fn=<NllLossBackward0>)\n",
            "kde :  tensor([       nan,        nan,        nan,        nan,        nan,        nan,\n",
            "               nan,        nan,        nan,        nan,        nan, 3.8633e-05,\n",
            "               nan,        nan,        nan], grad_fn=<MeanBackward1>)\n",
            "ce:  tensor([    nan,     nan,     nan,     nan,     nan,     nan,     nan,     nan,\n",
            "            nan,     nan,     nan, 16.5010,     nan,     nan,     nan],\n",
            "       grad_fn=<NllLossBackward0>)\n",
            "kde :  tensor([       nan,        nan,        nan,        nan,        nan,        nan,\n",
            "               nan,        nan,        nan,        nan,        nan, 3.8960e-05,\n",
            "               nan,        nan,        nan], grad_fn=<MeanBackward1>)\n",
            "ce:  tensor([    nan,     nan,     nan,     nan,     nan,     nan,     nan,     nan,\n",
            "            nan,     nan,     nan, 16.4421,     nan,     nan,     nan],\n",
            "       grad_fn=<NllLossBackward0>)\n",
            "kde :  tensor([       nan,        nan,        nan,        nan,        nan,        nan,\n",
            "               nan,        nan,        nan,        nan,        nan, 3.7850e-05,\n",
            "               nan,        nan,        nan], grad_fn=<MeanBackward1>)\n",
            "ce:  tensor([    nan,     nan,     nan,     nan,     nan,     nan,     nan,     nan,\n",
            "            nan,     nan,     nan, 16.4824,     nan,     nan,     nan],\n",
            "       grad_fn=<NllLossBackward0>)\n",
            "kde :  tensor([       nan,        nan,        nan,        nan,        nan,        nan,\n",
            "               nan,        nan,        nan,        nan,        nan, 3.8597e-05,\n",
            "               nan,        nan,        nan], grad_fn=<MeanBackward1>)\n",
            "ce:  tensor([    nan,     nan,     nan,     nan,     nan,     nan,     nan,     nan,\n",
            "            nan,     nan,     nan, 16.4521,     nan,     nan,     nan],\n",
            "       grad_fn=<NllLossBackward0>)\n",
            "kde :  tensor([       nan,        nan,        nan,        nan,        nan,        nan,\n",
            "               nan,        nan,        nan,        nan,        nan, 3.7466e-05,\n",
            "               nan,        nan,        nan], grad_fn=<MeanBackward1>)\n",
            "ce:  tensor([    nan,     nan,     nan,     nan,     nan,     nan,     nan,     nan,\n",
            "            nan,     nan,     nan, 16.4546,     nan,     nan,     nan],\n",
            "       grad_fn=<NllLossBackward0>)\n",
            "kde :  tensor([       nan,        nan,        nan,        nan,        nan,        nan,\n",
            "               nan,        nan,        nan,        nan,        nan, 3.7501e-05,\n",
            "               nan,        nan,        nan], grad_fn=<MeanBackward1>)\n",
            "ce:  tensor([    nan,     nan,     nan,     nan,     nan,     nan,     nan,     nan,\n",
            "            nan,     nan,     nan, 16.4260,     nan,     nan,     nan],\n",
            "       grad_fn=<NllLossBackward0>)\n",
            "kde :  tensor([       nan,        nan,        nan,        nan,        nan,        nan,\n",
            "               nan,        nan,        nan,        nan,        nan, 3.6339e-05,\n",
            "               nan,        nan,        nan], grad_fn=<MeanBackward1>)\n",
            "ce:  tensor([    nan,     nan,     nan,     nan,     nan,     nan,     nan,     nan,\n",
            "            nan,     nan,     nan, 16.4408,     nan,     nan,     nan],\n",
            "       grad_fn=<NllLossBackward0>)\n",
            "kde :  tensor([       nan,        nan,        nan,        nan,        nan,        nan,\n",
            "               nan,        nan,        nan,        nan,        nan, 3.7040e-05,\n",
            "               nan,        nan,        nan], grad_fn=<MeanBackward1>)\n",
            "ce:  tensor([    nan,     nan,     nan,     nan,     nan,     nan,     nan,     nan,\n",
            "            nan,     nan,     nan, 16.3855,     nan,     nan,     nan],\n",
            "       grad_fn=<NllLossBackward0>)\n",
            "kde :  tensor([       nan,        nan,        nan,        nan,        nan,        nan,\n",
            "               nan,        nan,        nan,        nan,        nan, 3.5880e-05,\n",
            "               nan,        nan,        nan], grad_fn=<MeanBackward1>)\n",
            "ce:  tensor([    nan,     nan,     nan,     nan,     nan,     nan,     nan,     nan,\n",
            "            nan,     nan,     nan, 16.4315,     nan,     nan,     nan],\n",
            "       grad_fn=<NllLossBackward0>)\n",
            "kde :  tensor([       nan,        nan,        nan,        nan,        nan,        nan,\n",
            "               nan,        nan,        nan,        nan,        nan, 3.6555e-05,\n",
            "               nan,        nan,        nan], grad_fn=<MeanBackward1>)\n",
            "ce:  tensor([    nan,     nan,     nan,     nan,     nan,     nan,     nan,     nan,\n",
            "            nan,     nan,     nan, 16.3924,     nan,     nan,     nan],\n",
            "       grad_fn=<NllLossBackward0>)\n",
            "kde :  tensor([       nan,        nan,        nan,        nan,        nan,        nan,\n",
            "               nan,        nan,        nan,        nan,        nan, 3.6001e-05,\n",
            "               nan,        nan,        nan], grad_fn=<MeanBackward1>)\n",
            "ce:  tensor([    nan,     nan,     nan,     nan,     nan,     nan,     nan,     nan,\n",
            "            nan,     nan,     nan, 16.3689,     nan,     nan,     nan],\n",
            "       grad_fn=<NllLossBackward0>)\n",
            "kde :  tensor([       nan,        nan,        nan,        nan,        nan,        nan,\n",
            "               nan,        nan,        nan,        nan,        nan, 3.5713e-05,\n",
            "               nan,        nan,        nan], grad_fn=<MeanBackward1>)\n",
            "ce:  tensor([    nan,     nan,     nan,     nan,     nan,     nan,     nan,     nan,\n",
            "            nan,     nan,     nan, 16.3511,     nan,     nan,     nan],\n",
            "       grad_fn=<NllLossBackward0>)\n",
            "kde :  tensor([       nan,        nan,        nan,        nan,        nan,        nan,\n",
            "               nan,        nan,        nan,        nan,        nan, 3.6342e-05,\n",
            "               nan,        nan,        nan], grad_fn=<MeanBackward1>)\n",
            "ce:  tensor([    nan,     nan,     nan,     nan,     nan,     nan,     nan,     nan,\n",
            "            nan,     nan,     nan, 16.3393,     nan,     nan,     nan],\n",
            "       grad_fn=<NllLossBackward0>)\n",
            "kde :  tensor([       nan,        nan,        nan,        nan,        nan,        nan,\n",
            "               nan,        nan,        nan,        nan,        nan, 3.5215e-05,\n",
            "               nan,        nan,        nan], grad_fn=<MeanBackward1>)\n",
            "ce:  tensor([    nan,     nan,     nan,     nan,     nan,     nan,     nan,     nan,\n",
            "            nan,     nan,     nan, 16.3620,     nan,     nan,     nan],\n",
            "       grad_fn=<NllLossBackward0>)\n",
            "kde :  tensor([       nan,        nan,        nan,        nan,        nan,        nan,\n",
            "               nan,        nan,        nan,        nan,        nan, 3.5509e-05,\n",
            "               nan,        nan,        nan], grad_fn=<MeanBackward1>)\n",
            "ce:  tensor([    nan,     nan,     nan,     nan,     nan,     nan,     nan,     nan,\n",
            "            nan,     nan,     nan, 16.3069,     nan,     nan,     nan],\n",
            "       grad_fn=<NllLossBackward0>)\n",
            "kde :  tensor([       nan,        nan,        nan,        nan,        nan,        nan,\n",
            "               nan,        nan,        nan,        nan,        nan, 3.4332e-05,\n",
            "               nan,        nan,        nan], grad_fn=<MeanBackward1>)\n",
            "ce:  tensor([    nan,     nan,     nan,     nan,     nan,     nan,     nan,     nan,\n",
            "            nan,     nan,     nan, 16.3371,     nan,     nan,     nan],\n",
            "       grad_fn=<NllLossBackward0>)\n",
            "kde :  tensor([       nan,        nan,        nan,        nan,        nan,        nan,\n",
            "               nan,        nan,        nan,        nan,        nan, 3.4903e-05,\n",
            "               nan,        nan,        nan], grad_fn=<MeanBackward1>)\n",
            "ce:  tensor([    nan,     nan,     nan,     nan,     nan,     nan,     nan,     nan,\n",
            "            nan,     nan,     nan, 16.2968,     nan,     nan,     nan],\n",
            "       grad_fn=<NllLossBackward0>)\n",
            "kde :  tensor([       nan,        nan,        nan,        nan,        nan,        nan,\n",
            "               nan,        nan,        nan,        nan,        nan, 3.3995e-05,\n",
            "               nan,        nan,        nan], grad_fn=<MeanBackward1>)\n",
            "ce:  tensor([    nan,     nan,     nan,     nan,     nan,     nan,     nan,     nan,\n",
            "            nan,     nan,     nan, 16.3298,     nan,     nan,     nan],\n",
            "       grad_fn=<NllLossBackward0>)\n",
            "kde :  tensor([       nan,        nan,        nan,        nan,        nan,        nan,\n",
            "               nan,        nan,        nan,        nan,        nan, 3.4600e-05,\n",
            "               nan,        nan,        nan], grad_fn=<MeanBackward1>)\n",
            "ce:  tensor([    nan,     nan,     nan,     nan,     nan,     nan,     nan,     nan,\n",
            "            nan,     nan,     nan, 16.2869,     nan,     nan,     nan],\n",
            "       grad_fn=<NllLossBackward0>)\n",
            "kde :  tensor([       nan,        nan,        nan,        nan,        nan,        nan,\n",
            "               nan,        nan,        nan,        nan,        nan, 3.3640e-05,\n",
            "               nan,        nan,        nan], grad_fn=<MeanBackward1>)\n",
            "ce:  tensor([    nan,     nan,     nan,     nan,     nan,     nan,     nan,     nan,\n",
            "            nan,     nan,     nan, 16.3239,     nan,     nan,     nan],\n",
            "       grad_fn=<NllLossBackward0>)\n",
            "kde :  tensor([       nan,        nan,        nan,        nan,        nan,        nan,\n",
            "               nan,        nan,        nan,        nan,        nan, 3.4232e-05,\n",
            "               nan,        nan,        nan], grad_fn=<MeanBackward1>)\n",
            "ce:  tensor([    nan,     nan,     nan,     nan,     nan,     nan,     nan,     nan,\n",
            "            nan,     nan,     nan, 16.2817,     nan,     nan,     nan],\n",
            "       grad_fn=<NllLossBackward0>)\n",
            "kde :  tensor([       nan,        nan,        nan,        nan,        nan,        nan,\n",
            "               nan,        nan,        nan,        nan,        nan, 3.3388e-05,\n",
            "               nan,        nan,        nan], grad_fn=<MeanBackward1>)\n",
            "ce:  tensor([    nan,     nan,     nan,     nan,     nan,     nan,     nan,     nan,\n",
            "            nan,     nan,     nan, 16.3175,     nan,     nan,     nan],\n",
            "       grad_fn=<NllLossBackward0>)\n",
            "kde :  tensor([       nan,        nan,        nan,        nan,        nan,        nan,\n",
            "               nan,        nan,        nan,        nan,        nan, 3.3742e-05,\n",
            "               nan,        nan,        nan], grad_fn=<MeanBackward1>)\n",
            "ce:  tensor([    nan,     nan,     nan,     nan,     nan,     nan,     nan,     nan,\n",
            "            nan,     nan,     nan, 16.2653,     nan,     nan,     nan],\n",
            "       grad_fn=<NllLossBackward0>)\n",
            "kde :  tensor([       nan,        nan,        nan,        nan,        nan,        nan,\n",
            "               nan,        nan,        nan,        nan,        nan, 3.2753e-05,\n",
            "               nan,        nan,        nan], grad_fn=<MeanBackward1>)\n",
            "ce:  tensor([    nan,     nan,     nan,     nan,     nan,     nan,     nan,     nan,\n",
            "            nan,     nan,     nan, 16.3052,     nan,     nan,     nan],\n",
            "       grad_fn=<NllLossBackward0>)\n",
            "kde :  tensor([       nan,        nan,        nan,        nan,        nan,        nan,\n",
            "               nan,        nan,        nan,        nan,        nan, 3.3480e-05,\n",
            "               nan,        nan,        nan], grad_fn=<MeanBackward1>)\n",
            "ce:  tensor([    nan,     nan,     nan,     nan,     nan,     nan,     nan,     nan,\n",
            "            nan,     nan,     nan, 16.2888,     nan,     nan,     nan],\n",
            "       grad_fn=<NllLossBackward0>)\n",
            "kde :  tensor([       nan,        nan,        nan,        nan,        nan,        nan,\n",
            "               nan,        nan,        nan,        nan,        nan, 3.2063e-05,\n",
            "               nan,        nan,        nan], grad_fn=<MeanBackward1>)\n",
            "ce:  tensor([    nan,     nan,     nan,     nan,     nan,     nan,     nan,     nan,\n",
            "            nan,     nan,     nan, 16.2998,     nan,     nan,     nan],\n",
            "       grad_fn=<NllLossBackward0>)\n",
            "kde :  tensor([       nan,        nan,        nan,        nan,        nan,        nan,\n",
            "               nan,        nan,        nan,        nan,        nan, 3.1558e-05,\n",
            "               nan,        nan,        nan], grad_fn=<MeanBackward1>)\n",
            "ce:  tensor([    nan,     nan,     nan,     nan,     nan,     nan,     nan,     nan,\n",
            "            nan,     nan,     nan, 16.2922,     nan,     nan,     nan],\n",
            "       grad_fn=<NllLossBackward0>)\n",
            "kde :  tensor([       nan,        nan,        nan,        nan,        nan,        nan,\n",
            "               nan,        nan,        nan,        nan,        nan, 3.0936e-05,\n",
            "               nan,        nan,        nan], grad_fn=<MeanBackward1>)\n",
            "ce:  tensor([    nan,     nan,     nan,     nan,     nan,     nan,     nan,     nan,\n",
            "            nan,     nan,     nan, 16.2435,     nan,     nan,     nan],\n",
            "       grad_fn=<NllLossBackward0>)\n",
            "kde :  tensor([       nan,        nan,        nan,        nan,        nan,        nan,\n",
            "               nan,        nan,        nan,        nan,        nan, 3.0870e-05,\n",
            "               nan,        nan,        nan], grad_fn=<MeanBackward1>)\n",
            "ce:  tensor([    nan,     nan,     nan,     nan,     nan,     nan,     nan,     nan,\n",
            "            nan,     nan,     nan, 16.2832,     nan,     nan,     nan],\n",
            "       grad_fn=<NllLossBackward0>)\n",
            "kde :  tensor([       nan,        nan,        nan,        nan,        nan,        nan,\n",
            "               nan,        nan,        nan,        nan,        nan, 3.1467e-05,\n",
            "               nan,        nan,        nan], grad_fn=<MeanBackward1>)\n",
            "ce:  tensor([    nan,     nan,     nan,     nan,     nan,     nan,     nan,     nan,\n",
            "            nan,     nan,     nan, 16.2435,     nan,     nan,     nan],\n",
            "       grad_fn=<NllLossBackward0>)\n",
            "kde :  tensor([       nan,        nan,        nan,        nan,        nan,        nan,\n",
            "               nan,        nan,        nan,        nan,        nan, 3.1165e-05,\n",
            "               nan,        nan,        nan], grad_fn=<MeanBackward1>)\n",
            "ce:  tensor([    nan,     nan,     nan,     nan,     nan,     nan,     nan,     nan,\n",
            "            nan,     nan,     nan, 16.2599,     nan,     nan,     nan],\n",
            "       grad_fn=<NllLossBackward0>)\n",
            "kde :  tensor([       nan,        nan,        nan,        nan,        nan,        nan,\n",
            "               nan,        nan,        nan,        nan,        nan, 3.1473e-05,\n",
            "               nan,        nan,        nan], grad_fn=<MeanBackward1>)\n",
            "ce:  tensor([    nan,     nan,     nan,     nan,     nan,     nan,     nan,     nan,\n",
            "            nan,     nan,     nan, 16.2256,     nan,     nan,     nan],\n",
            "       grad_fn=<NllLossBackward0>)\n",
            "kde :  tensor([       nan,        nan,        nan,        nan,        nan,        nan,\n",
            "               nan,        nan,        nan,        nan,        nan, 3.0466e-05,\n",
            "               nan,        nan,        nan], grad_fn=<MeanBackward1>)\n",
            "ce:  tensor([    nan,     nan,     nan,     nan,     nan,     nan,     nan,     nan,\n",
            "            nan,     nan,     nan, 16.2540,     nan,     nan,     nan],\n",
            "       grad_fn=<NllLossBackward0>)\n",
            "kde :  tensor([       nan,        nan,        nan,        nan,        nan,        nan,\n",
            "               nan,        nan,        nan,        nan,        nan, 3.1149e-05,\n",
            "               nan,        nan,        nan], grad_fn=<MeanBackward1>)\n",
            "ce:  tensor([19.0013, 19.0013, 19.0013, 19.0013, 19.0013, 19.0013, 19.0013, 19.0013,\n",
            "        19.0013, 19.0013, 19.0013, 20.1455, 19.0013, 19.0013, 19.0013],\n",
            "       grad_fn=<NllLossBackward0>)\n",
            "kde :  tensor([7.6969e-01, 7.6969e-01, 7.6969e-01, 7.6969e-01, 7.6969e-01, 7.6969e-01,\n",
            "        7.6969e-01, 7.6969e-01, 7.6969e-01, 7.6969e-01, 7.6969e-01, 3.3806e-07,\n",
            "        7.6969e-01, 7.6969e-01, 7.6969e-01])\n",
            "PGD l2: Attack effectiveness 100.000%.\n"
          ]
        },
        {
          "output_type": "execute_result",
          "data": {
            "text/plain": [
              "tensor([[0., 0., 0.,  ..., 0., 0., 0.],\n",
              "        [0., 0., 0.,  ..., 0., 0., 0.],\n",
              "        [0., 0., 0.,  ..., 0., 0., 0.],\n",
              "        ...,\n",
              "        [0., 0., 0.,  ..., 0., 0., 0.],\n",
              "        [0., 0., 0.,  ..., 0., 0., 0.],\n",
              "        [0., 0., 0.,  ..., 0., 0., 0.]])"
            ]
          },
          "metadata": {},
          "execution_count": 78
        }
      ]
    },
    {
      "cell_type": "code",
      "source": [],
      "metadata": {
        "id": "bf6Fxrfk-qpR"
      },
      "execution_count": null,
      "outputs": []
    },
    {
      "cell_type": "code",
      "source": [
        "pgd(mals, mals_label, model_AT_rFGSM, insertion_array, removal_array, k=200, step_length=0.05, norm='l2', initial_rounding_threshold=0.5, round_threshold=0.5, random=False, is_report_loss_diff=True, is_sample=False)"
      ],
      "metadata": {
        "colab": {
          "base_uri": "https://localhost:8080/"
        },
        "id": "ioWT99uM6va_",
        "outputId": "f3eb0751-16ad-40c3-89e2-56b045ea0ce5"
      },
      "execution_count": null,
      "outputs": [
        {
          "output_type": "stream",
          "name": "stdout",
          "text": [
            "PGD l2: Attack effectiveness 86.667%.\n"
          ]
        },
        {
          "output_type": "execute_result",
          "data": {
            "text/plain": [
              "tensor([[1., 0., 1.,  ..., 0., 0., 0.],\n",
              "        [1., 0., 1.,  ..., 0., 0., 0.],\n",
              "        [1., 1., 1.,  ..., 0., 0., 0.],\n",
              "        ...,\n",
              "        [1., 0., 1.,  ..., 0., 0., 0.],\n",
              "        [1., 1., 0.,  ..., 0., 0., 0.],\n",
              "        [1., 1., 1.,  ..., 0., 0., 0.]])"
            ]
          },
          "metadata": {},
          "execution_count": 79
        }
      ]
    },
    {
      "cell_type": "code",
      "source": [
        "a = dfgsm_k(x.to(torch.float32), y, model_DNN, k=25)\n",
        "b = dfgsm_k2(x.to(torch.float32), y, model_DNN, k=25)"
      ],
      "metadata": {
        "colab": {
          "base_uri": "https://localhost:8080/"
        },
        "id": "Io68hi-_g5ND",
        "outputId": "7ed04482-4db8-410d-e023-fb026fb8f051"
      },
      "execution_count": null,
      "outputs": [
        {
          "output_type": "stream",
          "name": "stdout",
          "text": [
            "dFGSM: attack effectiveness 100.000%.\n",
            "dFGSM: attack effectiveness 100.000%.\n"
          ]
        }
      ]
    },
    {
      "cell_type": "code",
      "source": [
        "(a == b).sum()"
      ],
      "metadata": {
        "colab": {
          "base_uri": "https://localhost:8080/"
        },
        "id": "Sf7YDbdCicmM",
        "outputId": "9deeaf40-6ba2-437e-e7fb-7466da51eef8"
      },
      "execution_count": null,
      "outputs": [
        {
          "output_type": "execute_result",
          "data": {
            "text/plain": [
              "tensor(10000)"
            ]
          },
          "metadata": {},
          "execution_count": 28
        }
      ]
    },
    {
      "cell_type": "code",
      "source": [],
      "metadata": {
        "id": "LnX_cpFpg5Jt"
      },
      "execution_count": null,
      "outputs": []
    },
    {
      "cell_type": "code",
      "source": [
        "# AT-rFGSM: Adversarial Taraining based on rFGSM attack\n",
        "model_AT = MalwareDetectionModel().to(device)\n",
        "\n",
        "attack_param = {\"k\":50, \"epsilon\":0.02, 'random':True, \"is_sample\":False, 'is_report_loss_diff':False}\n",
        "adversarial_training(model_AT, train_loader, val_loader, adv_epochs=50, attack=dfgsm_k, **attack_param)"
      ],
      "metadata": {
        "colab": {
          "base_uri": "https://localhost:8080/"
        },
        "id": "i8s6H3v_0KhR",
        "outputId": "15e587ce-ca39-4e27-bd95-904689868f6d"
      },
      "execution_count": null,
      "outputs": [
        {
          "output_type": "stream",
          "name": "stdout",
          "text": [
            "Epoch: 1/50 | Training loss (epoch level): 0.6947 | Train accuracy: 75.76%\n",
            "\tVal accuracy(without attack) 89.88% and accuracy(with attack) 12.65% under attack and overall accuracy 51.26%.\n",
            "\tModel select at epoch 1 with validation accuracy 51.26% and accuracy 12.65% under attack.\n",
            "Epoch: 2/50 | Training loss (epoch level): 0.6497 | Train accuracy: 89.79%\n",
            "\tVal accuracy(without attack) 92.36% and accuracy(with attack) 15.88% under attack and overall accuracy 54.12%.\n",
            "\tModel select at epoch 2 with validation accuracy 54.12% and accuracy 15.88% under attack.\n",
            "Epoch: 3/50 | Training loss (epoch level): 0.5433 | Train accuracy: 91.49%\n",
            "\tVal accuracy(without attack) 95.4% and accuracy(with attack) 42.11% under attack and overall accuracy 68.75%.\n",
            "\tModel select at epoch 3 with validation accuracy 68.75% and accuracy 42.11% under attack.\n",
            "Epoch: 4/50 | Training loss (epoch level): 0.2668 | Train accuracy: 95.22%\n",
            "\tVal accuracy(without attack) 96.7% and accuracy(with attack) 72.76% under attack and overall accuracy 84.73%.\n",
            "\tModel select at epoch 4 with validation accuracy 84.73% and accuracy 72.76% under attack.\n",
            "Epoch: 5/50 | Training loss (epoch level): 0.1291 | Train accuracy: 96.51%\n",
            "\tVal accuracy(without attack) 97.25% and accuracy(with attack) 79.78% under attack and overall accuracy 88.51%.\n",
            "\tModel select at epoch 5 with validation accuracy 88.51% and accuracy 79.78% under attack.\n",
            "Epoch: 6/50 | Training loss (epoch level): 0.0871 | Train accuracy: 97.40%\n",
            "\tVal accuracy(without attack) 97.84% and accuracy(with attack) 82.36% under attack and overall accuracy 90.1%.\n",
            "\tModel select at epoch 6 with validation accuracy 90.1% and accuracy 82.36% under attack.\n",
            "Epoch: 7/50 | Training loss (epoch level): 0.0653 | Train accuracy: 98.09%\n",
            "\tVal accuracy(without attack) 98.14% and accuracy(with attack) 89.2% under attack and overall accuracy 93.67%.\n",
            "\tModel select at epoch 7 with validation accuracy 93.67% and accuracy 89.2% under attack.\n",
            "Epoch: 8/50 | Training loss (epoch level): 0.0519 | Train accuracy: 98.47%\n",
            "\tVal accuracy(without attack) 98.53% and accuracy(with attack) 87.53% under attack and overall accuracy 93.03%.\n",
            "\tModel select at epoch 7 with validation accuracy 93.67% and accuracy 89.2% under attack.\n",
            "Epoch: 9/50 | Training loss (epoch level): 0.0387 | Train accuracy: 98.88%\n",
            "\tVal accuracy(without attack) 98.54% and accuracy(with attack) 88.55% under attack and overall accuracy 93.54%.\n",
            "\tModel select at epoch 7 with validation accuracy 93.67% and accuracy 89.2% under attack.\n",
            "Epoch: 10/50 | Training loss (epoch level): 0.0297 | Train accuracy: 99.19%\n",
            "\tVal accuracy(without attack) 98.7% and accuracy(with attack) 89.38% under attack and overall accuracy 94.04%.\n",
            "\tModel select at epoch 10 with validation accuracy 94.04% and accuracy 89.38% under attack.\n",
            "Epoch: 11/50 | Training loss (epoch level): 0.0248 | Train accuracy: 99.35%\n",
            "\tVal accuracy(without attack) 98.76% and accuracy(with attack) 90.49% under attack and overall accuracy 94.62%.\n",
            "\tModel select at epoch 11 with validation accuracy 94.62% and accuracy 90.49% under attack.\n",
            "Epoch: 12/50 | Training loss (epoch level): 0.0264 | Train accuracy: 98.91%\n",
            "\tVal accuracy(without attack) 98.7% and accuracy(with attack) 83.93% under attack and overall accuracy 91.32%.\n",
            "\tModel select at epoch 11 with validation accuracy 94.62% and accuracy 90.49% under attack.\n",
            "Epoch: 13/50 | Training loss (epoch level): 0.0436 | Train accuracy: 98.82%\n",
            "\tVal accuracy(without attack) 98.64% and accuracy(with attack) 76.92% under attack and overall accuracy 87.78%.\n",
            "\tModel select at epoch 11 with validation accuracy 94.62% and accuracy 90.49% under attack.\n",
            "Epoch: 14/50 | Training loss (epoch level): 0.0387 | Train accuracy: 98.93%\n",
            "\tVal accuracy(without attack) 98.7% and accuracy(with attack) 86.24% under attack and overall accuracy 92.47%.\n",
            "\tModel select at epoch 11 with validation accuracy 94.62% and accuracy 90.49% under attack.\n",
            "Epoch: 15/50 | Training loss (epoch level): 0.0247 | Train accuracy: 99.35%\n",
            "\tVal accuracy(without attack) 98.69% and accuracy(with attack) 88.09% under attack and overall accuracy 93.39%.\n",
            "\tModel select at epoch 11 with validation accuracy 94.62% and accuracy 90.49% under attack.\n",
            "Epoch: 16/50 | Training loss (epoch level): 0.0213 | Train accuracy: 99.42%\n",
            "\tVal accuracy(without attack) 98.73% and accuracy(with attack) 89.75% under attack and overall accuracy 94.24%.\n",
            "\tModel select at epoch 11 with validation accuracy 94.62% and accuracy 90.49% under attack.\n",
            "Epoch: 17/50 | Training loss (epoch level): 0.0231 | Train accuracy: 99.05%\n",
            "\tVal accuracy(without attack) 98.75% and accuracy(with attack) 91.41% under attack and overall accuracy 95.08%.\n",
            "\tModel select at epoch 17 with validation accuracy 95.08% and accuracy 91.41% under attack.\n",
            "Epoch: 18/50 | Training loss (epoch level): 0.0246 | Train accuracy: 99.32%\n",
            "\tVal accuracy(without attack) 98.64% and accuracy(with attack) 90.21% under attack and overall accuracy 94.43%.\n",
            "\tModel select at epoch 17 with validation accuracy 95.08% and accuracy 91.41% under attack.\n",
            "Epoch: 19/50 | Training loss (epoch level): 0.0210 | Train accuracy: 99.49%\n",
            "\tVal accuracy(without attack) 98.78% and accuracy(with attack) 89.47% under attack and overall accuracy 94.13%.\n",
            "\tModel select at epoch 17 with validation accuracy 95.08% and accuracy 91.41% under attack.\n",
            "Epoch: 20/50 | Training loss (epoch level): 0.0156 | Train accuracy: 99.66%\n",
            "\tVal accuracy(without attack) 98.82% and accuracy(with attack) 90.21% under attack and overall accuracy 94.52%.\n",
            "\tModel select at epoch 17 with validation accuracy 95.08% and accuracy 91.41% under attack.\n",
            "Epoch: 21/50 | Training loss (epoch level): 0.0130 | Train accuracy: 99.71%\n",
            "\tVal accuracy(without attack) 98.82% and accuracy(with attack) 90.4% under attack and overall accuracy 94.61%.\n",
            "\tModel select at epoch 17 with validation accuracy 95.08% and accuracy 91.41% under attack.\n",
            "Epoch: 22/50 | Training loss (epoch level): 0.0127 | Train accuracy: 99.73%\n",
            "\tVal accuracy(without attack) 98.84% and accuracy(with attack) 90.49% under attack and overall accuracy 94.66%.\n",
            "\tModel select at epoch 17 with validation accuracy 95.08% and accuracy 91.41% under attack.\n",
            "Epoch: 23/50 | Training loss (epoch level): 0.0114 | Train accuracy: 99.76%\n",
            "\tVal accuracy(without attack) 98.83% and accuracy(with attack) 90.67% under attack and overall accuracy 94.75%.\n",
            "\tModel select at epoch 17 with validation accuracy 95.08% and accuracy 91.41% under attack.\n",
            "Epoch: 24/50 | Training loss (epoch level): 0.0115 | Train accuracy: 99.78%\n",
            "\tVal accuracy(without attack) 98.85% and accuracy(with attack) 90.86% under attack and overall accuracy 94.85%.\n",
            "\tModel select at epoch 17 with validation accuracy 95.08% and accuracy 91.41% under attack.\n",
            "Epoch: 25/50 | Training loss (epoch level): 0.0108 | Train accuracy: 99.76%\n",
            "\tVal accuracy(without attack) 98.83% and accuracy(with attack) 90.58% under attack and overall accuracy 94.71%.\n",
            "\tModel select at epoch 17 with validation accuracy 95.08% and accuracy 91.41% under attack.\n",
            "Epoch: 26/50 | Training loss (epoch level): 0.0118 | Train accuracy: 99.79%\n",
            "\tVal accuracy(without attack) 98.84% and accuracy(with attack) 90.77% under attack and overall accuracy 94.8%.\n",
            "\tModel select at epoch 17 with validation accuracy 95.08% and accuracy 91.41% under attack.\n",
            "Epoch: 27/50 | Training loss (epoch level): 0.0105 | Train accuracy: 99.77%\n",
            "\tVal accuracy(without attack) 98.87% and accuracy(with attack) 90.86% under attack and overall accuracy 94.86%.\n",
            "\tModel select at epoch 17 with validation accuracy 95.08% and accuracy 91.41% under attack.\n",
            "Epoch: 28/50 | Training loss (epoch level): 0.0106 | Train accuracy: 99.77%\n",
            "\tVal accuracy(without attack) 98.83% and accuracy(with attack) 90.95% under attack and overall accuracy 94.89%.\n",
            "\tModel select at epoch 17 with validation accuracy 95.08% and accuracy 91.41% under attack.\n",
            "Epoch: 29/50 | Training loss (epoch level): 0.0098 | Train accuracy: 99.81%\n",
            "\tVal accuracy(without attack) 98.84% and accuracy(with attack) 90.86% under attack and overall accuracy 94.85%.\n",
            "\tModel select at epoch 17 with validation accuracy 95.08% and accuracy 91.41% under attack.\n",
            "Epoch: 30/50 | Training loss (epoch level): 0.0096 | Train accuracy: 99.82%\n",
            "\tVal accuracy(without attack) 98.84% and accuracy(with attack) 90.77% under attack and overall accuracy 94.8%.\n",
            "\tModel select at epoch 17 with validation accuracy 95.08% and accuracy 91.41% under attack.\n",
            "Epoch: 31/50 | Training loss (epoch level): 0.0094 | Train accuracy: 99.82%\n",
            "\tVal accuracy(without attack) 98.83% and accuracy(with attack) 90.86% under attack and overall accuracy 94.84%.\n",
            "\tModel select at epoch 17 with validation accuracy 95.08% and accuracy 91.41% under attack.\n",
            "Epoch: 32/50 | Training loss (epoch level): 0.0097 | Train accuracy: 99.82%\n",
            "\tVal accuracy(without attack) 98.83% and accuracy(with attack) 90.95% under attack and overall accuracy 94.89%.\n",
            "\tModel select at epoch 17 with validation accuracy 95.08% and accuracy 91.41% under attack.\n",
            "Epoch: 33/50 | Training loss (epoch level): 0.0097 | Train accuracy: 99.82%\n",
            "\tVal accuracy(without attack) 98.84% and accuracy(with attack) 90.95% under attack and overall accuracy 94.9%.\n",
            "\tModel select at epoch 17 with validation accuracy 95.08% and accuracy 91.41% under attack.\n",
            "Epoch: 34/50 | Training loss (epoch level): 0.0095 | Train accuracy: 99.82%\n",
            "\tVal accuracy(without attack) 98.84% and accuracy(with attack) 91.04% under attack and overall accuracy 94.94%.\n",
            "\tModel select at epoch 17 with validation accuracy 95.08% and accuracy 91.41% under attack.\n",
            "Epoch: 35/50 | Training loss (epoch level): 0.0090 | Train accuracy: 99.84%\n",
            "\tVal accuracy(without attack) 98.84% and accuracy(with attack) 90.95% under attack and overall accuracy 94.9%.\n",
            "\tModel select at epoch 17 with validation accuracy 95.08% and accuracy 91.41% under attack.\n",
            "Epoch: 36/50 | Training loss (epoch level): 0.0089 | Train accuracy: 99.84%\n",
            "\tVal accuracy(without attack) 98.84% and accuracy(with attack) 91.04% under attack and overall accuracy 94.94%.\n",
            "\tModel select at epoch 17 with validation accuracy 95.08% and accuracy 91.41% under attack.\n",
            "Epoch: 37/50 | Training loss (epoch level): 0.0092 | Train accuracy: 99.84%\n",
            "\tVal accuracy(without attack) 98.85% and accuracy(with attack) 91.04% under attack and overall accuracy 94.95%.\n",
            "\tModel select at epoch 17 with validation accuracy 95.08% and accuracy 91.41% under attack.\n",
            "Epoch: 38/50 | Training loss (epoch level): 0.0091 | Train accuracy: 99.84%\n",
            "\tVal accuracy(without attack) 98.85% and accuracy(with attack) 90.86% under attack and overall accuracy 94.85%.\n",
            "\tModel select at epoch 17 with validation accuracy 95.08% and accuracy 91.41% under attack.\n",
            "Epoch: 39/50 | Training loss (epoch level): 0.0090 | Train accuracy: 99.84%\n",
            "\tVal accuracy(without attack) 98.86% and accuracy(with attack) 90.95% under attack and overall accuracy 94.91%.\n",
            "\tModel select at epoch 17 with validation accuracy 95.08% and accuracy 91.41% under attack.\n",
            "Epoch: 40/50 | Training loss (epoch level): 0.0091 | Train accuracy: 99.84%\n",
            "\tVal accuracy(without attack) 98.86% and accuracy(with attack) 91.04% under attack and overall accuracy 94.95%.\n",
            "\tModel select at epoch 17 with validation accuracy 95.08% and accuracy 91.41% under attack.\n",
            "Epoch: 41/50 | Training loss (epoch level): 0.0092 | Train accuracy: 99.84%\n",
            "\tVal accuracy(without attack) 98.86% and accuracy(with attack) 90.95% under attack and overall accuracy 94.91%.\n",
            "\tModel select at epoch 17 with validation accuracy 95.08% and accuracy 91.41% under attack.\n",
            "Epoch: 42/50 | Training loss (epoch level): 0.0090 | Train accuracy: 99.82%\n",
            "\tVal accuracy(without attack) 98.86% and accuracy(with attack) 90.77% under attack and overall accuracy 94.81%.\n",
            "\tModel select at epoch 17 with validation accuracy 95.08% and accuracy 91.41% under attack.\n",
            "Epoch: 43/50 | Training loss (epoch level): 0.0118 | Train accuracy: 99.83%\n",
            "\tVal accuracy(without attack) 98.86% and accuracy(with attack) 90.86% under attack and overall accuracy 94.86%.\n",
            "\tModel select at epoch 17 with validation accuracy 95.08% and accuracy 91.41% under attack.\n",
            "Epoch: 44/50 | Training loss (epoch level): 0.0089 | Train accuracy: 99.83%\n",
            "\tVal accuracy(without attack) 98.86% and accuracy(with attack) 90.95% under attack and overall accuracy 94.91%.\n",
            "\tModel select at epoch 17 with validation accuracy 95.08% and accuracy 91.41% under attack.\n",
            "Epoch: 45/50 | Training loss (epoch level): 0.0093 | Train accuracy: 99.85%\n",
            "\tVal accuracy(without attack) 98.86% and accuracy(with attack) 91.04% under attack and overall accuracy 94.95%.\n",
            "\tModel select at epoch 17 with validation accuracy 95.08% and accuracy 91.41% under attack.\n",
            "Epoch: 46/50 | Training loss (epoch level): 0.0089 | Train accuracy: 99.84%\n",
            "\tVal accuracy(without attack) 98.86% and accuracy(with attack) 90.95% under attack and overall accuracy 94.91%.\n",
            "\tModel select at epoch 17 with validation accuracy 95.08% and accuracy 91.41% under attack.\n",
            "Epoch: 47/50 | Training loss (epoch level): 0.0090 | Train accuracy: 99.82%\n",
            "\tVal accuracy(without attack) 98.86% and accuracy(with attack) 90.95% under attack and overall accuracy 94.91%.\n",
            "\tModel select at epoch 17 with validation accuracy 95.08% and accuracy 91.41% under attack.\n",
            "Epoch: 48/50 | Training loss (epoch level): 0.0091 | Train accuracy: 99.84%\n",
            "\tVal accuracy(without attack) 98.86% and accuracy(with attack) 91.04% under attack and overall accuracy 94.95%.\n",
            "\tModel select at epoch 17 with validation accuracy 95.08% and accuracy 91.41% under attack.\n",
            "Epoch: 49/50 | Training loss (epoch level): 0.0087 | Train accuracy: 99.85%\n",
            "\tVal accuracy(without attack) 98.85% and accuracy(with attack) 91.04% under attack and overall accuracy 94.95%.\n",
            "\tModel select at epoch 17 with validation accuracy 95.08% and accuracy 91.41% under attack.\n",
            "Epoch: 50/50 | Training loss (epoch level): 0.0090 | Train accuracy: 99.83%\n",
            "\tVal accuracy(without attack) 98.85% and accuracy(with attack) 90.95% under attack and overall accuracy 94.9%.\n",
            "\tModel select at epoch 17 with validation accuracy 95.08% and accuracy 91.41% under attack.\n"
          ]
        }
      ]
    },
    {
      "cell_type": "code",
      "source": [
        "# Create an instance of your model\n",
        "model_AT_rFGSM = MalwareDetectionModel().to(device)\n",
        "\n",
        "# Load model parameters\n",
        "model_AT_rFGSM.load_state_dict(torch.load('model_AT_rFGSM.pth', map_location=torch.device(device)))"
      ],
      "metadata": {
        "colab": {
          "base_uri": "https://localhost:8080/"
        },
        "id": "FNbO4UcTbDau",
        "outputId": "0ac4afeb-1aea-47cb-88a2-d1d898efd903"
      },
      "execution_count": null,
      "outputs": [
        {
          "output_type": "execute_result",
          "data": {
            "text/plain": [
              "<All keys matched successfully>"
            ]
          },
          "metadata": {},
          "execution_count": 32
        }
      ]
    },
    {
      "cell_type": "code",
      "source": [
        "model_evaluation(model_AT_rFGSM,test_loader,device)"
      ],
      "metadata": {
        "colab": {
          "base_uri": "https://localhost:8080/"
        },
        "id": "2JzxsIPyU8Yp",
        "outputId": "c532d73c-dbbb-49aa-9bb5-ef73dcbddb3a"
      },
      "execution_count": null,
      "outputs": [
        {
          "output_type": "stream",
          "name": "stdout",
          "text": [
            "Test Accuracy: 0.9893\n",
            "Test balanced Accuracy: 0.9710\n",
            "Precision: 0.9622\n",
            "Recall: 0.9469\n",
            "F1-score: 0.9545\n",
            "True Positives (TP): 1070\n",
            "True Negatives (TN): 8390\n",
            "False Positives (FP): 42\n",
            "False Negatives (FN): 60\n",
            "False Negative Rate (FNR): 5.3097\n",
            "False Positive Rate (FPR): 0.4981\n"
          ]
        }
      ]
    },
    {
      "cell_type": "code",
      "source": [],
      "metadata": {
        "id": "zNKcXQbObHbK"
      },
      "execution_count": null,
      "outputs": []
    },
    {
      "cell_type": "code",
      "source": [
        "def PGD_Max2(x,y, model, insertion_array, removal_array, attack_list = ['linf', 'l2', 'l1'],steps_max=5, is_sample = False, varepsilon = 1e-20, is_report_loss_diff = False):\n",
        "    \"\"\"\n",
        "    PGD_Max adversarial attack.\n",
        "\n",
        "    Args:\n",
        "        x: Input data tensor (shape: [samples, features])\n",
        "        y: Ground truth labels tensor (shape: [samples])\n",
        "        model: Neural network model\n",
        "        attack_list: List of norms for attacks (default: ['linf', 'l2', 'l1'])\n",
        "        steps_max: Maximum number of steps (default: 5)\n",
        "        is_sample: Flag to sample randomly from the feasible area (default: False)\n",
        "        vaρεpsilon: Tolerance for stopping condition (default: 1e-20)\n",
        "\n",
        "    Returns:\n",
        "        Adversarial version of input data (tensor)\n",
        "    \"\"\"\n",
        "    batch_size = x.shape[0]\n",
        "    norm_params = {\n",
        "        'l1': {'k': 50, 'step_length': 1.0, 'is_report_loss_diff':is_report_loss_diff},\n",
        "        'l2': {'k': 200, 'step_length': 0.05, 'is_report_loss_diff':is_report_loss_diff},\n",
        "        'linf': {'k': 500, 'step_length': 0.002, 'is_report_loss_diff':is_report_loss_diff}\n",
        "    }\n",
        "\n",
        "    model.eval()\n",
        "    with torch.no_grad():\n",
        "        loss, done = get_loss(x,y,model) #shape:[samples],[samples]\n",
        "\n",
        "    pre_loss = loss\n",
        "    n = x.shape[0]\n",
        "    adv_x = x.detach().clone().to(x.device)\n",
        "    stop_flag = torch.zeros(n, dtype=torch.bool).to(x.device) #[samples]\n",
        "\n",
        "    for t in range(steps_max):\n",
        "      num_remaining  = (~stop_flag).sum().item()\n",
        "      #print('number of remaining samples : ',num_remaining )\n",
        "      if num_remaining  <= 0:\n",
        "          break\n",
        "\n",
        "      remaining_label = y[~stop_flag]\n",
        "      pertbx = []\n",
        "\n",
        "      for norm in attack_list:\n",
        "          if norm in norm_params:\n",
        "              params = norm_params[norm]\n",
        "              perturbation = pgd(adv_x[~stop_flag], remaining_label, model, insertion_array, removal_array, norm=norm, is_sample=is_sample, **params)\n",
        "              #print(\"the number of added features : \", (perturbation.sum() - adv_x[~stop_flag].sum())/len(adv_x[~stop_flag]))\n",
        "              pertbx.append(perturbation)\n",
        "          else:\n",
        "              raise ValueError(\"Expected 'l1' or 'l2' or 'linf' norm.\")\n",
        "\n",
        "\n",
        "      # here pertbx.shape = a list of (number of attacks  ,(num_remaining ,features))\n",
        "      pertbx = torch.vstack(pertbx)\n",
        "      # here pertbx.shape = a tensor (num_remaining *number of attacks samples, features)\n",
        "\n",
        "      with torch.no_grad():\n",
        "        remaining_label_ext = torch.cat([remaining_label] * len(attack_list)) #(labels*number of attacks )\n",
        "        loss, done = get_loss(pertbx, remaining_label_ext,model) #(labels*number of attacks )\n",
        "\n",
        "        # for a sample, if there is at least one successful attack, we will select the one with maximum loss;\n",
        "        # while if no attacks evade the victim successful, all perturbed examples are reminded for selection\n",
        "        max_v = loss.amax()\n",
        "        loss[done] += max_v\n",
        "\n",
        "        loss = loss.reshape(len(attack_list), num_remaining ).permute(1, 0) #(num_remaining ,number of attacks)\n",
        "        done = done.reshape(len(attack_list), num_remaining ).permute(1, 0) #(num_remaining ,number of attacks)\n",
        "\n",
        "        success_flag = torch.any(done, dim=-1) #(num_remaining )\n",
        "\n",
        "        pertbx = pertbx.reshape(len(attack_list), num_remaining , x.shape[1]).permute([1, 0, 2])#(num_remaining ,attacks,features)\n",
        "        _, indices = loss.max(dim=-1) # ans:(samples), max loss among attacks which worked, and max loss among all attacks for sample , none of them worked\n",
        "        adv_x[~stop_flag] = pertbx[torch.arange(num_remaining ), indices]\n",
        "        a_loss = loss[torch.arange(num_remaining ), indices]\n",
        "        pre_stop_flag = stop_flag.clone()\n",
        "        stop_flag[~stop_flag] = (torch.abs(pre_loss[~stop_flag] - a_loss) < varepsilon) | success_flag\n",
        "        pre_loss[~pre_stop_flag] = a_loss\n",
        "\n",
        "    return adv_x"
      ],
      "metadata": {
        "id": "xC7ui_bLbHXm"
      },
      "execution_count": null,
      "outputs": []
    },
    {
      "cell_type": "code",
      "source": [
        "# PGD-max(MaxMA)\n",
        "attack_params = {'insertion_array':insertion_array, 'removal_array':removal_array,'steps_max':1,'is_sample':False, 'varepsilon':1e-20, 'is_report_loss_diff':False}\n",
        "adv_predict(test_loader, model_DNN, PGD_Max2, device, **attack_params)\n"
      ],
      "metadata": {
        "colab": {
          "base_uri": "https://localhost:8080/"
        },
        "outputId": "bd5437ed-1169-47ed-9f2b-d49e71f0c9dc",
        "id": "MpueENcmbH-d"
      },
      "execution_count": null,
      "outputs": [
        {
          "output_type": "stream",
          "name": "stdout",
          "text": [
            "Accuracy of just malwares (without attack): 96.19% | Under attack: 0.0%.\n"
          ]
        }
      ]
    },
    {
      "cell_type": "code",
      "source": [],
      "metadata": {
        "id": "vuHP6V3IbHUm"
      },
      "execution_count": null,
      "outputs": []
    },
    {
      "cell_type": "code",
      "source": [
        "def pgd(x, y, model, insertion_array, removal_array, k=25, step_length=0.02, norm='linf', initial_rounding_threshold=0.5, round_threshold=0.5, random=False, is_report_loss_diff=True, is_sample=False):\n",
        "    \"\"\"\n",
        "    Projected Gradient Descent (PGD) adversarial attack.\n",
        "    :param y: Ground truth labels\n",
        "    :param x: Feature vector\n",
        "    :param model: Neural network model\n",
        "    :param k: Number of steps\n",
        "    :param step_length: Step size for each iteration\n",
        "    :param norm: Norm used for perturbation ('linf' or 'l2')\n",
        "    :param initial_rounding_threshold: Threshold parameter for rounding the initial x_next\n",
        "    :param round_threshold: Threshold parameter for rounding\n",
        "    :param random: Flag to generate random thresholds\n",
        "    :param is_report_loss_diff: Flag to report loss difference\n",
        "    :param is_sample: Flag to sample randomly from the feasible area\n",
        "    :return: The adversarial version of x (tensor)\n",
        "    \"\"\"\n",
        "    model.eval()\n",
        "\n",
        "    # Compute natural loss\n",
        "    criterion = nn.CrossEntropyLoss(reduction='none')\n",
        "    loss_natural = criterion(model(x), y.view(-1).long())\n",
        "\n",
        "    # Initialize starting point\n",
        "    x_next = x.clone()\n",
        "    x_next = get_x0(x_next, initial_rounding_threshold, is_sample)\n",
        "\n",
        "    # Multi-step PGD\n",
        "    for t in range(k):\n",
        "        # Forward pass\n",
        "        x_var = x_next.clone().detach().requires_grad_(True)\n",
        "        y_model = model(x_var)\n",
        "        loss = criterion(y_model, y.view(-1).long())\n",
        "\n",
        "        # Compute gradient\n",
        "        grad_vars = torch.autograd.grad(loss.mean(), x_var)\n",
        "        gradients = grad_vars[0].data\n",
        "\n",
        "        #pos_insertion = (x_var <= 0.5) * 1 * insertion_array\n",
        "        pos_insertion = (x_var <= 0.5) * 1\n",
        "        grad4insertion = (gradients >= 0) * pos_insertion * gradients\n",
        "\n",
        "        pos_removal = (x_var > 0.5) * 1 * removal_array\n",
        "        grad4removal = (gradients < 0) * pos_removal * gradients\n",
        "\n",
        "        gradients = grad4removal + grad4insertion\n",
        "        #gradients =  grad4insertion\n",
        "\n",
        "        # Norm\n",
        "        if norm == 'linf':\n",
        "            perturbation = torch.sign(gradients).float()\n",
        "\n",
        "        elif norm == 'l2':\n",
        "            l2norm = torch.linalg.norm(gradients, dim=-1, keepdim=True)\n",
        "            perturbation = (gradients / l2norm).float()\n",
        "            #perturbation = torch.minimum(torch.tensor(1., dtype=x.dtype, device=x.device), gradients / l2norm).float()\n",
        "            #perturbation = torch.maximum(torch.tensor(-1., dtype=x.dtype, device=x.device), perturbation).float()\n",
        "            #perturbation[torch.isnan(perturbation)] = 0.\n",
        "            #perturbation[torch.isinf(perturbation)] = 1.\n",
        "\n",
        "        elif norm == 'l1':\n",
        "            # consider just features of a sample which are not updated yet(because our update is 0to1 or 1to0 not stepwise)\n",
        "            un_mod = torch.abs(x_next - x_var) <= 1e-6\n",
        "            gradients = gradients * un_mod\n",
        "\n",
        "            val, _ = torch.topk(torch.abs(gradients), 1)\n",
        "            perturbation = (torch.abs(gradients) >= val.expand_as(gradients)).float() * torch.sign(gradients).float()\n",
        "            # stop perturbing the examples that are successful to evade the victim\n",
        "            outputs = model(x_next)\n",
        "            _, predicted = torch.topk(outputs, k=1)\n",
        "            done = (predicted != y).squeeze()\n",
        "            if torch.all(done):\n",
        "                break\n",
        "            perturbation[done] = 0.\n",
        "\n",
        "        else:\n",
        "            raise ValueError(\"Expect 'l1' or 'l2' or 'linf' norm.\")\n",
        "\n",
        "        # Update x_next\n",
        "        x_next = torch.clamp(x_next + perturbation * step_length, min=0., max=1.)\n",
        "\n",
        "    # Rounding step\n",
        "    if random:\n",
        "       round_threshold = torch.rand(x_next.size())\n",
        "    x_next = round_x(x_next, round_threshold=round_threshold)\n",
        "\n",
        "    # Feasible projection\n",
        "    #x_next = or_float_tensors(x_next, x)\n",
        "\n",
        "    # Compute adversarial loss\n",
        "    loss_adv = criterion(model(x_next), y.view(-1).long()).data\n",
        "\n",
        "    if is_report_loss_diff:\n",
        "        outputs = model(x_next)\n",
        "        _, predicted = torch.topk(outputs, k=1)\n",
        "        done = (predicted != y).squeeze()\n",
        "        print(f\"PGD {norm}: Attack effectiveness {done.sum().item() / x.size()[0] * 100:.3f}%.\")\n",
        "\n",
        "    # Replace with natural if adversarial loss is higher\n",
        "    replace_flag = (loss_adv < loss_natural).squeeze()\n",
        "    x_next[replace_flag] = x[replace_flag]\n",
        "\n",
        "    return x_next"
      ],
      "metadata": {
        "id": "JP_6gCmbFDGi"
      },
      "execution_count": null,
      "outputs": []
    },
    {
      "cell_type": "code",
      "source": [
        "# rFGSM\n",
        "attack_params = {\"k\":50, \"epsilon\":0.02, 'random':True, 'is_report_loss_diff':False, 'is_sample':False}\n",
        "#adv_predict(test_loader, model_DNN, dfgsm_k2, device, **attack_params)\n",
        "adv_predict(test_loader, model_AT_rFGSM, dfgsm_k, device, **attack_params)"
      ],
      "metadata": {
        "colab": {
          "base_uri": "https://localhost:8080/",
          "height": 356
        },
        "id": "SnQZ4-J819Qc",
        "outputId": "0cf45a86-38f8-4438-f156-bd283c930458"
      },
      "execution_count": null,
      "outputs": [
        {
          "output_type": "error",
          "ename": "RuntimeError",
          "evalue": "Expected target size [0, 2], got [0]",
          "traceback": [
            "\u001b[0;31m---------------------------------------------------------------------------\u001b[0m",
            "\u001b[0;31mRuntimeError\u001b[0m                              Traceback (most recent call last)",
            "\u001b[0;32m<ipython-input-34-02992412d66a>\u001b[0m in \u001b[0;36m<cell line: 4>\u001b[0;34m()\u001b[0m\n\u001b[1;32m      2\u001b[0m \u001b[0mattack_params\u001b[0m \u001b[0;34m=\u001b[0m \u001b[0;34m{\u001b[0m\u001b[0;34m\"k\"\u001b[0m\u001b[0;34m:\u001b[0m\u001b[0;36m50\u001b[0m\u001b[0;34m,\u001b[0m \u001b[0;34m\"epsilon\"\u001b[0m\u001b[0;34m:\u001b[0m\u001b[0;36m0.02\u001b[0m\u001b[0;34m,\u001b[0m \u001b[0;34m'random'\u001b[0m\u001b[0;34m:\u001b[0m\u001b[0;32mTrue\u001b[0m\u001b[0;34m,\u001b[0m \u001b[0;34m'is_report_loss_diff'\u001b[0m\u001b[0;34m:\u001b[0m\u001b[0;32mFalse\u001b[0m\u001b[0;34m,\u001b[0m \u001b[0;34m'is_sample'\u001b[0m\u001b[0;34m:\u001b[0m\u001b[0;32mFalse\u001b[0m\u001b[0;34m}\u001b[0m\u001b[0;34m\u001b[0m\u001b[0;34m\u001b[0m\u001b[0m\n\u001b[1;32m      3\u001b[0m \u001b[0;31m#adv_predict(test_loader, model_DNN, dfgsm_k2, device, **attack_params)\u001b[0m\u001b[0;34m\u001b[0m\u001b[0;34m\u001b[0m\u001b[0m\n\u001b[0;32m----> 4\u001b[0;31m \u001b[0madv_predict\u001b[0m\u001b[0;34m(\u001b[0m\u001b[0mtest_loader\u001b[0m\u001b[0;34m,\u001b[0m \u001b[0mmodel_AT_rFGSM\u001b[0m\u001b[0;34m,\u001b[0m \u001b[0mdfgsm_k\u001b[0m\u001b[0;34m,\u001b[0m \u001b[0mdevice\u001b[0m\u001b[0;34m,\u001b[0m \u001b[0;34m**\u001b[0m\u001b[0mattack_params\u001b[0m\u001b[0;34m)\u001b[0m\u001b[0;34m\u001b[0m\u001b[0;34m\u001b[0m\u001b[0m\n\u001b[0m",
            "\u001b[0;32m/content/adverserial_attacks_functions.py\u001b[0m in \u001b[0;36madv_predict\u001b[0;34m(test_loader, model, attack, device, **kwargs)\u001b[0m\n\u001b[1;32m    206\u001b[0m             \u001b[0;32melse\u001b[0m \u001b[0;34m:\u001b[0m\u001b[0;34m\u001b[0m\u001b[0;34m\u001b[0m\u001b[0m\n\u001b[1;32m    207\u001b[0m                 \u001b[0;32mwith\u001b[0m \u001b[0mtorch\u001b[0m\u001b[0;34m.\u001b[0m\u001b[0menable_grad\u001b[0m\u001b[0;34m(\u001b[0m\u001b[0;34m)\u001b[0m\u001b[0;34m:\u001b[0m\u001b[0;34m\u001b[0m\u001b[0;34m\u001b[0m\u001b[0m\n\u001b[0;32m--> 208\u001b[0;31m                     \u001b[0mpertb_mal_x\u001b[0m \u001b[0;34m=\u001b[0m \u001b[0mattack\u001b[0m\u001b[0;34m(\u001b[0m\u001b[0mmal_x_batch\u001b[0m\u001b[0;34m,\u001b[0m \u001b[0mmal_y_batch\u001b[0m\u001b[0;34m,\u001b[0m \u001b[0mmodel\u001b[0m\u001b[0;34m,\u001b[0m \u001b[0;34m**\u001b[0m\u001b[0mkwargs\u001b[0m\u001b[0;34m)\u001b[0m\u001b[0;34m\u001b[0m\u001b[0;34m\u001b[0m\u001b[0m\n\u001b[0m\u001b[1;32m    209\u001b[0m \u001b[0;34m\u001b[0m\u001b[0m\n\u001b[1;32m    210\u001b[0m             \u001b[0moutputs\u001b[0m \u001b[0;34m=\u001b[0m \u001b[0mmodel\u001b[0m\u001b[0;34m(\u001b[0m\u001b[0mpertb_mal_x\u001b[0m\u001b[0;34m)\u001b[0m\u001b[0;34m\u001b[0m\u001b[0;34m\u001b[0m\u001b[0m\n",
            "\u001b[0;32m<ipython-input-21-b79fd83fddea>\u001b[0m in \u001b[0;36mdfgsm_k\u001b[0;34m(x, y, model, k, epsilon, alpha, initial_rounding_threshold, round_threshold, random, is_report_loss_diff, is_sample, device)\u001b[0m\n\u001b[1;32m     18\u001b[0m     \u001b[0;31m# Compute natural loss\u001b[0m\u001b[0;34m\u001b[0m\u001b[0;34m\u001b[0m\u001b[0m\n\u001b[1;32m     19\u001b[0m     \u001b[0mcriterion\u001b[0m \u001b[0;34m=\u001b[0m \u001b[0mnn\u001b[0m\u001b[0;34m.\u001b[0m\u001b[0mCrossEntropyLoss\u001b[0m\u001b[0;34m(\u001b[0m\u001b[0mreduction\u001b[0m\u001b[0;34m=\u001b[0m\u001b[0;34m'none'\u001b[0m\u001b[0;34m)\u001b[0m\u001b[0;34m\u001b[0m\u001b[0;34m\u001b[0m\u001b[0m\n\u001b[0;32m---> 20\u001b[0;31m     \u001b[0mloss_natural\u001b[0m \u001b[0;34m=\u001b[0m \u001b[0mcriterion\u001b[0m\u001b[0;34m(\u001b[0m\u001b[0mmodel\u001b[0m\u001b[0;34m(\u001b[0m\u001b[0mx\u001b[0m\u001b[0;34m)\u001b[0m\u001b[0;34m,\u001b[0m \u001b[0my\u001b[0m\u001b[0;34m.\u001b[0m\u001b[0mview\u001b[0m\u001b[0;34m(\u001b[0m\u001b[0;34m-\u001b[0m\u001b[0;36m1\u001b[0m\u001b[0;34m)\u001b[0m\u001b[0;34m.\u001b[0m\u001b[0mlong\u001b[0m\u001b[0;34m(\u001b[0m\u001b[0;34m)\u001b[0m\u001b[0;34m)\u001b[0m\u001b[0;34m\u001b[0m\u001b[0;34m\u001b[0m\u001b[0m\n\u001b[0m\u001b[1;32m     21\u001b[0m \u001b[0;34m\u001b[0m\u001b[0m\n\u001b[1;32m     22\u001b[0m     \u001b[0;31m# Initialize starting point\u001b[0m\u001b[0;34m\u001b[0m\u001b[0;34m\u001b[0m\u001b[0m\n",
            "\u001b[0;32m/usr/local/lib/python3.10/dist-packages/torch/nn/modules/module.py\u001b[0m in \u001b[0;36m_wrapped_call_impl\u001b[0;34m(self, *args, **kwargs)\u001b[0m\n\u001b[1;32m   1509\u001b[0m             \u001b[0;32mreturn\u001b[0m \u001b[0mself\u001b[0m\u001b[0;34m.\u001b[0m\u001b[0m_compiled_call_impl\u001b[0m\u001b[0;34m(\u001b[0m\u001b[0;34m*\u001b[0m\u001b[0margs\u001b[0m\u001b[0;34m,\u001b[0m \u001b[0;34m**\u001b[0m\u001b[0mkwargs\u001b[0m\u001b[0;34m)\u001b[0m  \u001b[0;31m# type: ignore[misc]\u001b[0m\u001b[0;34m\u001b[0m\u001b[0;34m\u001b[0m\u001b[0m\n\u001b[1;32m   1510\u001b[0m         \u001b[0;32melse\u001b[0m\u001b[0;34m:\u001b[0m\u001b[0;34m\u001b[0m\u001b[0;34m\u001b[0m\u001b[0m\n\u001b[0;32m-> 1511\u001b[0;31m             \u001b[0;32mreturn\u001b[0m \u001b[0mself\u001b[0m\u001b[0;34m.\u001b[0m\u001b[0m_call_impl\u001b[0m\u001b[0;34m(\u001b[0m\u001b[0;34m*\u001b[0m\u001b[0margs\u001b[0m\u001b[0;34m,\u001b[0m \u001b[0;34m**\u001b[0m\u001b[0mkwargs\u001b[0m\u001b[0;34m)\u001b[0m\u001b[0;34m\u001b[0m\u001b[0;34m\u001b[0m\u001b[0m\n\u001b[0m\u001b[1;32m   1512\u001b[0m \u001b[0;34m\u001b[0m\u001b[0m\n\u001b[1;32m   1513\u001b[0m     \u001b[0;32mdef\u001b[0m \u001b[0m_call_impl\u001b[0m\u001b[0;34m(\u001b[0m\u001b[0mself\u001b[0m\u001b[0;34m,\u001b[0m \u001b[0;34m*\u001b[0m\u001b[0margs\u001b[0m\u001b[0;34m,\u001b[0m \u001b[0;34m**\u001b[0m\u001b[0mkwargs\u001b[0m\u001b[0;34m)\u001b[0m\u001b[0;34m:\u001b[0m\u001b[0;34m\u001b[0m\u001b[0;34m\u001b[0m\u001b[0m\n",
            "\u001b[0;32m/usr/local/lib/python3.10/dist-packages/torch/nn/modules/module.py\u001b[0m in \u001b[0;36m_call_impl\u001b[0;34m(self, *args, **kwargs)\u001b[0m\n\u001b[1;32m   1518\u001b[0m                 \u001b[0;32mor\u001b[0m \u001b[0m_global_backward_pre_hooks\u001b[0m \u001b[0;32mor\u001b[0m \u001b[0m_global_backward_hooks\u001b[0m\u001b[0;34m\u001b[0m\u001b[0;34m\u001b[0m\u001b[0m\n\u001b[1;32m   1519\u001b[0m                 or _global_forward_hooks or _global_forward_pre_hooks):\n\u001b[0;32m-> 1520\u001b[0;31m             \u001b[0;32mreturn\u001b[0m \u001b[0mforward_call\u001b[0m\u001b[0;34m(\u001b[0m\u001b[0;34m*\u001b[0m\u001b[0margs\u001b[0m\u001b[0;34m,\u001b[0m \u001b[0;34m**\u001b[0m\u001b[0mkwargs\u001b[0m\u001b[0;34m)\u001b[0m\u001b[0;34m\u001b[0m\u001b[0;34m\u001b[0m\u001b[0m\n\u001b[0m\u001b[1;32m   1521\u001b[0m \u001b[0;34m\u001b[0m\u001b[0m\n\u001b[1;32m   1522\u001b[0m         \u001b[0;32mtry\u001b[0m\u001b[0;34m:\u001b[0m\u001b[0;34m\u001b[0m\u001b[0;34m\u001b[0m\u001b[0m\n",
            "\u001b[0;32m/usr/local/lib/python3.10/dist-packages/torch/nn/modules/loss.py\u001b[0m in \u001b[0;36mforward\u001b[0;34m(self, input, target)\u001b[0m\n\u001b[1;32m   1177\u001b[0m \u001b[0;34m\u001b[0m\u001b[0m\n\u001b[1;32m   1178\u001b[0m     \u001b[0;32mdef\u001b[0m \u001b[0mforward\u001b[0m\u001b[0;34m(\u001b[0m\u001b[0mself\u001b[0m\u001b[0;34m,\u001b[0m \u001b[0minput\u001b[0m\u001b[0;34m:\u001b[0m \u001b[0mTensor\u001b[0m\u001b[0;34m,\u001b[0m \u001b[0mtarget\u001b[0m\u001b[0;34m:\u001b[0m \u001b[0mTensor\u001b[0m\u001b[0;34m)\u001b[0m \u001b[0;34m->\u001b[0m \u001b[0mTensor\u001b[0m\u001b[0;34m:\u001b[0m\u001b[0;34m\u001b[0m\u001b[0;34m\u001b[0m\u001b[0m\n\u001b[0;32m-> 1179\u001b[0;31m         return F.cross_entropy(input, target, weight=self.weight,\n\u001b[0m\u001b[1;32m   1180\u001b[0m                                \u001b[0mignore_index\u001b[0m\u001b[0;34m=\u001b[0m\u001b[0mself\u001b[0m\u001b[0;34m.\u001b[0m\u001b[0mignore_index\u001b[0m\u001b[0;34m,\u001b[0m \u001b[0mreduction\u001b[0m\u001b[0;34m=\u001b[0m\u001b[0mself\u001b[0m\u001b[0;34m.\u001b[0m\u001b[0mreduction\u001b[0m\u001b[0;34m,\u001b[0m\u001b[0;34m\u001b[0m\u001b[0;34m\u001b[0m\u001b[0m\n\u001b[1;32m   1181\u001b[0m                                label_smoothing=self.label_smoothing)\n",
            "\u001b[0;32m/usr/local/lib/python3.10/dist-packages/torch/nn/functional.py\u001b[0m in \u001b[0;36mcross_entropy\u001b[0;34m(input, target, weight, size_average, ignore_index, reduce, reduction, label_smoothing)\u001b[0m\n\u001b[1;32m   3057\u001b[0m     \u001b[0;32mif\u001b[0m \u001b[0msize_average\u001b[0m \u001b[0;32mis\u001b[0m \u001b[0;32mnot\u001b[0m \u001b[0;32mNone\u001b[0m \u001b[0;32mor\u001b[0m \u001b[0mreduce\u001b[0m \u001b[0;32mis\u001b[0m \u001b[0;32mnot\u001b[0m \u001b[0;32mNone\u001b[0m\u001b[0;34m:\u001b[0m\u001b[0;34m\u001b[0m\u001b[0;34m\u001b[0m\u001b[0m\n\u001b[1;32m   3058\u001b[0m         \u001b[0mreduction\u001b[0m \u001b[0;34m=\u001b[0m \u001b[0m_Reduction\u001b[0m\u001b[0;34m.\u001b[0m\u001b[0mlegacy_get_string\u001b[0m\u001b[0;34m(\u001b[0m\u001b[0msize_average\u001b[0m\u001b[0;34m,\u001b[0m \u001b[0mreduce\u001b[0m\u001b[0;34m)\u001b[0m\u001b[0;34m\u001b[0m\u001b[0;34m\u001b[0m\u001b[0m\n\u001b[0;32m-> 3059\u001b[0;31m     \u001b[0;32mreturn\u001b[0m \u001b[0mtorch\u001b[0m\u001b[0;34m.\u001b[0m\u001b[0m_C\u001b[0m\u001b[0;34m.\u001b[0m\u001b[0m_nn\u001b[0m\u001b[0;34m.\u001b[0m\u001b[0mcross_entropy_loss\u001b[0m\u001b[0;34m(\u001b[0m\u001b[0minput\u001b[0m\u001b[0;34m,\u001b[0m \u001b[0mtarget\u001b[0m\u001b[0;34m,\u001b[0m \u001b[0mweight\u001b[0m\u001b[0;34m,\u001b[0m \u001b[0m_Reduction\u001b[0m\u001b[0;34m.\u001b[0m\u001b[0mget_enum\u001b[0m\u001b[0;34m(\u001b[0m\u001b[0mreduction\u001b[0m\u001b[0;34m)\u001b[0m\u001b[0;34m,\u001b[0m \u001b[0mignore_index\u001b[0m\u001b[0;34m,\u001b[0m \u001b[0mlabel_smoothing\u001b[0m\u001b[0;34m)\u001b[0m\u001b[0;34m\u001b[0m\u001b[0;34m\u001b[0m\u001b[0m\n\u001b[0m\u001b[1;32m   3060\u001b[0m \u001b[0;34m\u001b[0m\u001b[0m\n\u001b[1;32m   3061\u001b[0m \u001b[0;34m\u001b[0m\u001b[0m\n",
            "\u001b[0;31mRuntimeError\u001b[0m: Expected target size [0, 2], got [0]"
          ]
        }
      ]
    },
    {
      "cell_type": "code",
      "source": [],
      "metadata": {
        "id": "zSRiUHw419NL"
      },
      "execution_count": null,
      "outputs": []
    },
    {
      "cell_type": "code",
      "source": [],
      "metadata": {
        "id": "5zGUYSMS19Ke"
      },
      "execution_count": null,
      "outputs": []
    },
    {
      "cell_type": "code",
      "source": [],
      "metadata": {
        "id": "P1zm7Gkm19HZ"
      },
      "execution_count": null,
      "outputs": []
    },
    {
      "cell_type": "code",
      "source": [
        "# PGD-l2\n",
        "attack_params = {'insertion_array':insertion_array, 'removal_array':removal_array,\"k\":50, \"step_length\":0.5, 'norm':'l2', 'random':False, 'is_report_loss_diff':False, 'is_sample':False}\n",
        "adv_predict(test_loader, model_DNN, pgd, device, **attack_params)\n",
        "adv_predict(test_loader, model_AT_rFGSM, pgd, device, **attack_params)"
      ],
      "metadata": {
        "colab": {
          "base_uri": "https://localhost:8080/"
        },
        "id": "Gg0Zme2JbON4",
        "outputId": "ea7ca5f8-96d2-4303-848d-fc420c51aefc"
      },
      "execution_count": null,
      "outputs": [
        {
          "output_type": "stream",
          "name": "stdout",
          "text": [
            "Accuracy of just malwares (without attack): 96.19% | Under attack: 0.0%.\n",
            "Accuracy of just malwares (without attack): 92.74% | Under attack: 37.17%.\n"
          ]
        }
      ]
    },
    {
      "cell_type": "code",
      "source": [
        "# PGD-linf\n",
        "attack_params = {'insertion_array':insertion_array, 'removal_array':removal_array,\"k\":500, \"step_length\":0.002, 'norm':'linf', 'random':False, 'is_report_loss_diff':False, 'is_sample':False}\n",
        "adv_predict(test_loader, model_DNN, pgd, device, **attack_params)\n",
        "adv_predict(test_loader, model_AT_rFGSM, pgd, device, **attack_params)"
      ],
      "metadata": {
        "colab": {
          "base_uri": "https://localhost:8080/"
        },
        "id": "Zr6aOMdrvbEG",
        "outputId": "626c7924-4fcb-425b-a791-5eb40b0abf50"
      },
      "execution_count": null,
      "outputs": [
        {
          "output_type": "stream",
          "name": "stdout",
          "text": [
            "Accuracy of just malwares (without attack): 96.19% | Under attack: 0.0%.\n",
            "Accuracy of just malwares (without attack): 92.74% | Under attack: 42.04%.\n"
          ]
        }
      ]
    },
    {
      "cell_type": "code",
      "source": [
        "# PGD-l1\n",
        "attack_params = {'insertion_array':insertion_array, 'removal_array':removal_array,\"k\":500, \"step_length\":1., 'norm':'l1', 'random':False, 'is_report_loss_diff':False, 'is_sample':False}\n",
        "adv_predict(test_loader, model_DNN, pgd, device, **attack_params)\n",
        "adv_predict(test_loader, model_AT_rFGSM, pgd, device, **attack_params)"
      ],
      "metadata": {
        "colab": {
          "base_uri": "https://localhost:8080/"
        },
        "id": "-iBlhc3WTFqZ",
        "outputId": "fdf04ba1-85ce-46a0-bf90-6c7e4530d447"
      },
      "execution_count": null,
      "outputs": [
        {
          "output_type": "stream",
          "name": "stdout",
          "text": [
            "Accuracy of just malwares (without attack): 96.19% | Under attack: 0.0%.\n",
            "Accuracy of just malwares (without attack): 92.74% | Under attack: 36.55%.\n"
          ]
        }
      ]
    },
    {
      "cell_type": "code",
      "source": [],
      "metadata": {
        "id": "CcmcqljK6aKt"
      },
      "execution_count": null,
      "outputs": []
    },
    {
      "cell_type": "code",
      "source": [
        "# Mimicry×10\n",
        "attack_params = {\"trials\":10, 'is_report_loss_diff':False}\n",
        "adv_predict(test_loader, model_DNN, mimicry, device, **attack_params)\n",
        "adv_predict(test_loader, model_AT_rFGSM, mimicry, device, **attack_params)\n",
        "adv_predict(test_loader, model_AT_rFGSM_weightedLoss, mimicry, device, **attack_params)"
      ],
      "metadata": {
        "colab": {
          "base_uri": "https://localhost:8080/"
        },
        "outputId": "afb25b89-df6a-4756-cbbf-2b9f08e6ba9f",
        "id": "U01q9TUyXfOf"
      },
      "execution_count": null,
      "outputs": [
        {
          "output_type": "stream",
          "name": "stdout",
          "text": [
            "Accuracy of just malwares (without attack): 96.19% | Under attack: 25.31%.\n",
            "Accuracy of just malwares (without attack): 94.69% | Under attack: 94.16%.\n",
            "Accuracy of just malwares (without attack): 96.64% | Under attack: 95.04%.\n"
          ]
        }
      ]
    },
    {
      "cell_type": "code",
      "source": [
        "# Mimicry×30\n",
        "attack_params = {\"trials\":30, 'is_report_loss_diff':False}\n",
        "adv_predict(test_loader, model_DNN, mimicry, device, **attack_params)\n",
        "adv_predict(test_loader, model_AT_rFGSM, mimicry, device, **attack_params)\n",
        "adv_predict(test_loader, model_AT_rFGSM_weightedLoss, mimicry, device, **attack_params)"
      ],
      "metadata": {
        "colab": {
          "base_uri": "https://localhost:8080/"
        },
        "outputId": "44755132-e62a-4388-f135-fdbd4d1f66b9",
        "id": "hAXdXB9WZ5gw"
      },
      "execution_count": null,
      "outputs": [
        {
          "output_type": "stream",
          "name": "stdout",
          "text": [
            "Accuracy of just malwares (without attack): 96.19% | Under attack: 25.31%.\n",
            "Accuracy of just malwares (without attack): 94.69% | Under attack: 93.63%.\n",
            "Accuracy of just malwares (without attack): 96.64% | Under attack: 94.34%.\n"
          ]
        }
      ]
    },
    {
      "cell_type": "code",
      "source": [
        "# Mimicry×30\n",
        "attack_params = {\"trials\":30, 'is_report_loss_diff':False}\n",
        "adv_predict(test_loader, model_DNN, mimicry, device, **attack_params)\n",
        "adv_predict(test_loader, model_AT_rFGSM, mimicry, device, **attack_params)\n",
        "adv_predict(test_loader, model_AT_rFGSM_weightedLoss, mimicry, device, **attack_params)"
      ],
      "metadata": {
        "colab": {
          "base_uri": "https://localhost:8080/",
          "height": 332
        },
        "id": "kreETkfP2AmA",
        "outputId": "fce7d366-5b8c-4cb8-a64d-b24e468248ce"
      },
      "execution_count": 28,
      "outputs": [
        {
          "output_type": "error",
          "ename": "TypeError",
          "evalue": "mimicry() missing 1 required positional argument: 'removal_array'",
          "traceback": [
            "\u001b[0;31m---------------------------------------------------------------------------\u001b[0m",
            "\u001b[0;31mTypeError\u001b[0m                                 Traceback (most recent call last)",
            "\u001b[0;32m<ipython-input-28-05c0ab559d56>\u001b[0m in \u001b[0;36m<cell line: 3>\u001b[0;34m()\u001b[0m\n\u001b[1;32m      1\u001b[0m \u001b[0;31m# Mimicry×30\u001b[0m\u001b[0;34m\u001b[0m\u001b[0;34m\u001b[0m\u001b[0m\n\u001b[1;32m      2\u001b[0m \u001b[0mattack_params\u001b[0m \u001b[0;34m=\u001b[0m \u001b[0;34m{\u001b[0m\u001b[0;34m\"trials\"\u001b[0m\u001b[0;34m:\u001b[0m\u001b[0;36m30\u001b[0m\u001b[0;34m,\u001b[0m \u001b[0;34m'is_report_loss_diff'\u001b[0m\u001b[0;34m:\u001b[0m\u001b[0;32mFalse\u001b[0m\u001b[0;34m}\u001b[0m\u001b[0;34m\u001b[0m\u001b[0;34m\u001b[0m\u001b[0m\n\u001b[0;32m----> 3\u001b[0;31m \u001b[0madv_predict\u001b[0m\u001b[0;34m(\u001b[0m\u001b[0mtest_loader\u001b[0m\u001b[0;34m,\u001b[0m \u001b[0mmodel_DNN\u001b[0m\u001b[0;34m,\u001b[0m \u001b[0mmimicry\u001b[0m\u001b[0;34m,\u001b[0m \u001b[0mdevice\u001b[0m\u001b[0;34m,\u001b[0m \u001b[0;34m**\u001b[0m\u001b[0mattack_params\u001b[0m\u001b[0;34m)\u001b[0m\u001b[0;34m\u001b[0m\u001b[0;34m\u001b[0m\u001b[0m\n\u001b[0m\u001b[1;32m      4\u001b[0m \u001b[0madv_predict\u001b[0m\u001b[0;34m(\u001b[0m\u001b[0mtest_loader\u001b[0m\u001b[0;34m,\u001b[0m \u001b[0mmodel_AT_rFGSM\u001b[0m\u001b[0;34m,\u001b[0m \u001b[0mmimicry\u001b[0m\u001b[0;34m,\u001b[0m \u001b[0mdevice\u001b[0m\u001b[0;34m,\u001b[0m \u001b[0;34m**\u001b[0m\u001b[0mattack_params\u001b[0m\u001b[0;34m)\u001b[0m\u001b[0;34m\u001b[0m\u001b[0;34m\u001b[0m\u001b[0m\n\u001b[1;32m      5\u001b[0m \u001b[0madv_predict\u001b[0m\u001b[0;34m(\u001b[0m\u001b[0mtest_loader\u001b[0m\u001b[0;34m,\u001b[0m \u001b[0mmodel_AT_rFGSM_weightedLoss\u001b[0m\u001b[0;34m,\u001b[0m \u001b[0mmimicry\u001b[0m\u001b[0;34m,\u001b[0m \u001b[0mdevice\u001b[0m\u001b[0;34m,\u001b[0m \u001b[0;34m**\u001b[0m\u001b[0mattack_params\u001b[0m\u001b[0;34m)\u001b[0m\u001b[0;34m\u001b[0m\u001b[0;34m\u001b[0m\u001b[0m\n",
            "\u001b[0;32m<ipython-input-27-14b2067651e4>\u001b[0m in \u001b[0;36madv_predict\u001b[0;34m(test_loader, model, attack, device, **kwargs)\u001b[0m\n\u001b[1;32m     46\u001b[0m             \u001b[0;31m# Generate adversarial examples for test set\u001b[0m\u001b[0;34m\u001b[0m\u001b[0;34m\u001b[0m\u001b[0m\n\u001b[1;32m     47\u001b[0m             \u001b[0;32mif\u001b[0m \u001b[0mattack\u001b[0m \u001b[0;34m==\u001b[0m \u001b[0mmimicry\u001b[0m\u001b[0;34m:\u001b[0m\u001b[0;34m\u001b[0m\u001b[0;34m\u001b[0m\u001b[0m\n\u001b[0;32m---> 48\u001b[0;31m                 \u001b[0mpertb_mal_x\u001b[0m \u001b[0;34m=\u001b[0m \u001b[0mmimicry\u001b[0m\u001b[0;34m(\u001b[0m\u001b[0mtop_500_high_confidence_benign_samples\u001b[0m\u001b[0;34m,\u001b[0m \u001b[0mmal_x_batch\u001b[0m\u001b[0;34m,\u001b[0m \u001b[0mmodel\u001b[0m\u001b[0;34m,\u001b[0m \u001b[0;34m**\u001b[0m\u001b[0mkwargs\u001b[0m\u001b[0;34m)\u001b[0m\u001b[0;34m\u001b[0m\u001b[0;34m\u001b[0m\u001b[0m\n\u001b[0m\u001b[1;32m     49\u001b[0m             \u001b[0;32melif\u001b[0m \u001b[0mattack\u001b[0m \u001b[0;34m==\u001b[0m \u001b[0mgkde\u001b[0m\u001b[0;34m:\u001b[0m\u001b[0;34m\u001b[0m\u001b[0;34m\u001b[0m\u001b[0m\n\u001b[1;32m     50\u001b[0m                 \u001b[0;32mwith\u001b[0m \u001b[0mtorch\u001b[0m\u001b[0;34m.\u001b[0m\u001b[0menable_grad\u001b[0m\u001b[0;34m(\u001b[0m\u001b[0;34m)\u001b[0m\u001b[0;34m:\u001b[0m\u001b[0;34m\u001b[0m\u001b[0;34m\u001b[0m\u001b[0m\n",
            "\u001b[0;31mTypeError\u001b[0m: mimicry() missing 1 required positional argument: 'removal_array'"
          ]
        }
      ]
    },
    {
      "cell_type": "code",
      "source": [
        "# Mimicry×100\n",
        "attack_params = {\"trials\":100, 'is_report_loss_diff':False}\n",
        "adv_predict(test_loader, model_DNN, mimicry, device, **attack_params)\n",
        "adv_predict(test_loader, model_AT_rFGSM, mimicry, device, **attack_params)\n",
        "adv_predict(test_loader, model_AT_rFGSM_weightedLoss, mimicry, device, **attack_params)"
      ],
      "metadata": {
        "colab": {
          "base_uri": "https://localhost:8080/"
        },
        "id": "Pfpi9634JWuk",
        "outputId": "86b3e61d-7841-45c4-9eb5-32c185eca016"
      },
      "execution_count": null,
      "outputs": [
        {
          "output_type": "stream",
          "name": "stdout",
          "text": [
            "Accuracy of just malwares (without attack): 96.19% | Under attack: 24.6%.\n",
            "Accuracy of just malwares (without attack): 94.69% | Under attack: 92.39%.\n",
            "Accuracy of just malwares (without attack): 96.64% | Under attack: 92.3%.\n"
          ]
        }
      ]
    },
    {
      "cell_type": "code",
      "source": [
        "# Mimicry×1000\n",
        "attack_params = {\"trials\":1000, 'is_report_loss_diff':False}\n",
        "adv_predict(test_loader, model_DNN, mimicry, device, **attack_params)\n",
        "adv_predict(test_loader, model_AT_rFGSM, mimicry, device, **attack_params)\n",
        "adv_predict(test_loader, model_AT_rFGSM_weightedLoss, mimicry, device, **attack_params)"
      ],
      "metadata": {
        "colab": {
          "base_uri": "https://localhost:8080/"
        },
        "id": "4LFfGUJSq8Vi",
        "outputId": "13c3f2cf-fa2a-4dc4-e6a5-5f3392b8e934"
      },
      "execution_count": null,
      "outputs": [
        {
          "output_type": "stream",
          "name": "stdout",
          "text": [
            "Accuracy of just malwares (without attack): 96.19% | Under attack: 2.478%.\n",
            "Accuracy of just malwares (without attack): 94.69% | Under attack: 92.04%.\n",
            "Accuracy of just malwares (without attack): 96.64% | Under attack: 87.26%.\n"
          ]
        }
      ]
    },
    {
      "cell_type": "code",
      "source": [
        "# PGD-max(MaxMA)\n",
        "attack_params = {'steps_max':1,'is_sample':False, 'varepsilon':1e-20, 'is_report_loss_diff':False}\n",
        "adv_predict(test_loader, model_DNN, PGD_Max2, device, **attack_params)\n",
        "adv_predict(test_loader, model_AT_rFGSM, PGD_Max2, device, **attack_params)\n",
        "adv_predict(test_loader, model_AT_rFGSM_weightedLoss, PGD_Max2, device, **attack_params)"
      ],
      "metadata": {
        "colab": {
          "base_uri": "https://localhost:8080/"
        },
        "id": "KupSYB5m91Nw",
        "outputId": "6104de7c-3ba8-4004-a613-51f0c7c63d0f"
      },
      "execution_count": null,
      "outputs": [
        {
          "output_type": "stream",
          "name": "stdout",
          "text": [
            "Accuracy of just malwares (without attack): 96.19% | Under attack: 0.0%.\n",
            "Accuracy of just malwares (without attack): 94.69% | Under attack: 89.29%.\n",
            "Accuracy of just malwares (without attack): 96.64% | Under attack: 80.62%.\n"
          ]
        }
      ]
    },
    {
      "cell_type": "code",
      "source": [
        "# PGD-max(iMaxMA)\n",
        "attack_params = {'steps_max':5,'is_sample':False, 'varepsilon':1e-20, 'is_report_loss_diff':False}\n",
        "adv_predict(test_loader, model_DNN, PGD_Max2, device, **attack_params)\n",
        "adv_predict(test_loader, model_AT_rFGSM, PGD_Max2, device, **attack_params)\n",
        "adv_predict(test_loader, model_AT_rFGSM_weightedLoss, PGD_Max2, device, **attack_params)"
      ],
      "metadata": {
        "id": "IDFZ2fByX_sU",
        "colab": {
          "base_uri": "https://localhost:8080/"
        },
        "outputId": "7a4ade24-60f4-445b-8c28-c373a793de70"
      },
      "execution_count": null,
      "outputs": [
        {
          "output_type": "stream",
          "name": "stdout",
          "text": [
            "Accuracy of just malwares (without attack): 96.19% | Under attack: 0.0%.\n",
            "Accuracy of just malwares (without attack): 94.69% | Under attack: 87.96%.\n",
            "Accuracy of just malwares (without attack): 96.64% | Under attack: 74.16%.\n"
          ]
        }
      ]
    },
    {
      "cell_type": "code",
      "source": [
        "attack_params = {'step_lengths':{\"l1\": 1.0, \"l2\": 0.5, \"linf\": 0.0008}, \"steps\":700}\n",
        "adv_predict(test_loader, model_AT_rFGSM, StepwiseMax_onestep2, device, **attack_params)"
      ],
      "metadata": {
        "colab": {
          "base_uri": "https://localhost:8080/"
        },
        "id": "xylm8-33y2uc",
        "outputId": "691e9414-5919-4e77-da52-d60a0c20db2f"
      },
      "execution_count": null,
      "outputs": [
        {
          "output_type": "stream",
          "name": "stdout",
          "text": [
            "step-wise max: attack effectiveness 7.826%.\n",
            "step-wise max: attack effectiveness 8.547%.\n",
            "step-wise max: attack effectiveness 15.200%.\n",
            "step-wise max: attack effectiveness 6.796%.\n",
            "step-wise max: attack effectiveness 11.504%.\n",
            "step-wise max: attack effectiveness 16.216%.\n",
            "step-wise max: attack effectiveness 9.630%.\n",
            "step-wise max: attack effectiveness 9.489%.\n",
            "step-wise max: attack effectiveness 7.200%.\n",
            "step-wise max: attack effectiveness 12.245%.\n",
            "Accuracy of just malwares (without attack): 94.69% | Under attack: 89.65%.\n"
          ]
        }
      ]
    },
    {
      "cell_type": "code",
      "source": [
        "attack_params = {'step_lengths':{\"l1\": 1.0, \"l2\": 0.2, \"linf\": 0.0005}, \"steps\":1000}\n",
        "adv_predict(test_loader, model_AT_rFGSM_weightedLoss, StepwiseMax_onestep2, device, **attack_params)"
      ],
      "metadata": {
        "colab": {
          "base_uri": "https://localhost:8080/"
        },
        "id": "w1UDHDWk5OIK",
        "outputId": "e19ac4cc-83dd-4dc5-c93f-48df8725d428"
      },
      "execution_count": null,
      "outputs": [
        {
          "output_type": "stream",
          "name": "stdout",
          "text": [
            "step-wise max: attack effectiveness 9.565%.\n",
            "step-wise max: attack effectiveness 7.692%.\n",
            "step-wise max: attack effectiveness 16.800%.\n",
            "step-wise max: attack effectiveness 10.680%.\n",
            "step-wise max: attack effectiveness 12.389%.\n",
            "step-wise max: attack effectiveness 20.721%.\n",
            "step-wise max: attack effectiveness 11.852%.\n",
            "step-wise max: attack effectiveness 10.949%.\n",
            "step-wise max: attack effectiveness 8.800%.\n",
            "step-wise max: attack effectiveness 12.245%.\n",
            "Accuracy of just malwares (without attack): 96.64% | Under attack: 87.88%.\n"
          ]
        }
      ]
    },
    {
      "cell_type": "code",
      "source": [
        "# Define different attacks with their parameters\n",
        "attacks = [\n",
        "    (dfgsm_k, {\"k\":100, \"epsilon\":0.02, 'is_report_loss_diff' : False}),\n",
        "    (bga_k, {\"k\":100, 'is_report_loss_diff' : False}),\n",
        "    (bca_k, {\"k\":100, 'is_report_loss_diff' : False}),\n",
        "    (grosse_k, {\"k\":100, 'is_report_loss_diff' : False}),\n",
        "\n",
        "    (pgd, {'k': 100, 'step_length': 1., 'norm': 'l1', 'is_report_loss_diff' : False}),\n",
        "    (pgd, {'k': 200, 'step_length': 0.05, 'norm': 'l2', 'is_report_loss_diff' : False}),\n",
        "    (pgd, {'k': 100, 'step_length': 0.02, 'norm': 'linf', 'is_report_loss_diff' : False}),\n",
        "    (StepwiseMax_onestep2, {'step_lengths':{\"l1\": 1.0, \"l2\": 0.05, \"linf\": 0.0008}, \"steps\":650}),\n",
        "\n",
        "    # Add more attacks as needed\n",
        "]\n",
        "\n",
        "# Iterate over each attack and its parameters\n",
        "for attack_func, attack_params in attacks:\n",
        "    print(f\"Running attack: {attack_func.__name__} with parameters: {attack_params}\")\n",
        "    adv_predict(test_loader, model_AT_rFGSM, attack_func, device, **attack_params)\n",
        "    print()  # Print an empty line for separation\n"
      ],
      "metadata": {
        "colab": {
          "base_uri": "https://localhost:8080/",
          "height": 387
        },
        "id": "-JDuv4WBvq54",
        "outputId": "b8463a56-2af1-4908-a785-5956b7981542"
      },
      "execution_count": null,
      "outputs": [
        {
          "output_type": "stream",
          "name": "stdout",
          "text": [
            "Running attack: StepwiseMax_onestep2 with parameters: {'step_lengths': {'l1': 1.0, 'l2': 0.05, 'linf': 0.0008}, 'steps': 650}\n"
          ]
        },
        {
          "output_type": "error",
          "ename": "TypeError",
          "evalue": "StepwiseMax_onestep2() missing 2 required positional arguments: 'insertion_array' and 'removal_array'",
          "traceback": [
            "\u001b[0;31m---------------------------------------------------------------------------\u001b[0m",
            "\u001b[0;31mTypeError\u001b[0m                                 Traceback (most recent call last)",
            "\u001b[0;32m<ipython-input-18-9cf164a8122a>\u001b[0m in \u001b[0;36m<cell line: 10>\u001b[0;34m()\u001b[0m\n\u001b[1;32m     10\u001b[0m \u001b[0;32mfor\u001b[0m \u001b[0mattack_func\u001b[0m\u001b[0;34m,\u001b[0m \u001b[0mattack_params\u001b[0m \u001b[0;32min\u001b[0m \u001b[0mattacks\u001b[0m\u001b[0;34m:\u001b[0m\u001b[0;34m\u001b[0m\u001b[0;34m\u001b[0m\u001b[0m\n\u001b[1;32m     11\u001b[0m     \u001b[0mprint\u001b[0m\u001b[0;34m(\u001b[0m\u001b[0;34mf\"Running attack: {attack_func.__name__} with parameters: {attack_params}\"\u001b[0m\u001b[0;34m)\u001b[0m\u001b[0;34m\u001b[0m\u001b[0;34m\u001b[0m\u001b[0m\n\u001b[0;32m---> 12\u001b[0;31m     \u001b[0madv_predict\u001b[0m\u001b[0;34m(\u001b[0m\u001b[0mtest_loader\u001b[0m\u001b[0;34m,\u001b[0m \u001b[0mmodel_AT_rFGSM\u001b[0m\u001b[0;34m,\u001b[0m \u001b[0mattack_func\u001b[0m\u001b[0;34m,\u001b[0m \u001b[0mdevice\u001b[0m\u001b[0;34m,\u001b[0m \u001b[0;34m**\u001b[0m\u001b[0mattack_params\u001b[0m\u001b[0;34m)\u001b[0m\u001b[0;34m\u001b[0m\u001b[0;34m\u001b[0m\u001b[0m\n\u001b[0m\u001b[1;32m     13\u001b[0m     \u001b[0mprint\u001b[0m\u001b[0;34m(\u001b[0m\u001b[0;34m)\u001b[0m  \u001b[0;31m# Print an empty line for separation\u001b[0m\u001b[0;34m\u001b[0m\u001b[0;34m\u001b[0m\u001b[0m\n",
            "\u001b[0;32m/content/adverserial_attacks_functions.py\u001b[0m in \u001b[0;36madv_predict\u001b[0;34m(test_loader, model, attack, device, **kwargs)\u001b[0m\n\u001b[1;32m    206\u001b[0m             \u001b[0;32melse\u001b[0m \u001b[0;34m:\u001b[0m\u001b[0;34m\u001b[0m\u001b[0;34m\u001b[0m\u001b[0m\n\u001b[1;32m    207\u001b[0m                 \u001b[0;32mwith\u001b[0m \u001b[0mtorch\u001b[0m\u001b[0;34m.\u001b[0m\u001b[0menable_grad\u001b[0m\u001b[0;34m(\u001b[0m\u001b[0;34m)\u001b[0m\u001b[0;34m:\u001b[0m\u001b[0;34m\u001b[0m\u001b[0;34m\u001b[0m\u001b[0m\n\u001b[0;32m--> 208\u001b[0;31m                     \u001b[0mpertb_mal_x\u001b[0m \u001b[0;34m=\u001b[0m \u001b[0mattack\u001b[0m\u001b[0;34m(\u001b[0m\u001b[0mmal_x_batch\u001b[0m\u001b[0;34m,\u001b[0m \u001b[0mmal_y_batch\u001b[0m\u001b[0;34m,\u001b[0m \u001b[0mmodel\u001b[0m\u001b[0;34m,\u001b[0m \u001b[0;34m**\u001b[0m\u001b[0mkwargs\u001b[0m\u001b[0;34m)\u001b[0m\u001b[0;34m\u001b[0m\u001b[0;34m\u001b[0m\u001b[0m\n\u001b[0m\u001b[1;32m    209\u001b[0m \u001b[0;34m\u001b[0m\u001b[0m\n\u001b[1;32m    210\u001b[0m             \u001b[0moutputs\u001b[0m \u001b[0;34m=\u001b[0m \u001b[0mmodel\u001b[0m\u001b[0;34m(\u001b[0m\u001b[0mpertb_mal_x\u001b[0m\u001b[0;34m)\u001b[0m\u001b[0;34m\u001b[0m\u001b[0;34m\u001b[0m\u001b[0m\n",
            "\u001b[0;31mTypeError\u001b[0m: StepwiseMax_onestep2() missing 2 required positional arguments: 'insertion_array' and 'removal_array'"
          ]
        }
      ]
    },
    {
      "cell_type": "code",
      "source": [],
      "metadata": {
        "id": "1vpuDgt1W-0R"
      },
      "execution_count": null,
      "outputs": []
    }
  ]
}