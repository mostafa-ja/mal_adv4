{
  "nbformat": 4,
  "nbformat_minor": 0,
  "metadata": {
    "colab": {
      "provenance": [],
      "gpuType": "T4",
      "include_colab_link": true
    },
    "kernelspec": {
      "name": "python3",
      "display_name": "Python 3"
    },
    "language_info": {
      "name": "python"
    },
    "accelerator": "GPU"
  },
  "cells": [
    {
      "cell_type": "markdown",
      "metadata": {
        "id": "view-in-github",
        "colab_type": "text"
      },
      "source": [
        "<a href=\"https://colab.research.google.com/github/mostafa-ja/mal_adv4/blob/main/adverserial_attacks.ipynb\" target=\"_parent\"><img src=\"https://colab.research.google.com/assets/colab-badge.svg\" alt=\"Open In Colab\"/></a>"
      ]
    },
    {
      "cell_type": "code",
      "source": [
        "\n",
        "download_links = ['https://github.com/mostafa-ja/mal_adv3/raw/main/drebin/sparse_matrix_0.npz',\n",
        "                  'https://github.com/mostafa-ja/mal_adv3/raw/main/drebin/sparse_matrix_1.npz',\n",
        "                  'https://github.com/mostafa-ja/mal_adv3/raw/main/drebin/sparse_matrix_2.npz',\n",
        "                  'https://github.com/mostafa-ja/mal_adv3/raw/main/drebin/sparse_matrix_y0.npz',\n",
        "                  'https://github.com/mostafa-ja/mal_adv3/raw/main/drebin/sparse_matrix_y1.npz',\n",
        "                  'https://github.com/mostafa-ja/mal_adv3/raw/main/drebin/sparse_matrix_y2.npz',\n",
        "                  'https://github.com/mostafa-ja/mal_adv3/raw/main/drebin/model_DNN_drebin_best.pth',\n",
        "                  'https://github.com/mostafa-ja/mal_adv3/raw/main/data/adverserial_attacks_functions.py',\n",
        "                  'https://github.com/mostafa-ja/mal_adv3/raw/main/drebin/model_AT_rFGSM_weightedLoss.pth',\n",
        "                  'https://github.com/mostafa-ja/mal_adv3/raw/main/drebin/model_AT_rFGSM.pth',\n",
        "                  'https://github.com/mostafa-ja/mal_adv4/raw/main/dataset/insertion_array.pkl',\n",
        "                  'https://github.com/mostafa-ja/mal_adv4/raw/main/dataset/removal_array.pkl'\n",
        "]"
      ],
      "metadata": {
        "id": "1IW4pHac9VLq"
      },
      "execution_count": 1,
      "outputs": []
    },
    {
      "cell_type": "code",
      "source": [
        "import gdown\n",
        "output_filepath = '/content/'\n",
        "for link in download_links:\n",
        "  gdown.download(link, output_filepath)\n"
      ],
      "metadata": {
        "colab": {
          "base_uri": "https://localhost:8080/"
        },
        "id": "6kzSbjaXGVeG",
        "outputId": "79c26914-b6b8-4d0d-adf3-b64f5db84d94"
      },
      "execution_count": 2,
      "outputs": [
        {
          "output_type": "stream",
          "name": "stderr",
          "text": [
            "Downloading...\n",
            "From: https://github.com/mostafa-ja/mal_adv3/raw/main/drebin/sparse_matrix_0.npz\n",
            "To: /content/sparse_matrix_0.npz\n",
            "100%|██████████| 461k/461k [00:00<00:00, 11.0MB/s]\n",
            "Downloading...\n",
            "From: https://github.com/mostafa-ja/mal_adv3/raw/main/drebin/sparse_matrix_1.npz\n",
            "To: /content/sparse_matrix_1.npz\n",
            "100%|██████████| 148k/148k [00:00<00:00, 3.47MB/s]\n",
            "Downloading...\n",
            "From: https://github.com/mostafa-ja/mal_adv3/raw/main/drebin/sparse_matrix_2.npz\n",
            "To: /content/sparse_matrix_2.npz\n",
            "100%|██████████| 150k/150k [00:00<00:00, 4.21MB/s]\n",
            "Downloading...\n",
            "From: https://github.com/mostafa-ja/mal_adv3/raw/main/drebin/sparse_matrix_y0.npz\n",
            "To: /content/sparse_matrix_y0.npz\n",
            "100%|██████████| 5.79k/5.79k [00:00<00:00, 14.4MB/s]\n",
            "Downloading...\n",
            "From: https://github.com/mostafa-ja/mal_adv3/raw/main/drebin/sparse_matrix_y1.npz\n",
            "To: /content/sparse_matrix_y1.npz\n",
            "100%|██████████| 2.64k/2.64k [00:00<00:00, 8.38MB/s]\n",
            "Downloading...\n",
            "From: https://github.com/mostafa-ja/mal_adv3/raw/main/drebin/sparse_matrix_y2.npz\n",
            "To: /content/sparse_matrix_y2.npz\n",
            "100%|██████████| 2.71k/2.71k [00:00<00:00, 933kB/s]\n",
            "Downloading...\n",
            "From: https://github.com/mostafa-ja/mal_adv3/raw/main/drebin/model_DNN_drebin_best.pth\n",
            "To: /content/model_DNN_drebin_best.pth\n",
            "100%|██████████| 8.17M/8.17M [00:00<00:00, 34.9MB/s]\n",
            "Downloading...\n",
            "From: https://github.com/mostafa-ja/mal_adv3/raw/main/data/adverserial_attacks_functions.py\n",
            "To: /content/adverserial_attacks_functions.py\n",
            "59.3kB [00:00, 65.0MB/s]                   \n",
            "Downloading...\n",
            "From: https://github.com/mostafa-ja/mal_adv3/raw/main/drebin/model_AT_rFGSM_weightedLoss.pth\n",
            "To: /content/model_AT_rFGSM_weightedLoss.pth\n",
            "100%|██████████| 8.17M/8.17M [00:00<00:00, 25.8MB/s]\n",
            "Downloading...\n",
            "From: https://github.com/mostafa-ja/mal_adv3/raw/main/drebin/model_AT_rFGSM.pth\n",
            "To: /content/model_AT_rFGSM.pth\n",
            "100%|██████████| 8.17M/8.17M [00:00<00:00, 46.8MB/s]\n",
            "Downloading...\n",
            "From: https://github.com/mostafa-ja/mal_adv4/raw/main/dataset/insertion_array.pkl\n",
            "To: /content/insertion_array.pkl\n",
            "100%|██████████| 80.2k/80.2k [00:00<00:00, 2.00MB/s]\n",
            "Downloading...\n",
            "From: https://github.com/mostafa-ja/mal_adv4/raw/main/dataset/removal_array.pkl\n",
            "To: /content/removal_array.pkl\n",
            "100%|██████████| 80.2k/80.2k [00:00<00:00, 1.71MB/s]\n"
          ]
        }
      ]
    },
    {
      "cell_type": "code",
      "source": [
        "import torch\n",
        "import torch.nn as nn\n",
        "import torch.optim as optim\n",
        "from torch.utils.data import TensorDataset, DataLoader\n",
        "from sklearn.metrics import accuracy_score, precision_score, recall_score, f1_score,balanced_accuracy_score\n",
        "import numpy as np\n",
        "from scipy import sparse\n",
        "import matplotlib.pyplot as plt\n",
        "import pickle\n",
        "import random\n",
        "import time\n",
        "\n",
        "# Device configuration\n",
        "device = torch.device(\"cuda\" if torch.cuda.is_available() else \"cpu\")\n",
        "print(device)\n",
        "\n",
        "from adverserial_attacks_functions import *\n",
        "\n",
        "torch.manual_seed(0)\n",
        "\n"
      ],
      "metadata": {
        "id": "JKDdI3K9LrlF",
        "colab": {
          "base_uri": "https://localhost:8080/"
        },
        "outputId": "5d757238-5d0a-4c68-b271-8e8d372f1429"
      },
      "execution_count": 3,
      "outputs": [
        {
          "output_type": "stream",
          "name": "stdout",
          "text": [
            "cuda\n",
            "cuda\n"
          ]
        },
        {
          "output_type": "execute_result",
          "data": {
            "text/plain": [
              "<torch._C.Generator at 0x7eae105f3f90>"
            ]
          },
          "metadata": {},
          "execution_count": 3
        }
      ]
    },
    {
      "cell_type": "code",
      "source": [
        "# Open the .pkl file\n",
        "with open('/content/insertion_array.pkl', 'rb') as f:\n",
        "    # Load the object\n",
        "    insertion_array = pickle.load(f)\n",
        "\n",
        "# Close the file\n",
        "f.close()\n",
        "\n",
        "insertion_array = torch.tensor(insertion_array).to(device)\n",
        "print(len(insertion_array))\n",
        "\n",
        "# Open the .pkl file\n",
        "with open('/content/removal_array.pkl', 'rb') as f:\n",
        "    # Load the object\n",
        "    removal_array = pickle.load(f)\n",
        "\n",
        "# Close the file\n",
        "f.close()\n",
        "\n",
        "removal_array = torch.tensor(removal_array).to(device)\n",
        "print(len(removal_array))\n",
        ""
      ],
      "metadata": {
        "colab": {
          "base_uri": "https://localhost:8080/"
        },
        "id": "UXV0WIjsJG_F",
        "outputId": "f986d64f-2a00-4eec-8d46-7e8ed6a5b680"
      },
      "execution_count": 21,
      "outputs": [
        {
          "output_type": "stream",
          "name": "stdout",
          "text": [
            "10000\n",
            "10000\n"
          ]
        }
      ]
    },
    {
      "cell_type": "code",
      "source": [
        "\n",
        "# Load dataset\n",
        "X_train = sparse.load_npz(\"/content/sparse_matrix_0.npz\").toarray()\n",
        "X_val = sparse.load_npz(\"/content/sparse_matrix_1.npz\").toarray()\n",
        "X_test = sparse.load_npz(\"/content/sparse_matrix_2.npz\").toarray()\n",
        "\n",
        "X_train = torch.tensor(X_train, dtype=torch.int8)\n",
        "X_val = torch.tensor(X_val, dtype=torch.int8)\n",
        "X_test = torch.tensor(X_test, dtype=torch.int8)\n",
        "\n",
        "\n",
        "y_train = sparse.load_npz(\"/content/sparse_matrix_y0.npz\").toarray().reshape((-1, 1))\n",
        "y_val = sparse.load_npz(\"/content/sparse_matrix_y1.npz\").toarray().reshape((-1, 1))\n",
        "y_test = sparse.load_npz(\"/content/sparse_matrix_y2.npz\").toarray().reshape((-1, 1))\n",
        "\n",
        "y_train = torch.tensor(y_train, dtype=torch.int8)\n",
        "y_val = torch.tensor(y_val, dtype=torch.int8)\n",
        "y_test = torch.tensor(y_test, dtype=torch.int8)\n",
        "\n",
        "\n",
        "print(\"Shapes:\")\n",
        "print(\"x_train:\", X_train.shape)\n",
        "print(\"x_val:\", X_val.shape)\n",
        "print(\"x_test:\", X_test.shape)\n",
        "print(\"y_train:\", y_train.shape)\n",
        "print(\"y_val:\", y_val.shape)\n",
        "print(\"y_test:\", y_test.shape)"
      ],
      "metadata": {
        "colab": {
          "base_uri": "https://localhost:8080/"
        },
        "id": "5blmEg4h-GKy",
        "outputId": "f2ee74a8-9d5e-4d8b-b0c5-f9385eb8aa27"
      },
      "execution_count": 5,
      "outputs": [
        {
          "output_type": "stream",
          "name": "stdout",
          "text": [
            "Shapes:\n",
            "x_train: torch.Size([28683, 10000])\n",
            "x_val: torch.Size([9562, 10000])\n",
            "x_test: torch.Size([9562, 10000])\n",
            "y_train: torch.Size([28683, 1])\n",
            "y_val: torch.Size([9562, 1])\n",
            "y_test: torch.Size([9562, 1])\n"
          ]
        }
      ]
    },
    {
      "cell_type": "code",
      "source": [
        "# number of benigns and malicious sample in training dataset\n",
        "n_ben = (y_train.squeeze()== 0).sum().item()\n",
        "n_mal = (y_train.squeeze()== 1).sum().item()\n",
        "print('the proportion of malwares : ', n_mal/(n_mal+n_ben))\n",
        "\n",
        "# Combine features and labels into datasets\n",
        "train_dataset = TensorDataset(X_train, y_train)\n",
        "val_dataset = TensorDataset(X_val, y_val)\n",
        "test_dataset = TensorDataset(X_test, y_test)\n",
        "\n",
        "# Define the DataLoader for training, validation, and test sets\n",
        "batch_size = 2048\n",
        "train_loader = DataLoader(train_dataset, batch_size=batch_size,shuffle=True)\n",
        "val_loader = DataLoader(val_dataset, batch_size=batch_size, shuffle=False)\n",
        "test_loader = DataLoader(test_dataset, batch_size=batch_size, shuffle=False)\n",
        "\n",
        "# Clear unnecessary variables\n",
        "del train_dataset, val_dataset, test_dataset, y_train, y_val, y_test\n"
      ],
      "metadata": {
        "colab": {
          "base_uri": "https://localhost:8080/"
        },
        "id": "81AZSXOV-HoW",
        "outputId": "4cf09463-0c77-4e44-b704-4579f30890b8"
      },
      "execution_count": 6,
      "outputs": [
        {
          "output_type": "stream",
          "name": "stdout",
          "text": [
            "the proportion of malwares :  0.11386535578565701\n"
          ]
        }
      ]
    },
    {
      "cell_type": "code",
      "source": [
        "model_DNN = MalwareDetectionModel().to(device)\n",
        "# Load model parameters\n",
        "model_DNN.load_state_dict(torch.load('model_DNN_drebin_best.pth', map_location=torch.device(device)))"
      ],
      "metadata": {
        "id": "0MavlKAt6mb8",
        "colab": {
          "base_uri": "https://localhost:8080/"
        },
        "outputId": "7178a2a0-b85f-4698-b4cf-14b0e5fa2e96"
      },
      "execution_count": 7,
      "outputs": [
        {
          "output_type": "execute_result",
          "data": {
            "text/plain": [
              "<All keys matched successfully>"
            ]
          },
          "metadata": {},
          "execution_count": 7
        }
      ]
    },
    {
      "cell_type": "code",
      "source": [
        "model_evaluation(model_DNN, test_loader, device)"
      ],
      "metadata": {
        "id": "xk78RQCW-V9D",
        "colab": {
          "base_uri": "https://localhost:8080/"
        },
        "outputId": "8ee27a8e-6e3c-47b9-c9df-a33a7d11040a"
      },
      "execution_count": 8,
      "outputs": [
        {
          "output_type": "stream",
          "name": "stdout",
          "text": [
            "Test Accuracy: 0.9912\n",
            "Test balanced Accuracy: 0.9785\n",
            "Precision: 0.9637\n",
            "Recall: 0.9619\n",
            "F1-score: 0.9628\n",
            "True Positives (TP): 1087\n",
            "True Negatives (TN): 8391\n",
            "False Positives (FP): 41\n",
            "False Negatives (FN): 43\n",
            "False Negative Rate (FNR): 3.8053\n",
            "False Positive Rate (FPR): 0.4862\n"
          ]
        }
      ]
    },
    {
      "cell_type": "code",
      "source": [
        "def dfgsm_k(x, y, model, k=25, epsilon=0.02, alpha=1., initial_rounding_threshold=0.5, round_threshold=0.5, random=False, is_report_loss_diff=True, is_sample=False, device=\"cpu\"):\n",
        "    \"\"\"\n",
        "    FGSM^k with deterministic rounding\n",
        "    :param y: ground truth labels\n",
        "    :param x: feature vector\n",
        "    :param model: neural network model\n",
        "    :param k: number of steps\n",
        "    :param epsilon: update value in each direction\n",
        "    :param alpha: hyperparameter for controlling the portionate of rounding\n",
        "    :param initial_rounding_threshold: threshold parameter for rounding the initial x_next\n",
        "    :param round_threshold: threshold parameter for rounding\n",
        "    :param is_report_loss_diff: flag to report loss difference\n",
        "    :param is_sample: flag to sample randomly from the feasible area\n",
        "    :return: the adversarial version of x according to dfgsm_k (tensor)\n",
        "    \"\"\"\n",
        "    model.eval()\n",
        "\n",
        "    # Compute natural loss\n",
        "    criterion = nn.CrossEntropyLoss(reduction='none')\n",
        "    loss_natural = criterion(model(x), y.view(-1).long())\n",
        "\n",
        "    # Initialize starting point\n",
        "    x_next = x.clone()\n",
        "    x_next = get_x0(x_next, initial_rounding_threshold, is_sample)\n",
        "\n",
        "    # Multi-step\n",
        "    for t in range(k):\n",
        "        # Forward pass\n",
        "        x_var = x_next.clone().detach().requires_grad_(True)\n",
        "        y_model = model(x_var)\n",
        "        loss = criterion(y_model, y.view(-1).long())\n",
        "\n",
        "        # Compute gradient\n",
        "        grad_vars = torch.autograd.grad(loss.mean(), x_var)\n",
        "        gradients = grad_vars[0].data\n",
        "        grad4insertion = (gradients > 0) * gradients * (x_var <= 0.5)\n",
        "        # Find the next sample\n",
        "        x_next = x_next + epsilon * torch.sign(grad4insertion)\n",
        "\n",
        "        # Projection\n",
        "        x_next = torch.clamp(x_next, min=0., max=1.)\n",
        "\n",
        "    # Rounding step\n",
        "    if random:\n",
        "       round_threshold = (torch.rand(x_next.size()) * alpha).to(device=x.device)\n",
        "    x_next = round_x(x_next, round_threshold=round_threshold)\n",
        "\n",
        "    # Feasible projection\n",
        "    x_next = or_float_tensors(x_next, x)\n",
        "\n",
        "    # Compute adversarial loss\n",
        "    loss_adv = criterion(model(x_next), y.view(-1).long()).data\n",
        "\n",
        "    if is_report_loss_diff:\n",
        "        #print(f\"Natural loss: {loss_natural.mean():.4f}, Adversarial loss: {loss_adv.mean():.4f}, Difference: {(loss_adv.mean() - loss_natural.mean()):.4f}\")\n",
        "        outputs = model(x_next)\n",
        "        _, predicted = torch.topk(outputs, k=1)\n",
        "        done = (predicted != y).squeeze()\n",
        "        print(f\"dFGSM: attack effectiveness {done.sum().item() / x.size()[0] * 100:.3f}%.\")\n",
        "\n",
        "    # Replace with natural if adversarial loss is higher\n",
        "    replace_flag = (loss_adv < loss_natural).squeeze()\n",
        "    x_next[replace_flag] = x[replace_flag]\n",
        "\n",
        "    return x_next\n"
      ],
      "metadata": {
        "id": "w6G9fDSlxAkC"
      },
      "execution_count": 9,
      "outputs": []
    },
    {
      "cell_type": "code",
      "source": [
        "# AT-rFGSM: Adversarial Taraining based on rFGSM attack\n",
        "model_AT = MalwareDetectionModel().to(device)\n",
        "\n",
        "attack_param = {\"k\":50, \"epsilon\":0.02, 'random':True, \"is_sample\":False, 'is_report_loss_diff':False}\n",
        "adversarial_training(model_AT, train_loader, val_loader, adv_epochs=50, attack=dfgsm_k, **attack_param)"
      ],
      "metadata": {
        "colab": {
          "base_uri": "https://localhost:8080/"
        },
        "id": "i8s6H3v_0KhR",
        "outputId": "15e587ce-ca39-4e27-bd95-904689868f6d"
      },
      "execution_count": 11,
      "outputs": [
        {
          "output_type": "stream",
          "name": "stdout",
          "text": [
            "Epoch: 1/50 | Training loss (epoch level): 0.6947 | Train accuracy: 75.76%\n",
            "\tVal accuracy(without attack) 89.88% and accuracy(with attack) 12.65% under attack and overall accuracy 51.26%.\n",
            "\tModel select at epoch 1 with validation accuracy 51.26% and accuracy 12.65% under attack.\n",
            "Epoch: 2/50 | Training loss (epoch level): 0.6497 | Train accuracy: 89.79%\n",
            "\tVal accuracy(without attack) 92.36% and accuracy(with attack) 15.88% under attack and overall accuracy 54.12%.\n",
            "\tModel select at epoch 2 with validation accuracy 54.12% and accuracy 15.88% under attack.\n",
            "Epoch: 3/50 | Training loss (epoch level): 0.5433 | Train accuracy: 91.49%\n",
            "\tVal accuracy(without attack) 95.4% and accuracy(with attack) 42.11% under attack and overall accuracy 68.75%.\n",
            "\tModel select at epoch 3 with validation accuracy 68.75% and accuracy 42.11% under attack.\n",
            "Epoch: 4/50 | Training loss (epoch level): 0.2668 | Train accuracy: 95.22%\n",
            "\tVal accuracy(without attack) 96.7% and accuracy(with attack) 72.76% under attack and overall accuracy 84.73%.\n",
            "\tModel select at epoch 4 with validation accuracy 84.73% and accuracy 72.76% under attack.\n",
            "Epoch: 5/50 | Training loss (epoch level): 0.1291 | Train accuracy: 96.51%\n",
            "\tVal accuracy(without attack) 97.25% and accuracy(with attack) 79.78% under attack and overall accuracy 88.51%.\n",
            "\tModel select at epoch 5 with validation accuracy 88.51% and accuracy 79.78% under attack.\n",
            "Epoch: 6/50 | Training loss (epoch level): 0.0871 | Train accuracy: 97.40%\n",
            "\tVal accuracy(without attack) 97.84% and accuracy(with attack) 82.36% under attack and overall accuracy 90.1%.\n",
            "\tModel select at epoch 6 with validation accuracy 90.1% and accuracy 82.36% under attack.\n",
            "Epoch: 7/50 | Training loss (epoch level): 0.0653 | Train accuracy: 98.09%\n",
            "\tVal accuracy(without attack) 98.14% and accuracy(with attack) 89.2% under attack and overall accuracy 93.67%.\n",
            "\tModel select at epoch 7 with validation accuracy 93.67% and accuracy 89.2% under attack.\n",
            "Epoch: 8/50 | Training loss (epoch level): 0.0519 | Train accuracy: 98.47%\n",
            "\tVal accuracy(without attack) 98.53% and accuracy(with attack) 87.53% under attack and overall accuracy 93.03%.\n",
            "\tModel select at epoch 7 with validation accuracy 93.67% and accuracy 89.2% under attack.\n",
            "Epoch: 9/50 | Training loss (epoch level): 0.0387 | Train accuracy: 98.88%\n",
            "\tVal accuracy(without attack) 98.54% and accuracy(with attack) 88.55% under attack and overall accuracy 93.54%.\n",
            "\tModel select at epoch 7 with validation accuracy 93.67% and accuracy 89.2% under attack.\n",
            "Epoch: 10/50 | Training loss (epoch level): 0.0297 | Train accuracy: 99.19%\n",
            "\tVal accuracy(without attack) 98.7% and accuracy(with attack) 89.38% under attack and overall accuracy 94.04%.\n",
            "\tModel select at epoch 10 with validation accuracy 94.04% and accuracy 89.38% under attack.\n",
            "Epoch: 11/50 | Training loss (epoch level): 0.0248 | Train accuracy: 99.35%\n",
            "\tVal accuracy(without attack) 98.76% and accuracy(with attack) 90.49% under attack and overall accuracy 94.62%.\n",
            "\tModel select at epoch 11 with validation accuracy 94.62% and accuracy 90.49% under attack.\n",
            "Epoch: 12/50 | Training loss (epoch level): 0.0264 | Train accuracy: 98.91%\n",
            "\tVal accuracy(without attack) 98.7% and accuracy(with attack) 83.93% under attack and overall accuracy 91.32%.\n",
            "\tModel select at epoch 11 with validation accuracy 94.62% and accuracy 90.49% under attack.\n",
            "Epoch: 13/50 | Training loss (epoch level): 0.0436 | Train accuracy: 98.82%\n",
            "\tVal accuracy(without attack) 98.64% and accuracy(with attack) 76.92% under attack and overall accuracy 87.78%.\n",
            "\tModel select at epoch 11 with validation accuracy 94.62% and accuracy 90.49% under attack.\n",
            "Epoch: 14/50 | Training loss (epoch level): 0.0387 | Train accuracy: 98.93%\n",
            "\tVal accuracy(without attack) 98.7% and accuracy(with attack) 86.24% under attack and overall accuracy 92.47%.\n",
            "\tModel select at epoch 11 with validation accuracy 94.62% and accuracy 90.49% under attack.\n",
            "Epoch: 15/50 | Training loss (epoch level): 0.0247 | Train accuracy: 99.35%\n",
            "\tVal accuracy(without attack) 98.69% and accuracy(with attack) 88.09% under attack and overall accuracy 93.39%.\n",
            "\tModel select at epoch 11 with validation accuracy 94.62% and accuracy 90.49% under attack.\n",
            "Epoch: 16/50 | Training loss (epoch level): 0.0213 | Train accuracy: 99.42%\n",
            "\tVal accuracy(without attack) 98.73% and accuracy(with attack) 89.75% under attack and overall accuracy 94.24%.\n",
            "\tModel select at epoch 11 with validation accuracy 94.62% and accuracy 90.49% under attack.\n",
            "Epoch: 17/50 | Training loss (epoch level): 0.0231 | Train accuracy: 99.05%\n",
            "\tVal accuracy(without attack) 98.75% and accuracy(with attack) 91.41% under attack and overall accuracy 95.08%.\n",
            "\tModel select at epoch 17 with validation accuracy 95.08% and accuracy 91.41% under attack.\n",
            "Epoch: 18/50 | Training loss (epoch level): 0.0246 | Train accuracy: 99.32%\n",
            "\tVal accuracy(without attack) 98.64% and accuracy(with attack) 90.21% under attack and overall accuracy 94.43%.\n",
            "\tModel select at epoch 17 with validation accuracy 95.08% and accuracy 91.41% under attack.\n",
            "Epoch: 19/50 | Training loss (epoch level): 0.0210 | Train accuracy: 99.49%\n",
            "\tVal accuracy(without attack) 98.78% and accuracy(with attack) 89.47% under attack and overall accuracy 94.13%.\n",
            "\tModel select at epoch 17 with validation accuracy 95.08% and accuracy 91.41% under attack.\n",
            "Epoch: 20/50 | Training loss (epoch level): 0.0156 | Train accuracy: 99.66%\n",
            "\tVal accuracy(without attack) 98.82% and accuracy(with attack) 90.21% under attack and overall accuracy 94.52%.\n",
            "\tModel select at epoch 17 with validation accuracy 95.08% and accuracy 91.41% under attack.\n",
            "Epoch: 21/50 | Training loss (epoch level): 0.0130 | Train accuracy: 99.71%\n",
            "\tVal accuracy(without attack) 98.82% and accuracy(with attack) 90.4% under attack and overall accuracy 94.61%.\n",
            "\tModel select at epoch 17 with validation accuracy 95.08% and accuracy 91.41% under attack.\n",
            "Epoch: 22/50 | Training loss (epoch level): 0.0127 | Train accuracy: 99.73%\n",
            "\tVal accuracy(without attack) 98.84% and accuracy(with attack) 90.49% under attack and overall accuracy 94.66%.\n",
            "\tModel select at epoch 17 with validation accuracy 95.08% and accuracy 91.41% under attack.\n",
            "Epoch: 23/50 | Training loss (epoch level): 0.0114 | Train accuracy: 99.76%\n",
            "\tVal accuracy(without attack) 98.83% and accuracy(with attack) 90.67% under attack and overall accuracy 94.75%.\n",
            "\tModel select at epoch 17 with validation accuracy 95.08% and accuracy 91.41% under attack.\n",
            "Epoch: 24/50 | Training loss (epoch level): 0.0115 | Train accuracy: 99.78%\n",
            "\tVal accuracy(without attack) 98.85% and accuracy(with attack) 90.86% under attack and overall accuracy 94.85%.\n",
            "\tModel select at epoch 17 with validation accuracy 95.08% and accuracy 91.41% under attack.\n",
            "Epoch: 25/50 | Training loss (epoch level): 0.0108 | Train accuracy: 99.76%\n",
            "\tVal accuracy(without attack) 98.83% and accuracy(with attack) 90.58% under attack and overall accuracy 94.71%.\n",
            "\tModel select at epoch 17 with validation accuracy 95.08% and accuracy 91.41% under attack.\n",
            "Epoch: 26/50 | Training loss (epoch level): 0.0118 | Train accuracy: 99.79%\n",
            "\tVal accuracy(without attack) 98.84% and accuracy(with attack) 90.77% under attack and overall accuracy 94.8%.\n",
            "\tModel select at epoch 17 with validation accuracy 95.08% and accuracy 91.41% under attack.\n",
            "Epoch: 27/50 | Training loss (epoch level): 0.0105 | Train accuracy: 99.77%\n",
            "\tVal accuracy(without attack) 98.87% and accuracy(with attack) 90.86% under attack and overall accuracy 94.86%.\n",
            "\tModel select at epoch 17 with validation accuracy 95.08% and accuracy 91.41% under attack.\n",
            "Epoch: 28/50 | Training loss (epoch level): 0.0106 | Train accuracy: 99.77%\n",
            "\tVal accuracy(without attack) 98.83% and accuracy(with attack) 90.95% under attack and overall accuracy 94.89%.\n",
            "\tModel select at epoch 17 with validation accuracy 95.08% and accuracy 91.41% under attack.\n",
            "Epoch: 29/50 | Training loss (epoch level): 0.0098 | Train accuracy: 99.81%\n",
            "\tVal accuracy(without attack) 98.84% and accuracy(with attack) 90.86% under attack and overall accuracy 94.85%.\n",
            "\tModel select at epoch 17 with validation accuracy 95.08% and accuracy 91.41% under attack.\n",
            "Epoch: 30/50 | Training loss (epoch level): 0.0096 | Train accuracy: 99.82%\n",
            "\tVal accuracy(without attack) 98.84% and accuracy(with attack) 90.77% under attack and overall accuracy 94.8%.\n",
            "\tModel select at epoch 17 with validation accuracy 95.08% and accuracy 91.41% under attack.\n",
            "Epoch: 31/50 | Training loss (epoch level): 0.0094 | Train accuracy: 99.82%\n",
            "\tVal accuracy(without attack) 98.83% and accuracy(with attack) 90.86% under attack and overall accuracy 94.84%.\n",
            "\tModel select at epoch 17 with validation accuracy 95.08% and accuracy 91.41% under attack.\n",
            "Epoch: 32/50 | Training loss (epoch level): 0.0097 | Train accuracy: 99.82%\n",
            "\tVal accuracy(without attack) 98.83% and accuracy(with attack) 90.95% under attack and overall accuracy 94.89%.\n",
            "\tModel select at epoch 17 with validation accuracy 95.08% and accuracy 91.41% under attack.\n",
            "Epoch: 33/50 | Training loss (epoch level): 0.0097 | Train accuracy: 99.82%\n",
            "\tVal accuracy(without attack) 98.84% and accuracy(with attack) 90.95% under attack and overall accuracy 94.9%.\n",
            "\tModel select at epoch 17 with validation accuracy 95.08% and accuracy 91.41% under attack.\n",
            "Epoch: 34/50 | Training loss (epoch level): 0.0095 | Train accuracy: 99.82%\n",
            "\tVal accuracy(without attack) 98.84% and accuracy(with attack) 91.04% under attack and overall accuracy 94.94%.\n",
            "\tModel select at epoch 17 with validation accuracy 95.08% and accuracy 91.41% under attack.\n",
            "Epoch: 35/50 | Training loss (epoch level): 0.0090 | Train accuracy: 99.84%\n",
            "\tVal accuracy(without attack) 98.84% and accuracy(with attack) 90.95% under attack and overall accuracy 94.9%.\n",
            "\tModel select at epoch 17 with validation accuracy 95.08% and accuracy 91.41% under attack.\n",
            "Epoch: 36/50 | Training loss (epoch level): 0.0089 | Train accuracy: 99.84%\n",
            "\tVal accuracy(without attack) 98.84% and accuracy(with attack) 91.04% under attack and overall accuracy 94.94%.\n",
            "\tModel select at epoch 17 with validation accuracy 95.08% and accuracy 91.41% under attack.\n",
            "Epoch: 37/50 | Training loss (epoch level): 0.0092 | Train accuracy: 99.84%\n",
            "\tVal accuracy(without attack) 98.85% and accuracy(with attack) 91.04% under attack and overall accuracy 94.95%.\n",
            "\tModel select at epoch 17 with validation accuracy 95.08% and accuracy 91.41% under attack.\n",
            "Epoch: 38/50 | Training loss (epoch level): 0.0091 | Train accuracy: 99.84%\n",
            "\tVal accuracy(without attack) 98.85% and accuracy(with attack) 90.86% under attack and overall accuracy 94.85%.\n",
            "\tModel select at epoch 17 with validation accuracy 95.08% and accuracy 91.41% under attack.\n",
            "Epoch: 39/50 | Training loss (epoch level): 0.0090 | Train accuracy: 99.84%\n",
            "\tVal accuracy(without attack) 98.86% and accuracy(with attack) 90.95% under attack and overall accuracy 94.91%.\n",
            "\tModel select at epoch 17 with validation accuracy 95.08% and accuracy 91.41% under attack.\n",
            "Epoch: 40/50 | Training loss (epoch level): 0.0091 | Train accuracy: 99.84%\n",
            "\tVal accuracy(without attack) 98.86% and accuracy(with attack) 91.04% under attack and overall accuracy 94.95%.\n",
            "\tModel select at epoch 17 with validation accuracy 95.08% and accuracy 91.41% under attack.\n",
            "Epoch: 41/50 | Training loss (epoch level): 0.0092 | Train accuracy: 99.84%\n",
            "\tVal accuracy(without attack) 98.86% and accuracy(with attack) 90.95% under attack and overall accuracy 94.91%.\n",
            "\tModel select at epoch 17 with validation accuracy 95.08% and accuracy 91.41% under attack.\n",
            "Epoch: 42/50 | Training loss (epoch level): 0.0090 | Train accuracy: 99.82%\n",
            "\tVal accuracy(without attack) 98.86% and accuracy(with attack) 90.77% under attack and overall accuracy 94.81%.\n",
            "\tModel select at epoch 17 with validation accuracy 95.08% and accuracy 91.41% under attack.\n",
            "Epoch: 43/50 | Training loss (epoch level): 0.0118 | Train accuracy: 99.83%\n",
            "\tVal accuracy(without attack) 98.86% and accuracy(with attack) 90.86% under attack and overall accuracy 94.86%.\n",
            "\tModel select at epoch 17 with validation accuracy 95.08% and accuracy 91.41% under attack.\n",
            "Epoch: 44/50 | Training loss (epoch level): 0.0089 | Train accuracy: 99.83%\n",
            "\tVal accuracy(without attack) 98.86% and accuracy(with attack) 90.95% under attack and overall accuracy 94.91%.\n",
            "\tModel select at epoch 17 with validation accuracy 95.08% and accuracy 91.41% under attack.\n",
            "Epoch: 45/50 | Training loss (epoch level): 0.0093 | Train accuracy: 99.85%\n",
            "\tVal accuracy(without attack) 98.86% and accuracy(with attack) 91.04% under attack and overall accuracy 94.95%.\n",
            "\tModel select at epoch 17 with validation accuracy 95.08% and accuracy 91.41% under attack.\n",
            "Epoch: 46/50 | Training loss (epoch level): 0.0089 | Train accuracy: 99.84%\n",
            "\tVal accuracy(without attack) 98.86% and accuracy(with attack) 90.95% under attack and overall accuracy 94.91%.\n",
            "\tModel select at epoch 17 with validation accuracy 95.08% and accuracy 91.41% under attack.\n",
            "Epoch: 47/50 | Training loss (epoch level): 0.0090 | Train accuracy: 99.82%\n",
            "\tVal accuracy(without attack) 98.86% and accuracy(with attack) 90.95% under attack and overall accuracy 94.91%.\n",
            "\tModel select at epoch 17 with validation accuracy 95.08% and accuracy 91.41% under attack.\n",
            "Epoch: 48/50 | Training loss (epoch level): 0.0091 | Train accuracy: 99.84%\n",
            "\tVal accuracy(without attack) 98.86% and accuracy(with attack) 91.04% under attack and overall accuracy 94.95%.\n",
            "\tModel select at epoch 17 with validation accuracy 95.08% and accuracy 91.41% under attack.\n",
            "Epoch: 49/50 | Training loss (epoch level): 0.0087 | Train accuracy: 99.85%\n",
            "\tVal accuracy(without attack) 98.85% and accuracy(with attack) 91.04% under attack and overall accuracy 94.95%.\n",
            "\tModel select at epoch 17 with validation accuracy 95.08% and accuracy 91.41% under attack.\n",
            "Epoch: 50/50 | Training loss (epoch level): 0.0090 | Train accuracy: 99.83%\n",
            "\tVal accuracy(without attack) 98.85% and accuracy(with attack) 90.95% under attack and overall accuracy 94.9%.\n",
            "\tModel select at epoch 17 with validation accuracy 95.08% and accuracy 91.41% under attack.\n"
          ]
        }
      ]
    },
    {
      "cell_type": "code",
      "source": [
        "# Create an instance of your model\n",
        "model_AT_rFGSM = MalwareDetectionModel().to(device)\n",
        "\n",
        "# Load model parameters\n",
        "model_AT_rFGSM.load_state_dict(torch.load('model_AT_rFGSM.pth', map_location=torch.device(device)))"
      ],
      "metadata": {
        "colab": {
          "base_uri": "https://localhost:8080/"
        },
        "id": "FNbO4UcTbDau",
        "outputId": "1fcb8bc6-a96c-43ac-eb20-1d9b0aedd7b0"
      },
      "execution_count": 12,
      "outputs": [
        {
          "output_type": "execute_result",
          "data": {
            "text/plain": [
              "<All keys matched successfully>"
            ]
          },
          "metadata": {},
          "execution_count": 12
        }
      ]
    },
    {
      "cell_type": "code",
      "source": [
        "model_evaluation(model_AT_rFGSM,test_loader,device)"
      ],
      "metadata": {
        "colab": {
          "base_uri": "https://localhost:8080/"
        },
        "id": "2JzxsIPyU8Yp",
        "outputId": "09026cfc-e310-4434-e0b1-00b6d1ccf172"
      },
      "execution_count": 13,
      "outputs": [
        {
          "output_type": "stream",
          "name": "stdout",
          "text": [
            "Test Accuracy: 0.9882\n",
            "Test balanced Accuracy: 0.9619\n",
            "Precision: 0.9713\n",
            "Recall: 0.9274\n",
            "F1-score: 0.9488\n",
            "True Positives (TP): 1048\n",
            "True Negatives (TN): 8401\n",
            "False Positives (FP): 31\n",
            "False Negatives (FN): 82\n",
            "False Negative Rate (FNR): 7.2566\n",
            "False Positive Rate (FPR): 0.3676\n"
          ]
        }
      ]
    },
    {
      "cell_type": "code",
      "source": [
        "# rFGSM\n",
        "attack_params = {\"k\":50, \"epsilon\":0.02, 'random':True, 'is_report_loss_diff':False, 'is_sample':False}\n",
        "adv_predict(test_loader, model_DNN, dfgsm_k, device, **attack_params)\n",
        "adv_predict(test_loader, model_AT_rFGSM, dfgsm_k, device, **attack_params)"
      ],
      "metadata": {
        "colab": {
          "base_uri": "https://localhost:8080/"
        },
        "id": "CJEGSv-UFC0x",
        "outputId": "a820a389-33a4-409d-d82f-a73286f75162"
      },
      "execution_count": 14,
      "outputs": [
        {
          "output_type": "stream",
          "name": "stdout",
          "text": [
            "Accuracy of just malwares (without attack): 96.19% | Under attack: 0.0%.\n",
            "Accuracy of just malwares (without attack): 92.74% | Under attack: 92.04%.\n"
          ]
        }
      ]
    },
    {
      "cell_type": "code",
      "source": [],
      "metadata": {
        "id": "SnQZ4-J819Qc"
      },
      "execution_count": null,
      "outputs": []
    },
    {
      "cell_type": "code",
      "source": [],
      "metadata": {
        "id": "zSRiUHw419NL"
      },
      "execution_count": null,
      "outputs": []
    },
    {
      "cell_type": "code",
      "source": [],
      "metadata": {
        "id": "5zGUYSMS19Ke"
      },
      "execution_count": null,
      "outputs": []
    },
    {
      "cell_type": "code",
      "source": [],
      "metadata": {
        "id": "P1zm7Gkm19HZ"
      },
      "execution_count": null,
      "outputs": []
    },
    {
      "cell_type": "code",
      "source": [
        "def pgd(x, y, model, insertion_array, removal_array, k=25, step_length=0.02, norm='linf', initial_rounding_threshold=0.5, round_threshold=0.5, random=False, is_report_loss_diff=True, is_sample=False):\n",
        "    \"\"\"\n",
        "    Projected Gradient Descent (PGD) adversarial attack.\n",
        "    :param y: Ground truth labels\n",
        "    :param x: Feature vector\n",
        "    :param model: Neural network model\n",
        "    :param k: Number of steps\n",
        "    :param step_length: Step size for each iteration\n",
        "    :param norm: Norm used for perturbation ('linf' or 'l2')\n",
        "    :param initial_rounding_threshold: Threshold parameter for rounding the initial x_next\n",
        "    :param round_threshold: Threshold parameter for rounding\n",
        "    :param random: Flag to generate random thresholds\n",
        "    :param is_report_loss_diff: Flag to report loss difference\n",
        "    :param is_sample: Flag to sample randomly from the feasible area\n",
        "    :return: The adversarial version of x (tensor)\n",
        "    \"\"\"\n",
        "    model.eval()\n",
        "\n",
        "    # Compute natural loss\n",
        "    criterion = nn.CrossEntropyLoss(reduction='none')\n",
        "    loss_natural = criterion(model(x), y.view(-1).long())\n",
        "\n",
        "    # Initialize starting point\n",
        "    x_next = x.clone()\n",
        "    x_next = get_x0(x_next, initial_rounding_threshold, is_sample)\n",
        "\n",
        "    # Multi-step PGD\n",
        "    for t in range(k):\n",
        "        # Forward pass\n",
        "        x_var = x_next.clone().detach().requires_grad_(True)\n",
        "        y_model = model(x_var)\n",
        "        loss = criterion(y_model, y.view(-1).long())\n",
        "\n",
        "        # Compute gradient\n",
        "        grad_vars = torch.autograd.grad(loss.mean(), x_var)\n",
        "        gradients = grad_vars[0].data\n",
        "\n",
        "        #pos_insertion = (x_var <= 0.5) * 1 * insertion_array\n",
        "        pos_insertion = (x_var <= 0.5) * 1\n",
        "        grad4insertion = (gradients >= 0) * pos_insertion * gradients\n",
        "\n",
        "        pos_removal = (x_var > 0.5) * 1 * removal_array\n",
        "        grad4removal = (gradients < 0) * pos_removal * gradients\n",
        "\n",
        "        gradients = grad4removal + grad4insertion\n",
        "        #gradients =  grad4insertion\n",
        "\n",
        "        # Norm\n",
        "        if norm == 'linf':\n",
        "            perturbation = torch.sign(gradients).float()\n",
        "\n",
        "        elif norm == 'l2':\n",
        "            l2norm = torch.linalg.norm(gradients, dim=-1, keepdim=True)\n",
        "            perturbation = (gradients / l2norm).float()\n",
        "            #perturbation = torch.minimum(torch.tensor(1., dtype=x.dtype, device=x.device), gradients / l2norm).float()\n",
        "            #perturbation = torch.maximum(torch.tensor(-1., dtype=x.dtype, device=x.device), perturbation).float()\n",
        "            #perturbation[torch.isnan(perturbation)] = 0.\n",
        "            #perturbation[torch.isinf(perturbation)] = 1.\n",
        "\n",
        "        elif norm == 'l1':\n",
        "            # consider just features of a sample which are not updated yet(because our update is 0to1 or 1to0 not stepwise)\n",
        "            un_mod = torch.abs(x_next - x_var) <= 1e-6\n",
        "            gradients = gradients * un_mod\n",
        "\n",
        "            val, _ = torch.topk(torch.abs(gradients), 1)\n",
        "            perturbation = (torch.abs(gradients) >= val.expand_as(gradients)).float() * torch.sign(gradients).float()\n",
        "            # stop perturbing the examples that are successful to evade the victim\n",
        "            outputs = model(x_next)\n",
        "            _, predicted = torch.topk(outputs, k=1)\n",
        "            done = (predicted != y).squeeze()\n",
        "            if torch.all(done):\n",
        "                break\n",
        "            perturbation[done] = 0.\n",
        "\n",
        "        else:\n",
        "            raise ValueError(\"Expect 'l1' or 'l2' or 'linf' norm.\")\n",
        "\n",
        "        # Update x_next\n",
        "        x_next = torch.clamp(x_next + perturbation * step_length, min=0., max=1.)\n",
        "\n",
        "    # Rounding step\n",
        "    if random:\n",
        "       round_threshold = torch.rand(x_next.size())\n",
        "    x_next = round_x(x_next, round_threshold=round_threshold)\n",
        "\n",
        "    # Feasible projection\n",
        "    #x_next = or_float_tensors(x_next, x)\n",
        "\n",
        "    # Compute adversarial loss\n",
        "    loss_adv = criterion(model(x_next), y.view(-1).long()).data\n",
        "\n",
        "    if is_report_loss_diff:\n",
        "        outputs = model(x_next)\n",
        "        _, predicted = torch.topk(outputs, k=1)\n",
        "        done = (predicted != y).squeeze()\n",
        "        print(f\"PGD {norm}: Attack effectiveness {done.sum().item() / x.size()[0] * 100:.3f}%.\")\n",
        "\n",
        "    # Replace with natural if adversarial loss is higher\n",
        "    replace_flag = (loss_adv < loss_natural).squeeze()\n",
        "    x_next[replace_flag] = x[replace_flag]\n",
        "\n",
        "    return x_next"
      ],
      "metadata": {
        "id": "JP_6gCmbFDGi"
      },
      "execution_count": 32,
      "outputs": []
    },
    {
      "cell_type": "code",
      "source": [
        "# PGD-l2\n",
        "attack_params = {'insertion_array':insertion_array, 'removal_array':removal_array,\"k\":50, \"step_length\":0.5, 'norm':'l2', 'random':False, 'is_report_loss_diff':False, 'is_sample':False}\n",
        "adv_predict(test_loader, model_DNN, pgd, device, **attack_params)\n",
        "adv_predict(test_loader, model_AT_rFGSM, pgd, device, **attack_params)"
      ],
      "metadata": {
        "colab": {
          "base_uri": "https://localhost:8080/"
        },
        "id": "Gg0Zme2JbON4",
        "outputId": "ea7ca5f8-96d2-4303-848d-fc420c51aefc"
      },
      "execution_count": 33,
      "outputs": [
        {
          "output_type": "stream",
          "name": "stdout",
          "text": [
            "Accuracy of just malwares (without attack): 96.19% | Under attack: 0.0%.\n",
            "Accuracy of just malwares (without attack): 92.74% | Under attack: 37.17%.\n"
          ]
        }
      ]
    },
    {
      "cell_type": "code",
      "source": [
        "# PGD-linf\n",
        "attack_params = {'insertion_array':insertion_array, 'removal_array':removal_array,\"k\":500, \"step_length\":0.002, 'norm':'linf', 'random':False, 'is_report_loss_diff':False, 'is_sample':False}\n",
        "adv_predict(test_loader, model_DNN, pgd, device, **attack_params)\n",
        "adv_predict(test_loader, model_AT_rFGSM, pgd, device, **attack_params)"
      ],
      "metadata": {
        "colab": {
          "base_uri": "https://localhost:8080/"
        },
        "id": "Zr6aOMdrvbEG",
        "outputId": "626c7924-4fcb-425b-a791-5eb40b0abf50"
      },
      "execution_count": 25,
      "outputs": [
        {
          "output_type": "stream",
          "name": "stdout",
          "text": [
            "Accuracy of just malwares (without attack): 96.19% | Under attack: 0.0%.\n",
            "Accuracy of just malwares (without attack): 92.74% | Under attack: 42.04%.\n"
          ]
        }
      ]
    },
    {
      "cell_type": "code",
      "source": [
        "# PGD-l1\n",
        "attack_params = {'insertion_array':insertion_array, 'removal_array':removal_array,\"k\":500, \"step_length\":1., 'norm':'l1', 'random':False, 'is_report_loss_diff':False, 'is_sample':False}\n",
        "adv_predict(test_loader, model_DNN, pgd, device, **attack_params)\n",
        "adv_predict(test_loader, model_AT_rFGSM, pgd, device, **attack_params)"
      ],
      "metadata": {
        "colab": {
          "base_uri": "https://localhost:8080/"
        },
        "id": "-iBlhc3WTFqZ",
        "outputId": "fdf04ba1-85ce-46a0-bf90-6c7e4530d447"
      },
      "execution_count": 27,
      "outputs": [
        {
          "output_type": "stream",
          "name": "stdout",
          "text": [
            "Accuracy of just malwares (without attack): 96.19% | Under attack: 0.0%.\n",
            "Accuracy of just malwares (without attack): 92.74% | Under attack: 36.55%.\n"
          ]
        }
      ]
    },
    {
      "cell_type": "code",
      "source": [],
      "metadata": {
        "id": "CcmcqljK6aKt"
      },
      "execution_count": null,
      "outputs": []
    },
    {
      "cell_type": "code",
      "source": [
        "# Mimicry×10\n",
        "attack_params = {\"trials\":10, 'is_report_loss_diff':False}\n",
        "adv_predict(test_loader, model_DNN, mimicry, device, **attack_params)\n",
        "adv_predict(test_loader, model_AT_rFGSM, mimicry, device, **attack_params)\n",
        "adv_predict(test_loader, model_AT_rFGSM_weightedLoss, mimicry, device, **attack_params)"
      ],
      "metadata": {
        "colab": {
          "base_uri": "https://localhost:8080/"
        },
        "outputId": "afb25b89-df6a-4756-cbbf-2b9f08e6ba9f",
        "id": "U01q9TUyXfOf"
      },
      "execution_count": null,
      "outputs": [
        {
          "output_type": "stream",
          "name": "stdout",
          "text": [
            "Accuracy of just malwares (without attack): 96.19% | Under attack: 25.31%.\n",
            "Accuracy of just malwares (without attack): 94.69% | Under attack: 94.16%.\n",
            "Accuracy of just malwares (without attack): 96.64% | Under attack: 95.04%.\n"
          ]
        }
      ]
    },
    {
      "cell_type": "code",
      "source": [
        "# Mimicry×30\n",
        "attack_params = {\"trials\":30, 'is_report_loss_diff':False}\n",
        "adv_predict(test_loader, model_DNN, mimicry, device, **attack_params)\n",
        "adv_predict(test_loader, model_AT_rFGSM, mimicry, device, **attack_params)\n",
        "adv_predict(test_loader, model_AT_rFGSM_weightedLoss, mimicry, device, **attack_params)"
      ],
      "metadata": {
        "colab": {
          "base_uri": "https://localhost:8080/"
        },
        "outputId": "44755132-e62a-4388-f135-fdbd4d1f66b9",
        "id": "hAXdXB9WZ5gw"
      },
      "execution_count": null,
      "outputs": [
        {
          "output_type": "stream",
          "name": "stdout",
          "text": [
            "Accuracy of just malwares (without attack): 96.19% | Under attack: 25.31%.\n",
            "Accuracy of just malwares (without attack): 94.69% | Under attack: 93.63%.\n",
            "Accuracy of just malwares (without attack): 96.64% | Under attack: 94.34%.\n"
          ]
        }
      ]
    },
    {
      "cell_type": "code",
      "source": [
        "# Mimicry×100\n",
        "attack_params = {\"trials\":100, 'is_report_loss_diff':False}\n",
        "adv_predict(test_loader, model_DNN, mimicry, device, **attack_params)\n",
        "adv_predict(test_loader, model_AT_rFGSM, mimicry, device, **attack_params)\n",
        "adv_predict(test_loader, model_AT_rFGSM_weightedLoss, mimicry, device, **attack_params)"
      ],
      "metadata": {
        "colab": {
          "base_uri": "https://localhost:8080/"
        },
        "id": "Pfpi9634JWuk",
        "outputId": "86b3e61d-7841-45c4-9eb5-32c185eca016"
      },
      "execution_count": null,
      "outputs": [
        {
          "output_type": "stream",
          "name": "stdout",
          "text": [
            "Accuracy of just malwares (without attack): 96.19% | Under attack: 24.6%.\n",
            "Accuracy of just malwares (without attack): 94.69% | Under attack: 92.39%.\n",
            "Accuracy of just malwares (without attack): 96.64% | Under attack: 92.3%.\n"
          ]
        }
      ]
    },
    {
      "cell_type": "code",
      "source": [
        "# Mimicry×1000\n",
        "attack_params = {\"trials\":1000, 'is_report_loss_diff':False}\n",
        "adv_predict(test_loader, model_DNN, mimicry, device, **attack_params)\n",
        "adv_predict(test_loader, model_AT_rFGSM, mimicry, device, **attack_params)\n",
        "adv_predict(test_loader, model_AT_rFGSM_weightedLoss, mimicry, device, **attack_params)"
      ],
      "metadata": {
        "colab": {
          "base_uri": "https://localhost:8080/"
        },
        "id": "4LFfGUJSq8Vi",
        "outputId": "13c3f2cf-fa2a-4dc4-e6a5-5f3392b8e934"
      },
      "execution_count": null,
      "outputs": [
        {
          "output_type": "stream",
          "name": "stdout",
          "text": [
            "Accuracy of just malwares (without attack): 96.19% | Under attack: 2.478%.\n",
            "Accuracy of just malwares (without attack): 94.69% | Under attack: 92.04%.\n",
            "Accuracy of just malwares (without attack): 96.64% | Under attack: 87.26%.\n"
          ]
        }
      ]
    },
    {
      "cell_type": "code",
      "source": [
        "# PGD-max(MaxMA)\n",
        "attack_params = {'steps_max':1,'is_sample':False, 'varepsilon':1e-20, 'is_report_loss_diff':False}\n",
        "adv_predict(test_loader, model_DNN, PGD_Max2, device, **attack_params)\n",
        "adv_predict(test_loader, model_AT_rFGSM, PGD_Max2, device, **attack_params)\n",
        "adv_predict(test_loader, model_AT_rFGSM_weightedLoss, PGD_Max2, device, **attack_params)"
      ],
      "metadata": {
        "colab": {
          "base_uri": "https://localhost:8080/"
        },
        "id": "KupSYB5m91Nw",
        "outputId": "6104de7c-3ba8-4004-a613-51f0c7c63d0f"
      },
      "execution_count": null,
      "outputs": [
        {
          "output_type": "stream",
          "name": "stdout",
          "text": [
            "Accuracy of just malwares (without attack): 96.19% | Under attack: 0.0%.\n",
            "Accuracy of just malwares (without attack): 94.69% | Under attack: 89.29%.\n",
            "Accuracy of just malwares (without attack): 96.64% | Under attack: 80.62%.\n"
          ]
        }
      ]
    },
    {
      "cell_type": "code",
      "source": [
        "# PGD-max(iMaxMA)\n",
        "attack_params = {'steps_max':5,'is_sample':False, 'varepsilon':1e-20, 'is_report_loss_diff':False}\n",
        "adv_predict(test_loader, model_DNN, PGD_Max2, device, **attack_params)\n",
        "adv_predict(test_loader, model_AT_rFGSM, PGD_Max2, device, **attack_params)\n",
        "adv_predict(test_loader, model_AT_rFGSM_weightedLoss, PGD_Max2, device, **attack_params)"
      ],
      "metadata": {
        "id": "IDFZ2fByX_sU",
        "colab": {
          "base_uri": "https://localhost:8080/"
        },
        "outputId": "7a4ade24-60f4-445b-8c28-c373a793de70"
      },
      "execution_count": null,
      "outputs": [
        {
          "output_type": "stream",
          "name": "stdout",
          "text": [
            "Accuracy of just malwares (without attack): 96.19% | Under attack: 0.0%.\n",
            "Accuracy of just malwares (without attack): 94.69% | Under attack: 87.96%.\n",
            "Accuracy of just malwares (without attack): 96.64% | Under attack: 74.16%.\n"
          ]
        }
      ]
    },
    {
      "cell_type": "code",
      "source": [
        "attack_params = {'step_lengths':{\"l1\": 1.0, \"l2\": 0.5, \"linf\": 0.0008}, \"steps\":700}\n",
        "adv_predict(test_loader, model_AT_rFGSM, StepwiseMax_onestep2, device, **attack_params)"
      ],
      "metadata": {
        "colab": {
          "base_uri": "https://localhost:8080/"
        },
        "id": "xylm8-33y2uc",
        "outputId": "691e9414-5919-4e77-da52-d60a0c20db2f"
      },
      "execution_count": null,
      "outputs": [
        {
          "output_type": "stream",
          "name": "stdout",
          "text": [
            "step-wise max: attack effectiveness 7.826%.\n",
            "step-wise max: attack effectiveness 8.547%.\n",
            "step-wise max: attack effectiveness 15.200%.\n",
            "step-wise max: attack effectiveness 6.796%.\n",
            "step-wise max: attack effectiveness 11.504%.\n",
            "step-wise max: attack effectiveness 16.216%.\n",
            "step-wise max: attack effectiveness 9.630%.\n",
            "step-wise max: attack effectiveness 9.489%.\n",
            "step-wise max: attack effectiveness 7.200%.\n",
            "step-wise max: attack effectiveness 12.245%.\n",
            "Accuracy of just malwares (without attack): 94.69% | Under attack: 89.65%.\n"
          ]
        }
      ]
    },
    {
      "cell_type": "code",
      "source": [
        "attack_params = {'step_lengths':{\"l1\": 1.0, \"l2\": 0.2, \"linf\": 0.0005}, \"steps\":1000}\n",
        "adv_predict(test_loader, model_AT_rFGSM_weightedLoss, StepwiseMax_onestep2, device, **attack_params)"
      ],
      "metadata": {
        "colab": {
          "base_uri": "https://localhost:8080/"
        },
        "id": "w1UDHDWk5OIK",
        "outputId": "e19ac4cc-83dd-4dc5-c93f-48df8725d428"
      },
      "execution_count": null,
      "outputs": [
        {
          "output_type": "stream",
          "name": "stdout",
          "text": [
            "step-wise max: attack effectiveness 9.565%.\n",
            "step-wise max: attack effectiveness 7.692%.\n",
            "step-wise max: attack effectiveness 16.800%.\n",
            "step-wise max: attack effectiveness 10.680%.\n",
            "step-wise max: attack effectiveness 12.389%.\n",
            "step-wise max: attack effectiveness 20.721%.\n",
            "step-wise max: attack effectiveness 11.852%.\n",
            "step-wise max: attack effectiveness 10.949%.\n",
            "step-wise max: attack effectiveness 8.800%.\n",
            "step-wise max: attack effectiveness 12.245%.\n",
            "Accuracy of just malwares (without attack): 96.64% | Under attack: 87.88%.\n"
          ]
        }
      ]
    },
    {
      "cell_type": "code",
      "source": [
        "# Define different attacks with their parameters\n",
        "attacks = [\n",
        "    (dfgsm_k, {\"k\":100, \"epsilon\":0.02, 'is_report_loss_diff' : False}),\n",
        "    (bga_k, {\"k\":100, 'is_report_loss_diff' : False}),\n",
        "    (bca_k, {\"k\":100, 'is_report_loss_diff' : False}),\n",
        "    (grosse_k, {\"k\":100, 'is_report_loss_diff' : False}),\n",
        "\n",
        "    (pgd, {'k': 100, 'step_length': 1., 'norm': 'l1', 'is_report_loss_diff' : False}),\n",
        "    (pgd, {'k': 200, 'step_length': 0.05, 'norm': 'l2', 'is_report_loss_diff' : False}),\n",
        "    (pgd, {'k': 100, 'step_length': 0.02, 'norm': 'linf', 'is_report_loss_diff' : False}),\n",
        "    (StepwiseMax_onestep2, {'step_lengths':{\"l1\": 1.0, \"l2\": 0.05, \"linf\": 0.0008}, \"steps\":650}),\n",
        "\n",
        "    # Add more attacks as needed\n",
        "]\n",
        "\n",
        "# Iterate over each attack and its parameters\n",
        "for attack_func, attack_params in attacks:\n",
        "    print(f\"Running attack: {attack_func.__name__} with parameters: {attack_params}\")\n",
        "    adv_predict(test_loader, model_AT_rFGSM, attack_func, device, **attack_params)\n",
        "    print()  # Print an empty line for separation\n"
      ],
      "metadata": {
        "colab": {
          "base_uri": "https://localhost:8080/"
        },
        "id": "-JDuv4WBvq54",
        "outputId": "24045f6f-205a-483c-fb74-49842ac7bc35"
      },
      "execution_count": null,
      "outputs": [
        {
          "output_type": "stream",
          "name": "stdout",
          "text": [
            "Running attack: dfgsm_k with parameters: {'k': 50, 'epsilon': 0.02, 'is_report_loss_diff': False}\n",
            "Adversarial accuracy (without attack): 99.25% | Under attack: 83.43%.\n",
            "\n",
            "Running attack: bga_k with parameters: {'k': 25, 'is_report_loss_diff': False}\n",
            "Adversarial accuracy (without attack): 99.25% | Under attack: 91.57%.\n",
            "\n",
            "Running attack: bca_k with parameters: {'k': 25, 'is_report_loss_diff': False}\n",
            "Adversarial accuracy (without attack): 99.25% | Under attack: 87.93%.\n",
            "\n",
            "Running attack: grosse_k with parameters: {'k': 25, 'is_report_loss_diff': False}\n",
            "Adversarial accuracy (without attack): 99.25% | Under attack: 87.93%.\n",
            "\n",
            "Running attack: pgd with parameters: {'k': 100, 'step_length': 1.0, 'norm': 'l1', 'is_report_loss_diff': False}\n",
            "Adversarial accuracy (without attack): 99.25% | Under attack: 87.24%.\n",
            "\n",
            "Running attack: pgd with parameters: {'k': 200, 'step_length': 0.05, 'norm': 'l2', 'is_report_loss_diff': False}\n",
            "Adversarial accuracy (without attack): 99.25% | Under attack: 91.67%.\n",
            "\n",
            "Running attack: pgd with parameters: {'k': 500, 'step_length': 0.002, 'norm': 'linf', 'is_report_loss_diff': False}\n",
            "Adversarial accuracy (without attack): 99.25% | Under attack: 87.98%.\n",
            "\n"
          ]
        }
      ]
    },
    {
      "cell_type": "code",
      "source": [],
      "metadata": {
        "id": "1vpuDgt1W-0R"
      },
      "execution_count": null,
      "outputs": []
    }
  ]
}